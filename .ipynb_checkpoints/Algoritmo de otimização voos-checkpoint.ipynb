{
 "cells": [
  {
   "cell_type": "markdown",
   "metadata": {},
   "source": [
    "## Por que usar algoritmos de otimização?\n",
    "- Os algoritmos de otimização são usados quando meu universo de soluções para um determinado problema é muito grande,\n",
    "tornando impraticável usar uma força bruta para tentar encontrar a melhor\n",
    "- No caso do exemplo abaixo, é possível ter cerca de 300 milhões de resultados diferentes"
   ]
  },
  {
   "cell_type": "markdown",
   "metadata": {},
   "source": [
    "### Qual o problema?\n",
    "Um grupo de amigos que mora em diferentes estados irão para um mesmo evento na cidade de guarulhos.\n",
    "Como forma de diminuir os custos, eles pretendem se reunir no aeroporto de guarulhos para pegar um mesmo transporte e dividir os custos, tanto no ida como na volta do evento.\n",
    "Portanto eles precisam descobrir qual o melhor horário de voo que cada um deve tomar, saindo dos seus estados de origem, para chegar no aeroporto de guarulhos sem ter que esperar muito tempo lá, até que todos cheguem para que eles possam ir no evento"
   ]
  },
  {
   "cell_type": "markdown",
   "metadata": {},
   "source": [
    "### Objetivo\n",
    "- Criar uma agenda ÓTIMA de voos que tem como origem diferentes estados e destino à guarulhos e vice e versa\n",
    "- Nesse caso eu não tenho uma solução definitiva ou resultado claro, portanto eu preciso executar meu algoritmo até encontrar a melhor solução dentro daquelas que foram encontradas\n",
    "- É provável que não seja literalmente A MELHOR, porém é suficientemente boa\n",
    "- O contrário disso seria por exemplo se eu QUISESSE que todos gastassem até R$200 e esperassem no máximo 1 hora no aeroporto"
   ]
  },
  {
   "cell_type": "markdown",
   "metadata": {},
   "source": [
    "### Representação\n",
    "Definição das variáveis iniciais que irão ser usadas para o problema e da variável que deverá ser otimizada \n",
    "(agenda)"
   ]
  },
  {
   "cell_type": "code",
   "execution_count": 2,
   "metadata": {},
   "outputs": [],
   "source": [
    "import time\n",
    "import random\n",
    "import math\n",
    "import matplotlib.pyplot as plt\n",
    "import numpy as np\n",
    "%matplotlib inline\n",
    "\n",
    "pessoas = [('Amanda', 'CWB'),\n",
    "           ('Pedro', 'GIG'),\n",
    "           ('Marcos', 'POA'),\n",
    "           ('Priscila', 'FLN'),\n",
    "           ('Jessica', 'CNF'),\n",
    "           ('Paulo', 'GYN')]\n",
    "\n",
    "destino = 'GRU'\n",
    "\n",
    "voos = {}"
   ]
  },
  {
   "cell_type": "markdown",
   "metadata": {},
   "source": [
    "### Criação do dict de voos\n",
    "A partir do arquivo **voos.txt** iremos fazer um for para ler as suas linhas e pegar os horários e preço de\n",
    "cada um dos voos"
   ]
  },
  {
   "cell_type": "code",
   "execution_count": 3,
   "metadata": {},
   "outputs": [],
   "source": [
    "for linha in open('voos.txt'):\n",
    "    _origem, _destino, _saida, _chegada, _preco = linha.split(',')\n",
    "    voos.setdefault((_origem, _destino), [])\n",
    "    voos[(_origem, _destino)].append((_saida, _chegada, int(_preco)))"
   ]
  },
  {
   "cell_type": "markdown",
   "metadata": {},
   "source": [
    "### Função de imprimir agenda\n",
    "Função final, que vai basicamente imprimir o resultado final do voo que cada pessoa vai tomar, baseado na agenda que ela recebeu, o desafio está justamente em otimizar essa agenda"
   ]
  },
  {
   "cell_type": "code",
   "execution_count": 4,
   "metadata": {},
   "outputs": [],
   "source": [
    "def get_ida_volta(i, id_voo, solucao):\n",
    "    origem = pessoas[i][1]\n",
    "    id_voo += 1\n",
    "    ida = voos[(origem, destino)][solucao[id_voo]]\n",
    "    id_voo += 1\n",
    "    volta = voos[(destino, origem)][solucao[id_voo]]\n",
    "    \n",
    "    return ida, volta"
   ]
  },
  {
   "cell_type": "code",
   "execution_count": 5,
   "metadata": {},
   "outputs": [],
   "source": [
    "def imprimir_agenda(agenda):\n",
    "    id_voo = -1\n",
    "    for i in range(len(agenda) // 2):\n",
    "        nome = pessoas[i][0] \n",
    "        origem = pessoas[i][1]\n",
    "        ida, volta = get_ida_volta(i, id_voo, agenda)\n",
    "        print('%10s%10s %5s-%5s R$%3s %5s-%5s R$%3s' % (nome, origem, ida[0], ida[1], ida[2],\n",
    "                                                       volta[0], volta[1], volta[2]))\n",
    "        id_voo += 2"
   ]
  },
  {
   "cell_type": "code",
   "execution_count": 6,
   "metadata": {},
   "outputs": [
    {
     "name": "stdout",
     "output_type": "stream",
     "text": [
      "    Amanda       CWB  8:04-10:11 R$ 95 12:08-14:05 R$142\n",
      "     Pedro       GIG 10:30-14:57 R$290  9:49-13:51 R$229\n",
      "    Marcos       POA 17:08-19:08 R$262 10:32-13:16 R$139\n",
      "  Priscila       FLN 15:34-18:11 R$326 11:08-14:38 R$262\n",
      "   Jessica       CNF  9:42-11:32 R$169 12:08-14:47 R$231\n",
      "     Paulo       GYN 13:37-15:08 R$250 11:07-13:24 R$171\n"
     ]
    }
   ],
   "source": [
    "agenda = [1,4, 3,2, 7,3, 6,3, 2,4, 5,3] ##Exemplo aleatório de agenda / solução\n",
    "imprimir_agenda(agenda) "
   ]
  },
  {
   "cell_type": "code",
   "execution_count": 7,
   "metadata": {},
   "outputs": [],
   "source": [
    "def get_minutos(hora): #transforma as horas em minutos\n",
    "    x = time.strptime(hora, '%H:%M')\n",
    "    minutos = x[3] * 60 + x[4]\n",
    "    return minutos"
   ]
  },
  {
   "cell_type": "markdown",
   "metadata": {},
   "source": [
    "## Função de custo\n",
    "- É basicamente o coração dos algoritmos de otimização\n",
    "- Eu transformo todas as minhas variáveis (dimensões) em um único valor, que vai expressar matematicamente o quão bom ou quão ruim é a solução encontrada"
   ]
  },
  {
   "cell_type": "markdown",
   "metadata": {},
   "source": [
    "## Função de custo para os voos\n",
    "- Nesse caso as minhas principais variáveis serão o **PREÇO** e **TEMPO**, ambas devem serem expressadas em um \n",
    "único valor que deverá ser minimizado (quanto mais barato e menos tiver que esperar melhor)\n",
    "- Cada problema é muito particular e tem sua própria função de custo\n",
    "- Nesse caso, nós assumimos que as pessoas só vão deixar o aeroporto para ir ao evento quando TODOS chegarem e só iram deixar o evento e ir ao aeroporto quando O PRIMEIRO tiver que pegar o voo"
   ]
  },
  {
   "cell_type": "code",
   "execution_count": 8,
   "metadata": {},
   "outputs": [],
   "source": [
    "def aplicar_penalidade(ultima_chegada, primeira_partida):\n",
    "    penalidade = 0\n",
    "    if ultima_chegada > primeira_partida:\n",
    "        penalidade += 50\n",
    "        \n",
    "    return penalidade"
   ]
  },
  {
   "cell_type": "code",
   "execution_count": 9,
   "metadata": {},
   "outputs": [],
   "source": [
    "def funcao_custo(solucao):\n",
    "    preco_total = 0\n",
    "    ultima_chegada = 0\n",
    "    primeira_partida = 1439\n",
    "    custo = 0\n",
    "    \n",
    "    id_voo = -1\n",
    "    for i in range(len(solucao) // 2):\n",
    "        ida, volta = get_ida_volta(i, id_voo, solucao)\n",
    "        \n",
    "        preco_total += ida[2]\n",
    "        preco_total += volta[2]\n",
    "        \n",
    "        if ultima_chegada < get_minutos(ida[1]):\n",
    "            ultima_chegada = get_minutos(ida[1])\n",
    "            \n",
    "        if primeira_partida > get_minutos(volta[0]):\n",
    "            primeira_partida = get_minutos(volta[0])\n",
    "        \n",
    "        id_voo += 2\n",
    "            \n",
    "    total_espera = 0\n",
    "    id_voo = -1\n",
    "    for i in range(len(solucao) // 2):\n",
    "        ida, volta = get_ida_volta(i, id_voo, solucao)\n",
    "        \n",
    "        total_espera += ultima_chegada - get_minutos(ida[1])\n",
    "        total_espera += get_minutos(volta[0]) - primeira_partida\n",
    "        \n",
    "        id_voo += 2\n",
    "        \n",
    "    custo = preco_total + total_espera   \n",
    "    custo += aplicar_penalidade(ultima_chegada, primeira_partida)\n",
    "        \n",
    "    return custo"
   ]
  },
  {
   "cell_type": "markdown",
   "metadata": {},
   "source": [
    "### Penalidade\n",
    "- Podemos aplicar penalidades baseado na nossa regra de negócio, por exemplo, na função de custo em questão, \n",
    "caso o grupo de amigos tenha que dormir no local (passe para o dia seguinte) a gente adicionar +50 como penalidade."
   ]
  },
  {
   "cell_type": "code",
   "execution_count": 10,
   "metadata": {},
   "outputs": [
    {
     "data": {
      "text/plain": [
       "4635"
      ]
     },
     "execution_count": 10,
     "metadata": {},
     "output_type": "execute_result"
    }
   ],
   "source": [
    "funcao_custo(agenda) #meu objetivo será minimizar esse valor (cada minuto representa 1 real)"
   ]
  },
  {
   "cell_type": "code",
   "execution_count": 11,
   "metadata": {},
   "outputs": [],
   "source": [
    "def plotar_busca(resultados):\n",
    "    t = np.arange(0.0, len(resultados), 1)\n",
    "    \n",
    "    plt.figure(figsize=(12,8))\n",
    "    plt.plot(t, resultados)\n",
    "    plt.show()"
   ]
  },
  {
   "cell_type": "markdown",
   "metadata": {},
   "source": [
    "### Pesquisa Randômica\n",
    "A pesquisa randômica é a busca por soluções de forma aleatória, geralmente é usada como uma baseline para avaliar os algoritmos de otimização"
   ]
  },
  {
   "cell_type": "markdown",
   "metadata": {},
   "source": [
    "### Definição do domínio do problema\n",
    "- O domínio será o universo de possibilidade que o meu problema terá, qual o RANGE do domínio do meu problema em questão.\n",
    "- No caso dos voos, meu domínio é de (0,9). Sendo assim, é possível escolher qualquer número INTEIRO entre 0 e 9 e esse número será um índice no meu array de voos"
   ]
  },
  {
   "cell_type": "code",
   "execution_count": 72,
   "metadata": {},
   "outputs": [],
   "source": [
    "def pesquisa_randomica(dominio, funcao_custo):\n",
    "    melhor_custo = 999999999 #meu objetivo é minimizar\n",
    "    custos = []\n",
    "    for i in range(0, 10000): #quantidade de soluções que serão geradas\n",
    "\n",
    "        solucao = [random.randint(dominio[i][0], dominio[i][1]) for i in range(len(dominio))]\n",
    "        custo = funcao_custo(solucao)        \n",
    "        if custo < melhor_custo:\n",
    "            custos.append(custo)\n",
    "            melhor_custo = custo\n",
    "            melhor_solucao = solucao\n",
    "\n",
    "    return melhor_solucao, custos"
   ]
  },
  {
   "cell_type": "code",
   "execution_count": 73,
   "metadata": {},
   "outputs": [
    {
     "name": "stdout",
     "output_type": "stream",
     "text": [
      "    Amanda       CWB  8:04-10:11 R$ 95 15:25-16:58 R$ 62\n",
      "     Pedro       GIG 10:30-14:57 R$290 18:44-22:42 R$351\n",
      "    Marcos       POA 15:23-17:25 R$232 15:50-18:45 R$243\n",
      "  Priscila       FLN 14:01-17:24 R$338 14:08-16:09 R$232\n",
      "   Jessica       CNF 14:22-16:32 R$126 14:19-17:09 R$190\n",
      "     Paulo       GYN 12:18-14:56 R$172 15:07-17:21 R$129\n",
      "menor custo 3820\n"
     ]
    },
    {
     "data": {
      "image/png": "[encoded data removed]",
      "text/plain": [
       "<Figure size 864x576 with 1 Axes>"
      ]
     },
     "metadata": {
      "needs_background": "light"
     },
     "output_type": "display_data"
    }
   ],
   "source": [
    "dominio = [(0,9)] * (len(pessoas) * 2)\n",
    "solucao_randomica = pesquisa_randomica(dominio, funcao_custo)\n",
    "custo_randomica = funcao_custo(solucao_randomica[0])\n",
    "imprimir_agenda(solucao_randomica[0])\n",
    "\n",
    "print('menor custo', custo_randomica)\n",
    "plotar_busca(solucao_randomica[1])"
   ]
  },
  {
   "cell_type": "markdown",
   "metadata": {},
   "source": [
    "### Hill Climbing\n",
    "- Algoritmo de solução que usa de **Explotação** (Explora os vizinhos para tentar encontrar uma solução ótima)\n",
    "- Inicializa de forma aleatória e gera uma **pequena** perturbação (delta) na nossa solução\n",
    "- Faz a avaliação do novo resultado (X linha) através da função de custo\n",
    "- Caso tenha melhorado (maximizado ou minimizado) o X linha vira a nova solução\n",
    "- Aceita apenas positivos"
   ]
  },
  {
   "cell_type": "code",
   "execution_count": 14,
   "metadata": {},
   "outputs": [],
   "source": [
    "def get_vizinhos(solucao):\n",
    "    vizinhos = []\n",
    "    for i in range(len(dominio)): #pegar os vizinhos de cada dimensão\n",
    "        if solucao[i] > dominio[i][0]:\n",
    "            if solucao[i] != dominio[i][1]:\n",
    "                vizinhos.append(solucao[0:i] + [solucao[i] + 1] + solucao[i + 1:])\n",
    "        if solucao[i] < dominio[i][1]:\n",
    "            if solucao[i] != dominio[i][0]:\n",
    "                vizinhos.append(solucao[0:i] + [solucao[i] - 1] + solucao[i + 1:])\n",
    "    \n",
    "    return vizinhos"
   ]
  },
  {
   "cell_type": "markdown",
   "metadata": {},
   "source": [
    "Meu problema é composto de um array de inteiro, que são os voos. [3,1,4...]\n",
    "No hill climbing eu preciso pegar os vizinhos, então eu adiciono um valor para cada voo. [4,2,5...]\n",
    "Com isso, eu faço um movimento sutil nos horários de voo."
   ]
  },
  {
   "cell_type": "code",
   "execution_count": 88,
   "metadata": {},
   "outputs": [],
   "source": [
    "def hill_climbing(dominio, funcao_custo):\n",
    "    solucao = [random.randint(dominio[i][0], dominio[i][1]) for i in range(len(dominio))] #inicia solução aleatória\n",
    "    custos = []\n",
    "    count = 0\n",
    "    parar_no_plato = 0\n",
    "\n",
    "    while count <= 400:\n",
    "        vizinhos = get_vizinhos(solucao)\n",
    "        \n",
    "        atual = funcao_custo(solucao)\n",
    "        melhor = atual\n",
    "        solucao_atual = solucao\n",
    "        custos.append(atual)\n",
    "\n",
    "        for i in range(len(vizinhos)):\n",
    "            custo = funcao_custo(vizinhos[i])\n",
    "            if custo <= melhor:\n",
    "                custos.append(custo)\n",
    "                melhor = custo\n",
    "                solucao = vizinhos[i]\n",
    "                parar_no_plato += 1 if custo == melhor else 0\n",
    "\n",
    "        count += 1\n",
    "        if melhor == atual and solucao_atual == solucao or parar_no_plato == 20:\n",
    "            break\n",
    "\n",
    "    return solucao, custos"
   ]
  },
  {
   "cell_type": "code",
   "execution_count": 97,
   "metadata": {},
   "outputs": [
    {
     "name": "stdout",
     "output_type": "stream",
     "text": [
      "menor custo 3656\n",
      "    Amanda       CWB 15:27-17:18 R$151 10:33-12:03 R$ 74\n",
      "     Pedro       GIG 10:30-14:57 R$290  9:49-13:51 R$229\n",
      "    Marcos       POA 15:23-17:25 R$232 10:32-13:16 R$139\n",
      "  Priscila       FLN 14:01-17:24 R$338  6:33- 9:14 R$172\n",
      "   Jessica       CNF 14:22-16:32 R$126  7:50-10:08 R$164\n",
      "     Paulo       GYN  9:15-12:03 R$ 99  6:19- 8:13 R$239\n"
     ]
    },
    {
     "data": {
      "image/png": "[encoded data removed]",
      "text/plain": [
       "<Figure size 864x576 with 1 Axes>"
      ]
     },
     "metadata": {
      "needs_background": "light"
     },
     "output_type": "display_data"
    }
   ],
   "source": [
    "solucao_subida_encosta = hill_climbing(dominio, funcao_custo)\n",
    "custo_subida_encosta = funcao_custo(solucao_subida_encosta[0])\n",
    "\n",
    "print('menor custo', custo_subida_encosta)\n",
    "imprimir_agenda(solucao_subida_encosta[0])\n",
    "plotar_busca(solucao_subida_encosta[1])"
   ]
  }
 ],
 "metadata": {
  "kernelspec": {
   "display_name": "Python 3",
   "language": "python",
   "name": "python3"
  },
  "language_info": {
   "codemirror_mode": {
    "name": "ipython",
    "version": 3
   },
   "file_extension": ".py",
   "mimetype": "text/x-python",
   "name": "python",
   "nbconvert_exporter": "python",
   "pygments_lexer": "ipython3",
   "version": "3.6.9"
  }
 },
 "nbformat": 4,
 "nbformat_minor": 4
}
