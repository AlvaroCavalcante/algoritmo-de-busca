{
 "cells": [
  {
   "cell_type": "markdown",
   "metadata": {},
   "source": [
    "### Qual o problema ? \n",
    "- Possuímos a seguinte equação matemática\n",
    "![title](image/equacao.png)\n",
    "- Quanto maior o resultado dessa função, melhor para nós.\n",
    "- Queremos descobrir qual valor de **X**  gera um resultado maior? \n",
    "- Não temos a resposta exata, ou seja, na teoria não sabemos o quanto essa função pode ser maximizada, portanto quanto maior o valor que conseguimos melhor."
   ]
  },
  {
   "cell_type": "markdown",
   "metadata": {},
   "source": [
    "### Representação \n",
    "- O domínio do problema se dá em um intervalo de [0, 1]\n",
    "- X pode assumir qualquer valor dentro desse domínio"
   ]
  },
  {
   "cell_type": "markdown",
   "metadata": {},
   "source": [
    "### Objetivo\n",
    "- **Maximizar** o resultado da equação através do maior valor possível de X.\n",
    "- O melhor valor será definido por aquele que tiver o maior resultado final dentre todas as soluções encontradas"
   ]
  },
  {
   "cell_type": "markdown",
   "metadata": {},
   "source": [
    "## Codificando\n",
    "- Vamos começar com a importação das bibliotecas usadas."
   ]
  },
  {
   "cell_type": "code",
   "execution_count": 25,
   "metadata": {
    "scrolled": true
   },
   "outputs": [],
   "source": [
    "import math\n",
    "import random\n",
    "import matplotlib.pyplot as plt\n",
    "import numpy as np\n",
    "%matplotlib inline"
   ]
  },
  {
   "cell_type": "markdown",
   "metadata": {},
   "source": [
    "### Criação da função de custo / avaliação\n",
    "- É o coração dos algoritmos de otimização\n",
    "- A função de custo é onde a avaliação do algoritmo vai acontecer de fato\n",
    "- Nesse caso a função de custo é dada simplesmente pelo resultado da equação que deve ser maximizado"
   ]
  },
  {
   "cell_type": "code",
   "execution_count": 26,
   "metadata": {},
   "outputs": [],
   "source": [
    "def funcao_custo(x):\n",
    "    custo = 2 ** (-2 *((((x-0.1) / 0.9)) ** 2)) * ((math.sin(5*math.pi*x)) ** 6)\n",
    "    return custo"
   ]
  },
  {
   "cell_type": "markdown",
   "metadata": {},
   "source": [
    "### Exibindo os resultados\n",
    "- A função de plotar busca gera um gráfico simples que mostra a variação dos resultados da função de custo x número de iterações do algoritmo\n",
    "- A função de exibir sumário por outro lado nos exibe na tela o sumário de resultados do algoritmo."
   ]
  },
  {
   "cell_type": "code",
   "execution_count": 27,
   "metadata": {},
   "outputs": [],
   "source": [
    "def plotar_busca(resultados):\n",
    "    t = np.arange(0.0, len(resultados), 1)\n",
    "    \n",
    "    plt.figure(figsize=(12,8))\n",
    "    plt.plot(t, resultados)\n",
    "    plt.show()"
   ]
  },
  {
   "cell_type": "code",
   "execution_count": 28,
   "metadata": {},
   "outputs": [],
   "source": [
    "def exibir_sumario_resultados(solucao, custos):\n",
    "    print('Valor X que gerou melhor resultado:', solucao[custos.index(max(custos))])\n",
    "    print('Maior custo:', max(custos))\n",
    "    print('Média de custos:', np.mean(custos))\n",
    "    print('Desvio padrão:', np.std(custos))\n",
    "    plotar_busca(custos)"
   ]
  },
  {
   "cell_type": "markdown",
   "metadata": {},
   "source": [
    "### Pegando os vizinhos\n",
    "- A função **get_vizinhos** é usada para pegar os vizinhos de cada dimensão da minha variável, no nosso caso temos uma única dimensão, que é o valor da variável X.\n",
    "- Sendo assim vamos pegar os dois vizinhos possíveis do nosso X, sendo o valor superior e inferior ao X atual, configurando assim os movimentos que ele poderá fazer pelo espaço de busca em cada iteração. \n",
    "- O vizinho nada mais é que uma **perturbação** no valor inicial, pode se um valor constante ou alguma outra formula, como a gaussiana.\n",
    "- Nesse caso, optei por usar uma constante para gerar a perturbação. A constante conseguiu explorar bem o espaço de busca, porém a sua grandeza foi escolhida baseada nos testes de desempenho de cada algoritmo.\n",
    "- Na nossa função de get_vizinhos, nós temos também um parâmetro não obrigatório de taxa de aprendizado, que pode ser usado para reduzir o valor da constante baseado nas iterações do algoritmo, fazendo com que os passos dados na nossa busca sejam menores conforme as iterações.\n",
    "- Isso faz com que nosso passo seja maior a princípio, fazendo com que a exploração pelo espaço de busca comece de forma mais rápida, porém ele desacelera com o passar do tempo, diminuindo o risco de pularmos nosso máximo global por estar com um \"passo\" muito grande.\n",
    "- Por fim nós também adicionamos operadores condicionais para garantir que nossos vizinhos sejam pontos menores que 1 e maiores que 0 (dentro do domínio)"
   ]
  },
  {
   "cell_type": "code",
   "execution_count": 29,
   "metadata": {},
   "outputs": [],
   "source": [
    "def get_vizinhos(solucao, tx_aprendizado = 1):\n",
    "    vizinhos = []\n",
    "    constante = 0.005 / tx_aprendizado\n",
    "    vizinho_superior = solucao + constante if solucao + constante < 1 else solucao\n",
    "    vizinho_inferior = solucao - constante if solucao - constante > 0 else solucao\n",
    "    \n",
    "    vizinhos.append(vizinho_superior)\n",
    "    vizinhos.append(vizinho_inferior)\n",
    "    return vizinhos"
   ]
  },
  {
   "cell_type": "markdown",
   "metadata": {},
   "source": [
    "### Pegando valor aleatório espaçado\n",
    "- A função de **get_valor_aleatório** vai garantir que meus valores aleatórios tenham um espaço mínimo entre eles.\n",
    "- Essa função é usada porque os algoritmos, principalmente o Hill Climbing, dependem de sua inicialização, pois iniciar em um ponto favorável pode gerar resultados consideravelmente melhores do que em um ponto não favorável.\n",
    "- Com isso, damos maior capacidade de exploração no espaço de busca para algoritmos que são mais fortes na explotação, através de multiplas inicializações.\n",
    "- Esse espaço mínimo foi definida por uma constante, sua grandeza deve ser de acordo com o tamanho do domínio do problema."
   ]
  },
  {
   "cell_type": "code",
   "execution_count": 64,
   "metadata": {},
   "outputs": [],
   "source": [
    "def get_valor_aleatorio(espaco, x=0):\n",
    "    inicio = random.random()\n",
    "    valor = []\n",
    "    \n",
    "    for i in espaco:\n",
    "        diferenca = i - inicio\n",
    "        if diferenca > 0.08 or diferenca < -0.08:\n",
    "            valor.append(diferenca)\n",
    "\n",
    "    if len(valor) == len(espaco) or x > 300:\n",
    "        return inicio\n",
    "    else:\n",
    "        return get_valor_aleatorio(espaco, x = x + 1)"
   ]
  },
  {
   "cell_type": "markdown",
   "metadata": {},
   "source": [
    "### Hill Climbing\n",
    "- Função que vai fazer o cálculo do algoritmo de subida da encosta\n",
    "- Os critérios de parada são:\n",
    "    - Atingir 400 iterações\n",
    "    - Ficar 20 iterações sem melhoria\n",
    "    - Ter apenas vizinhos piores que a solução atual\n",
    "- A ideia de parada no platô é valida caso nosso algoritmo fique preso em uma armadilha de \"maximo local reto\" como podemos ver na imagem, fazendo com que o algoritmo não tenha que ser executado pelo limite de 400 iterações.\n",
    "- Claro que o parâmetro de platô também não pode ser muito pequeno, pois caso tenhamos caído em um \"ombro (shoulder)\" existe a esperança de melhoria\n",
    "    \n",
    "![title](image/hill-climbing.png)\n",
    "\n",
    "- Não foi usado uma semente aleatória para não remover a propriedáde estocástica do algoritmo, principalmente pelo fato que foram realizadas diversas execuções"
   ]
  },
  {
   "cell_type": "code",
   "execution_count": 31,
   "metadata": {
    "pixiedust": {
     "displayParams": {}
    },
    "scrolled": true
   },
   "outputs": [],
   "source": [
    "def hill_climbing(funcao_custo, solucao_inicial):\n",
    "    solucao = solucao_inicial\n",
    "    custos = []\n",
    "    count = 1\n",
    "    parar_no_plato = 0\n",
    "\n",
    "    while count <= 400:\n",
    "        vizinhos = get_vizinhos(solucao, count)\n",
    "        \n",
    "        atual = funcao_custo(solucao)\n",
    "        melhor = atual \n",
    "        solucao_atual = solucao\n",
    "        custos.append(atual)\n",
    "\n",
    "        for i in range(len(vizinhos)):\n",
    "            custo = funcao_custo(vizinhos[i])\n",
    "            if custo >= melhor:\n",
    "                parar_no_plato = parar_no_plato + 1 if custo == melhor else 0\n",
    "                melhor = custo\n",
    "                solucao = vizinhos[i]\n",
    "\n",
    "        count += 1\n",
    "        if melhor == atual and solucao_atual == solucao or parar_no_plato == 20:\n",
    "            if parar_no_plato == 20: print('parada no platô')\n",
    "            break\n",
    "\n",
    "    return solucao, custos"
   ]
  },
  {
   "cell_type": "markdown",
   "metadata": {},
   "source": [
    "## Execução e avaliação do Hill Climbing\n",
    "- Possuímos aqui diversas formas de se inicializar e executar o algoritmo de subida da encosta para tentar buscar melhores resultados.\n",
    "- Porém, não é interessante que a gente execute ele apenas uma vez, pois ele tem uma variação muito grande nos resultados, por depender muito da inicialização.\n",
    "- Para tal, estou executando o algoritmo 30 vezes"
   ]
  },
  {
   "cell_type": "markdown",
   "metadata": {},
   "source": [
    "### Inicialização aleatória\n",
    "- Nessa primeira forma o algoritmo foi inicializado com um valor aleatório dentro do nosso domínio [0,1] pelas 30 iterações."
   ]
  },
  {
   "cell_type": "code",
   "execution_count": 51,
   "metadata": {
    "scrolled": true
   },
   "outputs": [],
   "source": [
    "custos = []\n",
    "solucao = []\n",
    "espaco_solucao = []\n",
    "\n",
    "for i in range(30):   \n",
    "    solucao_subida_encosta = hill_climbing(funcao_custo, random.random())\n",
    "    solucao.append(solucao_subida_encosta[0])\n",
    "    custos.append(max(solucao_subida_encosta[1]))"
   ]
  },
  {
   "cell_type": "code",
   "execution_count": 52,
   "metadata": {},
   "outputs": [
    {
     "name": "stdout",
     "output_type": "stream",
     "text": [
      "Valor X que gerou melhor resultado: 0.10005579557820127\n",
      "Maior custo: 0.9999976902599372\n",
      "Média de custos: 0.43570719499879235\n",
      "Desvio padrão: 0.3049853150296042\n"
     ]
    },
    {
     "data": {
      "image/png": "[encoded data removed]",
      "text/plain": [
       "<Figure size 864x576 with 1 Axes>"
      ]
     },
     "metadata": {
      "needs_background": "light"
     },
     "output_type": "display_data"
    }
   ],
   "source": [
    "exibir_sumario_resultados(solucao, custos)"
   ]
  },
  {
   "cell_type": "markdown",
   "metadata": {},
   "source": [
    "- Como podemos ver, conseguimos atingir o valor X de 0.1, chegando a um custo de 0.99.\n",
    "- Porém fica claro no gráfico a enorme variáção dos resultados cada vez que o algoritmo é inicializado\n",
    "- Isso se reflete obviamente nas médias e desvio padrão das 30 execuções, gerando um algoritmo bastante instável."
   ]
  },
  {
   "cell_type": "markdown",
   "metadata": {},
   "source": [
    "### Explorando o espaço de busca\n",
    "- Usamos nossa função de pegar o valor aleatório para garantir um espaçamento na busca"
   ]
  },
  {
   "cell_type": "code",
   "execution_count": 65,
   "metadata": {},
   "outputs": [
    {
     "name": "stdout",
     "output_type": "stream",
     "text": [
      "Espaço de busca explorado: [0.9849577441725336, 0.16164801161611586, 0.00443391384700953, 0.44158708358514087, 0.7721198971192463, 0.5774336176085821, 0.3158988070891784, 0.8857815610307219, 0.674677033496265, 0.20665129322851516, 0.9168095520730901, 0.469521530803515, 0.39826463521958, 0.758276848011451, 0.5609798603017612, 0.5357528789411027, 0.28630349496071905, 0.8960218388749056, 0.9532388302195494, 0.4217682665270265, 0.9590315681791048, 0.47546621111566234, 0.2783323194673749, 0.09037380139834628, 0.22580011692695434, 0.7667575618746872, 0.9255784985265904, 0.29247298137187494, 0.7141365736433644, 0.4135002845154856]\n"
     ]
    }
   ],
   "source": [
    "custos = []\n",
    "solucao = []\n",
    "espaco_solucao = []\n",
    "\n",
    "for i in range(30):  \n",
    "    espaco_solucao.append(get_valor_aleatorio(espaco_solucao))\n",
    "    solucao_subida_encosta = hill_climbing(funcao_custo, espaco_solucao[len(espaco_solucao) - 1])\n",
    "    solucao.append(solucao_subida_encosta[0])\n",
    "    custos.append(max(solucao_subida_encosta[1]))\n",
    "print('Espaço de busca explorado:', espaco_solucao)"
   ]
  },
  {
   "cell_type": "code",
   "execution_count": 66,
   "metadata": {},
   "outputs": [
    {
     "name": "stdout",
     "output_type": "stream",
     "text": [
      "Valor X que gerou melhor resultado: 0.09954046806501295\n",
      "Maior custo: 0.9998433374735568\n",
      "Média de custos: 0.4212082307262926\n",
      "Desvio padrão: 0.3136220451628754\n"
     ]
    },
    {
     "data": {
      "image/png": "[encoded data removed]",
      "text/plain": [
       "<Figure size 864x576 with 1 Axes>"
      ]
     },
     "metadata": {
      "needs_background": "light"
     },
     "output_type": "display_data"
    }
   ],
   "source": [
    "exibir_sumario_resultados(solucao, custos)"
   ]
  },
  {
   "cell_type": "markdown",
   "metadata": {},
   "source": [
    "- Como pudemos ver os resultados não mudaram muito em relação à versão anterior, possivelmente se tivéssemos um espaço de busca maior do que [0,1] essa abordagem seria mais impactante para os resultados"
   ]
  },
  {
   "cell_type": "markdown",
   "metadata": {},
   "source": [
    "### Simulated annealing\n",
    "Recozimento simulado é inspirado em um fenômeno da física, onde se esquenta um metal ou vidro até quase ele se liquefazer e depois se esfria devagar, para que os átomos percam a vibração aos poucos e o material fique rígido\n",
    "\n",
    "- A diferença dele para o Hill Climbing é que ele tem uma probabilidade P de aceitar valores negativos\n",
    "- Quanto mais no início do algoritmo, maior a sua chance de aceitar um valor negativo"
   ]
  },
  {
   "cell_type": "markdown",
   "metadata": {},
   "source": [
    "### Probabilidade\n",
    "- A probabilidade do simulated annealing é dada pela função exponencial exp(x)\n",
    "- Nessa função, elevamos o número de euler ~2.7 à um valor de x.\n",
    "- O X no nosso caso é o resultado da subtração entre o novo custo e o custo anterior divido pela temperatura: (x' - x) / T\n",
    "- A temperatura vai diminuindo gradativamente, limitando nossas interações e garantindo que a probabilidade de se aceitar valores negativos também diminua"
   ]
  },
  {
   "cell_type": "markdown",
   "metadata": {},
   "source": [
    "### Problemas encontrados na abordagem\n",
    "- Foi encontrado um problema relacionado ao valor da temperatura, que precisa ser normalizado, pois nesse caso estamos trabalhando com valores muito pequenos e uma temperatura sem ser normalizada gera valores sempre próximos a 100%, fazendo com que valores negativos sejam sempre aceitos"
   ]
  },
  {
   "cell_type": "code",
   "execution_count": null,
   "metadata": {},
   "outputs": [],
   "source": [
    "def simulated_annealing(dominio, funcao_custo, temperatura = 10000.0, resfriamento = 0.95, passo = 1):\n",
    "    # random.seed(a=0)\n",
    "    solucao = random.random()\n",
    "    custos = []\n",
    "    count = 1\n",
    "    parar_no_plato = 0\n",
    "\n",
    "    while temperatura > 0.1:\n",
    "        vizinhos = get_vizinhos(solucao, count)\n",
    "        \n",
    "        atual = funcao_custo(solucao)\n",
    "        melhor = atual \n",
    "        solucao_atual = solucao\n",
    "        custos.append(atual)\n",
    "\n",
    "        for i in range(len(vizinhos)):\n",
    "            \n",
    "            if parar_no_plato == 20:\n",
    "                break\n",
    "\n",
    "            custo = funcao_custo(vizinhos[i])\n",
    "            probabilidade = pow(math.e, (-custo - melhor) / temperatura)\n",
    "            \n",
    "            if custo >= melhor or random.random() < probabilidade:\n",
    "                parar_no_plato = parar_no_plato + 1 if custo == melhor else 0\n",
    "                melhor = custo\n",
    "                solucao = vizinhos[i]\n",
    "\n",
    "        temperatura = temperatura * resfriamento\n",
    "\n",
    "    return solucao, custos"
   ]
  },
  {
   "cell_type": "code",
   "execution_count": null,
   "metadata": {},
   "outputs": [],
   "source": [
    "solucao_tempera_simulada = simulated_annealing([0, 1], funcao_custo)\n",
    "custo_tempera_simulada = funcao_custo(solucao_tempera_simulada[0])\n",
    "\n",
    "print('Menor custo', custo_tempera_simulada)\n",
    "plotar_busca(solucao_tempera_simulada[1])"
   ]
  },
  {
   "cell_type": "markdown",
   "metadata": {},
   "source": [
    "### Algoritmo genético\n",
    "- Inspirados no evolucionismo, principalmente em seleção natural e combinação genética\n",
    "- Escolhe os melhores indivíduos da população para reproduzir"
   ]
  },
  {
   "cell_type": "markdown",
   "metadata": {},
   "source": [
    "### Mutação\n",
    "- Processo aleatório que ocorre na população, mudando as características de um gene"
   ]
  },
  {
   "cell_type": "code",
   "execution_count": null,
   "metadata": {},
   "outputs": [],
   "source": [
    "def mutacao(solucao):\n",
    "    constante = 0.005\n",
    "\n",
    "    if random.random() < 0.5:\n",
    "        mutante = solucao - constante if solucao - constante > 0 else solucao\n",
    "    else:\n",
    "        mutante = solucao + constante if solucao + constante < 1 else solucao\n",
    "    \n",
    "    return mutante"
   ]
  },
  {
   "cell_type": "markdown",
   "metadata": {},
   "source": [
    "### crossover \n",
    "- Técnica onde os indivíduos da população compartilham os genes, distribuindo as características entre eles"
   ]
  },
  {
   "cell_type": "code",
   "execution_count": null,
   "metadata": {},
   "outputs": [],
   "source": [
    "def crossover(solucao1, solucao2):\n",
    "    crossed = (solucao1 + solucao2) / 2\n",
    "    return crossed"
   ]
  },
  {
   "cell_type": "code",
   "execution_count": null,
   "metadata": {},
   "outputs": [],
   "source": [
    "def genetico(funcao_custo, tamanho_populacao = 50, p_mutacao = 0.2, elitismo = 0.2, geracoes=100):\n",
    "    populacao = []\n",
    "    for i in range(tamanho_populacao):\n",
    "        populacao.append(random.random())\n",
    "    \n",
    "    numero_elitismo = int(elitismo * tamanho_populacao)\n",
    "    \n",
    "    for i in range(geracoes):\n",
    "        custos = [(funcao_custo(individuo), individuo) for individuo in populacao]\n",
    "        custos.sort(reverse=True)\n",
    "        individuos_ordenados = [individuos for (custo, individuos) in custos]\n",
    "        \n",
    "        populacao = individuos_ordenados[0:numero_elitismo]\n",
    "    \n",
    "        while len(populacao) < tamanho_populacao:\n",
    "            if random.random() < p_mutacao:\n",
    "                individuo_selecionado = random.randint(0, numero_elitismo)\n",
    "                populacao.append(mutacao(individuos_ordenados[individuo_selecionado]))\n",
    "            else:\n",
    "                individuo1 = random.randint(0, numero_elitismo)\n",
    "                individuo2 = random.randint(0, numero_elitismo)\n",
    "                populacao.append(crossover(individuos_ordenados[individuo1], \n",
    "                                           individuos_ordenados[individuo2]))\n",
    "    return custos[0][0], custos[0][1]"
   ]
  },
  {
   "cell_type": "code",
   "execution_count": null,
   "metadata": {
    "scrolled": true
   },
   "outputs": [],
   "source": [
    "melhor_custo, x = genetico(funcao_custo)\n",
    "print(melhor_custo, x)"
   ]
  },
  {
   "cell_type": "markdown",
   "metadata": {},
   "source": [
    "### Avaliação dos algoritmos\n",
    "- Qual algoritmo teve os resultados melhores e os parâmetros e técnicas que foram aplicados para isso."
   ]
  },
  {
   "cell_type": "code",
   "execution_count": null,
   "metadata": {},
   "outputs": [],
   "source": []
  }
 ],
 "metadata": {
  "kernelspec": {
   "display_name": "Python 3",
   "language": "python",
   "name": "python3"
  },
  "language_info": {
   "codemirror_mode": {
    "name": "ipython",
    "version": 3
   },
   "file_extension": ".py",
   "mimetype": "text/x-python",
   "name": "python",
   "nbconvert_exporter": "python",
   "pygments_lexer": "ipython3",
   "version": "3.6.9"
  }
 },
 "nbformat": 4,
 "nbformat_minor": 4
}
