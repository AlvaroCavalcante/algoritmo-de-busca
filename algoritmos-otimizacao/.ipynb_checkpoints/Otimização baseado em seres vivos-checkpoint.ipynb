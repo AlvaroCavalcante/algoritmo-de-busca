{
 "cells": [
  {
   "cell_type": "markdown",
   "metadata": {},
   "source": [
    "Relatório do trabalho\n",
    "==============\n",
    "**Nome:** Álvaro Leandro Cavalcante Carneiro\n",
    "**Linguagem utilizada:** Python 3.6\n",
    "\n",
    "Os códigos e o relatório foram desenvolvidos em um Jupyter notebook."
   ]
  },
  {
   "cell_type": "markdown",
   "metadata": {},
   "source": [
    "# Qual o problema?\n",
    "Utilizar o algoritmo PSO para otimização de uma função matemática"
   ]
  },
  {
   "cell_type": "markdown",
   "metadata": {},
   "source": [
    "## Importação das bibliotecas\n",
    "Importação do que foi usado em todo o processo de desenvolvimento"
   ]
  },
  {
   "cell_type": "code",
   "execution_count": 1,
   "metadata": {},
   "outputs": [],
   "source": [
    "import random"
   ]
  },
  {
   "cell_type": "markdown",
   "metadata": {},
   "source": [
    "## Função de aptidão\n",
    "A função de aptidão será a responsável por fazer a avaliação da solução proposta pelo algoritmo e que deve nortear a convergência do mesmo, para maximização ou minimização do valor retornado. \n",
    "\n",
    "A implementação nesse caso é basicamente a fórmula matemática que se tem interesse em otimizar."
   ]
  },
  {
   "cell_type": "code",
   "execution_count": 2,
   "metadata": {},
   "outputs": [],
   "source": [
    "def funcao_aptidao(x, y):\n",
    "    return (1 - x)**2 + 100*(y-x**2)**2"
   ]
  },
  {
   "cell_type": "markdown",
   "metadata": {},
   "source": [
    "## Enxame de indivíduos\n",
    "Foi criado o método de *get_enxame* que tem por objetivo criar o enxame inicial de partículas ou passáros seguindo os exemplos passados em aula. Cada pássaro é um valor aleatório dentro do domínio do problema. "
   ]
  },
  {
   "cell_type": "code",
   "execution_count": 3,
   "metadata": {},
   "outputs": [],
   "source": [
    "def get_enxame(individuos, dominio):\n",
    "    enxame = []\n",
    "    for i in range(individuos):\n",
    "        enxame.append(random.uniform(dominio[0], dominio[len(dominio) - 1]))\n",
    "    \n",
    "    return enxame"
   ]
  },
  {
   "cell_type": "markdown",
   "metadata": {},
   "source": [
    "## Velocidade inicial das partículas\n",
    "Cada partícula começa com uma velocidade inicial aleatória, portanto foi criado o método *get_velocidade* que vai criar um valor de velocidade para cada partícula baseado no domínio mínimo e máximo permitidos."
   ]
  },
  {
   "cell_type": "code",
   "execution_count": 12,
   "metadata": {},
   "outputs": [],
   "source": [
    "def get_velocidade(individuos, dominio):\n",
    "    velocidade = []\n",
    "    for i in range(individuos):\n",
    "        velocidade.append(random.uniform(dominio[0], dominio[len(dominio) - 1]))\n",
    "    \n",
    "    return velocidade"
   ]
  },
  {
   "cell_type": "markdown",
   "metadata": {},
   "source": [
    "## Atualização da velocidade\n",
    "O método atualizar a velocidada é o responsável por aplicar a fórmula que faz a atualização da velocidade das partículas no espaço."
   ]
  },
  {
   "cell_type": "code",
   "execution_count": 10,
   "metadata": {},
   "outputs": [],
   "source": [
    "def atualizar_velocidade(v_atual, p_atual, melhor_p, melhor_p_vizinho, \n",
    "                         dominio_v, ac1 = 2.05, ac2 = 2.05):\n",
    "    \n",
    "    v_aleatorio1 = random.uniform(0, ac1)\n",
    "    v_aleatorio2 = random.uniform(0, ac2)\n",
    "    \n",
    "    v_nova = v_atual+v_aleatorio1*(melhor_p-p_atual)+v_aleatorio2*(melhor_p_vizinho-p_atual)\n",
    "    \n",
    "    v_final = v_nova if v_nova <= dominio_v[1] else dominio_v[1]\n",
    "    v_final = v_nova if v_nova >= dominio_v[0] else dominio_v[0]\n",
    "    \n",
    "    return v_final"
   ]
  },
  {
   "cell_type": "markdown",
   "metadata": {},
   "source": [
    "## Atualização de posição\n",
    "A atualização da posição atual da partícula foi implementada no método *atualizar_posicao*, onde basicamente é calculado a posição atual do ponto somado à sua velocidade de movimento calculado no método anterior. "
   ]
  },
  {
   "cell_type": "code",
   "execution_count": 11,
   "metadata": {},
   "outputs": [],
   "source": [
    "def atualizar_posicao(p_atual, nova_velocidade):\n",
    "    nova_p = p_atual + nova_velocidade\n",
    "    \n",
    "    return nova_p"
   ]
  },
  {
   "cell_type": "markdown",
   "metadata": {},
   "source": [
    "## Implementação do PSO\n",
    "O método *pso* será o responsável por fazer o processo de otimização e busca por melhores resultados."
   ]
  },
  {
   "cell_type": "code",
   "execution_count": null,
   "metadata": {},
   "outputs": [],
   "source": [
    "def pso(populacao):"
   ]
  }
 ],
 "metadata": {
  "kernelspec": {
   "display_name": "Python 3.6.9 64-bit",
   "language": "python",
   "name": "python36964bitf04b3f48ea3e4c6baa0bccb81b5508de"
  },
  "language_info": {
   "codemirror_mode": {
    "name": "ipython",
    "version": 3
   },
   "file_extension": ".py",
   "mimetype": "text/x-python",
   "name": "python",
   "nbconvert_exporter": "python",
   "pygments_lexer": "ipython3",
   "version": "3.6.9"
  }
 },
 "nbformat": 4,
 "nbformat_minor": 4
}
