{
 "cells": [
  {
   "cell_type": "markdown",
   "metadata": {},
   "source": [
    "Relatório do trabalho\n",
    "==============\n",
    "**Nome:** Álvaro Leandro Cavalcante Carneiro\n",
    "**Linguagem utilizada:** Python 3.6\n",
    "\n",
    "Os códigos e o relatório foram desenvolvidos em um Jupyter notebook."
   ]
  },
  {
   "cell_type": "markdown",
   "metadata": {},
   "source": [
    "# Qual o problema?\n",
    "Utilizar o algoritmo PSO para otimização de uma função matemática."
   ]
  },
  {
   "cell_type": "markdown",
   "metadata": {},
   "source": [
    "## Importação das bibliotecas\n",
    "Importação das bibliotecas que foram utilizadas em todo o processo de desenvolvimento."
   ]
  },
  {
   "cell_type": "code",
   "execution_count": 1,
   "metadata": {},
   "outputs": [],
   "source": [
    "import random\n",
    "import numpy as np\n",
    "import matplotlib.pyplot as plt"
   ]
  },
  {
   "cell_type": "markdown",
   "metadata": {},
   "source": [
    "## Função de aptidão\n",
    "A função de aptidão será a responsável por fazer a avaliação da solução proposta pelo algoritmo e que deve nortear a convergência do mesmo, para maximização ou minimização do valor retornado. \n",
    "\n",
    "A implementação nesse caso é basicamente a fórmula matemática que se tem interesse em otimizar, sendo por objetivo minimizar o valor."
   ]
  },
  {
   "cell_type": "code",
   "execution_count": 2,
   "metadata": {},
   "outputs": [],
   "source": [
    "def funcao_aptidao(x, y):\n",
    "    return (1 - x)**2 + 100*(y-x**2)**2"
   ]
  },
  {
   "cell_type": "markdown",
   "metadata": {},
   "source": [
    "## Enxame de indivíduos\n",
    "Foi criado o método de *get_enxame* que tem por objetivo criar o enxame inicial de partículas. Cada partícula é um valor aleatório dentro do domínio do problema, e em cada iteração do método um valor diferente é atribuido para cada dimensão. "
   ]
  },
  {
   "cell_type": "code",
   "execution_count": 3,
   "metadata": {},
   "outputs": [],
   "source": [
    "def get_enxame(n_particulas, dominio):\n",
    "    enxame = []\n",
    "\n",
    "    for i in range(n_particulas):\n",
    "        particula = [random.uniform(dominio[i][0], dominio[i][1]) for i in range(len(dominio))]\n",
    "        enxame.append(particula)\n",
    "    \n",
    "    return enxame"
   ]
  },
  {
   "cell_type": "markdown",
   "metadata": {},
   "source": [
    "## Velocidade inicial das partículas\n",
    "Cada partícula começa com uma velocidade inicial aleatória, portanto foi criado o método *get_velocidade* que vai criar um valor de velocidade para cada partícula baseado no domínio mínimo e máximo permitidos."
   ]
  },
  {
   "cell_type": "code",
   "execution_count": 12,
   "metadata": {},
   "outputs": [],
   "source": [
    "def get_velocidade(n_particulas, dominio):\n",
    "    velocidade = []\n",
    "    for i in range(n_particulas):\n",
    "        velocidade.append(random.uniform(dominio[0], dominio[len(dominio) - 1]))\n",
    "    \n",
    "    return velocidade"
   ]
  },
  {
   "cell_type": "markdown",
   "metadata": {},
   "source": [
    "## Atualização da velocidade\n",
    "O método atualizar a velocidada é o responsável por aplicar a fórmula que faz a atualização da velocidade das partículas no espaço."
   ]
  },
  {
   "cell_type": "code",
   "execution_count": 2,
   "metadata": {},
   "outputs": [],
   "source": [
    "def atualizar_velocidade(v_atual, p_atual, melhor_p_particula, aptidao, \n",
    "                         dominio_v, dominio_particulas, ac1 = 2.05, ac2 = 2.05):\n",
    "      \n",
    "    v_nova = []\n",
    "    count = 0\n",
    "\n",
    "    for velocidade in v_atual:\n",
    "        # criação do array de valores aleatórios, de 0 até o valor de ac para cada dimensão.\n",
    "        v_aleatorio1 = [random.uniform(0, ac1) for i in range(len(dominio_particulas))]\n",
    "        v_aleatorio2 = [random.uniform(0, ac2) for i in range(len(dominio_particulas))]\n",
    "        \n",
    "        # encontrando qual o melhor vizinho\n",
    "        proximo_vizinho = count + 1 if count + 1 < len(aptidao) else 0\n",
    "        melhor_p_vizinho = aptidao.index(min([aptidao[count - 1]] + [aptidao[proximo_vizinho]]))\n",
    "        \n",
    "        # pegando a melhor posição do melhor vizinho\n",
    "        melhor_p_vizinho = melhor_p_particula[melhor_p_vizinho]\n",
    "\n",
    "        # cálculo da inteligência cognitiva da partícula\n",
    "        inteligencia_cognitiva = velocidade + (np.dot(v_aleatorio1, np.array(melhor_p_particula[count]) - np.array(p_atual[count]))) \n",
    "        # cálculo da inteligência social da partícula\n",
    "        inteligencia_social = np.dot(v_aleatorio2, np.array(melhor_p_vizinho) - np.array(p_atual[count]))\n",
    "        # atualização da velocidade (soma das duas inteligências)\n",
    "        velocidade_atualizada = inteligencia_cognitiva + inteligencia_social\n",
    "\n",
    "        # verifica se a nova velocidade está dentro de domínio e corrige o valor se necessário\n",
    "        velocidade_atualizada = velocidade_atualizada if velocidade_atualizada <= dominio_v[1] else dominio_v[1]\n",
    "        velocidade_atualizada = velocidade_atualizada if velocidade_atualizada >= dominio_v[0] else dominio_v[0]\n",
    "     \n",
    "        # adiciona o valor novo em uma lista que será retornada\n",
    "        v_nova.append(velocidade_atualizada)\n",
    "        \n",
    "        count += 1 \n",
    "    \n",
    "    return v_nova"
   ]
  },
  {
   "cell_type": "markdown",
   "metadata": {},
   "source": [
    "## Atualização de posição\n",
    "A atualização da posição atual da partícula foi implementada no método *atualizar_posicao*, onde basicamente é calculado a posição atual do ponto somado à sua velocidade de movimento calculado no método anterior. É necessário antes apenas adicionar uma dimensão duplicada na velocidade com o método *stack*, para fazer a somatória em todas as dimensões."
   ]
  },
  {
   "cell_type": "code",
   "execution_count": 11,
   "metadata": {},
   "outputs": [],
   "source": [
    "def atualizar_posicao(p_atual, velocidade):\n",
    "    velocidade = np.stack((np.array(velocidade), np.array(velocidade)), axis=1) \n",
    "    nova_p = np.array(p_atual) + np.array(velocidade)\n",
    "    \n",
    "    return nova_p"
   ]
  },
  {
   "cell_type": "markdown",
   "metadata": {},
   "source": [
    "Foi criado um método chamado *get_melhor_posicao* responsável por calcular a nova aptidão das posições que foram atualizadas e também verificar as melhores aptidões e melhores posições de cada partícula no enxame, isso é utilizado posteriormente no cálculo de velocidade."
   ]
  },
  {
   "cell_type": "code",
   "execution_count": 3,
   "metadata": {},
   "outputs": [],
   "source": [
    "def get_melhor_posicao(enxame_anterior, enxame, aptidao_anterior):\n",
    "    nova_aptidao = [funcao_aptidao(x, y) for x, y in enxame] # aptidão com as novas posições\n",
    "\n",
    "    count = 0\n",
    "    melhor_posicao = []\n",
    "    melhor_aptidao = []\n",
    "\n",
    "    for i in aptidao_anterior:\n",
    "        # verifica se alguma das posições novas é melhor e substitui se for o caso\n",
    "        melhor_posicao.append(enxame[count] if nova_aptidao[count] < aptidao_anterior[count] else enxame_anterior[count])\n",
    "        # verifica se alguma das aptidões melhorou e substitui se for o caso\n",
    "        melhor_aptidao.append(nova_aptidao[count] if nova_aptidao[count] < aptidao_anterior[count] else aptidao_anterior[count])\n",
    "        count +=1\n",
    "    \n",
    "    return melhor_posicao, nova_aptidao, melhor_aptidao"
   ]
  },
  {
   "cell_type": "markdown",
   "metadata": {},
   "source": [
    "## Convergência do algoritmo\n",
    "Foram criados dois métodos para exibir os resultados em termos de convergência do algoritmo. Primeiro o *exibir_convergencia_total* é responsável por mostrar a convergência de cada uma das partículas do enxame ao longo das iterações.\n",
    "\n"
   ]
  },
  {
   "cell_type": "code",
   "execution_count": null,
   "metadata": {},
   "outputs": [],
   "source": [
    "def exibir_convergencia_total(convergencia):\n",
    "    matriz_convergencia = np.asmatrix(convergencia)\n",
    "    matriz_convergencia = np.transpose(matriz_convergencia) \n",
    "    \n",
    "    for i in matriz_convergencia:\n",
    "        vetor = i.reshape(-1, 1)\n",
    "        plt.plot(vetor)\n",
    "    \n",
    "    plt.show()"
   ]
  },
  {
   "cell_type": "code",
   "execution_count": null,
   "metadata": {},
   "outputs": [],
   "source": [
    "def exibir_convergencia_minima_media(melhores_aptidoes, aptidao_media):\n",
    "    fig, axes = plt.subplots(nrows=1, ncols=2, figsize=(10, 8)) # iniciar a figura\n",
    "    # plotar a figura de treinamento\n",
    "    axes[0].plot(melhores_aptidoes, color = 'blue')\n",
    "    axes[0].legend(['Melhor aptidão ao longo das iterações'])\n",
    "    # plotar a figura de teste\n",
    "    axes[1].plot(aptidao_media, color = 'orange')\n",
    "    axes[1].legend(['Média de aptidão ao longo das iterações'])\n",
    "\n",
    "    plt.xlabel('Execuções')\n",
    "    plt.ylabel('Aptidão')\n",
    "    plt.show()"
   ]
  },
  {
   "cell_type": "markdown",
   "metadata": {},
   "source": [
    "## Implementação do PSO\n",
    "O método *pso* será o responsável por fazer o processo de otimização e busca por melhores resultados."
   ]
  },
  {
   "cell_type": "code",
   "execution_count": null,
   "metadata": {},
   "outputs": [],
   "source": [
    "def pso(n_particulas, dominio_particulas, dominio_velocidade, execucoes = 30):\n",
    "    enxame = get_enxame(n_particulas, dominio_particulas)\n",
    "    velocidade = get_velocidade(n_particulas, dominio_velocidade)\n",
    "\n",
    "    melhor_p_particula = enxame\n",
    "    enxame_anterior = []\n",
    "    execucao = 0\n",
    "    aptidoes = []\n",
    "    melhores_aptidoes = []\n",
    "    aptidao_media = []\n",
    "\n",
    "    while execucao < execucoes:\n",
    "        \n",
    "        if len(enxame_anterior) == 0:\n",
    "            aptidao = [funcao_aptidao(x, y) for x, y in enxame]\n",
    "            velocidade = atualizar_velocidade(velocidade, enxame, melhor_p_particula,\n",
    "                                        aptidao, dominio_velocidade, dominio_particulas)\n",
    "        else:\n",
    "            melhor_p_particula, aptidao, melhor_aptidao = get_melhor_posicao(enxame_anterior, enxame, aptidao)            \n",
    "            velocidade = atualizar_velocidade(velocidade, enxame, melhor_p_particula,\n",
    "                                        melhor_aptidao, dominio_velocidade, dominio_particulas)\n",
    "        \n",
    "            aptidoes.append(melhor_aptidao)\n",
    "            melhores_aptidoes.append(min(melhor_aptidao))\n",
    "            aptidao_media.append(sum(melhores_aptidoes) / len(melhores_aptidoes))\n",
    "\n",
    "\n",
    "        enxame_anterior = enxame.copy()\n",
    "        enxame = atualizar_posicao(enxame, velocidade)\n",
    "        \n",
    "        execucao += 1\n",
    "    \n",
    "    melhor_p_particula, aptidao, melhor_aptidao = get_melhor_posicao(enxame_anterior, enxame, aptidao)            \n",
    "\n",
    "    return min(melhor_aptidao), melhor_p_particula[melhor_aptidao.index(min(melhor_aptidao))], aptidoes, \\\n",
    "    melhores_aptidoes, aptidao_media"
   ]
  },
  {
   "cell_type": "markdown",
   "metadata": {},
   "source": [
    "realização dos testes"
   ]
  },
  {
   "cell_type": "code",
   "execution_count": null,
   "metadata": {},
   "outputs": [],
   "source": [
    "melhor_aptidao, melhor_p, aptidoes, melhores_aptidoes, aptidao_media = pso(3, [(-5, 5), (-5, 5)], [-0.5, 0.5])\n",
    "\n",
    "exibir_convergencia_total(aptidoes)\n",
    "exibir_convergencia_minima_media(melhores_aptidoes, aptidao_media)"
   ]
  }
 ],
 "metadata": {
  "kernelspec": {
   "display_name": "Python 3.6.9 64-bit",
   "language": "python",
   "name": "python36964bitf04b3f48ea3e4c6baa0bccb81b5508de"
  },
  "language_info": {
   "codemirror_mode": {
    "name": "ipython",
    "version": 3
   },
   "file_extension": ".py",
   "mimetype": "text/x-python",
   "name": "python",
   "nbconvert_exporter": "python",
   "pygments_lexer": "ipython3",
   "version": "3.6.9"
  }
 },
 "nbformat": 4,
 "nbformat_minor": 4
}
