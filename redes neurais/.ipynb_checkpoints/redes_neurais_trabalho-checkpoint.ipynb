{
 "cells": [
  {
   "cell_type": "markdown",
   "metadata": {},
   "source": [
    "Relatório do trabalho\n",
    "==============\n",
    "**Nome:** Álvaro Leandro Cavalcante Carneiro\n",
    "**Linguagem utilizada:** Python 3.6\n",
    "\n",
    "Os códigos e o relatório foram desenvolvidos em um Jupyter notebook e sua versão online pode ser encontrada aqui: https://colab.research.google.com/drive/1HQIBTnHCrcSrfAUOsx7836wZzDnQ9Fhd?usp=sharing. Nessa versão é possível executar novamente os algoritmos."
   ]
  },
  {
   "cell_type": "markdown",
   "metadata": {},
   "source": [
    "# Qual o problema ? \n",
    "Utilizar uma rede neural no modelo perceptron para identificar 3 classes de flores baseados em suas características de tamanho de pétalada e sépala."
   ]
  },
  {
   "cell_type": "markdown",
   "metadata": {},
   "source": [
    "## Importação das bibliotecas\n",
    "Ferramentas usadas no processo de desenvolvimento"
   ]
  },
  {
   "cell_type": "code",
   "execution_count": 112,
   "metadata": {},
   "outputs": [],
   "source": [
    "import random\n",
    "import numpy as np\n",
    "import pandas as pd\n",
    "import math\n",
    "import matplotlib.pyplot as plt\n",
    "import time"
   ]
  },
  {
   "cell_type": "markdown",
   "metadata": {},
   "source": [
    "# Análise Exploratória dos Dados (AED)\n",
    "A ideia a princípio é entender um pouco mais do *dataset* e deixar os dados em um formato que seja favorável para o aprendizado da rede neural perceptron.\n",
    "\n",
    "O primeiro passo foi ler o arquivo baixado aqui: http://archive.ics.uci.edu/ml/datasets/Iris.\n",
    "O arquivo em questão não possuia colunas, portanto eu modifiquei o mesmo para adicionar o nome das colunas na primeira linha e deixá-lo no formato .CSV ao invés do .DATA.\n",
    "\n",
    "O *dataset* está sendo lido com o método *read_csv* do pandas, que transforma o conjunto de dados em um *dataframe*, que por sua vez possui diversos métodos nativos para manipular os dados. Um desse métodos é o *head*, onde é possível visualizar as primeiras linhas do *dataframe*."
   ]
  },
  {
   "cell_type": "code",
   "execution_count": 113,
   "metadata": {
    "scrolled": true
   },
   "outputs": [
    {
     "data": {
      "text/html": [
       "<div>\n",
       "<style scoped>\n",
       "    .dataframe tbody tr th:only-of-type {\n",
       "        vertical-align: middle;\n",
       "    }\n",
       "\n",
       "    .dataframe tbody tr th {\n",
       "        vertical-align: top;\n",
       "    }\n",
       "\n",
       "    .dataframe thead th {\n",
       "        text-align: right;\n",
       "    }\n",
       "</style>\n",
       "<table border=\"1\" class=\"dataframe\">\n",
       "  <thead>\n",
       "    <tr style=\"text-align: right;\">\n",
       "      <th></th>\n",
       "      <th>sepal-length</th>\n",
       "      <th>sepal-width</th>\n",
       "      <th>petal-length</th>\n",
       "      <th>petal-width</th>\n",
       "      <th>class</th>\n",
       "    </tr>\n",
       "  </thead>\n",
       "  <tbody>\n",
       "    <tr>\n",
       "      <th>0</th>\n",
       "      <td>5.1</td>\n",
       "      <td>3.5</td>\n",
       "      <td>1.4</td>\n",
       "      <td>0.2</td>\n",
       "      <td>Iris-setosa</td>\n",
       "    </tr>\n",
       "    <tr>\n",
       "      <th>1</th>\n",
       "      <td>4.9</td>\n",
       "      <td>3.0</td>\n",
       "      <td>1.4</td>\n",
       "      <td>0.2</td>\n",
       "      <td>Iris-setosa</td>\n",
       "    </tr>\n",
       "    <tr>\n",
       "      <th>2</th>\n",
       "      <td>4.7</td>\n",
       "      <td>3.2</td>\n",
       "      <td>1.3</td>\n",
       "      <td>0.2</td>\n",
       "      <td>Iris-setosa</td>\n",
       "    </tr>\n",
       "    <tr>\n",
       "      <th>3</th>\n",
       "      <td>4.6</td>\n",
       "      <td>3.1</td>\n",
       "      <td>1.5</td>\n",
       "      <td>0.2</td>\n",
       "      <td>Iris-setosa</td>\n",
       "    </tr>\n",
       "    <tr>\n",
       "      <th>4</th>\n",
       "      <td>5.0</td>\n",
       "      <td>3.6</td>\n",
       "      <td>1.4</td>\n",
       "      <td>0.2</td>\n",
       "      <td>Iris-setosa</td>\n",
       "    </tr>\n",
       "  </tbody>\n",
       "</table>\n",
       "</div>"
      ],
      "text/plain": [
       "   sepal-length  sepal-width  petal-length  petal-width        class\n",
       "0           5.1          3.5           1.4          0.2  Iris-setosa\n",
       "1           4.9          3.0           1.4          0.2  Iris-setosa\n",
       "2           4.7          3.2           1.3          0.2  Iris-setosa\n",
       "3           4.6          3.1           1.5          0.2  Iris-setosa\n",
       "4           5.0          3.6           1.4          0.2  Iris-setosa"
      ]
     },
     "execution_count": 113,
     "metadata": {},
     "output_type": "execute_result"
    }
   ],
   "source": [
    "dataframe = pd.read_csv('/home/alvaro/Documentos/mestrado/computação bio/redes neurais/datasets/iris2.csv', header = 0)\n",
    "\n",
    "dataframe.head()"
   ]
  },
  {
   "cell_type": "markdown",
   "metadata": {},
   "source": [
    "Um pré-requisito na mineração dos dados é verificar se o *dataframe* possui inconsistências quanto aos valores, podendo ser algum outlier, ruído, valor vazio, etc...\n",
    "\n",
    "Para isso, é utilizado o método *isna* para contabilizar os registros vazios por coluna e também o método *describe* que gera um sumário por coluna dos valores ali contidos."
   ]
  },
  {
   "cell_type": "code",
   "execution_count": 114,
   "metadata": {
    "scrolled": true
   },
   "outputs": [
    {
     "name": "stdout",
     "output_type": "stream",
     "text": [
      "Valores nulos:\n",
      "sepal-length    0\n",
      "sepal-width     0\n",
      "petal-length    0\n",
      "petal-width     0\n",
      "class           0\n",
      "dtype: int64\n"
     ]
    },
    {
     "data": {
      "text/html": [
       "<div>\n",
       "<style scoped>\n",
       "    .dataframe tbody tr th:only-of-type {\n",
       "        vertical-align: middle;\n",
       "    }\n",
       "\n",
       "    .dataframe tbody tr th {\n",
       "        vertical-align: top;\n",
       "    }\n",
       "\n",
       "    .dataframe thead th {\n",
       "        text-align: right;\n",
       "    }\n",
       "</style>\n",
       "<table border=\"1\" class=\"dataframe\">\n",
       "  <thead>\n",
       "    <tr style=\"text-align: right;\">\n",
       "      <th></th>\n",
       "      <th>sepal-length</th>\n",
       "      <th>sepal-width</th>\n",
       "      <th>petal-length</th>\n",
       "      <th>petal-width</th>\n",
       "    </tr>\n",
       "  </thead>\n",
       "  <tbody>\n",
       "    <tr>\n",
       "      <th>count</th>\n",
       "      <td>150.000000</td>\n",
       "      <td>150.000000</td>\n",
       "      <td>150.000000</td>\n",
       "      <td>150.000000</td>\n",
       "    </tr>\n",
       "    <tr>\n",
       "      <th>mean</th>\n",
       "      <td>5.843333</td>\n",
       "      <td>3.054000</td>\n",
       "      <td>3.758667</td>\n",
       "      <td>1.198667</td>\n",
       "    </tr>\n",
       "    <tr>\n",
       "      <th>std</th>\n",
       "      <td>0.828066</td>\n",
       "      <td>0.433594</td>\n",
       "      <td>1.764420</td>\n",
       "      <td>0.763161</td>\n",
       "    </tr>\n",
       "    <tr>\n",
       "      <th>min</th>\n",
       "      <td>4.300000</td>\n",
       "      <td>2.000000</td>\n",
       "      <td>1.000000</td>\n",
       "      <td>0.100000</td>\n",
       "    </tr>\n",
       "    <tr>\n",
       "      <th>25%</th>\n",
       "      <td>5.100000</td>\n",
       "      <td>2.800000</td>\n",
       "      <td>1.600000</td>\n",
       "      <td>0.300000</td>\n",
       "    </tr>\n",
       "    <tr>\n",
       "      <th>50%</th>\n",
       "      <td>5.800000</td>\n",
       "      <td>3.000000</td>\n",
       "      <td>4.350000</td>\n",
       "      <td>1.300000</td>\n",
       "    </tr>\n",
       "    <tr>\n",
       "      <th>75%</th>\n",
       "      <td>6.400000</td>\n",
       "      <td>3.300000</td>\n",
       "      <td>5.100000</td>\n",
       "      <td>1.800000</td>\n",
       "    </tr>\n",
       "    <tr>\n",
       "      <th>max</th>\n",
       "      <td>7.900000</td>\n",
       "      <td>4.400000</td>\n",
       "      <td>6.900000</td>\n",
       "      <td>2.500000</td>\n",
       "    </tr>\n",
       "  </tbody>\n",
       "</table>\n",
       "</div>"
      ],
      "text/plain": [
       "       sepal-length  sepal-width  petal-length  petal-width\n",
       "count    150.000000   150.000000    150.000000   150.000000\n",
       "mean       5.843333     3.054000      3.758667     1.198667\n",
       "std        0.828066     0.433594      1.764420     0.763161\n",
       "min        4.300000     2.000000      1.000000     0.100000\n",
       "25%        5.100000     2.800000      1.600000     0.300000\n",
       "50%        5.800000     3.000000      4.350000     1.300000\n",
       "75%        6.400000     3.300000      5.100000     1.800000\n",
       "max        7.900000     4.400000      6.900000     2.500000"
      ]
     },
     "execution_count": 114,
     "metadata": {},
     "output_type": "execute_result"
    }
   ],
   "source": [
    "print('Valores nulos:')\n",
    "print(dataframe.isna().sum())\n",
    "dataframe.describe()"
   ]
  },
  {
   "cell_type": "markdown",
   "metadata": {},
   "source": [
    "## Mostrando a dispersão dos dados\n",
    "É interessante também plotar um gráfico para mostrar o comportamento da dispersão das classes do conjunto, sendo possível inclusive ver se o problema é linearmente separável.\n",
    "\n",
    "Antes disso, é necessário dividir o *dataframe* em uma variável chamada **previsores** e outra chamada **classe**. Como o nome sugere, os previsores são as colunas com as características das flores (atributos previsores) que serão utilizados para tentar ajustar os pesos da rede de maneira à generalizar uma solução que encontre as classes corretamente."
   ]
  },
  {
   "cell_type": "code",
   "execution_count": 115,
   "metadata": {},
   "outputs": [],
   "source": [
    "previsores = dataframe.iloc[:, 0:4] \n",
    "classe = dataframe['class']"
   ]
  },
  {
   "cell_type": "code",
   "execution_count": 116,
   "metadata": {
    "scrolled": true
   },
   "outputs": [
    {
     "data": {
      "text/plain": [
       "<Figure size 432x288 with 0 Axes>"
      ]
     },
     "metadata": {},
     "output_type": "display_data"
    },
    {
     "data": {
      "image/png": "[encoded data removed]",
      "text/plain": [
       "<Figure size 1512x720 with 2 Axes>"
      ]
     },
     "metadata": {
      "needs_background": "light"
     },
     "output_type": "display_data"
    }
   ],
   "source": [
    "# iniciando a figura\n",
    "plt.figure()\n",
    "fig,ax=plt.subplots(1,2,figsize=(21, 10))\n",
    "\n",
    "# separando o dataset por classe\n",
    "setosa = dataframe[dataframe['class']=='Iris-setosa']\n",
    "versicolor = dataframe[dataframe['class']=='Iris-versicolor']\n",
    "virginica = dataframe[dataframe['class']=='Iris-virginica']\n",
    "\n",
    "# plotando os conjuntos no gráfico de dispersão\n",
    "setosa.plot(x=\"sepal-length\", y=\"sepal-width\", kind=\"scatter\",ax=ax[0],label='setosa',color='r')\n",
    "virginica.plot(x=\"sepal-length\",y=\"sepal-width\",kind=\"scatter\",ax=ax[0],label='versicolor',color='b')\n",
    "versicolor.plot(x=\"sepal-length\", y=\"sepal-width\", kind=\"scatter\", ax=ax[0], label='virginica', color='g')\n",
    "\n",
    "setosa.plot(x=\"petal-length\", y=\"petal-width\", kind=\"scatter\",ax=ax[1],label='setosa',color='r')\n",
    "versicolor.plot(x=\"petal-length\",y=\"petal-width\",kind=\"scatter\",ax=ax[1],label='versicolor',color='b')\n",
    "virginica.plot(x=\"petal-length\", y=\"petal-width\", kind=\"scatter\", ax=ax[1], label='virginica', color='g')\n",
    "# Adicionado legendas\n",
    "ax[0].set(title='Comparação de sépalas ', ylabel='sepal-width')\n",
    "ax[1].set(title='Comparação de pétalas',  ylabel='petal-width')\n",
    "ax[0].legend()\n",
    "ax[1].legend()\n",
    "plt.show()"
   ]
  },
  {
   "cell_type": "markdown",
   "metadata": {},
   "source": [
    "Podemos ver que as classes virgínica e versicolor são as mais complicadas de serem separadas, principalmente quando olhamos para o tamanho das pétalas."
   ]
  },
  {
   "cell_type": "markdown",
   "metadata": {},
   "source": [
    "## Normalização dos atributos previsores\n",
    "O método *isnul()* mostrou que não há nenhum registro vazio no nosso *dataset* e é possível observar que os valores também parecem estar todos coerentes, sem a presença de outliers, como podemos notar pelo desvio padrão, mínimo e máximo de cada coluna e também no gráfico de dispersão.\n",
    "\n",
    "Todavia, existe uma variação relativamente grande dentro do nosso domínio de atributos previsores. O atributo *petal-width* por exemplo, tem uma média de valor de 1.1, enquanto o *sepal-length* possui uma média de 5.8. Dito isso, se faz necessário a padronização desses valores, para que nosso ajuste dos pesos não seja muito influenciado por essa diferença no tamanho da entrada. \n",
    "\n",
    "O tipo de normalização escolhido foi o **Z-score**, de forma arbitrária, por ser bastante comum em problemas como esse. Sua fórmula é bastante simples e foi representada no método *normalizacao_z_score*."
   ]
  },
  {
   "cell_type": "code",
   "execution_count": 117,
   "metadata": {},
   "outputs": [],
   "source": [
    "def normalizacao_z_score(valor):\n",
    "    media = previsores[valor.name].mean()\n",
    "    desvio_padrao = previsores[valor.name].std()\n",
    "\n",
    "    return (valor - media) / desvio_padrao"
   ]
  },
  {
   "cell_type": "markdown",
   "metadata": {},
   "source": [
    "O método *apply()* do pandas juntamente com a **lambda** aplicam o processo matemático do método de normalização em cada um dos registros do *dataframe*. Os novos registros normalizados podem ser vistos abaixo."
   ]
  },
  {
   "cell_type": "code",
   "execution_count": 118,
   "metadata": {
    "scrolled": true
   },
   "outputs": [
    {
     "data": {
      "text/html": [
       "<div>\n",
       "<style scoped>\n",
       "    .dataframe tbody tr th:only-of-type {\n",
       "        vertical-align: middle;\n",
       "    }\n",
       "\n",
       "    .dataframe tbody tr th {\n",
       "        vertical-align: top;\n",
       "    }\n",
       "\n",
       "    .dataframe thead th {\n",
       "        text-align: right;\n",
       "    }\n",
       "</style>\n",
       "<table border=\"1\" class=\"dataframe\">\n",
       "  <thead>\n",
       "    <tr style=\"text-align: right;\">\n",
       "      <th></th>\n",
       "      <th>sepal-length</th>\n",
       "      <th>sepal-width</th>\n",
       "      <th>petal-length</th>\n",
       "      <th>petal-width</th>\n",
       "    </tr>\n",
       "  </thead>\n",
       "  <tbody>\n",
       "    <tr>\n",
       "      <th>0</th>\n",
       "      <td>-0.897674</td>\n",
       "      <td>1.028611</td>\n",
       "      <td>-1.336794</td>\n",
       "      <td>-1.308593</td>\n",
       "    </tr>\n",
       "    <tr>\n",
       "      <th>1</th>\n",
       "      <td>-1.139200</td>\n",
       "      <td>-0.124540</td>\n",
       "      <td>-1.336794</td>\n",
       "      <td>-1.308593</td>\n",
       "    </tr>\n",
       "    <tr>\n",
       "      <th>2</th>\n",
       "      <td>-1.380727</td>\n",
       "      <td>0.336720</td>\n",
       "      <td>-1.393470</td>\n",
       "      <td>-1.308593</td>\n",
       "    </tr>\n",
       "    <tr>\n",
       "      <th>3</th>\n",
       "      <td>-1.501490</td>\n",
       "      <td>0.106090</td>\n",
       "      <td>-1.280118</td>\n",
       "      <td>-1.308593</td>\n",
       "    </tr>\n",
       "    <tr>\n",
       "      <th>4</th>\n",
       "      <td>-1.018437</td>\n",
       "      <td>1.259242</td>\n",
       "      <td>-1.336794</td>\n",
       "      <td>-1.308593</td>\n",
       "    </tr>\n",
       "  </tbody>\n",
       "</table>\n",
       "</div>"
      ],
      "text/plain": [
       "   sepal-length  sepal-width  petal-length  petal-width\n",
       "0     -0.897674     1.028611     -1.336794    -1.308593\n",
       "1     -1.139200    -0.124540     -1.336794    -1.308593\n",
       "2     -1.380727     0.336720     -1.393470    -1.308593\n",
       "3     -1.501490     0.106090     -1.280118    -1.308593\n",
       "4     -1.018437     1.259242     -1.336794    -1.308593"
      ]
     },
     "execution_count": 118,
     "metadata": {},
     "output_type": "execute_result"
    }
   ],
   "source": [
    "previsores = previsores.apply(lambda row: normalizacao_z_score(row))\n",
    "previsores.head()"
   ]
  },
  {
   "cell_type": "markdown",
   "metadata": {},
   "source": [
    "## Tratando valores categóricos\n",
    "O próximo passo será transformar o valor da classe de categórico para discreto, para que seja possível aplicar os cálculos, como o erro da saída por exemplo.\n",
    "\n",
    "Para isso foi criado o método *get_dicionario_classes* que gera uma estrutura de dicionário dinâmica, baseado na quantidade de classes do problema que está sendo tratado. O processo é muito simples, basta percorrer a classe existente e atribuir um valor inteiro para cada classe."
   ]
  },
  {
   "cell_type": "code",
   "execution_count": 119,
   "metadata": {},
   "outputs": [],
   "source": [
    "def get_dicionario_classes(classe):\n",
    "    dict_classes = {}\n",
    "    count = 0\n",
    "    \n",
    "    for i in classe.unique():\n",
    "        dict_classes[i] = count\n",
    "        count += 1\n",
    "        \n",
    "    return dict_classes"
   ]
  },
  {
   "cell_type": "code",
   "execution_count": 120,
   "metadata": {},
   "outputs": [
    {
     "name": "stdout",
     "output_type": "stream",
     "text": [
      "{'Iris-setosa': 0, 'Iris-versicolor': 1, 'Iris-virginica': 2}\n"
     ]
    }
   ],
   "source": [
    "dict_classes = get_dicionario_classes(classe)\n",
    "print(dict_classes)"
   ]
  },
  {
   "cell_type": "markdown",
   "metadata": {},
   "source": [
    "Podemos ver acima os valores que nosso método atribuiu para cada uma das classes.\n",
    "\n",
    "Basta agora repetir o processos anterior de usar o método *apply()*, porém agora passando no *lambda* o método que vai atribuir a classe a seu determinado valor no dicionário que criamos anteriormente."
   ]
  },
  {
   "cell_type": "code",
   "execution_count": 121,
   "metadata": {
    "scrolled": false
   },
   "outputs": [
    {
     "name": "stdout",
     "output_type": "stream",
     "text": [
      "2    50\n",
      "1    50\n",
      "0    50\n",
      "Name: class, dtype: int64\n"
     ]
    }
   ],
   "source": [
    "def transformar_categorico_em_numerico(valor, dict_classes):\n",
    "    return dict_classes[valor]\n",
    "    \n",
    "classe = classe.apply(lambda row: transformar_categorico_em_numerico(row, dict_classes))\n",
    "print(classe.value_counts())"
   ]
  },
  {
   "cell_type": "markdown",
   "metadata": {},
   "source": [
    "## Lidando com problemas multi-classe\n",
    "O problema em questão é multi-classe, ou seja, possuímos mais de duas classes como resposta na camada de saída, podendo ser, íris-setosa, versicolor ou virginica.\n",
    "Para problemas binários utilizar um único neurônio com a saída de 0 e 1 nos basta, todavia aqui, vamos precisar criar um novo neurônio para cada classe, totalizando 3 na nossa camada de saída.\n",
    "\n",
    "Além de modificar a estrutura da rede neural, também vamos precisar codificar nossos valores, uma vez que, ao invés de um valor escalar vamos trabalhar com um array na saída da rede, sendo ele representado por: [1,0,0], [0,1,0] e [0,0,1]."
   ]
  },
  {
   "cell_type": "code",
   "execution_count": 122,
   "metadata": {},
   "outputs": [],
   "source": [
    "def codificar_classe():\n",
    "    classe_codificada = {}\n",
    "    array_classe = [1] + [0] * (len(classe.unique()) - 1) #cria um array dinâmico baseado na \n",
    "    #quantidade de classes, é [1,0,0] para esse problema mas poderia ser [1,0,0,0....,0].\n",
    "    count = 1    \n",
    "    classe_codificada[0] = array_classe.copy()\n",
    "    \n",
    "    for i in range(len(classe.unique()) - 1): # percorre todas as classes -1, pois já temos a primeira posição do dicionário por padrão\n",
    "        array_classe[count - 1] = 0 # o valor 1 atual vira 0\n",
    "        array_classe[count] = 1  # a próxima casa do array vira 1   \n",
    "        classe_codificada[count] = array_classe.copy()\n",
    "        count += 1\n",
    "    \n",
    "    return classe_codificada      \n",
    "\n",
    "classe_codificada = codificar_classe()"
   ]
  },
  {
   "cell_type": "code",
   "execution_count": 123,
   "metadata": {},
   "outputs": [
    {
     "data": {
      "text/plain": [
       "{0: [1, 0, 0], 1: [0, 1, 0], 2: [0, 0, 1]}"
      ]
     },
     "execution_count": 123,
     "metadata": {},
     "output_type": "execute_result"
    }
   ],
   "source": [
    "classe_codificada"
   ]
  },
  {
   "cell_type": "markdown",
   "metadata": {},
   "source": [
    "A ideia do método *codificar_classe* é criar mais um dicionário, como podemos ver acima, onde cada posição representa uma classe codificada em um array de binários. O tamanho desse array é dinâmico dependendo do número de classes e a ideia é ir movimentando o valor do 1 conforme as iterações.\n",
    "\n",
    "Feito isso, basta repetir o processo para substituir o valor da classe."
   ]
  },
  {
   "cell_type": "code",
   "execution_count": 124,
   "metadata": {},
   "outputs": [
    {
     "name": "stdout",
     "output_type": "stream",
     "text": [
      "0    [1, 0, 0]\n",
      "1    [1, 0, 0]\n",
      "2    [1, 0, 0]\n",
      "3    [1, 0, 0]\n",
      "4    [1, 0, 0]\n",
      "Name: class, dtype: object\n"
     ]
    }
   ],
   "source": [
    "def substituir_classe_codificada(valor, classe_codificada):\n",
    "    return classe_codificada[valor]\n",
    "\n",
    "classe = classe.apply(lambda row: substituir_classe_codificada(row, classe_codificada))\n",
    "print(classe.head())"
   ]
  },
  {
   "cell_type": "markdown",
   "metadata": {},
   "source": [
    "Com isso, a classe agora está em uma estrutura que vai suportar o problema multi-classe."
   ]
  },
  {
   "cell_type": "markdown",
   "metadata": {},
   "source": [
    "## Divisão do dataframe\n",
    "Agora que os dados do *dataframe* já estão no formato necessário, basta dividir as bases em treinamento, validação e teste, usando a proporção de 70%, 15% e 15%.\n",
    "\n",
    "Para isso foi criado o método *dividir_dataframe* onde iremos utilizar o método *sample* do pandas para pegar amostras aleatórias sem reposição do nosso dataframe, e a partir dessa amostra iremos criar os outros conjuntos.\n",
    "\n",
    "O *x_treinamento* vai ser a fatia responsável por treinar a rede e ajustar os pesos. O teste do treinamento será feito ao final de cada época na base chamada *x_teste*, nos dando uma avaliação não enviesada dos resultados da rede em dados não vistos no treino.\n",
    "\n",
    "Após a rede estar completamente treinada, iremos usar a base de *x_validacao* para gerar novas previsões baseado em atributos previsores nunca antes vistos pela rede, nos dando uma validação final da eficácia do treinamento."
   ]
  },
  {
   "cell_type": "code",
   "execution_count": 58,
   "metadata": {},
   "outputs": [],
   "source": [
    "def dividir_dataframe(previsores, classe, p_treinamento, p_teste, p_validacao, epoca = False):\n",
    "    x_treinamento = previsores.sample(frac = p_treinamento)\n",
    "    y_treinamento = classe[x_treinamento.index]\n",
    "    \n",
    "    x_teste_sem_previsores = previsores.drop(x_treinamento.index)\n",
    "    nova_p_teste = p_teste / (1 - p_treinamento)\n",
    "    \n",
    "    x_teste = x_teste_sem_previsores.sample(frac = nova_p_teste)\n",
    "    y_teste = classe[x_teste.index]\n",
    "    \n",
    "    x_validacao = x_teste_sem_previsores.drop(x_teste.index)\n",
    "    y_validacao = classe[x_validacao.index]\n",
    "    \n",
    "    if epoca == False:\n",
    "        return x_treinamento.reset_index(drop=True), y_treinamento.reset_index(drop=True), \\\n",
    "        x_teste.reset_index(drop=True), y_teste.reset_index(drop=True), x_validacao.reset_index(drop=True), y_validacao.reset_index(drop=True)\n",
    "    else:\n",
    "        # não tem reset index na classe\n",
    "        return x_treinamento.reset_index(drop=True), y_treinamento, \\\n",
    "        x_teste.reset_index(drop=True), y_teste, x_validacao.reset_index(drop=True), y_validacao"
   ]
  },
  {
   "cell_type": "markdown",
   "metadata": {},
   "source": [
    "Estou usando a nomenclatura de \"x\" para me remeter à atributos previsores e \"y\" para classe.\n",
    "\n",
    "Depois de criar a fração de treinamento, eu removo dos meus previsores todos os dados que estão na porção de treinamento, pois uma regra importante a ser seguida na divisão dos dados é o particionamento, ou seja, nenhum dos registros de treinamento deve estar no conjunto de teste e vice versa. \n",
    "\n",
    "Depois disso, meu conjunto total se torna o resto que não está no conjunto de treinamento, portanto as porcentagens também são redimensionadas, por exemplo, se antes tinhamos 15% do nosso conjunto para treinamento e 15% para validação, agora cada um desses 15% representa 50%, pois o novo 100% está sem os registros de treinamento.\n",
    "\n",
    "Feito isso, basta dividir novamente a base em teste e validação e retornar os valores."
   ]
  },
  {
   "cell_type": "markdown",
   "metadata": {},
   "source": [
    "## Inicialização dos pesos\n",
    "Os pesos serão inicializados de forma aleatória para então serem gradativamente ajustados conforme a rede neural converge.\n",
    "Para isso, foi criado o método *inicializar_pesos*, que percorre cada um dos neurônios e gera um vetor da quantidade de pesos que ele possui baseado nas suas conexões sinapticas com os neurônios da próxima camada.\n",
    "\n",
    "Além disso, nosso método também recebe um parâmetro chamado dominio, que é o intervalo de valores que os pesos serão gerados, os testes a princípio foram realizados em um domínio de [0,1]."
   ]
  },
  {
   "cell_type": "code",
   "execution_count": 126,
   "metadata": {},
   "outputs": [],
   "source": [
    "def inicializar_pesos(dominio):\n",
    "    pesos_final = []\n",
    "    \n",
    "    for i in range(len(previsores.columns)):\n",
    "        pesos = [] \n",
    "        for j in range(len(dict_classes)):\n",
    "            pesos.append(random.uniform(dominio[0], dominio[1]))\n",
    "        pesos_final.append(pesos)\n",
    "    return pesos_final"
   ]
  },
  {
   "cell_type": "code",
   "execution_count": 127,
   "metadata": {
    "scrolled": true
   },
   "outputs": [
    {
     "name": "stdout",
     "output_type": "stream",
     "text": [
      "Pesos: [[0.30258133403466914, 0.7794974972852478, 0.7485094553522715], [0.8374536399149971, 0.7613145167560967, 0.5944740272129799], [0.8271232647306216, 0.4626007078354549, 0.28380851136071306], [0.7747595683305831, 0.5246750763320784, 0.9238040603659854]]\n"
     ]
    }
   ],
   "source": [
    "pesos = inicializar_pesos([0, 1])\n",
    "print('Pesos:', pesos)"
   ]
  },
  {
   "cell_type": "markdown",
   "metadata": {},
   "source": [
    "Como podemos ver acima, o array de pesos para esse problema possui 4 posições com 3 pesos em cada uma das posições, isso acontece por que possuímos 4 neurônios (nosso atributos de entrada/previsores sem considerar o bias nesse caso) conectados à 3 neurônios (um neurônio para cada saída possível), portanto cada um dos 4 neurônios possui 3 pesos (conexões) cada um. \n",
    "\n",
    "Para obter o número de conexões por camada basta multiplicar o número de neurônios da camada atual pelos número de neurônios na próxima camada, dessa forma temos: 4 * 3 = 12."
   ]
  },
  {
   "cell_type": "markdown",
   "metadata": {},
   "source": [
    "## Implementação da função de soma\n",
    "A função de soma acontece em todos os neurônios, somando o valor do produto da multiplicação entre os neurônios adjacentes anteriores com os pesos das sinapses artificiais.\n",
    "Esse valor de soma é o valor final do nosso neurônio após receber todas as sinapses e será usado na função de ativação para indicar se o neurônio em questão foi excitado ou inibido.\n",
    "\n",
    "\n",
    "A soma do produto pode ser feita de forma simples usando o método *dot* do numpy, retornando um produto escalar."
   ]
  },
  {
   "cell_type": "code",
   "execution_count": 128,
   "metadata": {},
   "outputs": [],
   "source": [
    "def somatoria(entradas, pesos):\n",
    "    return np.dot(entradas, pesos) "
   ]
  },
  {
   "cell_type": "markdown",
   "metadata": {},
   "source": [
    "## Função de ativação\n",
    "A função de ativação por default no perceptron é a chamada \"step function (função degrau)\", onde o neurônio artificial é excitado ou não baseado em um threshold (limiar) pré definido.\n",
    "Nesse caso, se o valor do neurônio for maior que 0 ele retorna o 1, excitando a célula, caso contrário, retorna 0.\n",
    "\n",
    "Por ser um problema multiclasse, foi criado um *for* para percorrer o array da classe e excitar todas as posições em que o valor é maior que 0. \n",
    "\n",
    "Claro que isso acaba gerando um problema onde mais de um neurônio por vez na camada de saída pode ser excitado. "
   ]
  },
  {
   "cell_type": "code",
   "execution_count": 129,
   "metadata": {},
   "outputs": [],
   "source": [
    "def funcao_ativacao_step(soma):\n",
    "    ativacao = []\n",
    "    for i in soma:\n",
    "        if i > 0:\n",
    "            ativacao.append(1)\n",
    "        else:\n",
    "            ativacao.append(0)\n",
    "\n",
    "    return ativacao, ativacao"
   ]
  },
  {
   "cell_type": "markdown",
   "metadata": {},
   "source": [
    "## Função de custo\n",
    "A função de custo é a responsável por calcular o erro da rede neural ao comparar o valor correto com o valor que foi previsto.\n",
    "\n",
    "A variável de *erro* indica se a rede neural errou a previsão ou acertou (uma vez que os pesos aqui não serão atualizados em caso de acerto), já a variável *valor_erro*, nos indica o valor exato em cada neurônio de saída que a rede classificou incorretamente, para ter uma precisão maior na atualização dos pesos.\n",
    "\n",
    "Por exemplo, se o valor previsto foi: [0.8,0.37,0.16] e o valor real é: [0,1,0], a variável *valor_erro* vai trazer o erro do algoritmo por posição: [0.8, 0.63, 0.16], totalizando uma soma de 1.59. "
   ]
  },
  {
   "cell_type": "code",
   "execution_count": 130,
   "metadata": {},
   "outputs": [],
   "source": [
    "def funcao_custo(valor_correto, valor_previsto, valor_ativacao):\n",
    "    erro = valor_correto != valor_previsto\n",
    "    valor_erro = list(abs(np.array(valor_correto) - np.array(valor_ativacao)))\n",
    "    return erro, sum(valor_erro) # valor escalar"
   ]
  },
  {
   "cell_type": "markdown",
   "metadata": {},
   "source": [
    "## Função de atualização de peso\n",
    "A formula da atualização de pesos no perceptron foi representada no método de *atualizar_peso*\n",
    "\n",
    "Com ela, conseguimos ajustar os pesos seguindo uma taxa de aprendizado (basicamente o tamanho do \"passo\") além de levar em consideração a grandeza da entrada e o quanto a previsão estava incorreta.\n",
    "\n",
    "Algo importante de se considerar é que o perceptron faz a atualização dos pesos POR REGISTRO, ou seja, a cada registro apresentado a rede neural que é classificado de forma incorreta gera uma atualização nos pesos, podendo dificultar a convergência devido à sensibilidade aos dados contidos no *dataframe*."
   ]
  },
  {
   "cell_type": "code",
   "execution_count": 131,
   "metadata": {},
   "outputs": [],
   "source": [
    "def atualizar_peso(entrada, peso, erro, tx_aprendizado):\n",
    "    novo_peso = peso + (tx_aprendizado * entrada * erro)\n",
    "    return novo_peso"
   ]
  },
  {
   "cell_type": "markdown",
   "metadata": {},
   "source": [
    "## Bias\n",
    "O Bias é a constante que iremos adicionar como sendo uma das colunas do *dataframe*. Essa coluna, assim como as demais, irá se transformar em um neurônio da rede, que vai ajudar nos cálculos dos pesos.\n",
    "\n",
    "O Bias tem uma atualização diferentes dos demais, pois não leva em consideração a entrada, portanto foi criado um método para atualizar o bias."
   ]
  },
  {
   "cell_type": "code",
   "execution_count": 132,
   "metadata": {},
   "outputs": [],
   "source": [
    "def atualizar_bias(entrada, peso, erro, tx_aprendizado):\n",
    "    novo_peso = peso + np.float64(tx_aprendizado * erro)\n",
    "    return novo_peso"
   ]
  },
  {
   "cell_type": "code",
   "execution_count": 133,
   "metadata": {},
   "outputs": [],
   "source": [
    "previsores['bias'] = 1"
   ]
  },
  {
   "cell_type": "markdown",
   "metadata": {},
   "source": [
    "## Implementação do perceptron\n",
    "O método *treinar* é que a que vai implementar de fato todas as etapas que foram mostradas até agora, recebendo o número de épocas que iremos executar o perceptron, onde cada época representa a passagem de todo o *dataframe* na pela rede. Passamos também a função de ativação que será utilizada, a função de custo e os conjuntos de treinamento e teste, além da taxa de aprendizado. "
   ]
  },
  {
   "cell_type": "code",
   "execution_count": 134,
   "metadata": {},
   "outputs": [],
   "source": [
    "def treinar(epocas, f_ativacao, f_custo, pesos, x_treinamento, y_treinamento, x_teste, y_teste,\n",
    "           tx_aprendizado):\n",
    "\n",
    "    execucoes = 0\n",
    "    precisoes_treinamento = [] #convergência da base de treinamento ao longo das épocas\n",
    "    precisoes_teste = [] # convergência da base de teste ao longo das épocas\n",
    "    melhores_pesos = [] # registra o melhor conjunto de pesos para a validação posterior\n",
    "\n",
    "    while execucoes < epocas: # parada ao executar todas as épocas.\n",
    "        precisao = 0\n",
    "        iteracao = 0\n",
    "        # x_treinamento = x_treinamento.sample(frac=1).reset_index(drop=True) # embaralhar os valores dos previsores, por que sem isso, podemos ter sempre uma ordem fixa de ajuste de pesos, prejudicando a rede\n",
    "\n",
    "        for i in x_treinamento.values: # percorre cada registro individualmente\n",
    "            entradas = i   \n",
    "            soma = somatoria(entradas, pesos)\n",
    "        \n",
    "            # a ativacao retorna qual dos 3 neurônios de saíde foram excitados e também o \n",
    "            # valor real da ativação, para calculo do erro.\n",
    "            neuronio_excitado, valor_ativacao = f_ativacao(soma) \n",
    "        \n",
    "            erro, valor_erro = f_custo(y_treinamento[iteracao], neuronio_excitado, \n",
    "                                       valor_ativacao)\n",
    "            # atualiza os pesos em caso de erro\n",
    "            if erro == True:\n",
    "                count = 0\n",
    "                # percorre cada coluna para atualizar o peso e o bias\n",
    "                for i in entradas:\n",
    "                    if count == len(entradas) - 1:\n",
    "                        novo_peso = atualizar_bias(i, pesos[count], valor_erro, tx_aprendizado)\n",
    "                    else:\n",
    "                        novo_peso = atualizar_peso(i, pesos[count], valor_erro, tx_aprendizado)\n",
    "                    \n",
    "                    pesos[count] = novo_peso\n",
    "                    count += 1\n",
    "            else:\n",
    "                precisao += 100 / len(x_treinamento)\n",
    "\n",
    "            iteracao += 1\n",
    "        \n",
    "        precisoes_treinamento.append(precisao)\n",
    "        melhores_pesos = pesos.copy() if precisoes_treinamento[execucoes] >= max(precisoes_treinamento) else melhores_pesos\n",
    "\n",
    "        precisoes_teste.append(testar(pesos, x_teste, y_teste, f_ativacao, f_custo))\n",
    "        execucoes += 1\n",
    "    return precisoes_treinamento, precisoes_teste, melhores_pesos"
   ]
  },
  {
   "cell_type": "markdown",
   "metadata": {},
   "source": [
    "## Método de teste\n",
    "Ao final de cada época a rede teve seu desempenho avaliado na base de teste, isso foi feito no método *testar* onde usamos os pesos ajustados no treinamento apenas para pegar os acertos e erros no conjunto de teste."
   ]
  },
  {
   "cell_type": "code",
   "execution_count": 135,
   "metadata": {},
   "outputs": [],
   "source": [
    "def testar(pesos, x_previsores, y_classe, f_ativacao, f_custo):\n",
    "    precisao = 0\n",
    "    iteracao = 0\n",
    "    for i in x_previsores.values:\n",
    "        entradas = i   \n",
    "        soma = somatoria(entradas, pesos)\n",
    "        \n",
    "        neuronio_excitado, valor_ativacao = f_ativacao(soma)\n",
    "        \n",
    "        erro, valor_erro = f_custo(y_classe[iteracao], neuronio_excitado, valor_ativacao)\n",
    "        \n",
    "        # faz a contagem da precisão, incrementando por acerto baseado no total de registros\n",
    "        if erro == 0: \n",
    "            precisao += 100 / len(x_previsores)\n",
    "        \n",
    "        iteracao += 1\n",
    "    \n",
    "    return precisao"
   ]
  },
  {
   "cell_type": "markdown",
   "metadata": {},
   "source": [
    "### Exibindo os resultados\n",
    "Os resultados de precisão, média, desvio padrão e os gráficos de convergência são exibidos nos método abaixo de *exibir_resultados* e *plotar_convergencia*."
   ]
  },
  {
   "cell_type": "code",
   "execution_count": 136,
   "metadata": {},
   "outputs": [],
   "source": [
    "def exibir_resultados(precisao_treinamento, precisao_teste, resultado_final):\n",
    "    print('Melhor precisão de treinamento', max(precisao_treinamento))\n",
    "    print('Melhor precisão de teste', max(precisao_teste))\n",
    "    print('Melhor precisão de validação', max(resultado_final))\n",
    "    print('Média precisão de treinamento', np.mean(precisao_treinamento))\n",
    "    print('Média precisão de teste', np.mean(precisao_teste))\n",
    "    print('Média precisão de validação', np.mean(resultado_final))\n",
    "    print('Desvio Padrão precisão de treinamento', np.std(precisao_treinamento))\n",
    "    print('Desvio Padrão precisão de teste', np.std(precisao_teste))\n",
    "    print('Desvio Padrão precisão de validação', np.std(resultado_final))"
   ]
  },
  {
   "cell_type": "code",
   "execution_count": 137,
   "metadata": {},
   "outputs": [],
   "source": [
    "def plotar_convergencia(precisao_treinamento, precisao_teste):\n",
    "    fig, axes = plt.subplots(nrows=1, ncols=2, figsize=(10, 8))\n",
    "    \n",
    "    axes[0].plot(precisao_treinamento, color = 'blue')\n",
    "    axes[0].legend(['Treinamento'])\n",
    "\n",
    "    axes[1].plot(precisao_teste, color = 'orange')\n",
    "    axes[1].legend(['Teste'])\n",
    "\n",
    "    plt.xlabel('Épocas')\n",
    "    plt.ylabel('Precisão')\n",
    "    plt.show()"
   ]
  },
  {
   "cell_type": "markdown",
   "metadata": {},
   "source": [
    "## Testes no perceptron\n",
    "Uma vez que a rede perceptron foi criada basta testar os resultados com diferentes parâmetros. Para isso, o algoritmo foi inicializado 30 vezes, sem nenhuma mudança nos parâmetros, apenas gerando um conjunto inicial de pesos diferente para cada inicialização e também uma partição nova dos dados, pois ambos são aleatórios.\n",
    "\n",
    "As redes neurais são algoritmos extremamente estocásticos, o que faz com que sejam inclusive evitados em algumas áreas, portanto é interessante tentar treinar a rede várias vezes para tentar capturar seus melhores resultados. \n",
    "\n",
    "Para isso, foi criado a função genérica chamada *executar_perceptron*, que recebe os parâmetros e treina a rede perceptron."
   ]
  },
  {
   "cell_type": "code",
   "execution_count": 138,
   "metadata": {},
   "outputs": [],
   "source": [
    "def executar_perceptron(funcao_ativacao, funcao_custo, epocas, dominio_pesos = [0, 1], \n",
    "                       tx_aprendizado = 0.001):\n",
    "    # os arrays servem para registrar os valores de cada inicialização da rede\n",
    "    convergencia_treinamento = [0]\n",
    "    convergencia_teste = [0]\n",
    "    precisao_treinamento = []\n",
    "    precisao_teste = []\n",
    "    resultado_final = []\n",
    "    start_time = time.time() # tempo de execução\n",
    "    \n",
    "    for i in range(30):\n",
    "        x_treinamento, y_treinamento, x_teste, y_teste, \\\n",
    "        x_validacao, y_validacao = dividir_dataframe(previsores, classe, 0.7, 0.15, 0.15)\n",
    "        \n",
    "        pesos = inicializar_pesos(dominio_pesos) \n",
    "        \n",
    "        treinamento = treinar(epocas, funcao_ativacao, funcao_custo, pesos, x_treinamento,\n",
    "                                     y_treinamento, x_teste, y_teste, tx_aprendizado)\n",
    "        \n",
    "        # É salvo apenas o melhor resultado da convergência, para plotar um único gráfico\n",
    "        convergencia_treinamento = treinamento[0] if max(treinamento[0]) >= \\\n",
    "                                max(convergencia_treinamento) else convergencia_treinamento\n",
    "        \n",
    "        convergencia_teste = treinamento[1] if max(treinamento[1]) >= max(convergencia_teste) \\\n",
    "                                        else convergencia_teste\n",
    "        \n",
    "        precisao_treinamento.append(max(treinamento[0]))\n",
    "        precisao_teste.append(max(treinamento[1]))\n",
    "        # avaliação do algoritmo ao final do treinamento na base de validação\n",
    "        resultado_final.append(testar(treinamento[2], x_validacao, y_validacao, \n",
    "                                      funcao_ativacao, funcao_custo))\n",
    "    \n",
    "    plotar_convergencia(convergencia_treinamento, convergencia_teste)   \n",
    "    exibir_resultados(precisao_treinamento, precisao_teste, resultado_final)\n",
    "    print(\"Tempo de execução: %s Segundos\" % (time.time() - start_time))"
   ]
  },
  {
   "cell_type": "code",
   "execution_count": 105,
   "metadata": {
    "scrolled": false
   },
   "outputs": [
    {
     "data": {
      "image/png": "[encoded data removed]",
      "text/plain": [
       "<Figure size 720x576 with 2 Axes>"
      ]
     },
     "metadata": {
      "needs_background": "light"
     },
     "output_type": "display_data"
    },
    {
     "name": "stdout",
     "output_type": "stream",
     "text": [
      "Melhor precisão de treinamento 13.333333333333334\n",
      "Melhor precisão de teste 22.72727272727273\n",
      "Melhor precisão de validação 13.043478260869565\n",
      "Média precisão de treinamento 4.793650793650794\n",
      "Média precisão de teste 6.212121212121213\n",
      "Média precisão de validação 2.608695652173913\n",
      "Desvio Padrão precisão de treinamento 3.8054210711626353\n",
      "Desvio Padrão precisão de teste 5.9246105442476225\n",
      "Desvio Padrão precisão de validação 3.984848430396383\n",
      "Tempo de execução: 64.41784906387329 Segundos\n"
     ]
    }
   ],
   "source": [
    "executar_perceptron(funcao_ativacao_step, funcao_custo, 300)"
   ]
  },
  {
   "cell_type": "markdown",
   "metadata": {},
   "source": [
    "### Resultados iniciais e ZeroR\n",
    "Os testes inicias mostram uma precisão extremamente baixa, algo está definitivamente se comportando mal no algoritmo. Podemos ter certeza que o culpado é nosso algoritmo e não a base de dados devido a análise exploratória nos dados que foi feita anteriormente, uma vez que as características separáveis dos dados deveriam nos dar uma precisão maior que a encontrada até agora.\n",
    "\n",
    "Para saber a precisão mínima que o algoritmo deve ter para ser considerado melhor do que não usar algoritmo algum foi utilizado o \"zeroR\" como critério. A precisão do zeroR, considerado nosso limiar mínimo, é dado pela proporção de registros da classe majoritária no *dataframe*.\n",
    "\n",
    "\n",
    "Nesse *dataframe* as classes estão **normalmente distribuídas** em 3 partes iguais, fazendo com que a precisão majoritária sem algoritmos seja de **33%**, portanto, qualquer precisão inferior a isso torna o uso do algoritmo injustificável.\n",
    "\n",
    "\n",
    "Todavia, ainda que nosso algoritmo seja considerado útil com 34% de acerto, ainda está longe de algo desejável."
   ]
  },
  {
   "cell_type": "markdown",
   "metadata": {},
   "source": [
    "# Melhorando os resultados\n",
    "Os passos que seguem foram usados como meio de melhorar a precisão da rede perceptron."
   ]
  },
  {
   "cell_type": "markdown",
   "metadata": {},
   "source": [
    "### Função de ativação sigmoid.\n",
    "Como foi dito anteriormente, utilizar a função degrau para ativação pode ocasionar o aumento dos erros, devido a possibilidade de excitar vários neurônios ao passar pelo limiar especificado. Portanto foi criado uma nova função de ativação sigmoid.\n",
    "\n",
    "Com isso, os valores ficam em um intervalo de 0 e 1 e o neurônio escolhido para ser excitado é aquele com o maior valor. Dessa forma, já não temos mais o problema de excitar vários neurônios. "
   ]
  },
  {
   "cell_type": "code",
   "execution_count": 30,
   "metadata": {},
   "outputs": [],
   "source": [
    "def funcao_ativacao_sigmoid(soma):\n",
    "    valor_ativacao = list(1 / (1 + math.e ** -soma))\n",
    "    index_excitacao = valor_ativacao.index(max(valor_ativacao))# pegar neurônio com maior valor  \n",
    "    neuronio_excitado = [0] * len(soma) # zerar os valores dos neurônios de saída\n",
    "    neuronio_excitado[index_excitacao] = 1 # definir o valor 1 para o neurônio com maior valor\n",
    "    \n",
    "    return neuronio_excitado, valor_ativacao"
   ]
  },
  {
   "cell_type": "code",
   "execution_count": 97,
   "metadata": {},
   "outputs": [
    {
     "data": {
      "image/png": "[encoded data removed]",
      "text/plain": [
       "<Figure size 720x576 with 2 Axes>"
      ]
     },
     "metadata": {
      "needs_background": "light"
     },
     "output_type": "display_data"
    },
    {
     "name": "stdout",
     "output_type": "stream",
     "text": [
      "Melhor precisão de treinamento 70.47619047619034\n",
      "Melhor precisão de teste 77.27272727272728\n",
      "Melhor precisão de validação 73.91304347826087\n",
      "Média precisão de treinamento 59.00332225913611\n",
      "Média precisão de teste 58.7888855330716\n",
      "Média precisão de validação 30.724637681159425\n",
      "Desvio Padrão precisão de treinamento 7.299778969303325\n",
      "Desvio Padrão precisão de teste 14.012900406421016\n",
      "Desvio Padrão precisão de validação 23.168469690889935\n",
      "Tempo de execução: 66.21808099746704 Segundos\n"
     ]
    }
   ],
   "source": [
    "executar_perceptron(funcao_ativacao_sigmoid, funcao_custo, 300)"
   ]
  },
  {
   "cell_type": "markdown",
   "metadata": {},
   "source": [
    "A aplicação da função sigmoid gerou melhorias consideráveis nos resultados.\n",
    "\n",
    "Um outro parâmetro que pode ser otimizado é o domínio dos pesos, podemos alterar o mesmo para tentar buscar um nível de precisão maior.\n",
    "\n",
    "Foi observado ao longo do treinamento, que o nosso ótimo global está próximo à valores pequenos de pesos, portanto tiramos vantagem de começar com um domínio próximo a zero e ir evoluindo gradativamente em busca do ótimo global."
   ]
  },
  {
   "cell_type": "code",
   "execution_count": 139,
   "metadata": {},
   "outputs": [
    {
     "data": {
      "image/png": "[encoded data removed]",
      "text/plain": [
       "<Figure size 720x576 with 2 Axes>"
      ]
     },
     "metadata": {
      "needs_background": "light"
     },
     "output_type": "display_data"
    },
    {
     "name": "stdout",
     "output_type": "stream",
     "text": [
      "Melhor precisão de treinamento 79.04761904761888\n",
      "Melhor precisão de teste 81.81818181818183\n",
      "Melhor precisão de validação 86.95652173913042\n",
      "Média precisão de treinamento 54.53968253968246\n",
      "Média precisão de teste 51.96969696969698\n",
      "Média precisão de validação 51.159420289855085\n",
      "Desvio Padrão precisão de treinamento 14.535245736027326\n",
      "Desvio Padrão precisão de teste 18.619110022632512\n",
      "Desvio Padrão precisão de validação 20.35238810909745\n",
      "Tempo de execução: 64.77331900596619 Segundos\n"
     ]
    }
   ],
   "source": [
    "executar_perceptron(funcao_ativacao_sigmoid, funcao_custo, 300, [-0.005, 0.005])"
   ]
  },
  {
   "cell_type": "markdown",
   "metadata": {},
   "source": [
    "Como esperado, utilizar o domínio entre -0.005 e 0.005 acrescentou um ganho de precisão, chegando em torno dos 80%."
   ]
  },
  {
   "cell_type": "markdown",
   "metadata": {},
   "source": [
    "## Mean Squared Error e Root Mean Squared error\n",
    "A função de custo que está sendo utilizada atualmente é a mais simples possível, onde comparamos a diferença entre a previsão atual com o valor esperado. Existem outras fórmulas um pouco mais completas que possuem um nível de precisão maior em estimar os custos.\n",
    "\n",
    "A primeira delas é a função Mean Squared Error, representada no método *funcao_custo_mse*, que além de calcular o valor correto menos o valor previsto também eleva o resultado da subtração ao quadrado e os soma, gerando um valor escalar que pune mais erros maiores, deixando eles mais expressivos.\n",
    "\n",
    "\n",
    "A Root Mean Squared Error, representada pelo método *funcao_custo_rmse* segue a mesma formula, porém submetendo os resultados finais a uma raiz quadrada."
   ]
  },
  {
   "cell_type": "code",
   "execution_count": 28,
   "metadata": {},
   "outputs": [],
   "source": [
    "def funcao_custo_mse(valor_correto, valor_previsto, valor_ativacao):\n",
    "    erro = valor_correto != valor_previsto\n",
    "\n",
    "    valor_erro = list(abs(np.array(valor_correto) - np.array(valor_ativacao)))\n",
    "    erro_quadratico = list(map(lambda x: math.pow(x, 2), valor_erro))\n",
    "    soma_erro_quadratico = sum(erro_quadratico)\n",
    "\n",
    "    return erro, soma_erro_quadratico"
   ]
  },
  {
   "cell_type": "code",
   "execution_count": 29,
   "metadata": {},
   "outputs": [],
   "source": [
    "def funcao_custo_rmse(valor_correto, valor_previsto, valor_ativacao):\n",
    "    erro, valor_erro = funcao_custo_mse(valor_correto, valor_previsto, valor_ativacao)\n",
    "\n",
    "    return erro, math.sqrt(valor_erro)"
   ]
  },
  {
   "cell_type": "code",
   "execution_count": 140,
   "metadata": {
    "scrolled": true
   },
   "outputs": [
    {
     "data": {
      "image/png": "[encoded data removed]",
      "text/plain": [
       "<Figure size 720x576 with 2 Axes>"
      ]
     },
     "metadata": {
      "needs_background": "light"
     },
     "output_type": "display_data"
    },
    {
     "name": "stdout",
     "output_type": "stream",
     "text": [
      "Melhor precisão de treinamento 77.14285714285698\n",
      "Melhor precisão de teste 81.81818181818183\n",
      "Melhor precisão de validação 82.6086956521739\n",
      "Média precisão de treinamento 50.57142857142849\n",
      "Média precisão de teste 50.60606060606062\n",
      "Média precisão de validação 47.826086956521735\n",
      "Desvio Padrão precisão de treinamento 20.275278633309828\n",
      "Desvio Padrão precisão de teste 22.809950626131897\n",
      "Desvio Padrão precisão de validação 21.329473500852444\n",
      "Tempo de execução: 60.76145005226135 Segundos\n"
     ]
    },
    {
     "data": {
      "image/png": "[encoded data removed]",
      "text/plain": [
       "<Figure size 720x576 with 2 Axes>"
      ]
     },
     "metadata": {
      "needs_background": "light"
     },
     "output_type": "display_data"
    },
    {
     "name": "stdout",
     "output_type": "stream",
     "text": [
      "Melhor precisão de treinamento 78.09523809523793\n",
      "Melhor precisão de teste 86.36363636363637\n",
      "Melhor precisão de validação 82.6086956521739\n",
      "Média precisão de treinamento 47.30158730158724\n",
      "Média precisão de teste 48.78787878787879\n",
      "Média precisão de validação 44.34782608695652\n",
      "Desvio Padrão precisão de treinamento 18.159174153746097\n",
      "Desvio Padrão precisão de teste 18.55426607859592\n",
      "Desvio Padrão precisão de validação 19.968469159014305\n",
      "Tempo de execução: 61.97188711166382 Segundos\n"
     ]
    }
   ],
   "source": [
    "executar_perceptron(funcao_ativacao_sigmoid, funcao_custo_mse, 300, [-0.005, 0.005])\n",
    "executar_perceptron(funcao_ativacao_sigmoid, funcao_custo_rmse, 300, [-0.005, 0.005])"
   ]
  },
  {
   "cell_type": "markdown",
   "metadata": {},
   "source": [
    "As duas funções se saíram bem na busca dos resultados.\n",
    "\n",
    "Como é possível perceber, as redes perceptron ainda que consideradas simples, possuem um conjunto grande de parâmetros a serem otimizados, que fazem toda diferença para conseguir atingir o ponto global."
   ]
  },
  {
   "cell_type": "markdown",
   "metadata": {},
   "source": [
    "## Problema do gradiente explodindo ou desaparecendo\n",
    "Um problema enfrentado foi o dos pesos explodindo ou sumindo. No primeiro caso, o valor dos pesos aumentava de forma exponencial, chegando a valores próximos dos 2000 mil por conexão sináptica. Isso gerou uma deteorização na precisão, fazendo com que os valores iniciais da rede sejam sempre os mais altos.\n",
    "\n",
    "Já no gradiente sumindo, o problema foi uma taxa de aprendizado e um conjunto de pesos muito pequeno, fazendo com que a rede se mantenha uma linha reta, incapaz de aprender nada.\n",
    "\n",
    "Para resolver esse problema foram feitos vários testes de diferentes pesos e taxas de aprendizado a fim de conseguir chegar a um meio termo. A taxa de aprendizado que melhor se desempenhou foi de 0.001 e um conjunto de pesos entre -0.005 e 0.005."
   ]
  },
  {
   "cell_type": "markdown",
   "metadata": {},
   "source": [
    "# Atualização dos pesos por época\n",
    "As redes neurais multicamadas atualizam os pesos da rede após passar todos os registros pela rede, ou pelo menos uma parte dos registros (batch). A atualização por época faz muito mais sentido, pois a rede é menos afetada por registros ruidosos no *dataframe* além de garantir maior velocidade de processamento por não depender de tantos loops.\n",
    "\n",
    "Pensando nisso, foi implementado uma versão que trabalha por épocas da rede perceptron. Foram necessárias algumas mudanças nos métodos já apresentados anteriormente.\n",
    "\n",
    "Primeiro, os valores de classe e previsores foram reiniciados."
   ]
  },
  {
   "cell_type": "code",
   "execution_count": 44,
   "metadata": {},
   "outputs": [],
   "source": [
    "previsores = dataframe.iloc[:, 0:4] \n",
    "previsores = previsores.apply(lambda row: normalizacao_z_score(row))\n",
    "previsores['bias'] = 1\n",
    "classe = dataframe['class']\n",
    "classe = classe.apply(lambda row: transformar_categorico_em_numerico(row, dict_classes))"
   ]
  },
  {
   "cell_type": "markdown",
   "metadata": {},
   "source": [
    "Isso é necessário pois a classe foi codificada em um novo formato de matriz ao invés de array, para trabalhar com as operações matemáticas de uma vez só em todos os registros. Para isso, foram feitas alterações no método de *codificar_classe*. "
   ]
  },
  {
   "cell_type": "code",
   "execution_count": 45,
   "metadata": {},
   "outputs": [],
   "source": [
    "def codificar_classe():\n",
    "    classe_codificada = {}\n",
    "    \n",
    "    array_classe = np.array([[1]  + ([0] * (len(classe.unique()) - 1)) ]) # estrutura de matriz\n",
    "        \n",
    "    count = 1\n",
    "    classe_codificada[0] = array_classe.copy()\n",
    "\n",
    "    for i in range(len(classe.unique()) - 1):\n",
    "        array_classe[0][count - 1] = 0\n",
    "        array_classe[0][count] = 1  \n",
    "        classe_codificada[count] = array_classe.copy()\n",
    "        count += 1\n",
    "    \n",
    "    return classe_codificada"
   ]
  },
  {
   "cell_type": "markdown",
   "metadata": {},
   "source": [
    "Uma vez criado a estrutura de classe por matriz, criamos a variável *classe_nova* que vai transformar todas as classes do problema no formato de matriz."
   ]
  },
  {
   "cell_type": "code",
   "execution_count": 46,
   "metadata": {},
   "outputs": [
    {
     "name": "stdout",
     "output_type": "stream",
     "text": [
      "(150, 3)\n"
     ]
    }
   ],
   "source": [
    "classe_codificada = codificar_classe()\n",
    "classe_nova = []\n",
    "\n",
    "for i in classe: # percorre as classes do dataframe\n",
    "    classe_nova.append(classe_codificada[i])\n",
    "    \n",
    "classe_nova = np.array(classe_nova).reshape(len(classe), 3) # redimensiona para criar a matriz\n",
    "print(classe_nova.shape)"
   ]
  },
  {
   "cell_type": "markdown",
   "metadata": {},
   "source": [
    "A classe agora, ao invés de um array [0,1,0] é uma matriz com três colunas, uma para cada posição do array, como podemos ver no *print* do método *shape*, nos indicando as 150 linhas (registros) e três colunas (quantidade de classes).\n",
    "\n",
    "Foi feita uma pequena modificação no método *dividir_dataframe*, no retorno da classe.\n",
    "Os métodos que são modificados para executar nesse novo modelo recebem o sulfixo _epoca."
   ]
  },
  {
   "cell_type": "markdown",
   "metadata": {},
   "source": [
    "A função sigmoid também recebe algumas modificações de sintax, pois ao invés de pegar o valor máximo de apenas um array e excitá-lo, o processo é feito de uma vez só no conjunto inteiro. "
   ]
  },
  {
   "cell_type": "code",
   "execution_count": 47,
   "metadata": {},
   "outputs": [],
   "source": [
    "def funcao_ativacao_sigmoid_epoca(soma):\n",
    "    valor_ativacao = 1 / (1 + math.e ** -soma)\n",
    "    index_excitacao = np.argmax(valor_ativacao, 1) \n",
    "    \n",
    "    count = 0\n",
    "    neuronios_excitado = valor_ativacao.copy()\n",
    "\n",
    "    for i in index_excitacao:\n",
    "        neuronios_excitado[count] = 0\n",
    "        neuronios_excitado[count][i] = 1\n",
    "        count += 1\n",
    "        \n",
    "    return neuronios_excitado, valor_ativacao"
   ]
  },
  {
   "cell_type": "markdown",
   "metadata": {},
   "source": [
    "A função de custo utilizada foi a de Mean Squared Error, pois mostrou um bom desempenho nos testes. Foram feitas algumas pequenas adaptações para trabalhar com a operação matemática em todos os registros, mas a principal diferença é que na atualização por época, ao invés de contabilizar a precisão incrementalmente, ela é calculada de uma vez só, baseado no número de acertos em todos os registros."
   ]
  },
  {
   "cell_type": "code",
   "execution_count": 38,
   "metadata": {},
   "outputs": [],
   "source": [
    "def funcao_custo_mse_epoca(valor_correto, valor_previsto, valor_ativacao):\n",
    "    erro = list(abs(np.array(valor_correto) - np.array(valor_previsto)))\n",
    "    valor_erro = list(abs(np.array(valor_correto) - np.array(valor_ativacao)))\n",
    "\n",
    "    acerto = 0\n",
    "    for i in erro:\n",
    "        if sum(i) == 0: # verifica se o registro está correto, ou seja, soma de erro é igual a 0.\n",
    "            acerto += 1 # incrementa um no acerto\n",
    "\n",
    "    erro_quadratico = list(map(lambda x: x**2, valor_erro))\n",
    "    erro_quadratico_medio = sum(erro_quadratico) / len(valor_correto)\n",
    "\n",
    "    return sum(erro), acerto, sum(erro_quadratico_medio)"
   ]
  },
  {
   "cell_type": "markdown",
   "metadata": {},
   "source": [
    "A atualização dos pesos é a soma do valor atual do peso com o produto da multiplicação entre taxa de aprendizado, entrada e erro. Nesse caso, como trabalhamos com todas as entradas de uma vez só, é feito a média desse produto.\n",
    "\n",
    "A vantagem aqui é que os pesos serão atualizados apenas uma vez por época, porém a atualização ainda é individual, ou seja, é considerado o valor médio das entradas de cada neurônio para fazer a atualização."
   ]
  },
  {
   "cell_type": "code",
   "execution_count": 39,
   "metadata": {},
   "outputs": [],
   "source": [
    "def atualizar_peso_epoca(entrada, peso, erro, tx_aprendizado):\n",
    "    novo_peso = peso + np.mean((tx_aprendizado * entrada * erro))\n",
    "    return novo_peso"
   ]
  },
  {
   "cell_type": "markdown",
   "metadata": {},
   "source": [
    "O método de testar fica mais simplificado, pois não precisa de loops em cada registro, além de já obter os acertos na própria função de ativação"
   ]
  },
  {
   "cell_type": "code",
   "execution_count": 40,
   "metadata": {},
   "outputs": [],
   "source": [
    "def testar_epoca(pesos, x_previsores, y_classe, f_ativacao, f_custo):\n",
    "    entradas = x_previsores.values  \n",
    "    soma = somatoria(entradas, pesos)\n",
    "    \n",
    "    neuronio_excitado, valor_ativacao = f_ativacao(soma)\n",
    "    \n",
    "    erro, acertos, valor_erro = f_custo(y_classe, neuronio_excitado, valor_ativacao)\n",
    "       \n",
    "    return acertos / len(x_previsores)"
   ]
  },
  {
   "cell_type": "markdown",
   "metadata": {},
   "source": [
    "Assim como o teste, o treinamento acaba ficando mais simples, lidando com todos os dados de uma vez só"
   ]
  },
  {
   "cell_type": "code",
   "execution_count": 41,
   "metadata": {},
   "outputs": [],
   "source": [
    "def treinar_epoca(epocas, f_ativacao, f_custo, pesos, x_treinamento, y_treinamento,\n",
    "                                     x_teste, y_teste, tx_aprendizado):\n",
    "    execucoes = 0\n",
    "    precisoes_treinamento = []\n",
    "    precisoes_teste = []\n",
    "    melhores_pesos = []\n",
    "    \n",
    "    while execucoes < epocas:\n",
    "\n",
    "        entradas = x_treinamento.values   \n",
    "        soma = somatoria(entradas, pesos)\n",
    "    \n",
    "        neuronio_excitado, valor_ativacao = f_ativacao(soma)\n",
    "    \n",
    "        erro, acertos, valor_erro = f_custo(y_treinamento, neuronio_excitado, valor_ativacao)\n",
    "    \n",
    "        count = 0\n",
    "        precisoes_treinamento.append(acertos / len(x_treinamento))    \n",
    "        melhores_pesos = pesos.copy() if precisoes_treinamento[execucoes] >= max(precisoes_treinamento) else melhores_pesos\n",
    "\n",
    "        for i in range(entradas.shape[1]): # o for tem que atualizar cada peso da camada\n",
    "            if i == 4:\n",
    "                novo_peso = atualizar_bias(entradas[:, i], pesos[i], valor_erro, tx_aprendizado)\n",
    "            else:\n",
    "                novo_peso = atualizar_peso_epoca(entradas[:, i], pesos[i], valor_erro, tx_aprendizado)\n",
    "            pesos[count] = novo_peso\n",
    "            count += 1\n",
    "        \n",
    "        precisoes_teste.append(testar_epoca(pesos, x_teste, y_teste, f_ativacao, f_custo))\n",
    "        execucoes += 1\n",
    "    \n",
    "    return precisoes_treinamento, precisoes_teste, melhores_pesos"
   ]
  },
  {
   "cell_type": "markdown",
   "metadata": {},
   "source": [
    "O novo método de executar perceptron vai chamar todos os novos métodos que criamos e executar nossa rede por épocas."
   ]
  },
  {
   "cell_type": "code",
   "execution_count": 60,
   "metadata": {},
   "outputs": [],
   "source": [
    "def executar_perceptron_epoca(funcao_ativacao, funcao_custo, epocas, dominio_pesos = [0, 1], \n",
    "                        tx_aprendizado = 0.1):\n",
    "\n",
    "    convergencia_treinamento = [0]\n",
    "    convergencia_teste = [0]\n",
    "    precisao_treinamento = []\n",
    "    precisao_teste = []\n",
    "    resultado_final = []\n",
    "    start_time = time.time()\n",
    "\n",
    "    for i in range(30):\n",
    "        pesos = inicializar_pesos(dominio_pesos) # Alterando os pesos em cada inicialização\n",
    "        x_treinamento, y_treinamento, x_teste, y_teste, x_validacao, y_validacao = dividir_dataframe(previsores, classe_nova, 0.7, 0.15, 0.15, True)\n",
    "\n",
    "        treinamento = treinar_epoca(epocas, funcao_ativacao, funcao_custo, pesos, x_treinamento, y_treinamento, x_teste, y_teste, tx_aprendizado)\n",
    "                                     \n",
    "        convergencia_treinamento = treinamento[0] if max(treinamento[0]) >= \\\n",
    "                                max(convergencia_treinamento) else convergencia_treinamento\n",
    "        convergencia_teste = treinamento[1] if max(treinamento[1]) >= max(convergencia_teste) \\\n",
    "                                        else convergencia_teste\n",
    "        \n",
    "        precisao_treinamento.append(max(treinamento[0]))\n",
    "        precisao_teste.append(max(treinamento[1]))\n",
    "        resultado_final.append(testar_epoca(treinamento[2], x_validacao, y_validacao, \n",
    "                                      funcao_ativacao, funcao_custo))\n",
    "\n",
    "    plotar_convergencia(convergencia_treinamento, convergencia_teste)\n",
    "    exibir_resultados(precisao_treinamento, precisao_teste, resultado_final)\n",
    "    print(\"Tempo de execução: %s Segundos\" % (time.time() - start_time))"
   ]
  },
  {
   "cell_type": "code",
   "execution_count": null,
   "metadata": {
    "scrolled": false
   },
   "outputs": [],
   "source": [
    "executar_perceptron_epoca(funcao_ativacao_sigmoid_epoca, funcao_custo_mse_epoca, 400, [-0.0005, 0.0005])"
   ]
  },
  {
   "cell_type": "markdown",
   "metadata": {},
   "source": [
    "## Resultados do treinamento por época\n",
    "Os resultados de precisão foram bons, chegando em torno dos 90% no teste da rede neural. \n",
    "Nesse caso, os resultados não foram tão diferentes do que executar o perceptron e atualizar os pesos por registro individual, mas aqui valem dois pontos de atenção. O primeiro é que a base de dados da iris não é de um problema muito complexo, além de ter uma quantidade pequena e separável de atributos, portanto atualizar olhando para atributos individualmente ou para todos os atributos de uma vez não fez tanta diferença. O segundo é que, como esperado, a execução do algoritmo por épocas conseguiu se sair até 6 vezes mais rápido do que o anterior, levando menos de 20 segundos para finalizar todas as execuções. Essa velocidade de processamento no possibilita testar uma combinação maior de hiperparâmetros, favorecendo a otimização da rede neural."
   ]
  },
  {
   "cell_type": "markdown",
   "metadata": {},
   "source": [
    "# Qual o problema?\n",
    "Utilizar a base de dados de vinhos contidos aqui: http://archive.ics.uci.edu/ml/datasets/Wine para prever qual o tipo de vinha (1, 2 ou 3) baseado nas suas características."
   ]
  },
  {
   "cell_type": "markdown",
   "metadata": {},
   "source": [
    "## Anásile exploratória dos dados\n",
    "Conhecendo um pouco mais dos dados da base de dados."
   ]
  },
  {
   "cell_type": "code",
   "execution_count": 144,
   "metadata": {
    "scrolled": true
   },
   "outputs": [
    {
     "data": {
      "text/html": [
       "<div>\n",
       "<style scoped>\n",
       "    .dataframe tbody tr th:only-of-type {\n",
       "        vertical-align: middle;\n",
       "    }\n",
       "\n",
       "    .dataframe tbody tr th {\n",
       "        vertical-align: top;\n",
       "    }\n",
       "\n",
       "    .dataframe thead th {\n",
       "        text-align: right;\n",
       "    }\n",
       "</style>\n",
       "<table border=\"1\" class=\"dataframe\">\n",
       "  <thead>\n",
       "    <tr style=\"text-align: right;\">\n",
       "      <th></th>\n",
       "      <th>Wine</th>\n",
       "      <th>Alcohol</th>\n",
       "      <th>Malic acid</th>\n",
       "      <th>Ash</th>\n",
       "      <th>Alcalinity of ash</th>\n",
       "      <th>Magnesium</th>\n",
       "      <th>Total phenols</th>\n",
       "      <th>Flavanoids</th>\n",
       "      <th>Nonflavanoid phenols</th>\n",
       "      <th>Proanthocyanins</th>\n",
       "      <th>Color intensity</th>\n",
       "      <th>Hue</th>\n",
       "      <th>OD280</th>\n",
       "      <th>Proline</th>\n",
       "    </tr>\n",
       "  </thead>\n",
       "  <tbody>\n",
       "    <tr>\n",
       "      <th>0</th>\n",
       "      <td>1</td>\n",
       "      <td>14.23</td>\n",
       "      <td>1.71</td>\n",
       "      <td>2.43</td>\n",
       "      <td>15.6</td>\n",
       "      <td>127</td>\n",
       "      <td>2.80</td>\n",
       "      <td>3.06</td>\n",
       "      <td>0.28</td>\n",
       "      <td>2.29</td>\n",
       "      <td>5.64</td>\n",
       "      <td>1.04</td>\n",
       "      <td>3.92</td>\n",
       "      <td>1065</td>\n",
       "    </tr>\n",
       "    <tr>\n",
       "      <th>1</th>\n",
       "      <td>1</td>\n",
       "      <td>13.20</td>\n",
       "      <td>1.78</td>\n",
       "      <td>2.14</td>\n",
       "      <td>11.2</td>\n",
       "      <td>100</td>\n",
       "      <td>2.65</td>\n",
       "      <td>2.76</td>\n",
       "      <td>0.26</td>\n",
       "      <td>1.28</td>\n",
       "      <td>4.38</td>\n",
       "      <td>1.05</td>\n",
       "      <td>3.40</td>\n",
       "      <td>1050</td>\n",
       "    </tr>\n",
       "    <tr>\n",
       "      <th>2</th>\n",
       "      <td>1</td>\n",
       "      <td>13.16</td>\n",
       "      <td>2.36</td>\n",
       "      <td>2.67</td>\n",
       "      <td>18.6</td>\n",
       "      <td>101</td>\n",
       "      <td>2.80</td>\n",
       "      <td>3.24</td>\n",
       "      <td>0.30</td>\n",
       "      <td>2.81</td>\n",
       "      <td>5.68</td>\n",
       "      <td>1.03</td>\n",
       "      <td>3.17</td>\n",
       "      <td>1185</td>\n",
       "    </tr>\n",
       "    <tr>\n",
       "      <th>3</th>\n",
       "      <td>1</td>\n",
       "      <td>14.37</td>\n",
       "      <td>1.95</td>\n",
       "      <td>2.50</td>\n",
       "      <td>16.8</td>\n",
       "      <td>113</td>\n",
       "      <td>3.85</td>\n",
       "      <td>3.49</td>\n",
       "      <td>0.24</td>\n",
       "      <td>2.18</td>\n",
       "      <td>7.80</td>\n",
       "      <td>0.86</td>\n",
       "      <td>3.45</td>\n",
       "      <td>1480</td>\n",
       "    </tr>\n",
       "    <tr>\n",
       "      <th>4</th>\n",
       "      <td>1</td>\n",
       "      <td>13.24</td>\n",
       "      <td>2.59</td>\n",
       "      <td>2.87</td>\n",
       "      <td>21.0</td>\n",
       "      <td>118</td>\n",
       "      <td>2.80</td>\n",
       "      <td>2.69</td>\n",
       "      <td>0.39</td>\n",
       "      <td>1.82</td>\n",
       "      <td>4.32</td>\n",
       "      <td>1.04</td>\n",
       "      <td>2.93</td>\n",
       "      <td>735</td>\n",
       "    </tr>\n",
       "  </tbody>\n",
       "</table>\n",
       "</div>"
      ],
      "text/plain": [
       "   Wine  Alcohol  Malic acid   Ash  Alcalinity of ash  Magnesium  \\\n",
       "0     1    14.23        1.71  2.43               15.6        127   \n",
       "1     1    13.20        1.78  2.14               11.2        100   \n",
       "2     1    13.16        2.36  2.67               18.6        101   \n",
       "3     1    14.37        1.95  2.50               16.8        113   \n",
       "4     1    13.24        2.59  2.87               21.0        118   \n",
       "\n",
       "   Total phenols  Flavanoids  Nonflavanoid phenols  Proanthocyanins  \\\n",
       "0           2.80        3.06                  0.28             2.29   \n",
       "1           2.65        2.76                  0.26             1.28   \n",
       "2           2.80        3.24                  0.30             2.81   \n",
       "3           3.85        3.49                  0.24             2.18   \n",
       "4           2.80        2.69                  0.39             1.82   \n",
       "\n",
       "   Color intensity   Hue  OD280  Proline  \n",
       "0             5.64  1.04   3.92     1065  \n",
       "1             4.38  1.05   3.40     1050  \n",
       "2             5.68  1.03   3.17     1185  \n",
       "3             7.80  0.86   3.45     1480  \n",
       "4             4.32  1.04   2.93      735  "
      ]
     },
     "execution_count": 144,
     "metadata": {},
     "output_type": "execute_result"
    }
   ],
   "source": [
    "dataframe = pd.read_csv('/home/alvaro/Documentos/mestrado/computação bio/redes neurais/datasets/wine.csv', header = 0)\n",
    "dataframe.head()"
   ]
  },
  {
   "cell_type": "code",
   "execution_count": 145,
   "metadata": {
    "scrolled": false
   },
   "outputs": [
    {
     "name": "stdout",
     "output_type": "stream",
     "text": [
      "Valores nulos:\n",
      "Wine                    0\n",
      "Alcohol                 0\n",
      "Malic acid              0\n",
      "Ash                     0\n",
      "Alcalinity of ash       0\n",
      "Magnesium               0\n",
      "Total phenols           0\n",
      "Flavanoids              0\n",
      "Nonflavanoid phenols    0\n",
      "Proanthocyanins         0\n",
      "Color intensity         0\n",
      "Hue                     0\n",
      "OD280                   0\n",
      "Proline                 0\n",
      "dtype: int64\n"
     ]
    },
    {
     "data": {
      "text/html": [
       "<div>\n",
       "<style scoped>\n",
       "    .dataframe tbody tr th:only-of-type {\n",
       "        vertical-align: middle;\n",
       "    }\n",
       "\n",
       "    .dataframe tbody tr th {\n",
       "        vertical-align: top;\n",
       "    }\n",
       "\n",
       "    .dataframe thead th {\n",
       "        text-align: right;\n",
       "    }\n",
       "</style>\n",
       "<table border=\"1\" class=\"dataframe\">\n",
       "  <thead>\n",
       "    <tr style=\"text-align: right;\">\n",
       "      <th></th>\n",
       "      <th>Wine</th>\n",
       "      <th>Alcohol</th>\n",
       "      <th>Malic acid</th>\n",
       "      <th>Ash</th>\n",
       "      <th>Alcalinity of ash</th>\n",
       "      <th>Magnesium</th>\n",
       "      <th>Total phenols</th>\n",
       "      <th>Flavanoids</th>\n",
       "      <th>Nonflavanoid phenols</th>\n",
       "      <th>Proanthocyanins</th>\n",
       "      <th>Color intensity</th>\n",
       "      <th>Hue</th>\n",
       "      <th>OD280</th>\n",
       "      <th>Proline</th>\n",
       "    </tr>\n",
       "  </thead>\n",
       "  <tbody>\n",
       "    <tr>\n",
       "      <th>count</th>\n",
       "      <td>178.000000</td>\n",
       "      <td>178.000000</td>\n",
       "      <td>178.000000</td>\n",
       "      <td>178.000000</td>\n",
       "      <td>178.000000</td>\n",
       "      <td>178.000000</td>\n",
       "      <td>178.000000</td>\n",
       "      <td>178.000000</td>\n",
       "      <td>178.000000</td>\n",
       "      <td>178.000000</td>\n",
       "      <td>178.000000</td>\n",
       "      <td>178.000000</td>\n",
       "      <td>178.000000</td>\n",
       "      <td>178.000000</td>\n",
       "    </tr>\n",
       "    <tr>\n",
       "      <th>mean</th>\n",
       "      <td>1.938202</td>\n",
       "      <td>13.000618</td>\n",
       "      <td>2.336348</td>\n",
       "      <td>2.366517</td>\n",
       "      <td>19.494944</td>\n",
       "      <td>99.741573</td>\n",
       "      <td>2.295112</td>\n",
       "      <td>2.029270</td>\n",
       "      <td>0.361854</td>\n",
       "      <td>1.590899</td>\n",
       "      <td>5.058090</td>\n",
       "      <td>0.957449</td>\n",
       "      <td>2.611685</td>\n",
       "      <td>746.893258</td>\n",
       "    </tr>\n",
       "    <tr>\n",
       "      <th>std</th>\n",
       "      <td>0.775035</td>\n",
       "      <td>0.811827</td>\n",
       "      <td>1.117146</td>\n",
       "      <td>0.274344</td>\n",
       "      <td>3.339564</td>\n",
       "      <td>14.282484</td>\n",
       "      <td>0.625851</td>\n",
       "      <td>0.998859</td>\n",
       "      <td>0.124453</td>\n",
       "      <td>0.572359</td>\n",
       "      <td>2.318286</td>\n",
       "      <td>0.228572</td>\n",
       "      <td>0.709990</td>\n",
       "      <td>314.907474</td>\n",
       "    </tr>\n",
       "    <tr>\n",
       "      <th>min</th>\n",
       "      <td>1.000000</td>\n",
       "      <td>11.030000</td>\n",
       "      <td>0.740000</td>\n",
       "      <td>1.360000</td>\n",
       "      <td>10.600000</td>\n",
       "      <td>70.000000</td>\n",
       "      <td>0.980000</td>\n",
       "      <td>0.340000</td>\n",
       "      <td>0.130000</td>\n",
       "      <td>0.410000</td>\n",
       "      <td>1.280000</td>\n",
       "      <td>0.480000</td>\n",
       "      <td>1.270000</td>\n",
       "      <td>278.000000</td>\n",
       "    </tr>\n",
       "    <tr>\n",
       "      <th>25%</th>\n",
       "      <td>1.000000</td>\n",
       "      <td>12.362500</td>\n",
       "      <td>1.602500</td>\n",
       "      <td>2.210000</td>\n",
       "      <td>17.200000</td>\n",
       "      <td>88.000000</td>\n",
       "      <td>1.742500</td>\n",
       "      <td>1.205000</td>\n",
       "      <td>0.270000</td>\n",
       "      <td>1.250000</td>\n",
       "      <td>3.220000</td>\n",
       "      <td>0.782500</td>\n",
       "      <td>1.937500</td>\n",
       "      <td>500.500000</td>\n",
       "    </tr>\n",
       "    <tr>\n",
       "      <th>50%</th>\n",
       "      <td>2.000000</td>\n",
       "      <td>13.050000</td>\n",
       "      <td>1.865000</td>\n",
       "      <td>2.360000</td>\n",
       "      <td>19.500000</td>\n",
       "      <td>98.000000</td>\n",
       "      <td>2.355000</td>\n",
       "      <td>2.135000</td>\n",
       "      <td>0.340000</td>\n",
       "      <td>1.555000</td>\n",
       "      <td>4.690000</td>\n",
       "      <td>0.965000</td>\n",
       "      <td>2.780000</td>\n",
       "      <td>673.500000</td>\n",
       "    </tr>\n",
       "    <tr>\n",
       "      <th>75%</th>\n",
       "      <td>3.000000</td>\n",
       "      <td>13.677500</td>\n",
       "      <td>3.082500</td>\n",
       "      <td>2.557500</td>\n",
       "      <td>21.500000</td>\n",
       "      <td>107.000000</td>\n",
       "      <td>2.800000</td>\n",
       "      <td>2.875000</td>\n",
       "      <td>0.437500</td>\n",
       "      <td>1.950000</td>\n",
       "      <td>6.200000</td>\n",
       "      <td>1.120000</td>\n",
       "      <td>3.170000</td>\n",
       "      <td>985.000000</td>\n",
       "    </tr>\n",
       "    <tr>\n",
       "      <th>max</th>\n",
       "      <td>3.000000</td>\n",
       "      <td>14.830000</td>\n",
       "      <td>5.800000</td>\n",
       "      <td>3.230000</td>\n",
       "      <td>30.000000</td>\n",
       "      <td>162.000000</td>\n",
       "      <td>3.880000</td>\n",
       "      <td>5.080000</td>\n",
       "      <td>0.660000</td>\n",
       "      <td>3.580000</td>\n",
       "      <td>13.000000</td>\n",
       "      <td>1.710000</td>\n",
       "      <td>4.000000</td>\n",
       "      <td>1680.000000</td>\n",
       "    </tr>\n",
       "  </tbody>\n",
       "</table>\n",
       "</div>"
      ],
      "text/plain": [
       "             Wine     Alcohol  Malic acid         Ash  Alcalinity of ash  \\\n",
       "count  178.000000  178.000000  178.000000  178.000000         178.000000   \n",
       "mean     1.938202   13.000618    2.336348    2.366517          19.494944   \n",
       "std      0.775035    0.811827    1.117146    0.274344           3.339564   \n",
       "min      1.000000   11.030000    0.740000    1.360000          10.600000   \n",
       "25%      1.000000   12.362500    1.602500    2.210000          17.200000   \n",
       "50%      2.000000   13.050000    1.865000    2.360000          19.500000   \n",
       "75%      3.000000   13.677500    3.082500    2.557500          21.500000   \n",
       "max      3.000000   14.830000    5.800000    3.230000          30.000000   \n",
       "\n",
       "        Magnesium  Total phenols  Flavanoids  Nonflavanoid phenols  \\\n",
       "count  178.000000     178.000000  178.000000            178.000000   \n",
       "mean    99.741573       2.295112    2.029270              0.361854   \n",
       "std     14.282484       0.625851    0.998859              0.124453   \n",
       "min     70.000000       0.980000    0.340000              0.130000   \n",
       "25%     88.000000       1.742500    1.205000              0.270000   \n",
       "50%     98.000000       2.355000    2.135000              0.340000   \n",
       "75%    107.000000       2.800000    2.875000              0.437500   \n",
       "max    162.000000       3.880000    5.080000              0.660000   \n",
       "\n",
       "       Proanthocyanins  Color intensity         Hue       OD280      Proline  \n",
       "count       178.000000       178.000000  178.000000  178.000000   178.000000  \n",
       "mean          1.590899         5.058090    0.957449    2.611685   746.893258  \n",
       "std           0.572359         2.318286    0.228572    0.709990   314.907474  \n",
       "min           0.410000         1.280000    0.480000    1.270000   278.000000  \n",
       "25%           1.250000         3.220000    0.782500    1.937500   500.500000  \n",
       "50%           1.555000         4.690000    0.965000    2.780000   673.500000  \n",
       "75%           1.950000         6.200000    1.120000    3.170000   985.000000  \n",
       "max           3.580000        13.000000    1.710000    4.000000  1680.000000  "
      ]
     },
     "execution_count": 145,
     "metadata": {},
     "output_type": "execute_result"
    }
   ],
   "source": [
    "print('Valores nulos:')\n",
    "print(dataframe.isna().sum())\n",
    "dataframe.describe()"
   ]
  },
  {
   "cell_type": "markdown",
   "metadata": {},
   "source": [
    "Nesse *dataset* todos os atributos são contínuos, inclusive a classe. Podemos notar que não existe nenhum valor vazio bem como aparentemente nenhum outlier/ruído."
   ]
  },
  {
   "cell_type": "markdown",
   "metadata": {},
   "source": [
    "## Normalização dos dados \n",
    "Assim como no problema da iris, esse dataset também precisa ser normalizando, ainda mais por conter uma quantidade maior de atributos previsores contínuos."
   ]
  },
  {
   "cell_type": "code",
   "execution_count": 146,
   "metadata": {},
   "outputs": [],
   "source": [
    "previsores = dataframe.iloc[:, 1:14] \n",
    "classe = dataframe['Wine']"
   ]
  },
  {
   "cell_type": "code",
   "execution_count": 147,
   "metadata": {
    "scrolled": true
   },
   "outputs": [
    {
     "data": {
      "text/html": [
       "<div>\n",
       "<style scoped>\n",
       "    .dataframe tbody tr th:only-of-type {\n",
       "        vertical-align: middle;\n",
       "    }\n",
       "\n",
       "    .dataframe tbody tr th {\n",
       "        vertical-align: top;\n",
       "    }\n",
       "\n",
       "    .dataframe thead th {\n",
       "        text-align: right;\n",
       "    }\n",
       "</style>\n",
       "<table border=\"1\" class=\"dataframe\">\n",
       "  <thead>\n",
       "    <tr style=\"text-align: right;\">\n",
       "      <th></th>\n",
       "      <th>Alcohol</th>\n",
       "      <th>Malic acid</th>\n",
       "      <th>Ash</th>\n",
       "      <th>Alcalinity of ash</th>\n",
       "      <th>Magnesium</th>\n",
       "      <th>Total phenols</th>\n",
       "      <th>Flavanoids</th>\n",
       "      <th>Nonflavanoid phenols</th>\n",
       "      <th>Proanthocyanins</th>\n",
       "      <th>Color intensity</th>\n",
       "      <th>Hue</th>\n",
       "      <th>OD280</th>\n",
       "      <th>Proline</th>\n",
       "    </tr>\n",
       "  </thead>\n",
       "  <tbody>\n",
       "    <tr>\n",
       "      <th>0</th>\n",
       "      <td>1.514341</td>\n",
       "      <td>-0.560668</td>\n",
       "      <td>0.231400</td>\n",
       "      <td>-1.166303</td>\n",
       "      <td>1.908522</td>\n",
       "      <td>0.806722</td>\n",
       "      <td>1.031908</td>\n",
       "      <td>-0.657708</td>\n",
       "      <td>1.221438</td>\n",
       "      <td>0.251009</td>\n",
       "      <td>0.361158</td>\n",
       "      <td>1.842721</td>\n",
       "      <td>1.010159</td>\n",
       "    </tr>\n",
       "    <tr>\n",
       "      <th>1</th>\n",
       "      <td>0.245597</td>\n",
       "      <td>-0.498009</td>\n",
       "      <td>-0.825667</td>\n",
       "      <td>-2.483841</td>\n",
       "      <td>0.018094</td>\n",
       "      <td>0.567048</td>\n",
       "      <td>0.731565</td>\n",
       "      <td>-0.818411</td>\n",
       "      <td>-0.543189</td>\n",
       "      <td>-0.292496</td>\n",
       "      <td>0.404908</td>\n",
       "      <td>1.110317</td>\n",
       "      <td>0.962526</td>\n",
       "    </tr>\n",
       "    <tr>\n",
       "      <th>2</th>\n",
       "      <td>0.196325</td>\n",
       "      <td>0.021172</td>\n",
       "      <td>1.106214</td>\n",
       "      <td>-0.267982</td>\n",
       "      <td>0.088110</td>\n",
       "      <td>0.806722</td>\n",
       "      <td>1.212114</td>\n",
       "      <td>-0.497005</td>\n",
       "      <td>2.129959</td>\n",
       "      <td>0.268263</td>\n",
       "      <td>0.317409</td>\n",
       "      <td>0.786369</td>\n",
       "      <td>1.391224</td>\n",
       "    </tr>\n",
       "    <tr>\n",
       "      <th>3</th>\n",
       "      <td>1.686791</td>\n",
       "      <td>-0.345835</td>\n",
       "      <td>0.486554</td>\n",
       "      <td>-0.806975</td>\n",
       "      <td>0.928300</td>\n",
       "      <td>2.484437</td>\n",
       "      <td>1.462399</td>\n",
       "      <td>-0.979113</td>\n",
       "      <td>1.029251</td>\n",
       "      <td>1.182732</td>\n",
       "      <td>-0.426341</td>\n",
       "      <td>1.180741</td>\n",
       "      <td>2.328007</td>\n",
       "    </tr>\n",
       "    <tr>\n",
       "      <th>4</th>\n",
       "      <td>0.294868</td>\n",
       "      <td>0.227053</td>\n",
       "      <td>1.835226</td>\n",
       "      <td>0.450674</td>\n",
       "      <td>1.278379</td>\n",
       "      <td>0.806722</td>\n",
       "      <td>0.661485</td>\n",
       "      <td>0.226158</td>\n",
       "      <td>0.400275</td>\n",
       "      <td>-0.318377</td>\n",
       "      <td>0.361158</td>\n",
       "      <td>0.448336</td>\n",
       "      <td>-0.037767</td>\n",
       "    </tr>\n",
       "  </tbody>\n",
       "</table>\n",
       "</div>"
      ],
      "text/plain": [
       "    Alcohol  Malic acid       Ash  Alcalinity of ash  Magnesium  \\\n",
       "0  1.514341   -0.560668  0.231400          -1.166303   1.908522   \n",
       "1  0.245597   -0.498009 -0.825667          -2.483841   0.018094   \n",
       "2  0.196325    0.021172  1.106214          -0.267982   0.088110   \n",
       "3  1.686791   -0.345835  0.486554          -0.806975   0.928300   \n",
       "4  0.294868    0.227053  1.835226           0.450674   1.278379   \n",
       "\n",
       "   Total phenols  Flavanoids  Nonflavanoid phenols  Proanthocyanins  \\\n",
       "0       0.806722    1.031908             -0.657708         1.221438   \n",
       "1       0.567048    0.731565             -0.818411        -0.543189   \n",
       "2       0.806722    1.212114             -0.497005         2.129959   \n",
       "3       2.484437    1.462399             -0.979113         1.029251   \n",
       "4       0.806722    0.661485              0.226158         0.400275   \n",
       "\n",
       "   Color intensity       Hue     OD280   Proline  \n",
       "0         0.251009  0.361158  1.842721  1.010159  \n",
       "1        -0.292496  0.404908  1.110317  0.962526  \n",
       "2         0.268263  0.317409  0.786369  1.391224  \n",
       "3         1.182732 -0.426341  1.180741  2.328007  \n",
       "4        -0.318377  0.361158  0.448336 -0.037767  "
      ]
     },
     "execution_count": 147,
     "metadata": {},
     "output_type": "execute_result"
    }
   ],
   "source": [
    "previsores = previsores.apply(lambda row: normalizacao_z_score(row))\n",
    "previsores.head()"
   ]
  },
  {
   "cell_type": "markdown",
   "metadata": {},
   "source": [
    "A classe do tipo de vinho é distribuída em 1, 2 e 3, todavia para que meu método de codificar funcione ele precisa começar em 0, por isso, a classe de vinho foi submetida ao método de *transformar_categorico_em_numerico*, que vai transformá-la na sequência de 0, 1 e 2."
   ]
  },
  {
   "cell_type": "code",
   "execution_count": 148,
   "metadata": {},
   "outputs": [
    {
     "data": {
      "text/plain": [
       "1    71\n",
       "0    59\n",
       "2    48\n",
       "Name: Wine, dtype: int64"
      ]
     },
     "execution_count": 148,
     "metadata": {},
     "output_type": "execute_result"
    }
   ],
   "source": [
    "dict_classes = get_dicionario_classes(classe)\n",
    "classe = classe.apply(lambda row: transformar_categorico_em_numerico(row, dict_classes))\n",
    "classe.value_counts()"
   ]
  },
  {
   "cell_type": "markdown",
   "metadata": {},
   "source": [
    "Agora a classe vai ser codificada em uma array assim como aconteceu com a iris, pois temos novamente um problema do tipo multi-classe."
   ]
  },
  {
   "cell_type": "code",
   "execution_count": 149,
   "metadata": {
    "scrolled": true
   },
   "outputs": [
    {
     "data": {
      "text/plain": [
       "0    [[1, 0, 0]]\n",
       "1    [[1, 0, 0]]\n",
       "2    [[1, 0, 0]]\n",
       "3    [[1, 0, 0]]\n",
       "4    [[1, 0, 0]]\n",
       "Name: Wine, dtype: object"
      ]
     },
     "execution_count": 149,
     "metadata": {},
     "output_type": "execute_result"
    }
   ],
   "source": [
    "classe_codificada = codificar_classe()\n",
    "classe = classe.apply(lambda row: substituir_classe_codificada(row, classe_codificada))\n",
    "classe.head()"
   ]
  },
  {
   "cell_type": "markdown",
   "metadata": {},
   "source": [
    "Agora basta adicionar o neurônio na camada de entrada para ser o bias e executar o perceptron novamente para conferir os resultados da rede."
   ]
  },
  {
   "cell_type": "code",
   "execution_count": 150,
   "metadata": {},
   "outputs": [],
   "source": [
    "previsores['bias'] = 1"
   ]
  },
  {
   "cell_type": "code",
   "execution_count": 151,
   "metadata": {},
   "outputs": [
    {
     "ename": "TypeError",
     "evalue": "only size-1 arrays can be converted to Python scalars",
     "output_type": "error",
     "traceback": [
      "\u001b[0;31m---------------------------------------------------------------------------\u001b[0m",
      "\u001b[0;31mTypeError\u001b[0m                                 Traceback (most recent call last)",
      "\u001b[0;32m<ipython-input-151-16ba5fbb3ea1>\u001b[0m in \u001b[0;36m<module>\u001b[0;34m\u001b[0m\n\u001b[0;32m----> 1\u001b[0;31m \u001b[0mexecutar_perceptron\u001b[0m\u001b[0;34m(\u001b[0m\u001b[0mfuncao_ativacao_sigmoid\u001b[0m\u001b[0;34m,\u001b[0m \u001b[0mfuncao_custo_mse\u001b[0m\u001b[0;34m,\u001b[0m \u001b[0;36m350\u001b[0m\u001b[0;34m,\u001b[0m \u001b[0;34m[\u001b[0m\u001b[0;34m-\u001b[0m\u001b[0;36m0.005\u001b[0m\u001b[0;34m,\u001b[0m \u001b[0;36m0.005\u001b[0m\u001b[0;34m]\u001b[0m\u001b[0;34m)\u001b[0m\u001b[0;34m\u001b[0m\u001b[0;34m\u001b[0m\u001b[0m\n\u001b[0m",
      "\u001b[0;32m<ipython-input-138-ac88a51f0e26>\u001b[0m in \u001b[0;36mexecutar_perceptron\u001b[0;34m(funcao_ativacao, funcao_custo, epocas, dominio_pesos, tx_aprendizado)\u001b[0m\n\u001b[1;32m     16\u001b[0m \u001b[0;34m\u001b[0m\u001b[0m\n\u001b[1;32m     17\u001b[0m         treinamento = treinar(epocas, funcao_ativacao, funcao_custo, pesos, x_treinamento,\n\u001b[0;32m---> 18\u001b[0;31m                                      y_treinamento, x_teste, y_teste, tx_aprendizado)\n\u001b[0m\u001b[1;32m     19\u001b[0m \u001b[0;34m\u001b[0m\u001b[0m\n\u001b[1;32m     20\u001b[0m         \u001b[0;31m# É salvo apenas o melhor resultado da convergência, para plotar um único gráfico\u001b[0m\u001b[0;34m\u001b[0m\u001b[0;34m\u001b[0m\u001b[0;34m\u001b[0m\u001b[0m\n",
      "\u001b[0;32m<ipython-input-134-a3c05f3c4913>\u001b[0m in \u001b[0;36mtreinar\u001b[0;34m(epocas, f_ativacao, f_custo, pesos, x_treinamento, y_treinamento, x_teste, y_teste, tx_aprendizado)\u001b[0m\n\u001b[1;32m     21\u001b[0m \u001b[0;34m\u001b[0m\u001b[0m\n\u001b[1;32m     22\u001b[0m             erro, valor_erro = f_custo(y_treinamento[iteracao], neuronio_excitado, \n\u001b[0;32m---> 23\u001b[0;31m                                        valor_ativacao)\n\u001b[0m\u001b[1;32m     24\u001b[0m             \u001b[0;31m# atualiza os pesos em caso de erro\u001b[0m\u001b[0;34m\u001b[0m\u001b[0;34m\u001b[0m\u001b[0;34m\u001b[0m\u001b[0m\n\u001b[1;32m     25\u001b[0m             \u001b[0;32mif\u001b[0m \u001b[0merro\u001b[0m \u001b[0;34m>\u001b[0m \u001b[0;36m0\u001b[0m\u001b[0;34m:\u001b[0m\u001b[0;34m\u001b[0m\u001b[0;34m\u001b[0m\u001b[0m\n",
      "\u001b[0;32m<ipython-input-28-6e47d5398adc>\u001b[0m in \u001b[0;36mfuncao_custo_mse\u001b[0;34m(valor_correto, valor_previsto, valor_ativacao)\u001b[0m\n\u001b[1;32m      3\u001b[0m \u001b[0;34m\u001b[0m\u001b[0m\n\u001b[1;32m      4\u001b[0m     \u001b[0mvalor_erro\u001b[0m \u001b[0;34m=\u001b[0m \u001b[0mlist\u001b[0m\u001b[0;34m(\u001b[0m\u001b[0mabs\u001b[0m\u001b[0;34m(\u001b[0m\u001b[0mnp\u001b[0m\u001b[0;34m.\u001b[0m\u001b[0marray\u001b[0m\u001b[0;34m(\u001b[0m\u001b[0mvalor_correto\u001b[0m\u001b[0;34m)\u001b[0m \u001b[0;34m-\u001b[0m \u001b[0mnp\u001b[0m\u001b[0;34m.\u001b[0m\u001b[0marray\u001b[0m\u001b[0;34m(\u001b[0m\u001b[0mvalor_ativacao\u001b[0m\u001b[0;34m)\u001b[0m\u001b[0;34m)\u001b[0m\u001b[0;34m)\u001b[0m\u001b[0;34m\u001b[0m\u001b[0;34m\u001b[0m\u001b[0m\n\u001b[0;32m----> 5\u001b[0;31m     \u001b[0merro_quadratico\u001b[0m \u001b[0;34m=\u001b[0m \u001b[0mlist\u001b[0m\u001b[0;34m(\u001b[0m\u001b[0mmap\u001b[0m\u001b[0;34m(\u001b[0m\u001b[0;32mlambda\u001b[0m \u001b[0mx\u001b[0m\u001b[0;34m:\u001b[0m \u001b[0mmath\u001b[0m\u001b[0;34m.\u001b[0m\u001b[0mpow\u001b[0m\u001b[0;34m(\u001b[0m\u001b[0mx\u001b[0m\u001b[0;34m,\u001b[0m \u001b[0;36m2\u001b[0m\u001b[0;34m)\u001b[0m\u001b[0;34m,\u001b[0m \u001b[0mvalor_erro\u001b[0m\u001b[0;34m)\u001b[0m\u001b[0;34m)\u001b[0m\u001b[0;34m\u001b[0m\u001b[0;34m\u001b[0m\u001b[0m\n\u001b[0m\u001b[1;32m      6\u001b[0m     \u001b[0msoma_erro_quadratico\u001b[0m \u001b[0;34m=\u001b[0m \u001b[0msum\u001b[0m\u001b[0;34m(\u001b[0m\u001b[0merro_quadratico\u001b[0m\u001b[0;34m)\u001b[0m\u001b[0;34m\u001b[0m\u001b[0;34m\u001b[0m\u001b[0m\n\u001b[1;32m      7\u001b[0m \u001b[0;34m\u001b[0m\u001b[0m\n",
      "\u001b[0;32m<ipython-input-28-6e47d5398adc>\u001b[0m in \u001b[0;36m<lambda>\u001b[0;34m(x)\u001b[0m\n\u001b[1;32m      3\u001b[0m \u001b[0;34m\u001b[0m\u001b[0m\n\u001b[1;32m      4\u001b[0m     \u001b[0mvalor_erro\u001b[0m \u001b[0;34m=\u001b[0m \u001b[0mlist\u001b[0m\u001b[0;34m(\u001b[0m\u001b[0mabs\u001b[0m\u001b[0;34m(\u001b[0m\u001b[0mnp\u001b[0m\u001b[0;34m.\u001b[0m\u001b[0marray\u001b[0m\u001b[0;34m(\u001b[0m\u001b[0mvalor_correto\u001b[0m\u001b[0;34m)\u001b[0m \u001b[0;34m-\u001b[0m \u001b[0mnp\u001b[0m\u001b[0;34m.\u001b[0m\u001b[0marray\u001b[0m\u001b[0;34m(\u001b[0m\u001b[0mvalor_ativacao\u001b[0m\u001b[0;34m)\u001b[0m\u001b[0;34m)\u001b[0m\u001b[0;34m)\u001b[0m\u001b[0;34m\u001b[0m\u001b[0;34m\u001b[0m\u001b[0m\n\u001b[0;32m----> 5\u001b[0;31m     \u001b[0merro_quadratico\u001b[0m \u001b[0;34m=\u001b[0m \u001b[0mlist\u001b[0m\u001b[0;34m(\u001b[0m\u001b[0mmap\u001b[0m\u001b[0;34m(\u001b[0m\u001b[0;32mlambda\u001b[0m \u001b[0mx\u001b[0m\u001b[0;34m:\u001b[0m \u001b[0mmath\u001b[0m\u001b[0;34m.\u001b[0m\u001b[0mpow\u001b[0m\u001b[0;34m(\u001b[0m\u001b[0mx\u001b[0m\u001b[0;34m,\u001b[0m \u001b[0;36m2\u001b[0m\u001b[0;34m)\u001b[0m\u001b[0;34m,\u001b[0m \u001b[0mvalor_erro\u001b[0m\u001b[0;34m)\u001b[0m\u001b[0;34m)\u001b[0m\u001b[0;34m\u001b[0m\u001b[0;34m\u001b[0m\u001b[0m\n\u001b[0m\u001b[1;32m      6\u001b[0m     \u001b[0msoma_erro_quadratico\u001b[0m \u001b[0;34m=\u001b[0m \u001b[0msum\u001b[0m\u001b[0;34m(\u001b[0m\u001b[0merro_quadratico\u001b[0m\u001b[0;34m)\u001b[0m\u001b[0;34m\u001b[0m\u001b[0;34m\u001b[0m\u001b[0m\n\u001b[1;32m      7\u001b[0m \u001b[0;34m\u001b[0m\u001b[0m\n",
      "\u001b[0;31mTypeError\u001b[0m: only size-1 arrays can be converted to Python scalars"
     ]
    }
   ],
   "source": [
    "executar_perceptron(funcao_ativacao_sigmoid, funcao_custo_mse, 350, [-0.005, 0.005])"
   ]
  },
  {
   "cell_type": "markdown",
   "metadata": {},
   "source": [
    "# Qual o problema?\n",
    "Selecionar conjunto da escolha"
   ]
  }
 ],
 "metadata": {
  "kernelspec": {
   "display_name": "Python 3",
   "language": "python",
   "name": "python3"
  },
  "language_info": {
   "codemirror_mode": {
    "name": "ipython",
    "version": 3
   },
   "file_extension": ".py",
   "mimetype": "text/x-python",
   "name": "python",
   "nbconvert_exporter": "python",
   "pygments_lexer": "ipython3",
   "version": "3.6.9"
  }
 },
 "nbformat": 4,
 "nbformat_minor": 4
}
