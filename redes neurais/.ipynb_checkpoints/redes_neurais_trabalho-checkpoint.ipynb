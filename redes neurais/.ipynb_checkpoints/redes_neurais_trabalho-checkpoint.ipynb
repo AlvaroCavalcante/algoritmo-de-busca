{
 "cells": [
  {
   "cell_type": "markdown",
   "metadata": {},
   "source": [
    "Relatório do trabalho\n",
    "==============\n",
    "**Nome:** Álvaro Leandro Cavalcante Carneiro\n",
    "**Linguagem utilizada:** Python 3.6\n",
    "\n",
    "Os códigos e o relatório foram desenvolvidos em um Jupyter notebook e sua versão online pode ser encontrada aqui: https://colab.research.google.com/drive/1HQIBTnHCrcSrfAUOsx7836wZzDnQ9Fhd?usp=sharing. Nessa versão é possível executar novamente os algoritmos."
   ]
  },
  {
   "cell_type": "markdown",
   "metadata": {},
   "source": [
    "# Qual o problema ? \n",
    "Utilizar uma rede neural no modelo perceptron para identificar 3 classes de flores baseados em suas características de tamanho de pétalada e sépala."
   ]
  },
  {
   "cell_type": "markdown",
   "metadata": {},
   "source": [
    "## Importação das bibliotecas\n",
    "Ferramentas usadas no processo de desenvolvimento"
   ]
  },
  {
   "cell_type": "code",
   "execution_count": 68,
   "metadata": {},
   "outputs": [],
   "source": [
    "import random\n",
    "import numpy as np\n",
    "import pandas as pd\n",
    "import math\n",
    "import matplotlib.pyplot as plt\n",
    "import time"
   ]
  },
  {
   "cell_type": "markdown",
   "metadata": {},
   "source": [
    "## Análise Exploratória dos Dados (AED)\n",
    "Vamos entender um pouco mais do nosso dataset, e deixar os dados em um formato que seja favorável para nossa rede neural perceptron.\n",
    "\n",
    "O primeiro passo foi ler o arquivo baixado aqui: http://archive.ics.uci.edu/ml/datasets/Iris.\n",
    "O arquivo em questão não possuia colunas, portanto eu modifiquei o mesmo para adicionar o nome das colunas na primeira linha e deixar o arquivo no formato .CSV ao invés do .DATA. "
   ]
  },
  {
   "cell_type": "code",
   "execution_count": 69,
   "metadata": {
    "scrolled": true
   },
   "outputs": [
    {
     "data": {
      "text/html": [
       "<div>\n",
       "<style scoped>\n",
       "    .dataframe tbody tr th:only-of-type {\n",
       "        vertical-align: middle;\n",
       "    }\n",
       "\n",
       "    .dataframe tbody tr th {\n",
       "        vertical-align: top;\n",
       "    }\n",
       "\n",
       "    .dataframe thead th {\n",
       "        text-align: right;\n",
       "    }\n",
       "</style>\n",
       "<table border=\"1\" class=\"dataframe\">\n",
       "  <thead>\n",
       "    <tr style=\"text-align: right;\">\n",
       "      <th></th>\n",
       "      <th>sepal-length</th>\n",
       "      <th>sepal-width</th>\n",
       "      <th>petal-length</th>\n",
       "      <th>petal-width</th>\n",
       "      <th>class</th>\n",
       "    </tr>\n",
       "  </thead>\n",
       "  <tbody>\n",
       "    <tr>\n",
       "      <th>0</th>\n",
       "      <td>5.1</td>\n",
       "      <td>3.5</td>\n",
       "      <td>1.4</td>\n",
       "      <td>0.2</td>\n",
       "      <td>Iris-setosa</td>\n",
       "    </tr>\n",
       "    <tr>\n",
       "      <th>1</th>\n",
       "      <td>4.9</td>\n",
       "      <td>3.0</td>\n",
       "      <td>1.4</td>\n",
       "      <td>0.2</td>\n",
       "      <td>Iris-setosa</td>\n",
       "    </tr>\n",
       "    <tr>\n",
       "      <th>2</th>\n",
       "      <td>4.7</td>\n",
       "      <td>3.2</td>\n",
       "      <td>1.3</td>\n",
       "      <td>0.2</td>\n",
       "      <td>Iris-setosa</td>\n",
       "    </tr>\n",
       "    <tr>\n",
       "      <th>3</th>\n",
       "      <td>4.6</td>\n",
       "      <td>3.1</td>\n",
       "      <td>1.5</td>\n",
       "      <td>0.2</td>\n",
       "      <td>Iris-setosa</td>\n",
       "    </tr>\n",
       "    <tr>\n",
       "      <th>4</th>\n",
       "      <td>5.0</td>\n",
       "      <td>3.6</td>\n",
       "      <td>1.4</td>\n",
       "      <td>0.2</td>\n",
       "      <td>Iris-setosa</td>\n",
       "    </tr>\n",
       "  </tbody>\n",
       "</table>\n",
       "</div>"
      ],
      "text/plain": [
       "   sepal-length  sepal-width  petal-length  petal-width        class\n",
       "0           5.1          3.5           1.4          0.2  Iris-setosa\n",
       "1           4.9          3.0           1.4          0.2  Iris-setosa\n",
       "2           4.7          3.2           1.3          0.2  Iris-setosa\n",
       "3           4.6          3.1           1.5          0.2  Iris-setosa\n",
       "4           5.0          3.6           1.4          0.2  Iris-setosa"
      ]
     },
     "execution_count": 69,
     "metadata": {},
     "output_type": "execute_result"
    }
   ],
   "source": [
    "dataframe = pd.read_csv('/home/alvaro/Documentos/mestrado/computação bio/redes neurais/datasets/iris2.csv', header = 0)\n",
    "\n",
    "dataframe.head()"
   ]
  },
  {
   "cell_type": "markdown",
   "metadata": {},
   "source": [
    "Um passo inicial importante é verificar se o nosso dataset possui inconsistências quanto aos valores, podendo ser algum outlier, ruído, valor vazio, etc..."
   ]
  },
  {
   "cell_type": "code",
   "execution_count": 70,
   "metadata": {
    "scrolled": true
   },
   "outputs": [
    {
     "name": "stdout",
     "output_type": "stream",
     "text": [
      "Valores nulos:\n",
      "sepal-length    0\n",
      "sepal-width     0\n",
      "petal-length    0\n",
      "petal-width     0\n",
      "class           0\n",
      "dtype: int64\n"
     ]
    },
    {
     "data": {
      "text/html": [
       "<div>\n",
       "<style scoped>\n",
       "    .dataframe tbody tr th:only-of-type {\n",
       "        vertical-align: middle;\n",
       "    }\n",
       "\n",
       "    .dataframe tbody tr th {\n",
       "        vertical-align: top;\n",
       "    }\n",
       "\n",
       "    .dataframe thead th {\n",
       "        text-align: right;\n",
       "    }\n",
       "</style>\n",
       "<table border=\"1\" class=\"dataframe\">\n",
       "  <thead>\n",
       "    <tr style=\"text-align: right;\">\n",
       "      <th></th>\n",
       "      <th>sepal-length</th>\n",
       "      <th>sepal-width</th>\n",
       "      <th>petal-length</th>\n",
       "      <th>petal-width</th>\n",
       "    </tr>\n",
       "  </thead>\n",
       "  <tbody>\n",
       "    <tr>\n",
       "      <th>count</th>\n",
       "      <td>150.000000</td>\n",
       "      <td>150.000000</td>\n",
       "      <td>150.000000</td>\n",
       "      <td>150.000000</td>\n",
       "    </tr>\n",
       "    <tr>\n",
       "      <th>mean</th>\n",
       "      <td>5.843333</td>\n",
       "      <td>3.054000</td>\n",
       "      <td>3.758667</td>\n",
       "      <td>1.198667</td>\n",
       "    </tr>\n",
       "    <tr>\n",
       "      <th>std</th>\n",
       "      <td>0.828066</td>\n",
       "      <td>0.433594</td>\n",
       "      <td>1.764420</td>\n",
       "      <td>0.763161</td>\n",
       "    </tr>\n",
       "    <tr>\n",
       "      <th>min</th>\n",
       "      <td>4.300000</td>\n",
       "      <td>2.000000</td>\n",
       "      <td>1.000000</td>\n",
       "      <td>0.100000</td>\n",
       "    </tr>\n",
       "    <tr>\n",
       "      <th>25%</th>\n",
       "      <td>5.100000</td>\n",
       "      <td>2.800000</td>\n",
       "      <td>1.600000</td>\n",
       "      <td>0.300000</td>\n",
       "    </tr>\n",
       "    <tr>\n",
       "      <th>50%</th>\n",
       "      <td>5.800000</td>\n",
       "      <td>3.000000</td>\n",
       "      <td>4.350000</td>\n",
       "      <td>1.300000</td>\n",
       "    </tr>\n",
       "    <tr>\n",
       "      <th>75%</th>\n",
       "      <td>6.400000</td>\n",
       "      <td>3.300000</td>\n",
       "      <td>5.100000</td>\n",
       "      <td>1.800000</td>\n",
       "    </tr>\n",
       "    <tr>\n",
       "      <th>max</th>\n",
       "      <td>7.900000</td>\n",
       "      <td>4.400000</td>\n",
       "      <td>6.900000</td>\n",
       "      <td>2.500000</td>\n",
       "    </tr>\n",
       "  </tbody>\n",
       "</table>\n",
       "</div>"
      ],
      "text/plain": [
       "       sepal-length  sepal-width  petal-length  petal-width\n",
       "count    150.000000   150.000000    150.000000   150.000000\n",
       "mean       5.843333     3.054000      3.758667     1.198667\n",
       "std        0.828066     0.433594      1.764420     0.763161\n",
       "min        4.300000     2.000000      1.000000     0.100000\n",
       "25%        5.100000     2.800000      1.600000     0.300000\n",
       "50%        5.800000     3.000000      4.350000     1.300000\n",
       "75%        6.400000     3.300000      5.100000     1.800000\n",
       "max        7.900000     4.400000      6.900000     2.500000"
      ]
     },
     "execution_count": 70,
     "metadata": {},
     "output_type": "execute_result"
    }
   ],
   "source": [
    "print('Valores nulos:')\n",
    "print(dataframe.isna().sum())\n",
    "dataframe.describe()"
   ]
  },
  {
   "cell_type": "markdown",
   "metadata": {},
   "source": [
    "## Mostrando a dispersão dos dados\n",
    "Podemos plotar um gráfico para mostrar o comportamento da dispersão das classes do dataset, sendo possível inclusive ver se o problema é linearmente separável.\n",
    "\n",
    "Antes disso, é necessário dividir o *dataframe* em uma variável chamada **previsores** e outra chamada **classe**, como o nome sugere, os previsores são as colunas com as características das flores que serão usadas para tentar ajustar nossos pesos da rede de maneira à generalizar uma solução que encontre as classes corretamente."
   ]
  },
  {
   "cell_type": "code",
   "execution_count": 71,
   "metadata": {},
   "outputs": [],
   "source": [
    "previsores = dataframe.iloc[:, 0:4] \n",
    "classe = dataframe['class']"
   ]
  },
  {
   "cell_type": "code",
   "execution_count": 72,
   "metadata": {
    "scrolled": true
   },
   "outputs": [
    {
     "data": {
      "text/plain": [
       "<Figure size 432x288 with 0 Axes>"
      ]
     },
     "metadata": {},
     "output_type": "display_data"
    },
    {
     "data": {
      "image/png": "[encoded data removed]",
      "text/plain": [
       "<Figure size 1512x720 with 2 Axes>"
      ]
     },
     "metadata": {
      "needs_background": "light"
     },
     "output_type": "display_data"
    }
   ],
   "source": [
    "plt.figure()\n",
    "fig,ax=plt.subplots(1,2,figsize=(21, 10))\n",
    "\n",
    "setosa=dataframe[dataframe['class']=='Iris-setosa']\n",
    "versicolor =dataframe[dataframe['class']=='Iris-versicolor']\n",
    "virginica =dataframe[dataframe['class']=='Iris-virginica']\n",
    "\n",
    "setosa.plot(x=\"sepal-length\", y=\"sepal-width\", kind=\"scatter\",ax=ax[0],label='setosa',color='r')\n",
    "virginica.plot(x=\"sepal-length\",y=\"sepal-width\",kind=\"scatter\",ax=ax[0],label='versicolor',color='b')\n",
    "versicolor.plot(x=\"sepal-length\", y=\"sepal-width\", kind=\"scatter\", ax=ax[0], label='virginica', color='g')\n",
    "\n",
    "setosa.plot(x=\"petal-length\", y=\"petal-width\", kind=\"scatter\",ax=ax[1],label='setosa',color='r')\n",
    "versicolor.plot(x=\"petal-length\",y=\"petal-width\",kind=\"scatter\",ax=ax[1],label='versicolor',color='b')\n",
    "virginica.plot(x=\"petal-length\", y=\"petal-width\", kind=\"scatter\", ax=ax[1], label='virginica', color='g')\n",
    "\n",
    "ax[0].set(title='Comparação de sépalas ', ylabel='sepal-width')\n",
    "ax[1].set(title='Comparação de pétalas',  ylabel='petal-width')\n",
    "ax[0].legend()\n",
    "ax[1].legend()\n",
    "plt.show()"
   ]
  },
  {
   "cell_type": "markdown",
   "metadata": {},
   "source": [
    "Podemos ver que as classes virgínica e versicolor são as mais complicadas de serem separadas, principalmente quando olhamos para o tamanho das pétalas"
   ]
  },
  {
   "cell_type": "markdown",
   "metadata": {},
   "source": [
    "## Normalização dos atributos previsores\n",
    "O método *isnul()* nos mostrou que não há nenhum registro vazio no nosso dataset, além disso, é possível observar que os valores também parecem estar todos coerentes, sem a presença de outliers, como podemos notar pelo desvio padrão e mínimo e máximo de cada coluna, além do gráfico de dispersão.\n",
    "\n",
    "Todavia, existe uma variação relativamente grande dentro do nosso domínio de atributos previsores. O atributo *petal-width* por exemplo, tem uma média de valor de 1.1, enquanto o *sepal-length* possui uma média de 5.8, portanto se faz necessário a padronização dos valores, para que nosso ajuste dos pesos não seja muito influenciado por essa diferença no tamanho da entrada. \n",
    "\n",
    "O tipo de normalização escolhido foi o **Z-score**, de forma arbitrária, por ser bastante comum em problemas como esse. Sua fórmula é bastante simples e foi representada no método *normalizacao_z_score*."
   ]
  },
  {
   "cell_type": "code",
   "execution_count": 73,
   "metadata": {},
   "outputs": [],
   "source": [
    "def normalizacao_z_score(valor):\n",
    "    media = previsores[valor.name].mean()\n",
    "    desvio_padrao = previsores[valor.name].std()\n",
    "\n",
    "    return (valor - media) / desvio_padrao"
   ]
  },
  {
   "cell_type": "markdown",
   "metadata": {},
   "source": [
    "O método *apply()* com a **lambda** aplicam o processo matemático do nosso método de normalização em cada um dos registros do *dataframe*."
   ]
  },
  {
   "cell_type": "code",
   "execution_count": 74,
   "metadata": {
    "scrolled": true
   },
   "outputs": [
    {
     "data": {
      "text/html": [
       "<div>\n",
       "<style scoped>\n",
       "    .dataframe tbody tr th:only-of-type {\n",
       "        vertical-align: middle;\n",
       "    }\n",
       "\n",
       "    .dataframe tbody tr th {\n",
       "        vertical-align: top;\n",
       "    }\n",
       "\n",
       "    .dataframe thead th {\n",
       "        text-align: right;\n",
       "    }\n",
       "</style>\n",
       "<table border=\"1\" class=\"dataframe\">\n",
       "  <thead>\n",
       "    <tr style=\"text-align: right;\">\n",
       "      <th></th>\n",
       "      <th>sepal-length</th>\n",
       "      <th>sepal-width</th>\n",
       "      <th>petal-length</th>\n",
       "      <th>petal-width</th>\n",
       "    </tr>\n",
       "  </thead>\n",
       "  <tbody>\n",
       "    <tr>\n",
       "      <th>0</th>\n",
       "      <td>-0.897674</td>\n",
       "      <td>1.028611</td>\n",
       "      <td>-1.336794</td>\n",
       "      <td>-1.308593</td>\n",
       "    </tr>\n",
       "    <tr>\n",
       "      <th>1</th>\n",
       "      <td>-1.139200</td>\n",
       "      <td>-0.124540</td>\n",
       "      <td>-1.336794</td>\n",
       "      <td>-1.308593</td>\n",
       "    </tr>\n",
       "    <tr>\n",
       "      <th>2</th>\n",
       "      <td>-1.380727</td>\n",
       "      <td>0.336720</td>\n",
       "      <td>-1.393470</td>\n",
       "      <td>-1.308593</td>\n",
       "    </tr>\n",
       "    <tr>\n",
       "      <th>3</th>\n",
       "      <td>-1.501490</td>\n",
       "      <td>0.106090</td>\n",
       "      <td>-1.280118</td>\n",
       "      <td>-1.308593</td>\n",
       "    </tr>\n",
       "    <tr>\n",
       "      <th>4</th>\n",
       "      <td>-1.018437</td>\n",
       "      <td>1.259242</td>\n",
       "      <td>-1.336794</td>\n",
       "      <td>-1.308593</td>\n",
       "    </tr>\n",
       "  </tbody>\n",
       "</table>\n",
       "</div>"
      ],
      "text/plain": [
       "   sepal-length  sepal-width  petal-length  petal-width\n",
       "0     -0.897674     1.028611     -1.336794    -1.308593\n",
       "1     -1.139200    -0.124540     -1.336794    -1.308593\n",
       "2     -1.380727     0.336720     -1.393470    -1.308593\n",
       "3     -1.501490     0.106090     -1.280118    -1.308593\n",
       "4     -1.018437     1.259242     -1.336794    -1.308593"
      ]
     },
     "execution_count": 74,
     "metadata": {},
     "output_type": "execute_result"
    }
   ],
   "source": [
    "previsores = previsores.apply(lambda row: normalizacao_z_score(row))\n",
    "previsores.head()"
   ]
  },
  {
   "cell_type": "markdown",
   "metadata": {},
   "source": [
    "## Tratando valores categóricos\n",
    "Podemos ver agora que nossos valores estão em uma escala completamente diferente, todavia isso os torna mais coerente de serem trabalhados.\n",
    "\n",
    "O próximo passo será transformar o valor da nossa classe de categórico para discreto, para que seja possível calcular o erro da saída por exemplo.\n",
    "\n",
    "O primeiro passo para isso foi criar um método que gera uma estrutura de dicionário dinâmica, baseado na quantidade de classes do problema que está sendo tratado. Para isso, basta percorrer a classe existente e atribuir um valor inteiro para cada classe."
   ]
  },
  {
   "cell_type": "code",
   "execution_count": 75,
   "metadata": {},
   "outputs": [],
   "source": [
    "def get_dicionario_classes(classe):\n",
    "    dict_classes = {}\n",
    "    count = 0\n",
    "    \n",
    "    for i in classe.unique():\n",
    "        dict_classes[i] = count\n",
    "        count += 1\n",
    "        \n",
    "    return dict_classes"
   ]
  },
  {
   "cell_type": "code",
   "execution_count": 76,
   "metadata": {},
   "outputs": [
    {
     "name": "stdout",
     "output_type": "stream",
     "text": [
      "{'Iris-setosa': 0, 'Iris-versicolor': 1, 'Iris-virginica': 2}\n"
     ]
    }
   ],
   "source": [
    "dict_classes = get_dicionario_classes(classe)\n",
    "print(dict_classes)"
   ]
  },
  {
   "cell_type": "markdown",
   "metadata": {},
   "source": [
    "Podemos ver acima os valores que nosso método atribuiu para cada uma das classes.\n",
    "\n",
    "Basta agora repetir o processos anterior de usar o método *apply()*, porém agora passando no *lambda* o método que vai atribuir a classe a seu determinado valor no dicionário que criamos anteriormente."
   ]
  },
  {
   "cell_type": "code",
   "execution_count": 77,
   "metadata": {
    "scrolled": false
   },
   "outputs": [
    {
     "name": "stdout",
     "output_type": "stream",
     "text": [
      "2    50\n",
      "1    50\n",
      "0    50\n",
      "Name: class, dtype: int64\n"
     ]
    }
   ],
   "source": [
    "def transformar_categorico_em_numerico(valor, dict_classes):\n",
    "    return dict_classes[valor]\n",
    "    \n",
    "classe = classe.apply(lambda row: transformar_categorico_em_numerico(row, dict_classes))\n",
    "print(classe.value_counts())"
   ]
  },
  {
   "cell_type": "markdown",
   "metadata": {},
   "source": [
    "## Lidando com problemas multi-classe\n",
    "O problema em questão é multi-classe, ou seja, possuímos mais de duas classes como resposta na nossa camada de saída, podendo ser, íris-setosa, versicolor e virginica.\n",
    "Para problemas binários utilizar um único neurônio com a saída de 0 e 1 nos basta, todavia aqui, vamos precisar criar um novo neurônio para cada classe, totalizando 3 na nossa camada de saída.\n",
    "\n",
    "Além de modificar a estrutura da rede neural, também vamos precisar codificar nossos valores, uma vez que, ao invés de um valor escalar vamos trabalhar com um array na saída da rede, sendo ele representado por: [1,0,0], [0,1,0] e [0,0,1]."
   ]
  },
  {
   "cell_type": "code",
   "execution_count": 78,
   "metadata": {},
   "outputs": [],
   "source": [
    "def codificar_classe():\n",
    "    classe_codificada = {}\n",
    "    array_classe = [1] + [0] * (len(classe.unique()) - 1) #cria um array dinâmico baseado na \n",
    "    #quantidade de classes, é [1,0,0] para esse problema mas poderia ser [1,0,0,0....,0].\n",
    "    count = 1    \n",
    "    classe_codificada[0] = array_classe.copy()\n",
    "    \n",
    "    for i in range(len(classe.unique()) - 1):\n",
    "        array_classe[count - 1] = 0\n",
    "        array_classe[count] = 1     \n",
    "        classe_codificada[count] = array_classe.copy()\n",
    "        count += 1\n",
    "    \n",
    "    return classe_codificada      \n",
    "\n",
    "classe_codificada = codificar_classe()"
   ]
  },
  {
   "cell_type": "code",
   "execution_count": 79,
   "metadata": {},
   "outputs": [
    {
     "data": {
      "text/plain": [
       "{0: [1, 0, 0], 1: [0, 1, 0], 2: [0, 0, 1]}"
      ]
     },
     "execution_count": 79,
     "metadata": {},
     "output_type": "execute_result"
    }
   ],
   "source": [
    "classe_codificada"
   ]
  },
  {
   "cell_type": "markdown",
   "metadata": {},
   "source": [
    "A ideia do método *codificar_classe* é criar mais um dicionário, como podemos ver acima, onde cada posição representa uma classe codificada em um array de binários. O tamanho desse array é dinâmico dependendo do número de classes e a ideia é ir movimentando o valor do 1 conforme as iterações.\n",
    "\n",
    "Feito isso, basta repetir o processo para substituir o valor da classe."
   ]
  },
  {
   "cell_type": "code",
   "execution_count": 80,
   "metadata": {},
   "outputs": [
    {
     "name": "stdout",
     "output_type": "stream",
     "text": [
      "0    [1, 0, 0]\n",
      "1    [1, 0, 0]\n",
      "2    [1, 0, 0]\n",
      "3    [1, 0, 0]\n",
      "4    [1, 0, 0]\n",
      "Name: class, dtype: object\n"
     ]
    }
   ],
   "source": [
    "def substituir_classe_codificada(valor, classe_codificada):\n",
    "    return classe_codificada[valor]\n",
    "\n",
    "classe = classe.apply(lambda row: substituir_classe_codificada(row, classe_codificada))\n",
    "print(classe.head())"
   ]
  },
  {
   "cell_type": "markdown",
   "metadata": {},
   "source": [
    "Com isso, a classe agora está em uma estrutura que vai suportar o problema multi-classe."
   ]
  },
  {
   "cell_type": "markdown",
   "metadata": {},
   "source": [
    "## Divisão do dataset\n",
    "Agora que os dados do *dataframe* já estão no formato necessário, basta dividir as bases em treinamento, validação e teste, usando a proporção de 70%, 15% e 15%.\n",
    "\n",
    "Para isso foi criado o método *dividir_dataframe* onde iremos utilizar o método *sample* do pandas para pegar amostras aleatórias sem reposição do nosso dataframe, e a partir dessa amostra iremos criar os outros conjuntos.\n",
    "\n",
    "O *x_treinamento* vai ser a fatia responsável por treinar a rede e ajustar os pesos. A validação do treinamento será feita ao final de cada época na base chamada *x_teste*, nos dando uma avaliação não enviesada dos resultados da rede em dados não vistos.\n",
    "\n",
    "Após a rede estar completamente treinada, iremos usar a base de *x_validacao* para gerar novas previsões baseado em atributos previsores nunca antes vistos pela rede, nos dando uma validação final da eficácia do treinamento.\n",
    "\n",
    "O conjunto de teste e validação são semelhantes, com a diferença que iremos consultar os resultados do teste ao final de cada época e iremos ajustar nossos parâmetros para melhorar os resultados na base de teste. Todavia o conjunto de validação será executado apenas uma única vez, ao final de todo processo de *tunning* da rede, para nos dar um resultado derradeiro de performance.\n",
    "https://machinelearningmastery.com/difference-test-validation-datasets/"
   ]
  },
  {
   "cell_type": "code",
   "execution_count": 81,
   "metadata": {},
   "outputs": [],
   "source": [
    "def dividir_dataframe(previsores, classe, p_treinamento, p_teste, p_validacao):\n",
    "    x_treinamento = previsores.sample(frac = p_treinamento)\n",
    "    y_treinamento = classe[x_treinamento.index]\n",
    "    \n",
    "    x_teste_sem_previsores = previsores.drop(x_treinamento.index)\n",
    "    nova_p_teste = p_teste / (1 - p_treinamento)\n",
    "    \n",
    "    x_teste = x_teste_sem_previsores.sample(frac = nova_p_teste)\n",
    "    y_teste = classe[x_teste.index]\n",
    "    \n",
    "    x_validacao = x_teste_sem_previsores.drop(x_teste.index)\n",
    "    y_validacao = classe[x_validacao.index]\n",
    "    \n",
    "    return x_treinamento.reset_index(drop=True), y_treinamento.reset_index(drop=True), \\\n",
    "    x_teste.reset_index(drop=True), y_teste.reset_index(drop=True), x_validacao.reset_index(drop=True), y_validacao.reset_index(drop=True)"
   ]
  },
  {
   "cell_type": "markdown",
   "metadata": {},
   "source": [
    "Estou usando a nomenclatura de \"x\" para me remeter à atributos previsores e \"y\" para classe."
   ]
  },
  {
   "cell_type": "markdown",
   "metadata": {},
   "source": [
    "## Inicialização dos pesos\n",
    "Os pesos serão inicializados de forma aleatória para então serem gradativamente ajustados conforme a rede neural converge.\n",
    "Para isso, foi criado o método *inicializar_pesos*, que percorre cada um dos neurônios e gera um vetor da quantidade de pesos que ele possui baseado nas suas conexões sinapticas com os neurônios da próxima camada.\n",
    "\n",
    "Além disso, nosso método também recebe um parâmetro chamado dominio, que é o intervalo de valores que os pesos serão gerados, os testes a princípio foram realizados em um domínio de [0,1]."
   ]
  },
  {
   "cell_type": "code",
   "execution_count": 82,
   "metadata": {},
   "outputs": [],
   "source": [
    "def inicializar_pesos(dominio):\n",
    "    pesos_final = []\n",
    "    \n",
    "    for i in range(len(previsores.columns)):\n",
    "        pesos = [] \n",
    "        for j in range(len(dict_classes)):\n",
    "            pesos.append(random.uniform(dominio[0], dominio[1]))\n",
    "        pesos_final.append(pesos)\n",
    "    return pesos_final"
   ]
  },
  {
   "cell_type": "code",
   "execution_count": 83,
   "metadata": {
    "scrolled": true
   },
   "outputs": [
    {
     "name": "stdout",
     "output_type": "stream",
     "text": [
      "Pesos: [[0.8418194266435364, 0.13619780514665925, 0.16318801383761083], [0.8510970433875387, 0.12172273022928992, 0.9689365347751431], [0.5368012168394463, 0.28190846024403293, 0.5444992220096446], [0.7274597579958176, 0.033216775598286175, 0.3444690566891452]]\n"
     ]
    }
   ],
   "source": [
    "pesos = inicializar_pesos([0, 1])\n",
    "print('Pesos:', pesos)"
   ]
  },
  {
   "cell_type": "markdown",
   "metadata": {},
   "source": [
    "Como podemos ver acima, nosso array de pesos para esse problema possui 4 posições com 3 pesos em cada uma das posições, isso acontece por que possuímos 4 neurônios (nosso atributos de entrada) conectados à 3 neurônios (um neurônio para cada saída possível), portanto cada um dos 4 neurônios possui 3 pesos (conexões) cada um. \n",
    "\n",
    "Para obter o número de conexões por camada basta multiplicar o número de neurônios da camada atual pelos número de neurônios na próxima camada, dessa forma temos: 4 * 3 = 12."
   ]
  },
  {
   "cell_type": "markdown",
   "metadata": {},
   "source": [
    "## Implementação da função de soma\n",
    "O perceptron, assim como o perceptron multicamadas, possui diversas operações que são realizadas entre os neurônios, esses operações foram representadas em diferentes métodos peqenos.\n",
    "O primeiro deles é a função de soma, que acontece em todos os neurônios, somando o valor do produto da multiplicação entre o neurônio adjacente anterior com o peso da sinapse artificial.\n",
    "Isso foi feito utilizando a biblioteca do numpy por uma questão de performance, onde a função dot nos retorna o produto escalar que desejamos."
   ]
  },
  {
   "cell_type": "code",
   "execution_count": 84,
   "metadata": {},
   "outputs": [],
   "source": [
    "def somatoria(entradas, pesos):\n",
    "    return np.dot(entradas, pesos) "
   ]
  },
  {
   "cell_type": "markdown",
   "metadata": {},
   "source": [
    "## Função de ativação\n",
    "A função de ativação por default no perceptron é a chamada \"step function (função degrau)\", onde o neurônio artificial é excitado ou não baseado em um treshold (limiar) pré definido.\n",
    "Nesse caso, se o valor do neurônio for maior que 0 ele retorna o 1, excitando a célula, caso contrário, retorna 0.\n",
    "\n",
    "Por ser um problema multiclasse, foi criado um *for* para percorrer o array da classe e excitar todas as posições em que o valor é maior que 0. \n",
    "\n",
    "Claro que isso acaba gerando um problema onde mais de um neurônio por vez na camada de saída é excitado. "
   ]
  },
  {
   "cell_type": "code",
   "execution_count": 85,
   "metadata": {},
   "outputs": [],
   "source": [
    "def funcao_ativacao_step(soma):\n",
    "    ativacao = []\n",
    "    for i in soma:\n",
    "        if i > 0:\n",
    "            ativacao.append(1)\n",
    "        else:\n",
    "            ativacao.append(0)\n",
    "\n",
    "    return ativacao"
   ]
  },
  {
   "cell_type": "markdown",
   "metadata": {},
   "source": [
    "## Função de custo\n",
    "A função de custo é a responsável por calcular o erro da nossa rede neural, ao comparar o valor correto com o valor que foi previsto."
   ]
  },
  {
   "cell_type": "code",
   "execution_count": 86,
   "metadata": {},
   "outputs": [],
   "source": [
    "def funcao_custo(valor_correto, valor_previsto):\n",
    "    erro = list(abs(np.array(valor_correto) - np.array(valor_previsto)))\n",
    "    return sum(erro) # valor escalar"
   ]
  },
  {
   "cell_type": "markdown",
   "metadata": {},
   "source": [
    "## Função de atualização de peso\n",
    "A atualização de pesos no perceptron é definida pela seguinte formula:\n",
    "\n",
    "\n",
    "Com isso, conseguimos ajustar os pesos seguindo um taxa de aprendizado, basicamente o tamanho do nosso \"passo\", além de levar em consideração a grandeza da entrada e o quanto a previsão estava incorreta.\n",
    "\n",
    "Algo importante de se considerar é que o perceptron faz a atualização dos pesos POR REGISTRO, ou seja, a cada registro apresentado à rede neural que é classificado de forma incorreta gera uma atualização nos pesos, podendo dificultar a generalização dos pesos devido à sensibilidade aos dados contidos no dataset."
   ]
  },
  {
   "cell_type": "code",
   "execution_count": 87,
   "metadata": {},
   "outputs": [],
   "source": [
    "def atualizar_peso(entrada, peso, erro, tx_aprendizado = 0.001):\n",
    "    novo_peso = peso + (tx_aprendizado * entrada * erro)\n",
    "    return novo_peso"
   ]
  },
  {
   "cell_type": "markdown",
   "metadata": {},
   "source": [
    "## Implementação do perceptron\n",
    "A função de treinamento recebe o número de épocas que iremos executar nosso perceptron, onde cada época representa a passagem de todo o dataset na nossa rede. A estratégia seguida a princípio para atualização dos pesos é por registro, ou seja, para cada registro errado nós fazemos os ajustes nos pesos. Geralmente no perceptron multicamadas essa atualização é feita por épocas ou batches."
   ]
  },
  {
   "cell_type": "code",
   "execution_count": 106,
   "metadata": {},
   "outputs": [],
   "source": [
    "def treinar(epocas, f_ativacao, pesos, x_treinamento, y_treinamento, x_teste, y_teste):\n",
    "    execucoes = 0\n",
    "    precisoes_treinamento = [0]\n",
    "    precisoes_teste = [0]\n",
    "    while execucoes < epocas:\n",
    "        precisao = 0\n",
    "        iteracao = 0\n",
    "\n",
    "        np.random.shuffle(x_treinamento.values) # embaralhar os valores dos previsores, por que sem isso, podemos ter sempre uma ordem fixa de ajuste de pesos, prejudicando a rede\n",
    "\n",
    "        for i in x_treinamento.values:\n",
    "            entradas = i   \n",
    "            soma = somatoria(entradas, pesos)\n",
    "        \n",
    "            ativacao = f_ativacao(soma)\n",
    "        \n",
    "            erro = funcao_custo(y_treinamento[iteracao], ativacao) # baseado no meu resultado previsto, dado na última função de ativação.\n",
    "        \n",
    "            if erro > 0:\n",
    "                count = 0\n",
    "\n",
    "                for i in entradas:\n",
    "                    novo_peso = atualizar_peso(i, pesos[count], erro)\n",
    "                    pesos[count] = novo_peso\n",
    "                    count += 1\n",
    "            else:\n",
    "                precisao += 100 / len(x_treinamento)\n",
    "                precisoes_treinamento.append(precisao)\n",
    "\n",
    "            iteracao += 1\n",
    "        \n",
    "        precisoes_teste.append(testar(pesos, x_teste, y_teste, f_ativacao))\n",
    "        execucoes += 1\n",
    "    return max(precisoes_treinamento), max(precisoes_teste), pesos"
   ]
  },
  {
   "cell_type": "markdown",
   "metadata": {},
   "source": [
    "## Método de teste\n",
    "Ao final de cada época a rede teve seu desempenho avaliado na base de teste, isso foi feito no método *testar* onde usamos os pesos ajustados no treinamento apenas para pegar os acertos e erros no conjunto de teste."
   ]
  },
  {
   "cell_type": "code",
   "execution_count": 110,
   "metadata": {},
   "outputs": [],
   "source": [
    "def testar(pesos, x_teste, y_teste, f_ativacao):\n",
    "    precisao = 0\n",
    "    iteracao = 0\n",
    "    for i in x_teste.values:\n",
    "        entradas = i   \n",
    "        soma = somatoria(entradas, pesos)\n",
    "        \n",
    "        ativacao = f_ativacao(soma)\n",
    "        \n",
    "        erro = funcao_custo(y_teste[iteracao], ativacao)\n",
    "\n",
    "        if erro == 0:\n",
    "            precisao += 100 / len(x_teste)\n",
    "        \n",
    "        iteracao += 1\n",
    "    \n",
    "    return precisao"
   ]
  },
  {
   "cell_type": "markdown",
   "metadata": {},
   "source": [
    "## Testes no perceptron\n",
    "Uma vez que a rede perceptron foi criada basta testar os resultados com diferentes parâmetros. Para isso, o algoritmo foi inicializado 50 vezes, sem nenhuma mudança nos dados, apenas gerando um conjunto inicial de pesos diferente para cada inicialização.\n",
    "\n",
    "As redes neurais são algoritmos extremamente estocásticos, o que faz com que sejam inclusive evitados em algumas áreas, portanto é interessante tentar treinar a rede várias vezes para tentar capturar seus melhores resultados.\n",
    "\n",
    "Para isso, foi criado a função genérica chamada *executar_perceptron*, que recebe os parâmetros e treina a rede perceptron."
   ]
  },
  {
   "cell_type": "code",
   "execution_count": 107,
   "metadata": {},
   "outputs": [],
   "source": [
    "def executar_perceptron(funcao_ativacao, epocas, dominio_pesos = [0, 1]):\n",
    "    precisao_treinamento = []\n",
    "    precisao_teste = []\n",
    "    resultado_final = []\n",
    "    start_time = time.time()\n",
    "    \n",
    "    for i in range(50):\n",
    "        x_treinamento, y_treinamento, x_teste, y_teste, \\\n",
    "        x_validacao, y_validacao = dividir_dataframe(previsores, classe, 0.7, 0.15, 0.15)\n",
    "        \n",
    "        pesos = inicializar_pesos(dominio_pesos) # Alterando os pesos em cada inicialização\n",
    "        treinamento = treinar(epocas, funcao_ativacao, pesos, x_treinamento,\n",
    "                                     y_treinamento, x_teste, y_teste)\n",
    "        \n",
    "        precisao_treinamento.append(treinamento[0])\n",
    "        precisao_teste.append(treinamento[1])\n",
    "        resultado_final.append(testar(treinamento[2], x_validacao, y_validacao, funcao_ativacao))\n",
    "        \n",
    "    print('Melhor precisão de treinamento', max(precisao_treinamento))\n",
    "    print('Melhor precisão de teste', max(precisao_teste))\n",
    "    print('Melhor precisão de validação', max(precisao_teste))\n",
    "    print(\"Tempo de execução: %s Segundos\" % (time.time() - start_time))"
   ]
  },
  {
   "cell_type": "code",
   "execution_count": 108,
   "metadata": {
    "scrolled": true
   },
   "outputs": [
    {
     "name": "stdout",
     "output_type": "stream",
     "text": [
      "Melhor precisão de treinamento 12.380952380952381\n",
      "Melhor precisão de teste 27.272727272727277\n",
      "Melhor precisão de validação 27.272727272727277\n",
      "Tempo de execução: 24.555283308029175 Segundos\n"
     ]
    }
   ],
   "source": [
    "executar_perceptron(funcao_ativacao_step, 100)"
   ]
  },
  {
   "cell_type": "markdown",
   "metadata": {},
   "source": [
    "### Resultados iniciais e ZeroR\n",
    "Nossos testes inicias nos mostram uma precisão extremamente baixa, algo está definitivamente se comportando mal no algoritmo. Podemos ter certeza que o culpado é nosso algoritmo e não a base de dados devido à análise exploratória nos dados que foi feita anteriormente, além de do fato de ter o conhecimento de que é um problema linearmente separável.\n",
    "\n",
    "Para saber a precisão mínima que um algoritmo deve ter para ser considerado melhor do que não usar algoritmo algum ao fazer previsões é o \"zeroR\". Basicamente se classificarmos todos os nosso registros como pertencendo à classe majoritária, qual será nossa precisão?\n",
    "\n",
    "\n",
    "Nesse dataset as classes estão **normalmente distribuídas** em 3 partes iguais, fazendo com que nossa precisão majoritária sem algoritmos seja de **33%**.\n",
    "\n",
    "\n",
    "Todavia ainda que nosso algoritmo seja considerado útil com 34% de acerto, não faz sentido investir em algo com números tão baixos."
   ]
  },
  {
   "cell_type": "markdown",
   "metadata": {},
   "source": [
    "### Função de ativação sigmoid.\n",
    "Como foi dito anteriormente, utilizar a função degrau para ativação pode gerar no aumento dos erros, devido a possibilidade de excitar vários neurônios ao passar pelo limiar especificado.\n",
    "\n",
    "Portanto foi criado uma nova função de ativação baseado na sigmoid, definida pela seguinte fórmula:\n",
    "\n",
    "\n",
    "Com isso, nossos valores ficam em um intervalo de 0 e 1 e o neurônio escolhido para ser excitado é aquele com o maior valor. Dessa forma, já não temos mais o problema de excitar vários neurônios. "
   ]
  },
  {
   "cell_type": "code",
   "execution_count": 21,
   "metadata": {},
   "outputs": [],
   "source": [
    "def funcao_ativacao_sigmoid(soma):\n",
    "    resultado = list(1 / (1 + math.e ** -soma))\n",
    "    index_excitacao = resultado.index(max(resultado)) \n",
    "    resultado = [0] * len(soma)\n",
    "    resultado[index_excitacao] = 1\n",
    "    \n",
    "    return resultado"
   ]
  },
  {
   "cell_type": "code",
   "execution_count": 22,
   "metadata": {},
   "outputs": [
    {
     "name": "stdout",
     "output_type": "stream",
     "text": [
      "Melhor precisão da rede 47.3333333333333\n"
     ]
    }
   ],
   "source": [
    "executar_perceptron(funcao_ativacao_sigmoid, 100)"
   ]
  },
  {
   "cell_type": "markdown",
   "metadata": {},
   "source": [
    "Conseguimos melhorar consideravelmente os resultados com essa nova função de ativação."
   ]
  },
  {
   "cell_type": "markdown",
   "metadata": {},
   "source": [
    "### Bias\n",
    "Algo que podemos fazer para melhorar a generalização da rede é adicionar o Bias, sendo uma constante que será considerada como um neurônio na camada de entrada."
   ]
  },
  {
   "cell_type": "code",
   "execution_count": 23,
   "metadata": {
    "scrolled": true
   },
   "outputs": [
    {
     "name": "stdout",
     "output_type": "stream",
     "text": [
      "Melhor precisão da rede 39.33333333333333\n"
     ]
    }
   ],
   "source": [
    "previsores['bias'] = 1\n",
    "executar_perceptron(funcao_ativacao_sigmoid, 100)"
   ]
  },
  {
   "cell_type": "markdown",
   "metadata": {},
   "source": [
    "Como podemos ver, a aplicação do bias também nos ajudo a melhorar os resultados da rede, chegando em torno de 70% de precisão.\n",
    "\n",
    "Um outro parâmetro que pode ser otimizado é o domínio dos pesos, podemos alterar o mesmo para tentar buscar um nível de precisão maior."
   ]
  },
  {
   "cell_type": "code",
   "execution_count": null,
   "metadata": {},
   "outputs": [],
   "source": [
    "executar_perceptron(funcao_ativacao_sigmoid, 100, [0, 0.5])"
   ]
  },
  {
   "cell_type": "code",
   "execution_count": null,
   "metadata": {},
   "outputs": [],
   "source": [
    "Utilizar o domínio entre 0 e 0.5 nos acrescentou um pequeno ganho de precisão também."
   ]
  },
  {
   "cell_type": "markdown",
   "metadata": {},
   "source": [
    "## Mean squared Error e Root Mean Squared error\n",
    "A função de custo que está sendo utilizada atualmente é a mais simples possível, onde comparamos a diferença entre a previsão atual com o valor esperado. Existem outras fórmulas um pouco mais completas que nos dão um nível de precisão maior em estimar os custos."
   ]
  },
  {
   "cell_type": "code",
   "execution_count": null,
   "metadata": {},
   "outputs": [],
   "source": [
    "def funcao_custo_mse(valor_correto, valor_previsto):\n",
    "    erro = list(np.array(valor_correto) - np.array(valor_previsto))\n",
    "    erro_quadratico = list(map(lambda x: math.pow(x, 2), erro))\n",
    "    soma_erro_quadratico = sum(erro_quadratico)\n",
    "\n",
    "    return soma_erro_quadratico # / len(previsores) essa parte é apenas para atualização em epoca"
   ]
  },
  {
   "cell_type": "code",
   "execution_count": null,
   "metadata": {},
   "outputs": [],
   "source": [
    "def funcao_custo_rmse(valor_correto, valor_previsto):\n",
    "    erro = list(np.array(valor_correto) - np.array(valor_previsto))\n",
    "    erro_quadratico = list(map(lambda x: math.pow(x, 2), erro))\n",
    "    soma_erro_quadratico = sum(erro_quadratico)\n",
    "\n",
    "    return math.sqrt(soma_erro_quadratico) # / len(previsores) essa parte é apenas para atualização em epoca"
   ]
  },
  {
   "cell_type": "markdown",
   "metadata": {},
   "source": [
    "# Qual o problema?\n",
    "Utilizar a base de dados de vinhos contidos aqui: http://archive.ics.uci.edu/ml/datasets/Wine"
   ]
  },
  {
   "cell_type": "markdown",
   "metadata": {},
   "source": [
    "## Anásile exploratória dos dados\n",
    "Conhecendo um pouco mais dos dados aqui contidos."
   ]
  },
  {
   "cell_type": "code",
   "execution_count": 24,
   "metadata": {},
   "outputs": [
    {
     "data": {
      "text/html": [
       "<div>\n",
       "<style scoped>\n",
       "    .dataframe tbody tr th:only-of-type {\n",
       "        vertical-align: middle;\n",
       "    }\n",
       "\n",
       "    .dataframe tbody tr th {\n",
       "        vertical-align: top;\n",
       "    }\n",
       "\n",
       "    .dataframe thead th {\n",
       "        text-align: right;\n",
       "    }\n",
       "</style>\n",
       "<table border=\"1\" class=\"dataframe\">\n",
       "  <thead>\n",
       "    <tr style=\"text-align: right;\">\n",
       "      <th></th>\n",
       "      <th>Alcohol</th>\n",
       "      <th>Malic acid</th>\n",
       "      <th>Ash</th>\n",
       "      <th>Alcalinity of ash</th>\n",
       "      <th>Magnesium</th>\n",
       "      <th>Total phenols</th>\n",
       "      <th>Flavanoids</th>\n",
       "      <th>Nonflavanoid phenols</th>\n",
       "      <th>Proanthocyanins</th>\n",
       "      <th>Color intensity</th>\n",
       "      <th>Hue</th>\n",
       "      <th>OD280</th>\n",
       "      <th>Proline</th>\n",
       "    </tr>\n",
       "  </thead>\n",
       "  <tbody>\n",
       "    <tr>\n",
       "      <th>1</th>\n",
       "      <td>14.23</td>\n",
       "      <td>1.71</td>\n",
       "      <td>2.43</td>\n",
       "      <td>15.6</td>\n",
       "      <td>127</td>\n",
       "      <td>2.80</td>\n",
       "      <td>3.06</td>\n",
       "      <td>0.28</td>\n",
       "      <td>2.29</td>\n",
       "      <td>5.64</td>\n",
       "      <td>1.04</td>\n",
       "      <td>3.92</td>\n",
       "      <td>1065</td>\n",
       "    </tr>\n",
       "    <tr>\n",
       "      <th>1</th>\n",
       "      <td>13.20</td>\n",
       "      <td>1.78</td>\n",
       "      <td>2.14</td>\n",
       "      <td>11.2</td>\n",
       "      <td>100</td>\n",
       "      <td>2.65</td>\n",
       "      <td>2.76</td>\n",
       "      <td>0.26</td>\n",
       "      <td>1.28</td>\n",
       "      <td>4.38</td>\n",
       "      <td>1.05</td>\n",
       "      <td>3.40</td>\n",
       "      <td>1050</td>\n",
       "    </tr>\n",
       "    <tr>\n",
       "      <th>1</th>\n",
       "      <td>13.16</td>\n",
       "      <td>2.36</td>\n",
       "      <td>2.67</td>\n",
       "      <td>18.6</td>\n",
       "      <td>101</td>\n",
       "      <td>2.80</td>\n",
       "      <td>3.24</td>\n",
       "      <td>0.30</td>\n",
       "      <td>2.81</td>\n",
       "      <td>5.68</td>\n",
       "      <td>1.03</td>\n",
       "      <td>3.17</td>\n",
       "      <td>1185</td>\n",
       "    </tr>\n",
       "    <tr>\n",
       "      <th>1</th>\n",
       "      <td>14.37</td>\n",
       "      <td>1.95</td>\n",
       "      <td>2.50</td>\n",
       "      <td>16.8</td>\n",
       "      <td>113</td>\n",
       "      <td>3.85</td>\n",
       "      <td>3.49</td>\n",
       "      <td>0.24</td>\n",
       "      <td>2.18</td>\n",
       "      <td>7.80</td>\n",
       "      <td>0.86</td>\n",
       "      <td>3.45</td>\n",
       "      <td>1480</td>\n",
       "    </tr>\n",
       "    <tr>\n",
       "      <th>1</th>\n",
       "      <td>13.24</td>\n",
       "      <td>2.59</td>\n",
       "      <td>2.87</td>\n",
       "      <td>21.0</td>\n",
       "      <td>118</td>\n",
       "      <td>2.80</td>\n",
       "      <td>2.69</td>\n",
       "      <td>0.39</td>\n",
       "      <td>1.82</td>\n",
       "      <td>4.32</td>\n",
       "      <td>1.04</td>\n",
       "      <td>2.93</td>\n",
       "      <td>735</td>\n",
       "    </tr>\n",
       "  </tbody>\n",
       "</table>\n",
       "</div>"
      ],
      "text/plain": [
       "   Alcohol  Malic acid   Ash  Alcalinity of ash  Magnesium  Total phenols  \\\n",
       "1    14.23        1.71  2.43               15.6        127           2.80   \n",
       "1    13.20        1.78  2.14               11.2        100           2.65   \n",
       "1    13.16        2.36  2.67               18.6        101           2.80   \n",
       "1    14.37        1.95  2.50               16.8        113           3.85   \n",
       "1    13.24        2.59  2.87               21.0        118           2.80   \n",
       "\n",
       "   Flavanoids  Nonflavanoid phenols  Proanthocyanins  Color intensity   Hue  \\\n",
       "1        3.06                  0.28             2.29             5.64  1.04   \n",
       "1        2.76                  0.26             1.28             4.38  1.05   \n",
       "1        3.24                  0.30             2.81             5.68  1.03   \n",
       "1        3.49                  0.24             2.18             7.80  0.86   \n",
       "1        2.69                  0.39             1.82             4.32  1.04   \n",
       "\n",
       "   OD280  Proline  \n",
       "1   3.92     1065  \n",
       "1   3.40     1050  \n",
       "1   3.17     1185  \n",
       "1   3.45     1480  \n",
       "1   2.93      735  "
      ]
     },
     "execution_count": 24,
     "metadata": {},
     "output_type": "execute_result"
    }
   ],
   "source": [
    "dataframe = pd.read_csv('/home/alvaro/Documentos/mestrado/computação bio/redes neurais/datasets/wine.csv', header = 0)\n",
    "dataframe.head()"
   ]
  },
  {
   "cell_type": "code",
   "execution_count": 25,
   "metadata": {
    "scrolled": true
   },
   "outputs": [
    {
     "name": "stdout",
     "output_type": "stream",
     "text": [
      "Valores nulos:\n",
      "Alcohol                 0\n",
      "Malic acid              0\n",
      "Ash                     0\n",
      "Alcalinity of ash       0\n",
      "Magnesium               0\n",
      "Total phenols           0\n",
      "Flavanoids              0\n",
      "Nonflavanoid phenols    0\n",
      "Proanthocyanins         0\n",
      "Color intensity         0\n",
      "Hue                     0\n",
      "OD280                   0\n",
      "Proline                 0\n",
      "dtype: int64\n"
     ]
    },
    {
     "data": {
      "text/html": [
       "<div>\n",
       "<style scoped>\n",
       "    .dataframe tbody tr th:only-of-type {\n",
       "        vertical-align: middle;\n",
       "    }\n",
       "\n",
       "    .dataframe tbody tr th {\n",
       "        vertical-align: top;\n",
       "    }\n",
       "\n",
       "    .dataframe thead th {\n",
       "        text-align: right;\n",
       "    }\n",
       "</style>\n",
       "<table border=\"1\" class=\"dataframe\">\n",
       "  <thead>\n",
       "    <tr style=\"text-align: right;\">\n",
       "      <th></th>\n",
       "      <th>Alcohol</th>\n",
       "      <th>Malic acid</th>\n",
       "      <th>Ash</th>\n",
       "      <th>Alcalinity of ash</th>\n",
       "      <th>Magnesium</th>\n",
       "      <th>Total phenols</th>\n",
       "      <th>Flavanoids</th>\n",
       "      <th>Nonflavanoid phenols</th>\n",
       "      <th>Proanthocyanins</th>\n",
       "      <th>Color intensity</th>\n",
       "      <th>Hue</th>\n",
       "      <th>OD280</th>\n",
       "      <th>Proline</th>\n",
       "    </tr>\n",
       "  </thead>\n",
       "  <tbody>\n",
       "    <tr>\n",
       "      <th>count</th>\n",
       "      <td>178.000000</td>\n",
       "      <td>178.000000</td>\n",
       "      <td>178.000000</td>\n",
       "      <td>178.000000</td>\n",
       "      <td>178.000000</td>\n",
       "      <td>178.000000</td>\n",
       "      <td>178.000000</td>\n",
       "      <td>178.000000</td>\n",
       "      <td>178.000000</td>\n",
       "      <td>178.000000</td>\n",
       "      <td>178.000000</td>\n",
       "      <td>178.000000</td>\n",
       "      <td>178.000000</td>\n",
       "    </tr>\n",
       "    <tr>\n",
       "      <th>mean</th>\n",
       "      <td>13.000618</td>\n",
       "      <td>2.336348</td>\n",
       "      <td>2.366517</td>\n",
       "      <td>19.494944</td>\n",
       "      <td>99.741573</td>\n",
       "      <td>2.295112</td>\n",
       "      <td>2.029270</td>\n",
       "      <td>0.361854</td>\n",
       "      <td>1.590899</td>\n",
       "      <td>5.058090</td>\n",
       "      <td>0.957449</td>\n",
       "      <td>2.611685</td>\n",
       "      <td>746.893258</td>\n",
       "    </tr>\n",
       "    <tr>\n",
       "      <th>std</th>\n",
       "      <td>0.811827</td>\n",
       "      <td>1.117146</td>\n",
       "      <td>0.274344</td>\n",
       "      <td>3.339564</td>\n",
       "      <td>14.282484</td>\n",
       "      <td>0.625851</td>\n",
       "      <td>0.998859</td>\n",
       "      <td>0.124453</td>\n",
       "      <td>0.572359</td>\n",
       "      <td>2.318286</td>\n",
       "      <td>0.228572</td>\n",
       "      <td>0.709990</td>\n",
       "      <td>314.907474</td>\n",
       "    </tr>\n",
       "    <tr>\n",
       "      <th>min</th>\n",
       "      <td>11.030000</td>\n",
       "      <td>0.740000</td>\n",
       "      <td>1.360000</td>\n",
       "      <td>10.600000</td>\n",
       "      <td>70.000000</td>\n",
       "      <td>0.980000</td>\n",
       "      <td>0.340000</td>\n",
       "      <td>0.130000</td>\n",
       "      <td>0.410000</td>\n",
       "      <td>1.280000</td>\n",
       "      <td>0.480000</td>\n",
       "      <td>1.270000</td>\n",
       "      <td>278.000000</td>\n",
       "    </tr>\n",
       "    <tr>\n",
       "      <th>25%</th>\n",
       "      <td>12.362500</td>\n",
       "      <td>1.602500</td>\n",
       "      <td>2.210000</td>\n",
       "      <td>17.200000</td>\n",
       "      <td>88.000000</td>\n",
       "      <td>1.742500</td>\n",
       "      <td>1.205000</td>\n",
       "      <td>0.270000</td>\n",
       "      <td>1.250000</td>\n",
       "      <td>3.220000</td>\n",
       "      <td>0.782500</td>\n",
       "      <td>1.937500</td>\n",
       "      <td>500.500000</td>\n",
       "    </tr>\n",
       "    <tr>\n",
       "      <th>50%</th>\n",
       "      <td>13.050000</td>\n",
       "      <td>1.865000</td>\n",
       "      <td>2.360000</td>\n",
       "      <td>19.500000</td>\n",
       "      <td>98.000000</td>\n",
       "      <td>2.355000</td>\n",
       "      <td>2.135000</td>\n",
       "      <td>0.340000</td>\n",
       "      <td>1.555000</td>\n",
       "      <td>4.690000</td>\n",
       "      <td>0.965000</td>\n",
       "      <td>2.780000</td>\n",
       "      <td>673.500000</td>\n",
       "    </tr>\n",
       "    <tr>\n",
       "      <th>75%</th>\n",
       "      <td>13.677500</td>\n",
       "      <td>3.082500</td>\n",
       "      <td>2.557500</td>\n",
       "      <td>21.500000</td>\n",
       "      <td>107.000000</td>\n",
       "      <td>2.800000</td>\n",
       "      <td>2.875000</td>\n",
       "      <td>0.437500</td>\n",
       "      <td>1.950000</td>\n",
       "      <td>6.200000</td>\n",
       "      <td>1.120000</td>\n",
       "      <td>3.170000</td>\n",
       "      <td>985.000000</td>\n",
       "    </tr>\n",
       "    <tr>\n",
       "      <th>max</th>\n",
       "      <td>14.830000</td>\n",
       "      <td>5.800000</td>\n",
       "      <td>3.230000</td>\n",
       "      <td>30.000000</td>\n",
       "      <td>162.000000</td>\n",
       "      <td>3.880000</td>\n",
       "      <td>5.080000</td>\n",
       "      <td>0.660000</td>\n",
       "      <td>3.580000</td>\n",
       "      <td>13.000000</td>\n",
       "      <td>1.710000</td>\n",
       "      <td>4.000000</td>\n",
       "      <td>1680.000000</td>\n",
       "    </tr>\n",
       "  </tbody>\n",
       "</table>\n",
       "</div>"
      ],
      "text/plain": [
       "          Alcohol  Malic acid         Ash  Alcalinity of ash   Magnesium  \\\n",
       "count  178.000000  178.000000  178.000000         178.000000  178.000000   \n",
       "mean    13.000618    2.336348    2.366517          19.494944   99.741573   \n",
       "std      0.811827    1.117146    0.274344           3.339564   14.282484   \n",
       "min     11.030000    0.740000    1.360000          10.600000   70.000000   \n",
       "25%     12.362500    1.602500    2.210000          17.200000   88.000000   \n",
       "50%     13.050000    1.865000    2.360000          19.500000   98.000000   \n",
       "75%     13.677500    3.082500    2.557500          21.500000  107.000000   \n",
       "max     14.830000    5.800000    3.230000          30.000000  162.000000   \n",
       "\n",
       "       Total phenols  Flavanoids  Nonflavanoid phenols  Proanthocyanins  \\\n",
       "count     178.000000  178.000000            178.000000       178.000000   \n",
       "mean        2.295112    2.029270              0.361854         1.590899   \n",
       "std         0.625851    0.998859              0.124453         0.572359   \n",
       "min         0.980000    0.340000              0.130000         0.410000   \n",
       "25%         1.742500    1.205000              0.270000         1.250000   \n",
       "50%         2.355000    2.135000              0.340000         1.555000   \n",
       "75%         2.800000    2.875000              0.437500         1.950000   \n",
       "max         3.880000    5.080000              0.660000         3.580000   \n",
       "\n",
       "       Color intensity         Hue       OD280      Proline  \n",
       "count       178.000000  178.000000  178.000000   178.000000  \n",
       "mean          5.058090    0.957449    2.611685   746.893258  \n",
       "std           2.318286    0.228572    0.709990   314.907474  \n",
       "min           1.280000    0.480000    1.270000   278.000000  \n",
       "25%           3.220000    0.782500    1.937500   500.500000  \n",
       "50%           4.690000    0.965000    2.780000   673.500000  \n",
       "75%           6.200000    1.120000    3.170000   985.000000  \n",
       "max          13.000000    1.710000    4.000000  1680.000000  "
      ]
     },
     "execution_count": 25,
     "metadata": {},
     "output_type": "execute_result"
    }
   ],
   "source": [
    "print('Valores nulos:')\n",
    "print(dataframe.isna().sum())\n",
    "dataframe.describe()"
   ]
  },
  {
   "cell_type": "markdown",
   "metadata": {},
   "source": [
    "## Normalização dos dados \n",
    "Assim como no problema da iris, esse dataset também precisa ser normalizando, ainda mais por conter uma quantidade maior de atributos previsores contínuos."
   ]
  },
  {
   "cell_type": "code",
   "execution_count": null,
   "metadata": {},
   "outputs": [],
   "source": []
  }
 ],
 "metadata": {
  "kernelspec": {
   "display_name": "Python 3",
   "language": "python",
   "name": "python3"
  },
  "language_info": {
   "codemirror_mode": {
    "name": "ipython",
    "version": 3
   },
   "file_extension": ".py",
   "mimetype": "text/x-python",
   "name": "python",
   "nbconvert_exporter": "python",
   "pygments_lexer": "ipython3",
   "version": "3.6.9"
  }
 },
 "nbformat": 4,
 "nbformat_minor": 4
}
