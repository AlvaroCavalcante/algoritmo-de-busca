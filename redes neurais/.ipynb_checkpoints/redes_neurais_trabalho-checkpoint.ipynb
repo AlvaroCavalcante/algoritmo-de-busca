{
 "cells": [
  {
   "cell_type": "markdown",
   "metadata": {},
   "source": [
    "Relatório do trabalho\n",
    "==============\n",
    "**Nome:** Álvaro Leandro Cavalcante Carneiro\n",
    "**Linguagem utilizada:** Python 3.6\n",
    "\n",
    "Os códigos e o relatório foram desenvolvidos em um Jupyter notebook e sua versão online pode ser encontrada aqui: https://colab.research.google.com/drive/1HQIBTnHCrcSrfAUOsx7836wZzDnQ9Fhd?usp=sharing. Nessa versão é possível executar novamente os algoritmos."
   ]
  },
  {
   "cell_type": "markdown",
   "metadata": {},
   "source": [
    "# Qual o problema ? \n",
    "Utilizar uma rede neural no modelo perceptron para identificar 3 classes de flores baseados em suas características de tamanho de pétalada e sépala."
   ]
  },
  {
   "cell_type": "markdown",
   "metadata": {},
   "source": [
    "## Importação das bibliotecas\n",
    "Ferramentas usadas no processo de desenvolvimento"
   ]
  },
  {
   "cell_type": "code",
   "execution_count": 246,
   "metadata": {},
   "outputs": [],
   "source": [
    "import random\n",
    "import numpy as np\n",
    "import pandas as pd\n",
    "import math\n",
    "import matplotlib.pyplot as plt\n",
    "import time\n",
    "import itertools\n",
    "from sklearn.metrics import confusion_matrix"
   ]
  },
  {
   "cell_type": "markdown",
   "metadata": {},
   "source": [
    "# Análise Exploratória dos Dados (AED)\n",
    "A ideia a princípio é entender um pouco mais do *dataset* e deixar os dados em um formato que seja favorável para o aprendizado da rede neural perceptron.\n",
    "\n",
    "O primeiro passo foi ler o arquivo baixado aqui: http://archive.ics.uci.edu/ml/datasets/Iris.\n",
    "O arquivo em questão não possuia colunas, portanto eu modifiquei o mesmo para adicionar o nome das colunas na primeira linha e deixá-lo no formato .CSV ao invés do .DATA.\n",
    "\n",
    "O *dataset* está sendo lido com o método *read_csv* do pandas, que transforma o conjunto de dados em um *dataframe*, que por sua vez possui diversos métodos nativos para manipular os dados. Um desse métodos é o *head*, onde é possível visualizar as primeiras linhas do *dataframe*."
   ]
  },
  {
   "cell_type": "code",
   "execution_count": 193,
   "metadata": {
    "scrolled": true
   },
   "outputs": [
    {
     "data": {
      "text/html": [
       "<div>\n",
       "<style scoped>\n",
       "    .dataframe tbody tr th:only-of-type {\n",
       "        vertical-align: middle;\n",
       "    }\n",
       "\n",
       "    .dataframe tbody tr th {\n",
       "        vertical-align: top;\n",
       "    }\n",
       "\n",
       "    .dataframe thead th {\n",
       "        text-align: right;\n",
       "    }\n",
       "</style>\n",
       "<table border=\"1\" class=\"dataframe\">\n",
       "  <thead>\n",
       "    <tr style=\"text-align: right;\">\n",
       "      <th></th>\n",
       "      <th>sepal-length</th>\n",
       "      <th>sepal-width</th>\n",
       "      <th>petal-length</th>\n",
       "      <th>petal-width</th>\n",
       "      <th>class</th>\n",
       "    </tr>\n",
       "  </thead>\n",
       "  <tbody>\n",
       "    <tr>\n",
       "      <th>0</th>\n",
       "      <td>5.1</td>\n",
       "      <td>3.5</td>\n",
       "      <td>1.4</td>\n",
       "      <td>0.2</td>\n",
       "      <td>Iris-setosa</td>\n",
       "    </tr>\n",
       "    <tr>\n",
       "      <th>1</th>\n",
       "      <td>4.9</td>\n",
       "      <td>3.0</td>\n",
       "      <td>1.4</td>\n",
       "      <td>0.2</td>\n",
       "      <td>Iris-setosa</td>\n",
       "    </tr>\n",
       "    <tr>\n",
       "      <th>2</th>\n",
       "      <td>4.7</td>\n",
       "      <td>3.2</td>\n",
       "      <td>1.3</td>\n",
       "      <td>0.2</td>\n",
       "      <td>Iris-setosa</td>\n",
       "    </tr>\n",
       "    <tr>\n",
       "      <th>3</th>\n",
       "      <td>4.6</td>\n",
       "      <td>3.1</td>\n",
       "      <td>1.5</td>\n",
       "      <td>0.2</td>\n",
       "      <td>Iris-setosa</td>\n",
       "    </tr>\n",
       "    <tr>\n",
       "      <th>4</th>\n",
       "      <td>5.0</td>\n",
       "      <td>3.6</td>\n",
       "      <td>1.4</td>\n",
       "      <td>0.2</td>\n",
       "      <td>Iris-setosa</td>\n",
       "    </tr>\n",
       "  </tbody>\n",
       "</table>\n",
       "</div>"
      ],
      "text/plain": [
       "   sepal-length  sepal-width  petal-length  petal-width        class\n",
       "0           5.1          3.5           1.4          0.2  Iris-setosa\n",
       "1           4.9          3.0           1.4          0.2  Iris-setosa\n",
       "2           4.7          3.2           1.3          0.2  Iris-setosa\n",
       "3           4.6          3.1           1.5          0.2  Iris-setosa\n",
       "4           5.0          3.6           1.4          0.2  Iris-setosa"
      ]
     },
     "execution_count": 193,
     "metadata": {},
     "output_type": "execute_result"
    }
   ],
   "source": [
    "dataframe = pd.read_csv('/home/alvaro/Documentos/mestrado/computação bio/redes neurais/datasets/iris2.csv', header = 0)\n",
    "\n",
    "dataframe.head()"
   ]
  },
  {
   "cell_type": "markdown",
   "metadata": {},
   "source": [
    "Um pré-requisito na mineração dos dados é verificar se o *dataframe* possui inconsistências quanto aos valores, podendo ser algum outlier, ruído, valor vazio, etc...\n",
    "\n",
    "Para isso, é utilizado o método *isna* para contabilizar os registros vazios por coluna e também o método *describe* que gera um sumário por coluna dos valores ali contidos."
   ]
  },
  {
   "cell_type": "code",
   "execution_count": 194,
   "metadata": {
    "scrolled": true
   },
   "outputs": [
    {
     "name": "stdout",
     "output_type": "stream",
     "text": [
      "Valores nulos:\n",
      "sepal-length    0\n",
      "sepal-width     0\n",
      "petal-length    0\n",
      "petal-width     0\n",
      "class           0\n",
      "dtype: int64\n"
     ]
    },
    {
     "data": {
      "text/html": [
       "<div>\n",
       "<style scoped>\n",
       "    .dataframe tbody tr th:only-of-type {\n",
       "        vertical-align: middle;\n",
       "    }\n",
       "\n",
       "    .dataframe tbody tr th {\n",
       "        vertical-align: top;\n",
       "    }\n",
       "\n",
       "    .dataframe thead th {\n",
       "        text-align: right;\n",
       "    }\n",
       "</style>\n",
       "<table border=\"1\" class=\"dataframe\">\n",
       "  <thead>\n",
       "    <tr style=\"text-align: right;\">\n",
       "      <th></th>\n",
       "      <th>sepal-length</th>\n",
       "      <th>sepal-width</th>\n",
       "      <th>petal-length</th>\n",
       "      <th>petal-width</th>\n",
       "    </tr>\n",
       "  </thead>\n",
       "  <tbody>\n",
       "    <tr>\n",
       "      <th>count</th>\n",
       "      <td>150.000000</td>\n",
       "      <td>150.000000</td>\n",
       "      <td>150.000000</td>\n",
       "      <td>150.000000</td>\n",
       "    </tr>\n",
       "    <tr>\n",
       "      <th>mean</th>\n",
       "      <td>5.843333</td>\n",
       "      <td>3.054000</td>\n",
       "      <td>3.758667</td>\n",
       "      <td>1.198667</td>\n",
       "    </tr>\n",
       "    <tr>\n",
       "      <th>std</th>\n",
       "      <td>0.828066</td>\n",
       "      <td>0.433594</td>\n",
       "      <td>1.764420</td>\n",
       "      <td>0.763161</td>\n",
       "    </tr>\n",
       "    <tr>\n",
       "      <th>min</th>\n",
       "      <td>4.300000</td>\n",
       "      <td>2.000000</td>\n",
       "      <td>1.000000</td>\n",
       "      <td>0.100000</td>\n",
       "    </tr>\n",
       "    <tr>\n",
       "      <th>25%</th>\n",
       "      <td>5.100000</td>\n",
       "      <td>2.800000</td>\n",
       "      <td>1.600000</td>\n",
       "      <td>0.300000</td>\n",
       "    </tr>\n",
       "    <tr>\n",
       "      <th>50%</th>\n",
       "      <td>5.800000</td>\n",
       "      <td>3.000000</td>\n",
       "      <td>4.350000</td>\n",
       "      <td>1.300000</td>\n",
       "    </tr>\n",
       "    <tr>\n",
       "      <th>75%</th>\n",
       "      <td>6.400000</td>\n",
       "      <td>3.300000</td>\n",
       "      <td>5.100000</td>\n",
       "      <td>1.800000</td>\n",
       "    </tr>\n",
       "    <tr>\n",
       "      <th>max</th>\n",
       "      <td>7.900000</td>\n",
       "      <td>4.400000</td>\n",
       "      <td>6.900000</td>\n",
       "      <td>2.500000</td>\n",
       "    </tr>\n",
       "  </tbody>\n",
       "</table>\n",
       "</div>"
      ],
      "text/plain": [
       "       sepal-length  sepal-width  petal-length  petal-width\n",
       "count    150.000000   150.000000    150.000000   150.000000\n",
       "mean       5.843333     3.054000      3.758667     1.198667\n",
       "std        0.828066     0.433594      1.764420     0.763161\n",
       "min        4.300000     2.000000      1.000000     0.100000\n",
       "25%        5.100000     2.800000      1.600000     0.300000\n",
       "50%        5.800000     3.000000      4.350000     1.300000\n",
       "75%        6.400000     3.300000      5.100000     1.800000\n",
       "max        7.900000     4.400000      6.900000     2.500000"
      ]
     },
     "execution_count": 194,
     "metadata": {},
     "output_type": "execute_result"
    }
   ],
   "source": [
    "print('Valores nulos:')\n",
    "print(dataframe.isna().sum())\n",
    "dataframe.describe()"
   ]
  },
  {
   "cell_type": "markdown",
   "metadata": {},
   "source": [
    "## Mostrando a dispersão dos dados\n",
    "É interessante também plotar um gráfico para mostrar o comportamento da dispersão das classes do conjunto, sendo possível inclusive ver se o problema é linearmente separável.\n",
    "\n",
    "Antes disso, é necessário dividir o *dataframe* em uma variável chamada **previsores** e outra chamada **classe**. Como o nome sugere, os previsores são as colunas com as características das flores (atributos previsores) que serão utilizados para tentar ajustar os pesos da rede de maneira à generalizar uma solução que encontre as classes corretamente."
   ]
  },
  {
   "cell_type": "code",
   "execution_count": 195,
   "metadata": {},
   "outputs": [],
   "source": [
    "previsores = dataframe.iloc[:, 0:4] \n",
    "classe = dataframe['class']"
   ]
  },
  {
   "cell_type": "code",
   "execution_count": 196,
   "metadata": {
    "scrolled": true
   },
   "outputs": [
    {
     "data": {
      "text/plain": [
       "<Figure size 432x288 with 0 Axes>"
      ]
     },
     "metadata": {},
     "output_type": "display_data"
    },
    {
     "data": {
      "image/png": "[encoded data removed]",
      "text/plain": [
       "<Figure size 1512x720 with 2 Axes>"
      ]
     },
     "metadata": {
      "needs_background": "light"
     },
     "output_type": "display_data"
    }
   ],
   "source": [
    "# iniciando a figura\n",
    "plt.figure()\n",
    "fig,ax=plt.subplots(1,2,figsize=(21, 10))\n",
    "\n",
    "# separando o dataset por classe\n",
    "setosa = dataframe[dataframe['class']=='Iris-setosa']\n",
    "versicolor = dataframe[dataframe['class']=='Iris-versicolor']\n",
    "virginica = dataframe[dataframe['class']=='Iris-virginica']\n",
    "\n",
    "# plotando os conjuntos no gráfico de dispersão\n",
    "setosa.plot(x=\"sepal-length\", y=\"sepal-width\", kind=\"scatter\",ax=ax[0],label='setosa',color='r')\n",
    "virginica.plot(x=\"sepal-length\",y=\"sepal-width\",kind=\"scatter\",ax=ax[0],label='versicolor',color='b')\n",
    "versicolor.plot(x=\"sepal-length\", y=\"sepal-width\", kind=\"scatter\", ax=ax[0], label='virginica', color='g')\n",
    "\n",
    "setosa.plot(x=\"petal-length\", y=\"petal-width\", kind=\"scatter\",ax=ax[1],label='setosa',color='r')\n",
    "versicolor.plot(x=\"petal-length\",y=\"petal-width\",kind=\"scatter\",ax=ax[1],label='versicolor',color='b')\n",
    "virginica.plot(x=\"petal-length\", y=\"petal-width\", kind=\"scatter\", ax=ax[1], label='virginica', color='g')\n",
    "# Adicionado legendas\n",
    "ax[0].set(title='Comparação de sépalas ', ylabel='sepal-width')\n",
    "ax[1].set(title='Comparação de pétalas',  ylabel='petal-width')\n",
    "ax[0].legend()\n",
    "ax[1].legend()\n",
    "plt.show()"
   ]
  },
  {
   "cell_type": "markdown",
   "metadata": {},
   "source": [
    "Podemos ver que as classes virgínica e versicolor são as mais complicadas de serem separadas, principalmente quando olhamos para o tamanho das pétalas."
   ]
  },
  {
   "cell_type": "markdown",
   "metadata": {},
   "source": [
    "## Normalização dos atributos previsores\n",
    "O método *isnul()* mostrou que não há nenhum registro vazio no nosso *dataset* e é possível observar que os valores também parecem estar todos coerentes, sem a presença de outliers, como podemos notar pelo desvio padrão, mínimo e máximo de cada coluna e também no gráfico de dispersão.\n",
    "\n",
    "Todavia, existe uma variação relativamente grande dentro do nosso domínio de atributos previsores. O atributo *petal-width* por exemplo, tem uma média de valor de 1.1, enquanto o *sepal-length* possui uma média de 5.8. Dito isso, se faz necessário a padronização desses valores, para que nosso ajuste dos pesos não seja muito influenciado por essa diferença no tamanho da entrada. \n",
    "\n",
    "O tipo de normalização escolhido foi o **Z-score**, de forma arbitrária, por ser bastante comum em problemas como esse. Sua fórmula é bastante simples e foi representada no método *normalizacao_z_score*."
   ]
  },
  {
   "cell_type": "code",
   "execution_count": 197,
   "metadata": {},
   "outputs": [],
   "source": [
    "def normalizacao_z_score(valor):\n",
    "    media = previsores[valor.name].mean()\n",
    "    desvio_padrao = previsores[valor.name].std()\n",
    "\n",
    "    return (valor - media) / desvio_padrao"
   ]
  },
  {
   "cell_type": "markdown",
   "metadata": {},
   "source": [
    "O método *apply()* do pandas juntamente com a **lambda** aplicam o processo matemático do método de normalização em cada um dos registros do *dataframe*. Os novos registros normalizados podem ser vistos abaixo."
   ]
  },
  {
   "cell_type": "code",
   "execution_count": 198,
   "metadata": {
    "scrolled": true
   },
   "outputs": [
    {
     "data": {
      "text/html": [
       "<div>\n",
       "<style scoped>\n",
       "    .dataframe tbody tr th:only-of-type {\n",
       "        vertical-align: middle;\n",
       "    }\n",
       "\n",
       "    .dataframe tbody tr th {\n",
       "        vertical-align: top;\n",
       "    }\n",
       "\n",
       "    .dataframe thead th {\n",
       "        text-align: right;\n",
       "    }\n",
       "</style>\n",
       "<table border=\"1\" class=\"dataframe\">\n",
       "  <thead>\n",
       "    <tr style=\"text-align: right;\">\n",
       "      <th></th>\n",
       "      <th>sepal-length</th>\n",
       "      <th>sepal-width</th>\n",
       "      <th>petal-length</th>\n",
       "      <th>petal-width</th>\n",
       "    </tr>\n",
       "  </thead>\n",
       "  <tbody>\n",
       "    <tr>\n",
       "      <th>0</th>\n",
       "      <td>-0.897674</td>\n",
       "      <td>1.028611</td>\n",
       "      <td>-1.336794</td>\n",
       "      <td>-1.308593</td>\n",
       "    </tr>\n",
       "    <tr>\n",
       "      <th>1</th>\n",
       "      <td>-1.139200</td>\n",
       "      <td>-0.124540</td>\n",
       "      <td>-1.336794</td>\n",
       "      <td>-1.308593</td>\n",
       "    </tr>\n",
       "    <tr>\n",
       "      <th>2</th>\n",
       "      <td>-1.380727</td>\n",
       "      <td>0.336720</td>\n",
       "      <td>-1.393470</td>\n",
       "      <td>-1.308593</td>\n",
       "    </tr>\n",
       "    <tr>\n",
       "      <th>3</th>\n",
       "      <td>-1.501490</td>\n",
       "      <td>0.106090</td>\n",
       "      <td>-1.280118</td>\n",
       "      <td>-1.308593</td>\n",
       "    </tr>\n",
       "    <tr>\n",
       "      <th>4</th>\n",
       "      <td>-1.018437</td>\n",
       "      <td>1.259242</td>\n",
       "      <td>-1.336794</td>\n",
       "      <td>-1.308593</td>\n",
       "    </tr>\n",
       "  </tbody>\n",
       "</table>\n",
       "</div>"
      ],
      "text/plain": [
       "   sepal-length  sepal-width  petal-length  petal-width\n",
       "0     -0.897674     1.028611     -1.336794    -1.308593\n",
       "1     -1.139200    -0.124540     -1.336794    -1.308593\n",
       "2     -1.380727     0.336720     -1.393470    -1.308593\n",
       "3     -1.501490     0.106090     -1.280118    -1.308593\n",
       "4     -1.018437     1.259242     -1.336794    -1.308593"
      ]
     },
     "execution_count": 198,
     "metadata": {},
     "output_type": "execute_result"
    }
   ],
   "source": [
    "previsores = previsores.apply(lambda row: normalizacao_z_score(row))\n",
    "previsores.head()"
   ]
  },
  {
   "cell_type": "markdown",
   "metadata": {},
   "source": [
    "## Tratando valores categóricos\n",
    "O próximo passo será transformar o valor da classe de categórico para discreto, para que seja possível aplicar os cálculos, como o erro da saída por exemplo.\n",
    "\n",
    "Para isso foi criado o método *get_dicionario_classes* que gera uma estrutura de dicionário dinâmica, baseado na quantidade de classes do problema que está sendo tratado. O processo é muito simples, basta percorrer a classe existente e atribuir um valor inteiro para cada classe."
   ]
  },
  {
   "cell_type": "code",
   "execution_count": 199,
   "metadata": {},
   "outputs": [],
   "source": [
    "def get_dicionario_classes(classe):\n",
    "    dict_classes = {}\n",
    "    count = 0\n",
    "    \n",
    "    for i in classe.unique():\n",
    "        dict_classes[i] = count\n",
    "        count += 1\n",
    "        \n",
    "    return dict_classes"
   ]
  },
  {
   "cell_type": "code",
   "execution_count": 200,
   "metadata": {},
   "outputs": [
    {
     "name": "stdout",
     "output_type": "stream",
     "text": [
      "{'Iris-setosa': 0, 'Iris-versicolor': 1, 'Iris-virginica': 2}\n"
     ]
    }
   ],
   "source": [
    "dict_classes = get_dicionario_classes(classe)\n",
    "print(dict_classes)"
   ]
  },
  {
   "cell_type": "markdown",
   "metadata": {},
   "source": [
    "Podemos ver acima os valores que nosso método atribuiu para cada uma das classes.\n",
    "\n",
    "Basta agora repetir o processos anterior de usar o método *apply()*, porém agora passando no *lambda* o método que vai atribuir a classe a seu determinado valor no dicionário que criamos anteriormente."
   ]
  },
  {
   "cell_type": "code",
   "execution_count": 201,
   "metadata": {
    "scrolled": false
   },
   "outputs": [
    {
     "name": "stdout",
     "output_type": "stream",
     "text": [
      "2    50\n",
      "1    50\n",
      "0    50\n",
      "Name: class, dtype: int64\n"
     ]
    }
   ],
   "source": [
    "def transformar_categorico_em_numerico(valor, dict_classes):\n",
    "    return dict_classes[valor]\n",
    "    \n",
    "classe = classe.apply(lambda row: transformar_categorico_em_numerico(row, dict_classes))\n",
    "print(classe.value_counts())"
   ]
  },
  {
   "cell_type": "markdown",
   "metadata": {},
   "source": [
    "## Lidando com problemas multi-classe\n",
    "O problema em questão é multi-classe, ou seja, possuímos mais de duas classes como resposta na camada de saída, podendo ser, íris-setosa, versicolor ou virginica.\n",
    "Para problemas binários utilizar um único neurônio com a saída de 0 e 1 nos basta, todavia aqui, vamos precisar criar um novo neurônio para cada classe, totalizando 3 na nossa camada de saída.\n",
    "\n",
    "Além de modificar a estrutura da rede neural, também vamos precisar codificar nossos valores, uma vez que, ao invés de um valor escalar vamos trabalhar com um array na saída da rede, sendo ele representado por: [1,0,0], [0,1,0] e [0,0,1]."
   ]
  },
  {
   "cell_type": "code",
   "execution_count": 202,
   "metadata": {},
   "outputs": [],
   "source": [
    "def codificar_classe():\n",
    "    classe_codificada = {}\n",
    "    array_classe = [1] + [0] * (len(classe.unique()) - 1) #cria um array dinâmico baseado na \n",
    "    #quantidade de classes, é [1,0,0] para esse problema mas poderia ser [1,0,0,0....,0].\n",
    "    count = 1    \n",
    "    classe_codificada[0] = array_classe.copy()\n",
    "    \n",
    "    for i in range(len(classe.unique()) - 1): # percorre todas as classes -1, pois já temos a primeira posição do dicionário por padrão\n",
    "        array_classe[count - 1] = 0 # o valor 1 atual vira 0\n",
    "        array_classe[count] = 1  # a próxima casa do array vira 1   \n",
    "        classe_codificada[count] = array_classe.copy()\n",
    "        count += 1\n",
    "    \n",
    "    return classe_codificada      \n",
    "\n",
    "classe_codificada = codificar_classe()"
   ]
  },
  {
   "cell_type": "code",
   "execution_count": 203,
   "metadata": {},
   "outputs": [
    {
     "data": {
      "text/plain": [
       "{0: [1, 0, 0], 1: [0, 1, 0], 2: [0, 0, 1]}"
      ]
     },
     "execution_count": 203,
     "metadata": {},
     "output_type": "execute_result"
    }
   ],
   "source": [
    "classe_codificada"
   ]
  },
  {
   "cell_type": "markdown",
   "metadata": {},
   "source": [
    "A ideia do método *codificar_classe* é criar mais um dicionário, como é possível ver acima, onde cada posição representa uma classe codificada em um array de binários. O tamanho desse array é dinâmico dependendo do número de classes e a ideia é ir movimentando o valor do 1 conforme as iterações.\n",
    "\n",
    "Feito isso, basta repetir o processo para substituir o valor da classe."
   ]
  },
  {
   "cell_type": "code",
   "execution_count": 204,
   "metadata": {},
   "outputs": [
    {
     "name": "stdout",
     "output_type": "stream",
     "text": [
      "0    [1, 0, 0]\n",
      "1    [1, 0, 0]\n",
      "2    [1, 0, 0]\n",
      "3    [1, 0, 0]\n",
      "4    [1, 0, 0]\n",
      "Name: class, dtype: object\n"
     ]
    }
   ],
   "source": [
    "def substituir_classe_codificada(valor, classe_codificada):\n",
    "    return classe_codificada[valor]\n",
    "\n",
    "classe = classe.apply(lambda row: substituir_classe_codificada(row, classe_codificada))\n",
    "print(classe.head())"
   ]
  },
  {
   "cell_type": "markdown",
   "metadata": {},
   "source": [
    "Com isso, a classe agora está em uma estrutura que vai suportar o problema multi-classe."
   ]
  },
  {
   "cell_type": "markdown",
   "metadata": {},
   "source": [
    "## Divisão do dataframe\n",
    "Agora que os dados do *dataframe* já estão no formato necessário, basta dividir as bases em treinamento, validação e teste, usando a proporção de 70%, 15% e 15%.\n",
    "\n",
    "Para isso foi criado o método *dividir_dataframe* onde iremos utilizar o método *sample* do pandas para pegar amostras aleatórias sem reposição do nosso dataframe, e a partir dessa amostra iremos criar os outros conjuntos.\n",
    "\n",
    "O *x_treinamento* vai ser a fatia responsável por treinar a rede e ajustar os pesos. O teste do treinamento será feito ao final de cada época na base chamada *x_teste*, nos dando uma avaliação não enviesada dos resultados da rede em dados não vistos no treino.\n",
    "\n",
    "Após a rede estar completamente treinada, iremos usar a base de *x_validacao* para gerar novas previsões baseado em atributos previsores nunca antes vistos pela rede, nos dando uma validação final da eficácia do treinamento.\n",
    "\n",
    "Os parâmetros com sulfixo *p* indicam o porcentagem que será atribuida para cada base de dados e o último parâmetro de época vai mudar o retorno da função dependendo se o perceptron é do tipo que atualiza os pesos por registro ou por época."
   ]
  },
  {
   "cell_type": "code",
   "execution_count": 205,
   "metadata": {},
   "outputs": [],
   "source": [
    "def dividir_dataframe(previsores, classe, p_treinamento, p_teste, p_validacao, epoca = False):\n",
    "    x_treinamento = previsores.sample(frac = p_treinamento)\n",
    "    y_treinamento = classe[x_treinamento.index]\n",
    "    \n",
    "    x_teste_sem_previsores = previsores.drop(x_treinamento.index)\n",
    "    nova_p_teste = p_teste / (1 - p_treinamento)\n",
    "    \n",
    "    x_teste = x_teste_sem_previsores.sample(frac = nova_p_teste)\n",
    "    y_teste = classe[x_teste.index]\n",
    "    \n",
    "    x_validacao = x_teste_sem_previsores.drop(x_teste.index)\n",
    "    y_validacao = classe[x_validacao.index]\n",
    "    \n",
    "    if epoca == False:\n",
    "        return x_treinamento.reset_index(drop=True), y_treinamento.reset_index(drop=True), \\\n",
    "        x_teste.reset_index(drop=True), y_teste.reset_index(drop=True), x_validacao.reset_index(drop=True), y_validacao.reset_index(drop=True)\n",
    "    else:\n",
    "        # não tem reset index na classe\n",
    "        return x_treinamento.reset_index(drop=True), y_treinamento, \\\n",
    "        x_teste.reset_index(drop=True), y_teste, x_validacao.reset_index(drop=True), y_validacao"
   ]
  },
  {
   "cell_type": "markdown",
   "metadata": {},
   "source": [
    "A nomenclatura de \"x\" representa os atributos previsores e \"y\" a classe.\n",
    "\n",
    "Depois de criar a fração de treinamento, eu removo dos meus previsores todos os dados que estão na porção de treinamento, pois uma regra importante a ser seguida na divisão dos dados é o particionamento, ou seja, nenhum dos registros de treinamento deve estar no conjunto de teste e vice versa. \n",
    "\n",
    "Depois disso, meu conjunto total se torna o resto que não está no conjunto de treinamento, portanto as porcentagens também são redimensionadas, por exemplo, se antes tinhamos 15% do nosso conjunto para treinamento e 15% para validação, agora cada um desses 15% representa 50%, pois o novo 100% está sem os registros de treinamento.\n",
    "\n",
    "Feito isso, basta dividir novamente a base em teste e validação e retornar os valores."
   ]
  },
  {
   "cell_type": "markdown",
   "metadata": {},
   "source": [
    "## Inicialização dos pesos\n",
    "Os pesos serão inicializados de forma aleatória para então serem gradativamente ajustados conforme a rede neural converge.\n",
    "Para isso, foi criado o método *inicializar_pesos*, que percorre cada um dos neurônios e gera um vetor da quantidade de pesos que ele possui baseado nas suas conexões sinapticas com os neurônios da próxima camada.\n",
    "\n",
    "Além disso, o método também recebe um parâmetro chamado dominio, que é o intervalo de valores que os pesos serão gerados, os testes a princípio foram realizados em um domínio de [0,1]."
   ]
  },
  {
   "cell_type": "code",
   "execution_count": 206,
   "metadata": {},
   "outputs": [],
   "source": [
    "def inicializar_pesos(dominio):\n",
    "    pesos_final = []\n",
    "    \n",
    "    for i in range(len(previsores.columns)):\n",
    "        pesos = [] \n",
    "        for j in range(len(dict_classes)):\n",
    "            pesos.append(random.uniform(dominio[0], dominio[1]))\n",
    "        pesos_final.append(pesos)\n",
    "    return pesos_final"
   ]
  },
  {
   "cell_type": "code",
   "execution_count": 207,
   "metadata": {
    "scrolled": true
   },
   "outputs": [
    {
     "name": "stdout",
     "output_type": "stream",
     "text": [
      "Pesos: [[0.7207249049488168, 0.5895436545216167, 0.4355123363458797], [0.7933068695826226, 0.8319128105528703, 0.5138435923749203], [0.04076062826656579, 0.2655150612177962, 0.3171468874834451], [0.5732338500164743, 0.5801338293404763, 0.6979249320645132]]\n"
     ]
    }
   ],
   "source": [
    "pesos = inicializar_pesos([0, 1])\n",
    "print('Pesos:', pesos)"
   ]
  },
  {
   "cell_type": "markdown",
   "metadata": {},
   "source": [
    "Como podemos ver acima, o array de pesos para esse problema possui 4 posições com 3 pesos em cada uma das posições, isso acontece por que possuímos 4 neurônios (nosso atributos de entrada/previsores sem considerar o bias nesse caso) conectados à 3 neurônios (um neurônio para cada saída possível), portanto cada um dos 4 neurônios possui 3 pesos (conexões) cada um. \n",
    "\n",
    "Para obter o número de conexões por camada basta multiplicar o número de neurônios da camada atual pelos número de neurônios na próxima camada, dessa forma temos: 4 * 3 = 12."
   ]
  },
  {
   "cell_type": "markdown",
   "metadata": {},
   "source": [
    "## Implementação da função de soma\n",
    "A função de soma acontece em todos os neurônios, somando o valor do produto da multiplicação entre os neurônios adjacentes anteriores com os pesos das sinapses artificiais.\n",
    "Esse valor de soma é o valor final do neurônio após receber todas as sinapses e será usado na função de ativação para indicar se o neurônio em questão foi excitado ou inibido.\n",
    "\n",
    "\n",
    "A soma do produto pode ser feita de forma simples usando o método *dot* do numpy, retornando um produto escalar."
   ]
  },
  {
   "cell_type": "code",
   "execution_count": 208,
   "metadata": {},
   "outputs": [],
   "source": [
    "def somatoria(entradas, pesos):\n",
    "    return np.dot(entradas, pesos) "
   ]
  },
  {
   "cell_type": "markdown",
   "metadata": {},
   "source": [
    "## Função de ativação\n",
    "A função de ativação por *default* no perceptron é a chamada \"*step function* (função degrau)\", onde o neurônio artificial é excitado ou não baseado em um *threshold* (limiar) pré definido.\n",
    "Nesse caso, se o valor do neurônio for maior que 0 ele retorna o 1, excitando a célula, caso contrário, retorna 0.\n",
    "\n",
    "Por ser um problema multiclasse, foi criado um laço *for* para percorrer o array da classe e excitar todas as posições em que o valor é maior que 0. \n",
    "\n",
    "Claro que isso acaba gerando um problema onde mais de um neurônio por vez na camada de saída pode ser excitado. "
   ]
  },
  {
   "cell_type": "code",
   "execution_count": 209,
   "metadata": {},
   "outputs": [],
   "source": [
    "def funcao_ativacao_step(soma):\n",
    "    ativacao = []\n",
    "    for i in soma:\n",
    "        if i > 0:\n",
    "            ativacao.append(1)\n",
    "        else:\n",
    "            ativacao.append(0)\n",
    "\n",
    "    return ativacao, ativacao"
   ]
  },
  {
   "cell_type": "markdown",
   "metadata": {},
   "source": [
    "## Função de custo\n",
    "A função de custo é a responsável por calcular o erro da rede neural ao comparar o valor correto com o valor que foi previsto.\n",
    "\n",
    "A variável de *erro* indica se a rede neural errou a previsão ou acertou (uma vez que os pesos aqui não serão atualizados em caso de acerto), já a variável *valor_erro*, nos indica o valor exato em cada neurônio de saída que a rede classificou incorretamente, para ter uma precisão maior na atualização dos pesos.\n",
    "\n",
    "Por exemplo, se o valor previsto foi: [0.8,0.37,0.16] e o valor real é: [0,1,0], a variável *valor_erro* vai trazer o erro do algoritmo por posição: [0.8, 0.63, 0.16], totalizando uma soma de 1.59. "
   ]
  },
  {
   "cell_type": "code",
   "execution_count": 210,
   "metadata": {},
   "outputs": [],
   "source": [
    "def funcao_custo(valor_correto, valor_previsto, valor_ativacao):\n",
    "    erro = valor_correto != valor_previsto\n",
    "    valor_erro = list(abs(np.array(valor_correto) - np.array(valor_ativacao)))\n",
    "    return erro, sum(valor_erro) # valor escalar"
   ]
  },
  {
   "cell_type": "markdown",
   "metadata": {},
   "source": [
    "## Função de atualização de peso\n",
    "A formula da atualização de pesos no perceptron foi representada no método de *atualizar_peso*\n",
    "\n",
    "Com ela, conseguimos ajustar os pesos seguindo uma taxa de aprendizado (basicamente o tamanho do \"passo\") além de levar em consideração a grandeza da entrada e o quanto a previsão estava incorreta.\n",
    "\n",
    "Algo importante de se considerar é que o perceptron faz a atualização dos pesos POR REGISTRO, ou seja, a cada registro apresentado a rede neural que é classificado de forma incorreta é gerado uma atualização nos pesos, podendo dificultar a convergência devido à sensibilidade aos dados contidos no *dataframe* e também aumentando o tempo de execução do algoritmo."
   ]
  },
  {
   "cell_type": "code",
   "execution_count": 211,
   "metadata": {},
   "outputs": [],
   "source": [
    "def atualizar_peso(entrada, peso, erro, tx_aprendizado):\n",
    "    novo_peso = peso + (tx_aprendizado * entrada * erro)\n",
    "    return novo_peso"
   ]
  },
  {
   "cell_type": "markdown",
   "metadata": {},
   "source": [
    "## Bias\n",
    "O Bias é a constante que iremos adicionar como sendo uma das colunas do *dataframe*. Essa coluna, assim como as demais, irá se transformar em um neurônio da rede, que vai ajudar nos cálculos dos pesos.\n",
    "\n",
    "O Bias tem uma atualização diferenciada, pois não leva em consideração a entrada, portanto foi criado um método para atualizar o bias."
   ]
  },
  {
   "cell_type": "code",
   "execution_count": 212,
   "metadata": {},
   "outputs": [],
   "source": [
    "def atualizar_bias(entrada, peso, erro, tx_aprendizado):\n",
    "    novo_peso = peso + np.float64(tx_aprendizado * erro)\n",
    "    return novo_peso"
   ]
  },
  {
   "cell_type": "code",
   "execution_count": 213,
   "metadata": {},
   "outputs": [],
   "source": [
    "previsores['bias'] = 1 # adicionando o bias na coluna"
   ]
  },
  {
   "cell_type": "markdown",
   "metadata": {},
   "source": [
    "## Implementação do perceptron\n",
    "O método *treinar* é que a que vai implementar de fato todas as etapas que foram mostradas até agora, recebendo o número de épocas que iremos executar o perceptron, onde cada época representa a passagem de todo o *dataframe* na pela rede, a função de ativação que será utilizada, a função de custo e os conjuntos de treinamento e teste, além da taxa de aprendizado. "
   ]
  },
  {
   "cell_type": "code",
   "execution_count": 214,
   "metadata": {},
   "outputs": [],
   "source": [
    "def treinar(epocas, f_ativacao, f_custo, pesos, x_treinamento, y_treinamento, x_teste, y_teste,\n",
    "           tx_aprendizado):\n",
    "\n",
    "    execucoes = 0\n",
    "    precisoes_treinamento = [] #convergência da base de treinamento ao longo das épocas\n",
    "    precisoes_teste = [] # convergência da base de teste ao longo das épocas\n",
    "    melhores_pesos = [] # registra o melhor conjunto de pesos para a validação posterior\n",
    "\n",
    "    while execucoes < epocas: # parada ao executar todas as épocas.\n",
    "        precisao = 0\n",
    "        iteracao = 0\n",
    "        # x_treinamento = x_treinamento.sample(frac=1).reset_index(drop=True) # embaralhar os valores dos previsores, por que sem isso, podemos ter sempre uma ordem fixa de ajuste de pesos, prejudicando a rede\n",
    "\n",
    "        for i in x_treinamento.values: # percorre cada registro individualmente\n",
    "            entradas = i   \n",
    "            soma = somatoria(entradas, pesos)\n",
    "        \n",
    "            # a ativacao retorna qual dos 3 neurônios de saíde foram excitados e também o \n",
    "            # valor real da ativação, para calculo do erro.\n",
    "            neuronio_excitado, valor_ativacao = f_ativacao(soma) \n",
    "        \n",
    "            erro, valor_erro = f_custo(y_treinamento[iteracao], neuronio_excitado, \n",
    "                                       valor_ativacao)\n",
    "            # atualiza os pesos em caso de erro\n",
    "            if erro == True:\n",
    "                count = 0\n",
    "                # percorre cada coluna para atualizar o peso e o bias\n",
    "                for i in entradas:\n",
    "                    if count == len(entradas) - 1:\n",
    "                        novo_peso = atualizar_bias(i, pesos[count], valor_erro, tx_aprendizado)\n",
    "                    else:\n",
    "                        novo_peso = atualizar_peso(i, pesos[count], valor_erro, tx_aprendizado)\n",
    "                    \n",
    "                    pesos[count] = novo_peso\n",
    "                    count += 1\n",
    "            else:\n",
    "                precisao += 100 / len(x_treinamento)\n",
    "\n",
    "            iteracao += 1\n",
    "        \n",
    "        precisoes_treinamento.append(precisao)\n",
    "        melhores_pesos = pesos.copy() if precisoes_treinamento[execucoes] >= max(precisoes_treinamento) else melhores_pesos\n",
    "\n",
    "        precisoes_teste.append(testar(pesos, x_teste, y_teste, f_ativacao, f_custo))\n",
    "        execucoes += 1\n",
    "    return precisoes_treinamento, precisoes_teste, melhores_pesos"
   ]
  },
  {
   "cell_type": "markdown",
   "metadata": {},
   "source": [
    "## Método de teste\n",
    "Ao final de cada época a rede teve seu desempenho avaliado na base de teste, isso foi feito no método *testar* onde usamos os pesos ajustados no treinamento apenas para pegar os acertos e erros no conjunto de teste."
   ]
  },
  {
   "cell_type": "code",
   "execution_count": 215,
   "metadata": {},
   "outputs": [],
   "source": [
    "def testar(pesos, x_previsores, y_classe, f_ativacao, f_custo):\n",
    "    precisao = 0\n",
    "    iteracao = 0\n",
    "    for i in x_previsores.values:\n",
    "        entradas = i   \n",
    "        soma = somatoria(entradas, pesos)\n",
    "        \n",
    "        neuronio_excitado, valor_ativacao = f_ativacao(soma)\n",
    "        \n",
    "        erro, valor_erro = f_custo(y_classe[iteracao], neuronio_excitado, valor_ativacao)\n",
    "        \n",
    "        # faz a contagem da precisão, incrementando por acerto baseado no total de registros\n",
    "        if erro == 0: \n",
    "            precisao += 100 / len(x_previsores)\n",
    "        \n",
    "        iteracao += 1\n",
    "    \n",
    "    return precisao"
   ]
  },
  {
   "cell_type": "markdown",
   "metadata": {},
   "source": [
    "### Exibindo os resultados\n",
    "Os resultados de precisão, média, desvio padrão e os gráficos de convergência são exibidos nos método abaixo de *exibir_resultados* e *plotar_convergencia*."
   ]
  },
  {
   "cell_type": "code",
   "execution_count": 216,
   "metadata": {},
   "outputs": [],
   "source": [
    "def exibir_resultados(precisao_treinamento, precisao_teste, resultado_final):\n",
    "    print('Melhor precisão de treinamento', max(precisao_treinamento))\n",
    "    print('Melhor precisão de teste', max(precisao_teste))\n",
    "    print('Melhor precisão de validação', max(resultado_final))\n",
    "    print('Média precisão de treinamento', np.mean(precisao_treinamento))\n",
    "    print('Média precisão de teste', np.mean(precisao_teste))\n",
    "    print('Média precisão de validação', np.mean(resultado_final))\n",
    "    print('Desvio Padrão precisão de treinamento', np.std(precisao_treinamento))\n",
    "    print('Desvio Padrão precisão de teste', np.std(precisao_teste))\n",
    "    print('Desvio Padrão precisão de validação', np.std(resultado_final))"
   ]
  },
  {
   "cell_type": "code",
   "execution_count": 217,
   "metadata": {},
   "outputs": [],
   "source": [
    "def plotar_convergencia(precisao_treinamento, precisao_teste):\n",
    "    fig, axes = plt.subplots(nrows=1, ncols=2, figsize=(10, 8)) # iniciar a figura\n",
    "    # plotar a figura de treinamento\n",
    "    axes[0].plot(precisao_treinamento, color = 'blue')\n",
    "    axes[0].legend(['Treinamento'])\n",
    "    # plotar a figura de teste\n",
    "    axes[1].plot(precisao_teste, color = 'orange')\n",
    "    axes[1].legend(['Teste'])\n",
    "\n",
    "    plt.xlabel('Épocas')\n",
    "    plt.ylabel('Precisão')\n",
    "    plt.show()"
   ]
  },
  {
   "cell_type": "markdown",
   "metadata": {},
   "source": [
    "## Testes no perceptron\n",
    "Uma vez que a rede perceptron foi criada basta testar seus resultados com diferentes parâmetros. Para isso, foi criado a função genérica chamada *executar_perceptron*, que recebe os parâmetros desejados e treina a rede. \n",
    "\n",
    "Cada vez que o método *executar_perceptron* é chamado, o algoritmo é inicializado 30 vezes, sem nenhuma mudança nos parâmetros, apenas gerando um conjunto inicial de pesos diferente para cada inicialização e também uma partição nova dos dados, pois ambos são aleatórios.\n",
    "\n",
    "Isso é feito porque as redes neurais são algoritmos extremamente estocásticos, o que faz com que sejam inclusive evitados em algumas áreas, portanto é interessante tentar treinar a rede várias vezes para capturar seus melhores resultados. \n",
    "\n",
    "O método *executar_perceptron* também registra o desempenho e convergência da rede durante as iterações, além de retornar os valores máximos ao final, para que possamos usar posteriormente na otimização de parâmetros."
   ]
  },
  {
   "cell_type": "code",
   "execution_count": 218,
   "metadata": {},
   "outputs": [],
   "source": [
    "def executar_perceptron(funcao_ativacao, funcao_custo, epocas, dominio_pesos = [0, 1], \n",
    "                       tx_aprendizado = 0.001, mostrar_resultados = True):\n",
    "    # os arrays servem para registrar os valores de cada inicialização da rede\n",
    "    convergencia_treinamento = [0]\n",
    "    convergencia_teste = [0]\n",
    "    precisao_treinamento = []\n",
    "    precisao_teste = []\n",
    "    resultado_final = []\n",
    "    start_time = time.time() # tempo de execução\n",
    "    \n",
    "    for i in range(30): # 30 execuções\n",
    "        x_treinamento, y_treinamento, x_teste, y_teste, \\\n",
    "        x_validacao, y_validacao = dividir_dataframe(previsores, classe, 0.7, 0.15, 0.15)\n",
    "        \n",
    "        pesos = inicializar_pesos(dominio_pesos) \n",
    "        \n",
    "        treinamento = treinar(epocas, funcao_ativacao, funcao_custo, pesos, x_treinamento,\n",
    "                                     y_treinamento, x_teste, y_teste, tx_aprendizado)\n",
    "        \n",
    "        # É salvo apenas o melhor resultado da convergência, para plotar um único gráfico\n",
    "        convergencia_treinamento = treinamento[0] if max(treinamento[0]) >= \\\n",
    "                                max(convergencia_treinamento) else convergencia_treinamento\n",
    "        \n",
    "        convergencia_teste = treinamento[1] if max(treinamento[1]) >= max(convergencia_teste) \\\n",
    "                                        else convergencia_teste\n",
    "        \n",
    "        precisao_treinamento.append(max(treinamento[0]))\n",
    "        precisao_teste.append(max(treinamento[1]))\n",
    "        # avaliação do algoritmo ao final do treinamento na base de validação\n",
    "        resultado_final.append(testar(treinamento[2], x_validacao, y_validacao, \n",
    "                                      funcao_ativacao, funcao_custo))\n",
    "    \n",
    "    if mostrar_resultados == True: # condição para caso não tenha interesse em plotar gráficos\n",
    "        plotar_convergencia(convergencia_treinamento, convergencia_teste)   \n",
    "        exibir_resultados(precisao_treinamento, precisao_teste, resultado_final)\n",
    "        print(\"Tempo de execução: %s Segundos\" % (time.time() - start_time))\n",
    "        \n",
    "    return max(precisao_treinamento), max(precisao_teste), max(resultado_final)"
   ]
  },
  {
   "cell_type": "code",
   "execution_count": 219,
   "metadata": {
    "scrolled": false
   },
   "outputs": [
    {
     "ename": "KeyboardInterrupt",
     "evalue": "",
     "output_type": "error",
     "traceback": [
      "\u001b[0;31m---------------------------------------------------------------------------\u001b[0m",
      "\u001b[0;31mKeyboardInterrupt\u001b[0m                         Traceback (most recent call last)",
      "\u001b[0;32m<ipython-input-219-abcc76e8b50f>\u001b[0m in \u001b[0;36m<module>\u001b[0;34m\u001b[0m\n\u001b[0;32m----> 1\u001b[0;31m \u001b[0mexecutar_perceptron\u001b[0m\u001b[0;34m(\u001b[0m\u001b[0mfuncao_ativacao_step\u001b[0m\u001b[0;34m,\u001b[0m \u001b[0mfuncao_custo\u001b[0m\u001b[0;34m,\u001b[0m \u001b[0;36m300\u001b[0m\u001b[0;34m)\u001b[0m\u001b[0;34m\u001b[0m\u001b[0;34m\u001b[0m\u001b[0m\n\u001b[0m",
      "\u001b[0;32m<ipython-input-218-384389b4b750>\u001b[0m in \u001b[0;36mexecutar_perceptron\u001b[0;34m(funcao_ativacao, funcao_custo, epocas, dominio_pesos, tx_aprendizado, mostrar_resultados)\u001b[0m\n\u001b[1;32m     16\u001b[0m \u001b[0;34m\u001b[0m\u001b[0m\n\u001b[1;32m     17\u001b[0m         treinamento = treinar(epocas, funcao_ativacao, funcao_custo, pesos, x_treinamento,\n\u001b[0;32m---> 18\u001b[0;31m                                      y_treinamento, x_teste, y_teste, tx_aprendizado)\n\u001b[0m\u001b[1;32m     19\u001b[0m \u001b[0;34m\u001b[0m\u001b[0m\n\u001b[1;32m     20\u001b[0m         \u001b[0;31m# É salvo apenas o melhor resultado da convergência, para plotar um único gráfico\u001b[0m\u001b[0;34m\u001b[0m\u001b[0;34m\u001b[0m\u001b[0;34m\u001b[0m\u001b[0m\n",
      "\u001b[0;32m<ipython-input-214-58c7ac7ef653>\u001b[0m in \u001b[0;36mtreinar\u001b[0;34m(epocas, f_ativacao, f_custo, pesos, x_treinamento, y_treinamento, x_teste, y_teste, tx_aprendizado)\u001b[0m\n\u001b[1;32m     20\u001b[0m             \u001b[0mneuronio_excitado\u001b[0m\u001b[0;34m,\u001b[0m \u001b[0mvalor_ativacao\u001b[0m \u001b[0;34m=\u001b[0m \u001b[0mf_ativacao\u001b[0m\u001b[0;34m(\u001b[0m\u001b[0msoma\u001b[0m\u001b[0;34m)\u001b[0m\u001b[0;34m\u001b[0m\u001b[0;34m\u001b[0m\u001b[0m\n\u001b[1;32m     21\u001b[0m \u001b[0;34m\u001b[0m\u001b[0m\n\u001b[0;32m---> 22\u001b[0;31m             erro, valor_erro = f_custo(y_treinamento[iteracao], neuronio_excitado, \n\u001b[0m\u001b[1;32m     23\u001b[0m                                        valor_ativacao)\n\u001b[1;32m     24\u001b[0m             \u001b[0;31m# atualiza os pesos em caso de erro\u001b[0m\u001b[0;34m\u001b[0m\u001b[0;34m\u001b[0m\u001b[0;34m\u001b[0m\u001b[0m\n",
      "\u001b[0;32m~/.local/lib/python3.6/site-packages/pandas/core/series.py\u001b[0m in \u001b[0;36m__getitem__\u001b[0;34m(self, key)\u001b[0m\n\u001b[1;32m    762\u001b[0m         \u001b[0;32mreturn\u001b[0m \u001b[0mself\u001b[0m\u001b[0;34m.\u001b[0m\u001b[0m_get_values\u001b[0m\u001b[0;34m(\u001b[0m\u001b[0mslobj\u001b[0m\u001b[0;34m)\u001b[0m\u001b[0;34m\u001b[0m\u001b[0;34m\u001b[0m\u001b[0m\n\u001b[1;32m    763\u001b[0m \u001b[0;34m\u001b[0m\u001b[0m\n\u001b[0;32m--> 764\u001b[0;31m     \u001b[0;32mdef\u001b[0m \u001b[0m__getitem__\u001b[0m\u001b[0;34m(\u001b[0m\u001b[0mself\u001b[0m\u001b[0;34m,\u001b[0m \u001b[0mkey\u001b[0m\u001b[0;34m)\u001b[0m\u001b[0;34m:\u001b[0m\u001b[0;34m\u001b[0m\u001b[0;34m\u001b[0m\u001b[0m\n\u001b[0m\u001b[1;32m    765\u001b[0m         \u001b[0mkey\u001b[0m \u001b[0;34m=\u001b[0m \u001b[0mcom\u001b[0m\u001b[0;34m.\u001b[0m\u001b[0m_apply_if_callable\u001b[0m\u001b[0;34m(\u001b[0m\u001b[0mkey\u001b[0m\u001b[0;34m,\u001b[0m \u001b[0mself\u001b[0m\u001b[0;34m)\u001b[0m\u001b[0;34m\u001b[0m\u001b[0;34m\u001b[0m\u001b[0m\n\u001b[1;32m    766\u001b[0m         \u001b[0;32mtry\u001b[0m\u001b[0;34m:\u001b[0m\u001b[0;34m\u001b[0m\u001b[0;34m\u001b[0m\u001b[0m\n",
      "\u001b[0;31mKeyboardInterrupt\u001b[0m: "
     ]
    }
   ],
   "source": [
    "executar_perceptron(funcao_ativacao_step, funcao_custo, 300)"
   ]
  },
  {
   "cell_type": "markdown",
   "metadata": {},
   "source": [
    "### Resultados iniciais e ZeroR\n",
    "Os testes inicias mostram uma precisão extremamente baixa, algo está definitivamente se comportando mal no algoritmo. Podemos ter certeza que o culpado é nosso algoritmo e não a base de dados devido a análise exploratória nos dados que foi feita anteriormente, uma vez que as características separáveis dos dados deveriam nos dar uma precisão maior que a encontrada até agora.\n",
    "\n",
    "Para saber a precisão mínima que o algoritmo deve ter para ser considerado melhor do que não usar algoritmo algum foi utilizado o \"zeroR\" como critério. A precisão do zeroR, considerado nosso limiar mínimo, é dado pela proporção de registros da classe majoritária no *dataframe*.\n",
    "\n",
    "\n",
    "Nesse *dataframe* as classes estão **normalmente distribuídas** em 3 partes iguais, fazendo com que a precisão majoritária sem algoritmos seja de **33%**, portanto, qualquer precisão inferior a isso torna o uso do algoritmo injustificável.\n",
    "\n",
    "\n",
    "Todavia, ainda que nosso algoritmo seja considerado útil com 34% de acerto, ainda está longe de algo desejável."
   ]
  },
  {
   "cell_type": "markdown",
   "metadata": {},
   "source": [
    "# Melhorando os resultados\n",
    "Os passos que seguem foram usados como meio de melhorar a precisão da rede perceptron."
   ]
  },
  {
   "cell_type": "markdown",
   "metadata": {},
   "source": [
    "### Função de ativação sigmoid.\n",
    "Como foi dito anteriormente, utilizar a função degrau para ativação pode ocasionar o aumento dos erros, devido a possibilidade de excitar vários neurônios ao passar pelo limiar especificado. Portanto foi criado uma nova função de ativação sigmoid.\n",
    "\n",
    "Com isso, os valores ficam em um intervalo de 0 e 1 e o neurônio escolhido para ser excitado é aquele com o maior valor. Dessa forma, já não temos mais o problema de excitar vários neurônios. "
   ]
  },
  {
   "cell_type": "code",
   "execution_count": null,
   "metadata": {},
   "outputs": [],
   "source": [
    "def funcao_ativacao_sigmoid(soma):\n",
    "    valor_ativacao = list(1 / (1 + math.e ** -soma))\n",
    "    index_excitacao = valor_ativacao.index(max(valor_ativacao))# pegar neurônio com maior valor  \n",
    "    neuronio_excitado = [0] * len(soma) # zerar os valores dos neurônios de saída\n",
    "    neuronio_excitado[index_excitacao] = 1 # definir o valor 1 para o neurônio com maior valor\n",
    "    \n",
    "    return neuronio_excitado, valor_ativacao"
   ]
  },
  {
   "cell_type": "code",
   "execution_count": null,
   "metadata": {},
   "outputs": [],
   "source": [
    "executar_perceptron(funcao_ativacao_sigmoid, funcao_custo, 300)"
   ]
  },
  {
   "cell_type": "markdown",
   "metadata": {},
   "source": [
    "A aplicação da função sigmoid gerou melhorias consideráveis nos resultados.\n",
    "\n",
    "Um outro parâmetro que pode ser otimizado é o domínio dos pesos, podemos alterar o mesmo para tentar buscar um nível de precisão maior, que é refletido por sua vez nas oscilações no gráfico de precisão e treinamento e de teste."
   ]
  },
  {
   "cell_type": "code",
   "execution_count": null,
   "metadata": {},
   "outputs": [],
   "source": [
    "executar_perceptron(funcao_ativacao_sigmoid, funcao_custo, 300, [-0.005, 0.005])"
   ]
  },
  {
   "cell_type": "markdown",
   "metadata": {},
   "source": [
    "Como esperado, utilizar o domínio entre -0.005 e 0.005 acrescentou um ganho de precisão, chegando em torno dos 80%.\n",
    "\n",
    "Foi observado ao longo dos testes, que o nosso ótimo global se encontra em valores pequenos de pesos, portanto tiramos vantagem de começar com um domínio próximo a zero e ir evoluindo gradativamente em busca do ótimo global."
   ]
  },
  {
   "cell_type": "markdown",
   "metadata": {},
   "source": [
    "## Mean Squared Error e Root Mean Squared error\n",
    "A função de custo que está sendo utilizada atualmente é a mais simples possível, onde comparamos a diferença entre a previsão atual com o valor esperado. Existem outras fórmulas um pouco mais completas que possuem um nível de precisão maior em estimar os custos.\n",
    "\n",
    "A primeira delas é a função Mean Squared Error, representada no método *funcao_custo_mse*, que além de calcular o valor correto subtraído do valor previsto também eleva o resultado da subtração ao quadrado e os soma, gerando um valor escalar que pune mais erros maiores, deixando eles mais expressivos.\n",
    "\n",
    "\n",
    "A Root Mean Squared Error, representada pelo método *funcao_custo_rmse* segue a mesma formula, porém submetendo os resultados finais a uma raiz quadrada."
   ]
  },
  {
   "cell_type": "code",
   "execution_count": null,
   "metadata": {},
   "outputs": [],
   "source": [
    "def funcao_custo_mse(valor_correto, valor_previsto, valor_ativacao):\n",
    "    erro = valor_correto != valor_previsto\n",
    "\n",
    "    valor_erro = list(abs(np.array(valor_correto) - np.array(valor_ativacao)))\n",
    "    erro_quadratico = list(map(lambda x: math.pow(x, 2), valor_erro))\n",
    "    soma_erro_quadratico = sum(erro_quadratico)\n",
    "\n",
    "    return erro, soma_erro_quadratico"
   ]
  },
  {
   "cell_type": "code",
   "execution_count": null,
   "metadata": {},
   "outputs": [],
   "source": [
    "def funcao_custo_rmse(valor_correto, valor_previsto, valor_ativacao):\n",
    "    erro, valor_erro = funcao_custo_mse(valor_correto, valor_previsto, valor_ativacao)\n",
    "\n",
    "    return erro, math.sqrt(valor_erro)"
   ]
  },
  {
   "cell_type": "code",
   "execution_count": null,
   "metadata": {
    "scrolled": true
   },
   "outputs": [],
   "source": [
    "executar_perceptron(funcao_ativacao_sigmoid, funcao_custo_mse, 300, [-0.005, 0.005])\n",
    "executar_perceptron(funcao_ativacao_sigmoid, funcao_custo_rmse, 300, [-0.005, 0.005])"
   ]
  },
  {
   "cell_type": "markdown",
   "metadata": {},
   "source": [
    "As duas funções de custo se saíram bem na busca dos resultados, posteriormente será testado qual consegue um desempenho médio melhor."
   ]
  },
  {
   "cell_type": "markdown",
   "metadata": {},
   "source": [
    "## Problema do gradiente explodindo ou desaparecendo\n",
    "Um problema enfrentado foi o dos pesos explodindo ou sumindo. No primeiro caso, o valor dos pesos aumentava de forma exponencial, chegando a valores próximos dos 2000 mil por conexão sináptica. Isso gerou uma deteorização na precisão, fazendo com que os valores iniciais da rede sejam sempre os mais altos.\n",
    "\n",
    "Já no gradiente sumindo, o problema foi uma taxa de aprendizado e um conjunto de pesos muito pequeno, fazendo com que a rede se mantenha uma linha reta, incapaz de aprender nada.\n",
    "\n",
    "Para resolver esse problema foram feitos vários testes de diferentes pesos e taxas de aprendizado a fim de conseguir chegar a um meio termo, pois esses dois parâmetros são os principais responsáveis por fazer que isso ocorra."
   ]
  },
  {
   "cell_type": "markdown",
   "metadata": {},
   "source": [
    "# Atualização dos pesos por época\n",
    "As redes neurais multicamadas geralmente atualizam os pesos da rede após passar todos os registros pela rede, ou pelo menos uma parte dos registros (batch). A atualização por época possui como vantagem um tempo de processamento menor, pois executa todo o processo na rede de uma vez só, sem precisar passar registro por registro, menos sensibilidade à dados ruidosos, pois generaliza os resultados de toda a rede e também um código de implementação mais simples (com menos linhas).\n",
    "Todavia também possui algumas desvantagens, como maior uso de memória, pois precisa carregar todos os registros, o que pode ser impossível quando se trabalha com uma massa maior de dados além de que essa generalização dos resultados do *dataset* pode acabar levando à convergência a um ótimo local.\n",
    "\n",
    "Pensando nisso, foi implementado uma versão que trabalha por épocas da rede perceptron para testar seu comportamento nos problemas aqui trabalhados. Foram necessárias algumas mudanças nos métodos já apresentados anteriormente.\n",
    "\n",
    "Primeiro, os valores de classe e previsores foram reiniciados."
   ]
  },
  {
   "cell_type": "code",
   "execution_count": null,
   "metadata": {},
   "outputs": [],
   "source": [
    "previsores = dataframe.iloc[:, 0:4] \n",
    "previsores = previsores.apply(lambda row: normalizacao_z_score(row))\n",
    "previsores['bias'] = 1\n",
    "classe = dataframe['class']\n",
    "classe = classe.apply(lambda row: transformar_categorico_em_numerico(row, dict_classes))"
   ]
  },
  {
   "cell_type": "markdown",
   "metadata": {},
   "source": [
    "Isso é necessário pois a classe foi codificada em um novo formato de matriz ao invés de array, para trabalhar com as operações matemáticas de uma vez só em todos os registros. Para isso, foram feitas alterações no método de *codificar_classe*. "
   ]
  },
  {
   "cell_type": "code",
   "execution_count": null,
   "metadata": {},
   "outputs": [],
   "source": [
    "def codificar_classe_epoca():\n",
    "    classe_codificada = {}\n",
    "    \n",
    "    array_classe = np.array([[1]  + ([0] * (len(classe.unique()) - 1)) ]) # estrutura de matriz\n",
    "        \n",
    "    count = 1\n",
    "    classe_codificada[0] = array_classe.copy()\n",
    "\n",
    "    for i in range(len(classe.unique()) - 1):\n",
    "        array_classe[0][count - 1] = 0\n",
    "        array_classe[0][count] = 1  \n",
    "        classe_codificada[count] = array_classe.copy()\n",
    "        count += 1\n",
    "    \n",
    "    return classe_codificada"
   ]
  },
  {
   "cell_type": "markdown",
   "metadata": {},
   "source": [
    "Uma vez criado a estrutura de classe por matriz, criamos a variável *classe_nova* que vai transformar todas as classes do problema no formato de matriz."
   ]
  },
  {
   "cell_type": "code",
   "execution_count": null,
   "metadata": {},
   "outputs": [],
   "source": [
    "classe_codificada = codificar_classe_epoca()\n",
    "classe_nova = []\n",
    "\n",
    "for i in classe: # percorre as classes do dataframe\n",
    "    classe_nova.append(classe_codificada[i])\n",
    "    \n",
    "classe_nova = np.array(classe_nova).reshape(len(classe), 3) # redimensiona para criar a matriz\n",
    "print(classe_nova.shape)"
   ]
  },
  {
   "cell_type": "markdown",
   "metadata": {},
   "source": [
    "A classe agora, ao invés de um array [0,1,0] é uma matriz com três colunas, uma para cada posição do array, como podemos ver no *print* do método *shape*, nos indicando as 150 linhas (registros) e três colunas (quantidade de classes).\n",
    "\n",
    "Foi feito uma pequena modificação no método *dividir_dataframe*, porém não foi criado um novo método, apenas utilizamos um parâmetro adicional nesse caso.\n",
    "\n",
    "A função sigmoid também recebe algumas modificações de sintax, pois ao invés de pegar o valor máximo de apenas um array e excitá-lo, o processo é feito de uma vez só no conjunto inteiro. "
   ]
  },
  {
   "cell_type": "code",
   "execution_count": null,
   "metadata": {},
   "outputs": [],
   "source": [
    "def funcao_ativacao_sigmoid_epoca(soma):\n",
    "    valor_ativacao = 1 / (1 + math.e ** -soma)\n",
    "    index_excitacao = np.argmax(valor_ativacao, 1) \n",
    "    \n",
    "    count = 0\n",
    "    neuronios_excitado = valor_ativacao.copy()\n",
    "\n",
    "    for i in index_excitacao:\n",
    "        neuronios_excitado[count] = 0\n",
    "        neuronios_excitado[count][i] = 1\n",
    "        count += 1\n",
    "        \n",
    "    return neuronios_excitado, valor_ativacao"
   ]
  },
  {
   "cell_type": "markdown",
   "metadata": {},
   "source": [
    "A função de custo utilizada foi a de Mean Squared Error, pois mostrou um bom desempenho nos testes. Foram feitas algumas pequenas adaptações para trabalhar com a operação matemática em todos os registros, mas a principal diferença é que na atualização por época, ao invés de contabilizar a precisão incrementalmente, ela é calculada de uma vez só, baseado no número de acertos em todos os registros."
   ]
  },
  {
   "cell_type": "code",
   "execution_count": null,
   "metadata": {},
   "outputs": [],
   "source": [
    "def funcao_custo_mse_epoca(valor_correto, valor_previsto, valor_ativacao):\n",
    "    erro = list(abs(np.array(valor_correto) - np.array(valor_previsto)))\n",
    "    valor_erro = list(abs(np.array(valor_correto) - np.array(valor_ativacao)))\n",
    "\n",
    "    acerto = 0\n",
    "    for i in erro:\n",
    "        if sum(i) == 0: # verifica se o registro está correto, ou seja, soma de erro é igual a 0.\n",
    "            acerto += 1 # incrementa um no acerto\n",
    "\n",
    "    erro_quadratico = list(map(lambda x: x**2, valor_erro))\n",
    "    erro_quadratico_medio = sum(erro_quadratico) / len(valor_correto)\n",
    "\n",
    "    return sum(erro), acerto, sum(erro_quadratico_medio)"
   ]
  },
  {
   "cell_type": "markdown",
   "metadata": {},
   "source": [
    "A atualização dos pesos é a soma do valor atual do peso com o produto da multiplicação entre taxa de aprendizado, entrada e erro. Nesse caso, como trabalhamos com todas as entradas de uma vez só, é feito a média desse produto.\n",
    "\n",
    "Essa média é a responsável por fazer a generalização de todas as entradas em um valor que será adicionado ao novo peso, sendo uma vantagem e ao mesmo tempo desvantagem dessa abordagem, como já foi discutido"
   ]
  },
  {
   "cell_type": "code",
   "execution_count": null,
   "metadata": {},
   "outputs": [],
   "source": [
    "def atualizar_peso_epoca(entrada, peso, erro, tx_aprendizado):\n",
    "    novo_peso = peso + np.mean((tx_aprendizado * entrada * erro))\n",
    "    return novo_peso"
   ]
  },
  {
   "cell_type": "markdown",
   "metadata": {},
   "source": [
    "O método de testar fica mais simplificado, pois não precisa de loops em cada registro, além de já obter os acertos na própria função de ativação"
   ]
  },
  {
   "cell_type": "code",
   "execution_count": null,
   "metadata": {},
   "outputs": [],
   "source": [
    "def testar_epoca(pesos, x_previsores, y_classe, f_ativacao, f_custo):\n",
    "    entradas = x_previsores.values  \n",
    "    soma = somatoria(entradas, pesos)\n",
    "    \n",
    "    neuronio_excitado, valor_ativacao = f_ativacao(soma)\n",
    "    \n",
    "    erro, acertos, valor_erro = f_custo(y_classe, neuronio_excitado, valor_ativacao)\n",
    "       \n",
    "    return acertos / len(x_previsores)"
   ]
  },
  {
   "cell_type": "markdown",
   "metadata": {},
   "source": [
    "Assim como o teste, o treinamento acaba ficando mais simples, lidando com todos os dados de uma vez só"
   ]
  },
  {
   "cell_type": "code",
   "execution_count": null,
   "metadata": {},
   "outputs": [],
   "source": [
    "def treinar_epoca(epocas, f_ativacao, f_custo, pesos, x_treinamento, y_treinamento,\n",
    "                                     x_teste, y_teste, tx_aprendizado):\n",
    "    execucoes = 0\n",
    "    precisoes_treinamento = []\n",
    "    precisoes_teste = []\n",
    "    melhores_pesos = []\n",
    "    \n",
    "    while execucoes < epocas:\n",
    "\n",
    "        entradas = x_treinamento.values   \n",
    "        soma = somatoria(entradas, pesos)\n",
    "    \n",
    "        neuronio_excitado, valor_ativacao = f_ativacao(soma)\n",
    "    \n",
    "        erro, acertos, valor_erro = f_custo(y_treinamento, neuronio_excitado, valor_ativacao)\n",
    "    \n",
    "        count = 0\n",
    "        precisoes_treinamento.append(acertos / len(x_treinamento))    \n",
    "        melhores_pesos = pesos.copy() if precisoes_treinamento[execucoes] >= max(precisoes_treinamento) else melhores_pesos\n",
    "\n",
    "        for i in range(entradas.shape[1]): # o for tem que atualizar cada peso da camada\n",
    "            if i == 4:\n",
    "                novo_peso = atualizar_bias(entradas[:, i], pesos[i], valor_erro, tx_aprendizado)\n",
    "            else:\n",
    "                novo_peso = atualizar_peso_epoca(entradas[:, i], pesos[i], valor_erro, tx_aprendizado)\n",
    "            pesos[count] = novo_peso\n",
    "            count += 1\n",
    "        \n",
    "        precisoes_teste.append(testar_epoca(pesos, x_teste, y_teste, f_ativacao, f_custo))\n",
    "        execucoes += 1\n",
    "    \n",
    "    return precisoes_treinamento, precisoes_teste, melhores_pesos"
   ]
  },
  {
   "cell_type": "markdown",
   "metadata": {},
   "source": [
    "O novo método de executar perceptron vai ser muito parecido com o anterior, porém irá chamar todos os novos métodos que foram criados e executar a rede por épocas."
   ]
  },
  {
   "cell_type": "code",
   "execution_count": null,
   "metadata": {},
   "outputs": [],
   "source": [
    "def executar_perceptron_epoca(funcao_ativacao, funcao_custo, epocas, dominio_pesos = [0, 1], \n",
    "                        tx_aprendizado = 0.1, mostrar_resultados = True):\n",
    "\n",
    "    convergencia_treinamento = [0]\n",
    "    convergencia_teste = [0]\n",
    "    precisao_treinamento = []\n",
    "    precisao_teste = []\n",
    "    resultado_final = []\n",
    "    start_time = time.time()\n",
    "\n",
    "    for i in range(30):\n",
    "        pesos = inicializar_pesos(dominio_pesos) # Alterando os pesos em cada inicialização\n",
    "        x_treinamento, y_treinamento, x_teste, y_teste, x_validacao, y_validacao = dividir_dataframe(previsores, classe_nova, 0.7, 0.15, 0.15, True)\n",
    "\n",
    "        treinamento = treinar_epoca(epocas, funcao_ativacao, funcao_custo, pesos, x_treinamento, y_treinamento, x_teste, y_teste, tx_aprendizado)\n",
    "                                     \n",
    "        convergencia_treinamento = treinamento[0] if max(treinamento[0]) >= \\\n",
    "                                max(convergencia_treinamento) else convergencia_treinamento\n",
    "        convergencia_teste = treinamento[1] if max(treinamento[1]) >= max(convergencia_teste) \\\n",
    "                                        else convergencia_teste\n",
    "        \n",
    "        precisao_treinamento.append(max(treinamento[0]))\n",
    "        precisao_teste.append(max(treinamento[1]))\n",
    "        resultado_final.append(testar_epoca(treinamento[2], x_validacao, y_validacao, \n",
    "                                      funcao_ativacao, funcao_custo))\n",
    "\n",
    "    if mostrar_resultados == True:\n",
    "        plotar_convergencia(convergencia_treinamento, convergencia_teste)   \n",
    "        exibir_resultados(precisao_treinamento, precisao_teste, resultado_final)\n",
    "        print(\"Tempo de execução: %s Segundos\" % (time.time() - start_time))\n",
    "        \n",
    "    return max(precisao_treinamento), max(precisao_teste), max(resultado_final)"
   ]
  },
  {
   "cell_type": "code",
   "execution_count": null,
   "metadata": {
    "scrolled": true
   },
   "outputs": [],
   "source": [
    "executar_perceptron_epoca(funcao_ativacao_sigmoid_epoca, funcao_custo_mse_epoca, 400, [-0.0005, 0.0005])"
   ]
  },
  {
   "cell_type": "markdown",
   "metadata": {},
   "source": [
    "## Resultados do treinamento por época\n",
    "Os resultados de precisão foram bons, chegando em torno dos 90% no teste da rede neural. \n",
    "Nesse caso, os resultados não foram tão diferentes do que executar o perceptron e atualizar os pesos por registro individual, mas aqui valem dois pontos de atenção. O primeiro é que a base de dados da iris não é de um problema muito complexo, além de ter uma quantidade pequena e separável de atributos, portanto atualizar olhando para atributos individualmente ou para todos os atributos de uma vez não fez tanta diferença. O segundo é que, como esperado, a execução do algoritmo por épocas conseguiu se sair até 6 vezes mais rápido do que o anterior, levando menos de 20 segundos para finalizar todas as execuções. Essa velocidade de processamento no possibilita testar uma combinação maior de hiperparâmetros, favorecendo a otimização da rede neural."
   ]
  },
  {
   "cell_type": "markdown",
   "metadata": {},
   "source": [
    "# Encontrando os melhores parâmetros\n",
    "Existem algumas formas de encontrar os melhores resultados que um determinado algoritmo pode proporcionar. Uma delas é pelo teste exaustivo de parâmetros, onde são testados todas as combinações de parâmetros a fim de encontrar os melhores resultados.\n",
    "\n",
    "Algoritmos como as redes neurais que possuem um quantidade maior de parâmetros se beneficiam desse tipo de abordagem, todavia o tempo de execução para esses testes muitas das vezes acaba sendo alto.\n",
    "\n",
    "Para isso, foi criado o método *buscar_parametros*, que recebe um dicionário com uma lista de parâmetros, e cria uma lista com todos os parâmetros combinados.\n",
    "\n",
    "Após isso, cada elemento da lista é executado, representando uma diferente possibilidade de combinação de parâmetros. Essa combinação é executada por 30 vezes no método *executar_perceptron*.\n",
    "\n",
    "Ao final de todas as iterações, vamos ter os resultados finais obtidos bem como os melhores parâmetros para o algoritmo."
   ]
  },
  {
   "cell_type": "code",
   "execution_count": null,
   "metadata": {},
   "outputs": [],
   "source": [
    "def buscar_parametros(lista_parametros, executar):\n",
    "    # cria uma única lista com todos os parâmetros\n",
    "    parametros = [lista_parametros['custo'],\n",
    "    lista_parametros['tx_aprendizado'], lista_parametros['pesos']]\n",
    "    \n",
    "    # Combinação de cada um desses parâmetros\n",
    "    combinacao_parametros = list(itertools.product(*parametros))\n",
    "\n",
    "    melhores_parametros = []\n",
    "    melhor_precisao_teste = 0\n",
    "    melhor_precisao_treinamento = 0\n",
    "    melhor_precisao_validacao = 0\n",
    "    # nesse for os parâmetros são testados\n",
    "    for i in combinacao_parametros:\n",
    "        precisao_treinamento, precisao_teste, resultado_final = executar(funcao_ativacao_sigmoid_epoca, i[0], 400, [-i[2], i[2]], i[1], False)\n",
    "        # pegando os melhores resultados\n",
    "        if resultado_final >= melhor_precisao_validacao:\n",
    "            melhor_precisao_teste = precisao_teste\n",
    "            melhor_precisao_treinamento = precisao_treinamento\n",
    "            melhor_precisao_validacao = resultado_final\n",
    "            melhores_parametros = i\n",
    "\n",
    "    return melhores_parametros, melhor_precisao_teste, melhor_precisao_treinamento, melhor_precisao_validacao"
   ]
  },
  {
   "cell_type": "code",
   "execution_count": null,
   "metadata": {},
   "outputs": [],
   "source": [
    "lista_parametros_epoca = { 'custo' : [funcao_custo, funcao_custo_mse],\n",
    "                      'tx_aprendizado': [0.1, 0.01, 0.0001],\n",
    "                      'pesos': [0.5, 0.05, 0.005, 0.0005]\n",
    "}\n",
    "\n",
    "teste_parametrico = buscar_parametros(lista_parametros_epoca, executar_perceptron_epoca)\n",
    "print('Melhores parâmetros', teste_parametrico[0])\n",
    "print('Melhor precisão teste', teste_parametrico[1])\n",
    "print('Melhor precisão treinamento', teste_parametrico[2])\n",
    "print('Melhor precisão validação', teste_parametrico[3])"
   ]
  },
  {
   "cell_type": "markdown",
   "metadata": {},
   "source": [
    "É possível observar que o método de busca de parâmetros consegue automatizar o processo de encontrar os melhores parâmetros ao custo de um tempo de processamento maior. A busca foi feita apenas no algoritmo de atualização por época, por que na versão anterior de atualização de pesos por registros, levou mais de duas horas e ainda assim a busca não havia terminado, portanto foi interrompida. Na prática, a busca por melhores parâmetros pode levar dezenas de horas, porém é sempre interessante fazer testes manuais para reduzir a quantidade de combinações de parâmetros, para reduzir esse tempo. "
   ]
  },
  {
   "cell_type": "markdown",
   "metadata": {},
   "source": [
    "# Qual o problema?\n",
    "Utilizar a base de dados de vinhos contidos aqui: http://archive.ics.uci.edu/ml/datasets/Wine para prever qual o tipo de vinho (1, 2 ou 3) baseado nas suas características.\n",
    "\n",
    "O arquivo em questão não possuia colunas, assim como no conjunto da iris, portanto eu modifiquei o mesmo para adicionar o nome das colunas na primeira linha e deixá-lo no formato .CSV ao invés do .DATA."
   ]
  },
  {
   "cell_type": "markdown",
   "metadata": {},
   "source": [
    "## Anásile exploratória dos dados\n",
    "Conhecendo um pouco mais dos dados da base de dados."
   ]
  },
  {
   "cell_type": "code",
   "execution_count": null,
   "metadata": {
    "scrolled": true
   },
   "outputs": [],
   "source": [
    "dataframe = pd.read_csv('/home/alvaro/Documentos/mestrado/computação bio/redes neurais/datasets/wine.csv', header = 0)\n",
    "dataframe.head()"
   ]
  },
  {
   "cell_type": "code",
   "execution_count": null,
   "metadata": {
    "scrolled": false
   },
   "outputs": [],
   "source": [
    "print('Valores nulos:')\n",
    "print(dataframe.isna().sum())\n",
    "dataframe.describe()"
   ]
  },
  {
   "cell_type": "markdown",
   "metadata": {},
   "source": [
    "Nesse *dataset* todos os atributos são contínuos, inclusive a classe. Podemos notar que não existe nenhum valor vazio bem como aparentemente nenhum outlier/ruído."
   ]
  },
  {
   "cell_type": "markdown",
   "metadata": {},
   "source": [
    "## Normalização dos dados \n",
    "Assim como no problema da iris, esse dataset também precisa ser normalizando, ainda mais por conter uma quantidade maior de atributos previsores contínuos."
   ]
  },
  {
   "cell_type": "code",
   "execution_count": null,
   "metadata": {},
   "outputs": [],
   "source": [
    "previsores = dataframe.iloc[:, 1:14] \n",
    "classe = dataframe['Wine']"
   ]
  },
  {
   "cell_type": "code",
   "execution_count": null,
   "metadata": {
    "scrolled": true
   },
   "outputs": [],
   "source": [
    "previsores = previsores.apply(lambda row: normalizacao_z_score(row))\n",
    "previsores.head()"
   ]
  },
  {
   "cell_type": "markdown",
   "metadata": {},
   "source": [
    "A classe do tipo de vinho é distribuída em 1, 2 e 3, todavia para que meu método de codificar funcione ele precisa começar em 0, por isso, a classe de vinho foi submetida ao método de *transformar_categorico_em_numerico*, que vai transformá-la na sequência de 0, 1 e 2."
   ]
  },
  {
   "cell_type": "code",
   "execution_count": null,
   "metadata": {},
   "outputs": [],
   "source": [
    "dict_classes = get_dicionario_classes(classe)\n",
    "classe = classe.apply(lambda row: transformar_categorico_em_numerico(row, dict_classes))\n",
    "classe.value_counts()"
   ]
  },
  {
   "cell_type": "markdown",
   "metadata": {},
   "source": [
    "Agora a classe vai ser codificada em uma array assim como aconteceu com a iris, pois temos novamente um problema do tipo multi-classe."
   ]
  },
  {
   "cell_type": "code",
   "execution_count": null,
   "metadata": {
    "scrolled": true
   },
   "outputs": [],
   "source": [
    "classe_codificada = codificar_classe()\n",
    "classe = classe.apply(lambda row: substituir_classe_codificada(row, classe_codificada))\n",
    "classe.head()"
   ]
  },
  {
   "cell_type": "markdown",
   "metadata": {},
   "source": [
    "Agora basta adicionar o neurônio na camada de entrada para ser o bias e executar o perceptron novamente para conferir os resultados da rede."
   ]
  },
  {
   "cell_type": "code",
   "execution_count": null,
   "metadata": {},
   "outputs": [],
   "source": [
    "previsores['bias'] = 1"
   ]
  },
  {
   "cell_type": "code",
   "execution_count": null,
   "metadata": {
    "scrolled": false
   },
   "outputs": [],
   "source": [
    "executar_perceptron(funcao_ativacao_sigmoid, funcao_custo_mse, 350, [-0.005, 0.005])"
   ]
  },
  {
   "cell_type": "markdown",
   "metadata": {},
   "source": [
    "Agora o processo de leitura dos dados e pré-processamento deve ser repetido, porém agora de maneira um pouco diferente, para adequar os dados à rede perceptron por épocas, assim como foi feito anteriormente no problema das iris"
   ]
  },
  {
   "cell_type": "code",
   "execution_count": null,
   "metadata": {},
   "outputs": [],
   "source": [
    "previsores = dataframe.iloc[:, 1:14] \n",
    "classe = dataframe['Wine']\n",
    "previsores = previsores.apply(lambda row: normalizacao_z_score(row))\n",
    "\n",
    "dict_classes = get_dicionario_classes(classe)\n",
    "classe = classe.apply(lambda row: transformar_categorico_em_numerico(row, dict_classes))\n",
    "classe_codificada = codificar_classe_epoca()\n",
    "\n",
    "classe_nova = []\n",
    "\n",
    "for i in classe:\n",
    "    classe_nova.append(classe_codificada[i])\n",
    "    \n",
    "classe_nova = np.array(classe_nova).reshape(len(classe), 3)\n",
    "\n",
    "previsores['bias'] = 1"
   ]
  },
  {
   "cell_type": "code",
   "execution_count": null,
   "metadata": {
    "scrolled": false
   },
   "outputs": [],
   "source": [
    "executar_perceptron_epoca(funcao_ativacao_sigmoid_epoca, funcao_custo_mse_epoca, 400, [-0.005, 0.005])"
   ]
  },
  {
   "cell_type": "code",
   "execution_count": null,
   "metadata": {},
   "outputs": [],
   "source": [
    "lista_parametros_epoca = { 'custo' : [funcao_custo, funcao_custo_mse],\n",
    "                      'tx_aprendizado': [0.1, 0.01, 0.0001],\n",
    "                      'pesos': [0.5, 0.05, 0.005, 0.0005]\n",
    "}\n",
    "\n",
    "teste_parametrico = buscar_parametros(lista_parametros_epoca, executar_perceptron_epoca)\n",
    "print('Melhores parâmetros', teste_parametrico[0])\n",
    "print('Melhor precisão teste', teste_parametrico[1])\n",
    "print('Melhor precisão treinamento', teste_parametrico[2])\n",
    "print('Melhor precisão validação', teste_parametrico[3])"
   ]
  },
  {
   "cell_type": "markdown",
   "metadata": {},
   "source": [
    "A rede perceptron, ainda que bastante simples, conseguiu resultados interessantes nesse problema considerado mais complexo, devido ao maior número de atributos previsores."
   ]
  },
  {
   "cell_type": "markdown",
   "metadata": {},
   "source": [
    "# Qual o problema?\n",
    "O desafio escolhido no terceiro exercício foi construir uma rede neural multicamadas sem auxilio de bibliotecas prontas.\n",
    "\n",
    "\n",
    "O conjundo de dados usados nesse teste foi o de conjunto de diabetes em indianos, podendo ser encontrado aqui:\n",
    "https://www.kaggle.com/uciml/pima-indians-diabetes-database"
   ]
  },
  {
   "cell_type": "markdown",
   "metadata": {},
   "source": [
    "# Análise exploratória dos dados\n",
    "Explorando o *dataset* e deixando em um formato correto para ser trabalhado."
   ]
  },
  {
   "cell_type": "code",
   "execution_count": 220,
   "metadata": {
    "scrolled": true
   },
   "outputs": [
    {
     "data": {
      "text/html": [
       "<div>\n",
       "<style scoped>\n",
       "    .dataframe tbody tr th:only-of-type {\n",
       "        vertical-align: middle;\n",
       "    }\n",
       "\n",
       "    .dataframe tbody tr th {\n",
       "        vertical-align: top;\n",
       "    }\n",
       "\n",
       "    .dataframe thead th {\n",
       "        text-align: right;\n",
       "    }\n",
       "</style>\n",
       "<table border=\"1\" class=\"dataframe\">\n",
       "  <thead>\n",
       "    <tr style=\"text-align: right;\">\n",
       "      <th></th>\n",
       "      <th>Pregnancies</th>\n",
       "      <th>Glucose</th>\n",
       "      <th>BloodPressure</th>\n",
       "      <th>SkinThickness</th>\n",
       "      <th>Insulin</th>\n",
       "      <th>BMI</th>\n",
       "      <th>DiabetesPedigreeFunction</th>\n",
       "      <th>Age</th>\n",
       "      <th>Outcome</th>\n",
       "    </tr>\n",
       "  </thead>\n",
       "  <tbody>\n",
       "    <tr>\n",
       "      <th>0</th>\n",
       "      <td>6</td>\n",
       "      <td>148</td>\n",
       "      <td>72</td>\n",
       "      <td>35</td>\n",
       "      <td>0</td>\n",
       "      <td>33.6</td>\n",
       "      <td>0.627</td>\n",
       "      <td>50</td>\n",
       "      <td>1</td>\n",
       "    </tr>\n",
       "    <tr>\n",
       "      <th>1</th>\n",
       "      <td>1</td>\n",
       "      <td>85</td>\n",
       "      <td>66</td>\n",
       "      <td>29</td>\n",
       "      <td>0</td>\n",
       "      <td>26.6</td>\n",
       "      <td>0.351</td>\n",
       "      <td>31</td>\n",
       "      <td>0</td>\n",
       "    </tr>\n",
       "    <tr>\n",
       "      <th>2</th>\n",
       "      <td>8</td>\n",
       "      <td>183</td>\n",
       "      <td>64</td>\n",
       "      <td>0</td>\n",
       "      <td>0</td>\n",
       "      <td>23.3</td>\n",
       "      <td>0.672</td>\n",
       "      <td>32</td>\n",
       "      <td>1</td>\n",
       "    </tr>\n",
       "    <tr>\n",
       "      <th>3</th>\n",
       "      <td>1</td>\n",
       "      <td>89</td>\n",
       "      <td>66</td>\n",
       "      <td>23</td>\n",
       "      <td>94</td>\n",
       "      <td>28.1</td>\n",
       "      <td>0.167</td>\n",
       "      <td>21</td>\n",
       "      <td>0</td>\n",
       "    </tr>\n",
       "    <tr>\n",
       "      <th>4</th>\n",
       "      <td>0</td>\n",
       "      <td>137</td>\n",
       "      <td>40</td>\n",
       "      <td>35</td>\n",
       "      <td>168</td>\n",
       "      <td>43.1</td>\n",
       "      <td>2.288</td>\n",
       "      <td>33</td>\n",
       "      <td>1</td>\n",
       "    </tr>\n",
       "  </tbody>\n",
       "</table>\n",
       "</div>"
      ],
      "text/plain": [
       "   Pregnancies  Glucose  BloodPressure  SkinThickness  Insulin   BMI  \\\n",
       "0            6      148             72             35        0  33.6   \n",
       "1            1       85             66             29        0  26.6   \n",
       "2            8      183             64              0        0  23.3   \n",
       "3            1       89             66             23       94  28.1   \n",
       "4            0      137             40             35      168  43.1   \n",
       "\n",
       "   DiabetesPedigreeFunction  Age  Outcome  \n",
       "0                     0.627   50        1  \n",
       "1                     0.351   31        0  \n",
       "2                     0.672   32        1  \n",
       "3                     0.167   21        0  \n",
       "4                     2.288   33        1  "
      ]
     },
     "execution_count": 220,
     "metadata": {},
     "output_type": "execute_result"
    }
   ],
   "source": [
    "dataframe = pd.read_csv('/home/alvaro/Documentos/mestrado/computação bio/redes neurais/datasets/diabetes.csv', header = 0)\n",
    "dataframe.head()"
   ]
  },
  {
   "cell_type": "markdown",
   "metadata": {},
   "source": [
    "O dataframe é composto basicamente de variáveis contínuas e discretas, inclusive a própria classe, que representa um valor binário de 1 e 0, se o pessoa tem ou não diabetes respectivamente.\n",
    "\n",
    "Para servir como previsor, são usados informações coletadas do paciente e que estão podem estar relacionadas de alguma forma à patologia, como a idade, pressão sanguínea, glicose, entre outros.\n",
    "\n",
    "Antes de mais nada é necessário dividir o conjunto em treinamento e teste."
   ]
  },
  {
   "cell_type": "code",
   "execution_count": 221,
   "metadata": {},
   "outputs": [],
   "source": [
    "previsores = dataframe.iloc[:, 0:8] \n",
    "classe = dataframe['Outcome']"
   ]
  },
  {
   "cell_type": "code",
   "execution_count": 222,
   "metadata": {},
   "outputs": [
    {
     "name": "stdout",
     "output_type": "stream",
     "text": [
      "Pregnancies                 0\n",
      "Glucose                     0\n",
      "BloodPressure               0\n",
      "SkinThickness               0\n",
      "Insulin                     0\n",
      "BMI                         0\n",
      "DiabetesPedigreeFunction    0\n",
      "Age                         0\n",
      "Outcome                     0\n",
      "dtype: int64\n"
     ]
    }
   ],
   "source": [
    "print(dataframe.isna().sum())"
   ]
  },
  {
   "cell_type": "code",
   "execution_count": 223,
   "metadata": {},
   "outputs": [
    {
     "data": {
      "text/html": [
       "<div>\n",
       "<style scoped>\n",
       "    .dataframe tbody tr th:only-of-type {\n",
       "        vertical-align: middle;\n",
       "    }\n",
       "\n",
       "    .dataframe tbody tr th {\n",
       "        vertical-align: top;\n",
       "    }\n",
       "\n",
       "    .dataframe thead th {\n",
       "        text-align: right;\n",
       "    }\n",
       "</style>\n",
       "<table border=\"1\" class=\"dataframe\">\n",
       "  <thead>\n",
       "    <tr style=\"text-align: right;\">\n",
       "      <th></th>\n",
       "      <th>Pregnancies</th>\n",
       "      <th>Glucose</th>\n",
       "      <th>BloodPressure</th>\n",
       "      <th>SkinThickness</th>\n",
       "      <th>Insulin</th>\n",
       "      <th>BMI</th>\n",
       "      <th>DiabetesPedigreeFunction</th>\n",
       "      <th>Age</th>\n",
       "    </tr>\n",
       "  </thead>\n",
       "  <tbody>\n",
       "    <tr>\n",
       "      <th>count</th>\n",
       "      <td>768.000000</td>\n",
       "      <td>768.000000</td>\n",
       "      <td>768.000000</td>\n",
       "      <td>768.000000</td>\n",
       "      <td>768.000000</td>\n",
       "      <td>768.000000</td>\n",
       "      <td>768.000000</td>\n",
       "      <td>768.000000</td>\n",
       "    </tr>\n",
       "    <tr>\n",
       "      <th>mean</th>\n",
       "      <td>3.845052</td>\n",
       "      <td>120.894531</td>\n",
       "      <td>69.105469</td>\n",
       "      <td>20.536458</td>\n",
       "      <td>79.799479</td>\n",
       "      <td>31.992578</td>\n",
       "      <td>0.471876</td>\n",
       "      <td>33.240885</td>\n",
       "    </tr>\n",
       "    <tr>\n",
       "      <th>std</th>\n",
       "      <td>3.369578</td>\n",
       "      <td>31.972618</td>\n",
       "      <td>19.355807</td>\n",
       "      <td>15.952218</td>\n",
       "      <td>115.244002</td>\n",
       "      <td>7.884160</td>\n",
       "      <td>0.331329</td>\n",
       "      <td>11.760232</td>\n",
       "    </tr>\n",
       "    <tr>\n",
       "      <th>min</th>\n",
       "      <td>0.000000</td>\n",
       "      <td>0.000000</td>\n",
       "      <td>0.000000</td>\n",
       "      <td>0.000000</td>\n",
       "      <td>0.000000</td>\n",
       "      <td>0.000000</td>\n",
       "      <td>0.078000</td>\n",
       "      <td>21.000000</td>\n",
       "    </tr>\n",
       "    <tr>\n",
       "      <th>25%</th>\n",
       "      <td>1.000000</td>\n",
       "      <td>99.000000</td>\n",
       "      <td>62.000000</td>\n",
       "      <td>0.000000</td>\n",
       "      <td>0.000000</td>\n",
       "      <td>27.300000</td>\n",
       "      <td>0.243750</td>\n",
       "      <td>24.000000</td>\n",
       "    </tr>\n",
       "    <tr>\n",
       "      <th>50%</th>\n",
       "      <td>3.000000</td>\n",
       "      <td>117.000000</td>\n",
       "      <td>72.000000</td>\n",
       "      <td>23.000000</td>\n",
       "      <td>30.500000</td>\n",
       "      <td>32.000000</td>\n",
       "      <td>0.372500</td>\n",
       "      <td>29.000000</td>\n",
       "    </tr>\n",
       "    <tr>\n",
       "      <th>75%</th>\n",
       "      <td>6.000000</td>\n",
       "      <td>140.250000</td>\n",
       "      <td>80.000000</td>\n",
       "      <td>32.000000</td>\n",
       "      <td>127.250000</td>\n",
       "      <td>36.600000</td>\n",
       "      <td>0.626250</td>\n",
       "      <td>41.000000</td>\n",
       "    </tr>\n",
       "    <tr>\n",
       "      <th>max</th>\n",
       "      <td>17.000000</td>\n",
       "      <td>199.000000</td>\n",
       "      <td>122.000000</td>\n",
       "      <td>99.000000</td>\n",
       "      <td>846.000000</td>\n",
       "      <td>67.100000</td>\n",
       "      <td>2.420000</td>\n",
       "      <td>81.000000</td>\n",
       "    </tr>\n",
       "  </tbody>\n",
       "</table>\n",
       "</div>"
      ],
      "text/plain": [
       "       Pregnancies     Glucose  BloodPressure  SkinThickness     Insulin  \\\n",
       "count   768.000000  768.000000     768.000000     768.000000  768.000000   \n",
       "mean      3.845052  120.894531      69.105469      20.536458   79.799479   \n",
       "std       3.369578   31.972618      19.355807      15.952218  115.244002   \n",
       "min       0.000000    0.000000       0.000000       0.000000    0.000000   \n",
       "25%       1.000000   99.000000      62.000000       0.000000    0.000000   \n",
       "50%       3.000000  117.000000      72.000000      23.000000   30.500000   \n",
       "75%       6.000000  140.250000      80.000000      32.000000  127.250000   \n",
       "max      17.000000  199.000000     122.000000      99.000000  846.000000   \n",
       "\n",
       "              BMI  DiabetesPedigreeFunction         Age  \n",
       "count  768.000000                768.000000  768.000000  \n",
       "mean    31.992578                  0.471876   33.240885  \n",
       "std      7.884160                  0.331329   11.760232  \n",
       "min      0.000000                  0.078000   21.000000  \n",
       "25%     27.300000                  0.243750   24.000000  \n",
       "50%     32.000000                  0.372500   29.000000  \n",
       "75%     36.600000                  0.626250   41.000000  \n",
       "max     67.100000                  2.420000   81.000000  "
      ]
     },
     "execution_count": 223,
     "metadata": {},
     "output_type": "execute_result"
    }
   ],
   "source": [
    "previsores.describe()"
   ]
  },
  {
   "cell_type": "markdown",
   "metadata": {},
   "source": [
    "Aparentemente essa base de dados também está em um formato já pronto para ser submetido à um algoritmo de aprendizado de máquina, porém é necessário antes normalizar os valores, portanto será usado a z-score, igual no conjunto anterior.\n",
    "\n",
    "É possível observar que as colunas possuem alguns valores zerados, isso pode representar a não coleta da informação. É possível remover os valores que estão zerados, mas não seria muito vantajoso nesse caso devido à uma quantidade relativamente limitada de registros.\n",
    "\n",
    "Pode - se também substituir os valores zerados pela média ou mediana, mas isso é algo arriscado ao se tratar de dados médicos, pois a média pode não representar nada para aquele paciente em específico. Existem alguns outros meios, inclusive utilizando aprendizado de máquina, para completar o conjunto de dados, porém a escolha foi simplesmente manter os valores 0, pois na prática vão agir como uma constante e ter um pequeno impacto na performance geral da rede."
   ]
  },
  {
   "cell_type": "code",
   "execution_count": 224,
   "metadata": {
    "scrolled": true
   },
   "outputs": [
    {
     "data": {
      "text/html": [
       "<div>\n",
       "<style scoped>\n",
       "    .dataframe tbody tr th:only-of-type {\n",
       "        vertical-align: middle;\n",
       "    }\n",
       "\n",
       "    .dataframe tbody tr th {\n",
       "        vertical-align: top;\n",
       "    }\n",
       "\n",
       "    .dataframe thead th {\n",
       "        text-align: right;\n",
       "    }\n",
       "</style>\n",
       "<table border=\"1\" class=\"dataframe\">\n",
       "  <thead>\n",
       "    <tr style=\"text-align: right;\">\n",
       "      <th></th>\n",
       "      <th>Pregnancies</th>\n",
       "      <th>Glucose</th>\n",
       "      <th>BloodPressure</th>\n",
       "      <th>SkinThickness</th>\n",
       "      <th>Insulin</th>\n",
       "      <th>BMI</th>\n",
       "      <th>DiabetesPedigreeFunction</th>\n",
       "      <th>Age</th>\n",
       "    </tr>\n",
       "  </thead>\n",
       "  <tbody>\n",
       "    <tr>\n",
       "      <th>0</th>\n",
       "      <td>0.639530</td>\n",
       "      <td>0.847771</td>\n",
       "      <td>0.149543</td>\n",
       "      <td>0.906679</td>\n",
       "      <td>-0.692439</td>\n",
       "      <td>0.203880</td>\n",
       "      <td>0.468187</td>\n",
       "      <td>1.425067</td>\n",
       "    </tr>\n",
       "    <tr>\n",
       "      <th>1</th>\n",
       "      <td>-0.844335</td>\n",
       "      <td>-1.122665</td>\n",
       "      <td>-0.160441</td>\n",
       "      <td>0.530556</td>\n",
       "      <td>-0.692439</td>\n",
       "      <td>-0.683976</td>\n",
       "      <td>-0.364823</td>\n",
       "      <td>-0.190548</td>\n",
       "    </tr>\n",
       "    <tr>\n",
       "      <th>2</th>\n",
       "      <td>1.233077</td>\n",
       "      <td>1.942458</td>\n",
       "      <td>-0.263769</td>\n",
       "      <td>-1.287373</td>\n",
       "      <td>-0.692439</td>\n",
       "      <td>-1.102537</td>\n",
       "      <td>0.604004</td>\n",
       "      <td>-0.105515</td>\n",
       "    </tr>\n",
       "    <tr>\n",
       "      <th>3</th>\n",
       "      <td>-0.844335</td>\n",
       "      <td>-0.997558</td>\n",
       "      <td>-0.160441</td>\n",
       "      <td>0.154433</td>\n",
       "      <td>0.123221</td>\n",
       "      <td>-0.493721</td>\n",
       "      <td>-0.920163</td>\n",
       "      <td>-1.040871</td>\n",
       "    </tr>\n",
       "    <tr>\n",
       "      <th>4</th>\n",
       "      <td>-1.141108</td>\n",
       "      <td>0.503727</td>\n",
       "      <td>-1.503707</td>\n",
       "      <td>0.906679</td>\n",
       "      <td>0.765337</td>\n",
       "      <td>1.408828</td>\n",
       "      <td>5.481337</td>\n",
       "      <td>-0.020483</td>\n",
       "    </tr>\n",
       "  </tbody>\n",
       "</table>\n",
       "</div>"
      ],
      "text/plain": [
       "   Pregnancies   Glucose  BloodPressure  SkinThickness   Insulin       BMI  \\\n",
       "0     0.639530  0.847771       0.149543       0.906679 -0.692439  0.203880   \n",
       "1    -0.844335 -1.122665      -0.160441       0.530556 -0.692439 -0.683976   \n",
       "2     1.233077  1.942458      -0.263769      -1.287373 -0.692439 -1.102537   \n",
       "3    -0.844335 -0.997558      -0.160441       0.154433  0.123221 -0.493721   \n",
       "4    -1.141108  0.503727      -1.503707       0.906679  0.765337  1.408828   \n",
       "\n",
       "   DiabetesPedigreeFunction       Age  \n",
       "0                  0.468187  1.425067  \n",
       "1                 -0.364823 -0.190548  \n",
       "2                  0.604004 -0.105515  \n",
       "3                 -0.920163 -1.040871  \n",
       "4                  5.481337 -0.020483  "
      ]
     },
     "execution_count": 224,
     "metadata": {},
     "output_type": "execute_result"
    }
   ],
   "source": [
    "previsores = previsores.apply(lambda row: normalizacao_z_score(row))\n",
    "previsores.head()"
   ]
  },
  {
   "cell_type": "code",
   "execution_count": 225,
   "metadata": {},
   "outputs": [
    {
     "data": {
      "text/plain": [
       "0    500\n",
       "1    268\n",
       "Name: Outcome, dtype: int64"
      ]
     },
     "execution_count": 225,
     "metadata": {},
     "output_type": "execute_result"
    }
   ],
   "source": [
    "classe.value_counts()"
   ]
  },
  {
   "cell_type": "markdown",
   "metadata": {},
   "source": [
    "Não será necessário transformar a classe em uma array ou uma matriz, pois se trata de um problema binário. Também é possível abservar que as classes estão relativamente bem balanceadas, uma vez que problemas envolvendo patologias  geralmente são tratados como uma detecção de anomalia, por representar uma pequena fração de predominância no conjunto de dados, porém não foi o que aconteceu nesse caso."
   ]
  },
  {
   "cell_type": "markdown",
   "metadata": {},
   "source": [
    "# Implementação do multilayer perceptron\n",
    "A ideia da rede neural perceptron multicamadas é parecido com a anterior, porém alguns conceitos matemáticos são adicionados, portanto os métodos tiveram que ser reconstruídos, com exceção apenas da função de soma que se mantém igual."
   ]
  },
  {
   "cell_type": "markdown",
   "metadata": {},
   "source": [
    "O método de *inicializar_pesos* por exemplo, acabou recebendo uma pequena modificação para conseguir distribuir dinamicamente os pesos baseado na quantidade de neurônios em cada camada e também na próxima camada adjacente."
   ]
  },
  {
   "cell_type": "code",
   "execution_count": 226,
   "metadata": {},
   "outputs": [],
   "source": [
    "def inicializar_pesos_mlp(neuronios_camada, dominio = [-1, 1]):\n",
    "    pesos_final = []\n",
    "\n",
    "    for i in range(len(neuronios_camada) - 1):\n",
    "        pesos = []\n",
    "        for j in range(neuronios_camada[i]):\n",
    "            pesos.append([random.uniform(dominio[0], dominio[1]) for i in range(neuronios_camada[i + 1])])\n",
    "        pesos_final.append(pesos)\n",
    "    return pesos_final"
   ]
  },
  {
   "cell_type": "markdown",
   "metadata": {},
   "source": [
    "A função de custo e a sigmoid estão bem simples, da mesma forma que a implementação original."
   ]
  },
  {
   "cell_type": "code",
   "execution_count": 227,
   "metadata": {},
   "outputs": [],
   "source": [
    "def funcao_ativacao_sigmoid(valor):\n",
    "    resultado = 1 / (1 + np.exp(-valor))\n",
    "    return resultado"
   ]
  },
  {
   "cell_type": "code",
   "execution_count": 228,
   "metadata": {},
   "outputs": [],
   "source": [
    "def funcao_custo_mlp(valor_correto, valor_previsto):\n",
    "    valor_erro = valor_correto - valor_previsto\n",
    "    return valor_erro"
   ]
  },
  {
   "cell_type": "markdown",
   "metadata": {},
   "source": [
    "## Feedfoward\n",
    "O feedfoward é o nome dado ao processo de cálculo do resultado da função de ativação. O processo é simples igual no perceptron, todavia ele deve ser repetido para todas as camadas até chegar na camada de saída, diferentemente da versão anterior onde esse processo de somatória e aplicação da função de ativação era realizado apenas uma vez."
   ]
  },
  {
   "cell_type": "code",
   "execution_count": 229,
   "metadata": {},
   "outputs": [],
   "source": [
    "def feed_foward(pesos, x_treinamento, f_ativacao):\n",
    "    ativacao = []\n",
    "    for i in range(len(pesos)): # percorre todas as camadas\n",
    "        if i == 0: # na camada de entrada os valores são os próprios atributos previsores\n",
    "            soma_sinapse = np.dot(x_treinamento, pesos[i])\n",
    "            ativacao.append(f_ativacao(soma_sinapse))\n",
    "        else: # nas próximas camadas, o resultado anteriores dos neurônios são considerados.\n",
    "            soma_sinapse = np.dot(ativacao[i - 1], pesos[i])\n",
    "            ativacao.append(f_ativacao(soma_sinapse))\n",
    "\n",
    "    return ativacao"
   ]
  },
  {
   "cell_type": "markdown",
   "metadata": {},
   "source": [
    "## Calculando a derivada e o delta da camada de saída\n",
    "A derivada e o delta da camada de saída são valores importantes para o ajuste dos pesos, usados no processo de retropropagação do erro. Portanto, foram criados funções que vão calcular os respectivos valores."
   ]
  },
  {
   "cell_type": "code",
   "execution_count": 230,
   "metadata": {},
   "outputs": [],
   "source": [
    "def calcular_derivada_parcial(valor):\n",
    "    return valor * (1 - valor)"
   ]
  },
  {
   "cell_type": "code",
   "execution_count": 231,
   "metadata": {},
   "outputs": [],
   "source": [
    "def calcular_delta(erro, derivada):\n",
    "    return erro * derivada"
   ]
  },
  {
   "cell_type": "markdown",
   "metadata": {},
   "source": [
    "O processo de cálculo de derivada e delta para as camadas ocultas é um pouco diferente, portanto foi criado uma função para servir a esse propósito específico"
   ]
  },
  {
   "cell_type": "code",
   "execution_count": 232,
   "metadata": {},
   "outputs": [],
   "source": [
    "def calcular_delta_oculto(pesos, delta_saida, derivada):\n",
    "    matriz_pesos = np.transpose(np.asmatrix(pesos)) # conceito de matriz transposta \n",
    "\n",
    "    pesos_delta_saida = delta_saida.dot(matriz_pesos)\n",
    "\n",
    "    return derivada * np.array(pesos_delta_saida) # as matrizes precisam estar em uma dimensão diferente uma da outra"
   ]
  },
  {
   "cell_type": "code",
   "execution_count": 233,
   "metadata": {},
   "outputs": [],
   "source": [
    "def get_delta_oculto(pesos, delta_saida, ativacao):\n",
    "    deltas_camadas_ocultas = [] \n",
    "\n",
    "    for i in range(len(pesos) -1): # Percorre apenas as camadas ocultas, por isso o -1\n",
    "        derivada = calcular_derivada_parcial(ativacao[len(ativacao) - (i + 2)]) # pegar de trás para frente a derivada de cada neurônio\n",
    "        deltas_camadas_ocultas.append(calcular_delta_oculto(pesos[len(pesos) - (i + 1)], delta_saida, derivada))\n",
    "\n",
    "    return deltas_camadas_ocultas"
   ]
  },
  {
   "cell_type": "markdown",
   "metadata": {},
   "source": [
    "## Backpropagation\n",
    "Agora com todos os neurônios com os respectivos valores de delta e as derivadas, basta aplicar o algoritmo de retropropagação, começando da camada de saída até a camada de entrada.\n",
    "\n",
    "O método recebe todos os valores que foram calculados até então, além da taxa de aprendizado e o momentum."
   ]
  },
  {
   "cell_type": "code",
   "execution_count": 234,
   "metadata": {},
   "outputs": [],
   "source": [
    "def backpropagation(pesos, ativacao, delta_saida, delta_oculto, x_treinamento, tx_aprendizado = 0.3, momento = 1):\n",
    "    for i in range(len(pesos)):\n",
    "        if i == 0:\n",
    "            camada_transposta = np.transpose(ativacao[i])\n",
    "            delta_x_entrada = camada_transposta.dot(delta_saida)\n",
    "            \n",
    "            pesos[len(pesos) - (1 + i)] = (pesos[len(pesos) - (1 + i)] * momento) + (tx_aprendizado * delta_x_entrada)\n",
    "        else:\n",
    "            camada_transposta = np.transpose(x_treinamento)\n",
    "            pesos[len(pesos) - (1 + i)] = (pesos[len(pesos) - (1 + i)] * momento) + (tx_aprendizado * camada_transposta.dot(delta_oculto[0])).values\n",
    "            \n",
    "    return pesos"
   ]
  },
  {
   "cell_type": "markdown",
   "metadata": {},
   "source": [
    "Uma dificuldade encontrada foi ajustar as dimensões das matrizes para que as fórmulas sejam corretamente aplicadas, portanto por enquanto o perceptron só aceita uma única camada oculta."
   ]
  },
  {
   "cell_type": "markdown",
   "metadata": {},
   "source": [
    "## Precisão\n",
    "O método *get_precisao* foi utilizado para calcular a diferença absoluta nas previsões da última camada do modelo com o valor real da classe, nos dando a precisão do algoritmo."
   ]
  },
  {
   "cell_type": "code",
   "execution_count": 235,
   "metadata": {},
   "outputs": [],
   "source": [
    "def get_precisao(valor_correto, valor_previsto):\n",
    "    previsao = valor_previsto.copy()\n",
    "\n",
    "    previsao[previsao >= 0.5] = 1\n",
    "    previsao[previsao < 0.5] = 0\n",
    "\n",
    "    precisao = (valor_correto == previsao).sum() / len(valor_correto)\n",
    "    return precisao"
   ]
  },
  {
   "cell_type": "markdown",
   "metadata": {},
   "source": [
    "## Matriz de confusão\n",
    "Implementação da matriz de confusão"
   ]
  },
  {
   "cell_type": "code",
   "execution_count": 249,
   "metadata": {},
   "outputs": [],
   "source": [
    "def get_matriz_confusao(valor_correto, valor_previsto):\n",
    "    previsao = valor_previsto.copy()\n",
    "\n",
    "    previsao[previsao >= 0.5] = 1\n",
    "    previsao[previsao < 0.5] = 0\n",
    "\n",
    "    matriz_confusao = confusion_matrix(valor_correto, previsao)\n",
    "\n",
    "    return matriz_confusao"
   ]
  },
  {
   "cell_type": "markdown",
   "metadata": {},
   "source": [
    "## Treinamento do algoritmo\n",
    "O método *treinar_mlp* é o responsável por aplicar todas as contas que foram criadas anteriormente, atualizado os pesos em cada uma das épocas."
   ]
  },
  {
   "cell_type": "code",
   "execution_count": 248,
   "metadata": {},
   "outputs": [],
   "source": [
    "def treinar_mlp(epocas, neuronios_camada, f_ativacao, f_custo, pesos, x_treinamento,\n",
    "                                     y_treinamento, x_teste, y_teste, tx_aprendizado):\n",
    "    execucoes = 0\n",
    "    precisoes_treinamento = []\n",
    "    precisoes_teste = []\n",
    "    melhores_pesos = []\n",
    "    melhor_matriz = []\n",
    "\n",
    "    while execucoes < epocas:               \n",
    "        ativacao = feed_foward(pesos, x_treinamento, f_ativacao)\n",
    "\n",
    "        resultado_camada_saida = ativacao[len(ativacao) - 1]\n",
    "        classe_reshaped = y_treinamento.values.reshape(-1,1)\n",
    "\n",
    "        erro = f_custo(classe_reshaped, resultado_camada_saida)\n",
    "\n",
    "        precisoes_treinamento.append(get_precisao(classe_reshaped, resultado_camada_saida))\n",
    "\n",
    "        derivada_saida = calcular_derivada_parcial(resultado_camada_saida)\n",
    "        delta_saida = calcular_delta(erro, derivada_saida)\n",
    "\n",
    "        delta_camada_oculta = get_delta_oculto(pesos, delta_saida, ativacao)\n",
    "\n",
    "        melhores_pesos = pesos.copy() if precisoes_treinamento[execucoes] >= max(precisoes_treinamento) else melhores_pesos\n",
    "\n",
    "        pesos = backpropagation(pesos, ativacao, delta_saida, delta_camada_oculta, x_treinamento) \n",
    "        \n",
    "        precisoes_teste.append(testar_mlp(pesos, x_teste, y_teste, f_ativacao, f_custo))\n",
    "        melhor_matriz = get_matriz_confusao(classe_reshaped, resultado_camada_saida) if precisoes_teste[execucoes] >= max(precisoes_teste) else melhor_matriz\n",
    "        execucoes += 1\n",
    "        \n",
    "    return precisoes_treinamento, precisoes_teste, melhores_pesos, melhor_matriz"
   ]
  },
  {
   "cell_type": "markdown",
   "metadata": {},
   "source": [
    "Para testar o desempenho ao final de cada época o método testar também passou por adaptações"
   ]
  },
  {
   "cell_type": "code",
   "execution_count": 237,
   "metadata": {},
   "outputs": [],
   "source": [
    "def testar_mlp(pesos, x_previsores, y_classe, f_ativacao, f_custo):\n",
    "    precisao = 0\n",
    "\n",
    "    ativacao = feed_foward(pesos, x_previsores, f_ativacao)\n",
    "\n",
    "    resultado_camada_saida = ativacao[len(ativacao) - 1]\n",
    "    classe_reshaped = y_classe.values.reshape(-1,1)\n",
    "\n",
    "    precisao = get_precisao(classe_reshaped, resultado_camada_saida)\n",
    "\n",
    "    return precisao"
   ]
  },
  {
   "cell_type": "markdown",
   "metadata": {},
   "source": [
    "## Adicionando camadas\n",
    "A lógica foi construída para inicializar a estrutura de pesos baseado em uma Array que vai indicar o número de camadas e de neurônios em cada camada, portanto o processo de expandir a rede se torna simples."
   ]
  },
  {
   "cell_type": "code",
   "execution_count": 238,
   "metadata": {},
   "outputs": [],
   "source": [
    "neuronios_camada = [len(previsores.columns)] # adicionado neurônios da camada de entrada\n",
    "neuronios_camada.append(10) # camada oculta\n",
    "neuronios_camada.append(1) # camada de saída."
   ]
  },
  {
   "cell_type": "markdown",
   "metadata": {},
   "source": [
    "Foi criado por fim um método, chamado *executar_mlp*, com o mesmo objetivo dos métodos anteriores de executar, fazendo os tester na rede com 30 inicializações;"
   ]
  },
  {
   "cell_type": "code",
   "execution_count": 239,
   "metadata": {},
   "outputs": [],
   "source": [
    "def executar_mlp(funcao_ativacao, funcao_custo, epocas, dominio_pesos = [0, 1], \n",
    "                       tx_aprendizado = 0.001):\n",
    "\n",
    "    convergencia_treinamento = [0]\n",
    "    convergencia_teste = [0]\n",
    "    precisao_treinamento = []\n",
    "    precisao_teste = []\n",
    "    resultado_final = []\n",
    "    matriz_confusao = []\n",
    "    start_time = time.time() # tempo de execução\n",
    "\n",
    "    for i in range(30):\n",
    "        x_treinamento, y_treinamento, x_teste, y_teste, \\\n",
    "        x_validacao, y_validacao = dividir_dataframe(previsores, classe, 0.7, 0.15, 0.15)\n",
    "\n",
    "        pesos = inicializar_pesos_mlp(neuronios_camada, dominio_pesos)\n",
    "\n",
    "        treinamento = treinar_mlp(epocas, neuronios_camada, funcao_ativacao, funcao_custo, pesos, x_treinamento, y_treinamento, x_teste, y_teste, tx_aprendizado)\n",
    "\n",
    "        convergencia_treinamento = treinamento[0] if max(treinamento[0]) >= \\\n",
    "                                    max(convergencia_treinamento) else convergencia_treinamento\n",
    "\n",
    "        convergencia_teste = treinamento[1] if max(treinamento[1]) >= max(convergencia_teste) \\\n",
    "                                        else convergencia_teste\n",
    "        \n",
    "        matriz_confusao.append(treinamento[3])\n",
    "        precisao_treinamento.append(max(treinamento[0]))\n",
    "        precisao_teste.append(max(treinamento[1]))\n",
    "        resultado_final.append(testar_mlp(treinamento[2], x_validacao, y_validacao, \n",
    "                                      funcao_ativacao, funcao_custo))\n",
    "\n",
    "    plotar_convergencia(convergencia_treinamento, convergencia_teste)   \n",
    "    exibir_resultados(precisao_treinamento, precisao_teste, resultado_final)\n",
    "    print(matriz_confusao[precisao_teste.index(max(precisao_teste))])\n",
    "    print(\"Tempo de execução: %s Segundos\" % (time.time() - start_time))"
   ]
  },
  {
   "cell_type": "code",
   "execution_count": 240,
   "metadata": {
    "scrolled": true
   },
   "outputs": [
    {
     "data": {
      "image/png": "[encoded data removed]",
      "text/plain": [
       "<Figure size 720x576 with 2 Axes>"
      ]
     },
     "metadata": {
      "needs_background": "light"
     },
     "output_type": "display_data"
    },
    {
     "name": "stdout",
     "output_type": "stream",
     "text": [
      "Melhor precisão de treinamento 0.8977695167286245\n",
      "Melhor precisão de teste 0.8347826086956521\n",
      "Melhor precisão de validação 0.8173913043478261\n",
      "Média precisão de treinamento 0.8661090458488228\n",
      "Média precisão de teste 0.7866666666666667\n",
      "Média precisão de validação 0.7469565217391304\n",
      "Desvio Padrão precisão de treinamento 0.02229183498476419\n",
      "Desvio Padrão precisão de teste 0.025964284842386894\n",
      "Desvio Padrão precisão de validação 0.04553677616626904\n",
      "Tempo de execução: 9.052581787109375 Segundos\n"
     ]
    }
   ],
   "source": [
    "executar_mlp(funcao_ativacao_sigmoid, funcao_custo_mlp, 300)"
   ]
  },
  {
   "cell_type": "markdown",
   "metadata": {},
   "source": [
    "# Resultados da rede perceptron multicamadas\n",
    "O algoritmo, ainda que sem muitos ajustes no parâmetros, conseguiu uma precisão de 100% em todas os conjuntos de dados, também sendo possível ver a consistência do mesmo, com uma média próxima aos 100% em todas as 30 execuções.\n",
    "O que mais impressiona é o tempo de execução, sendo superiror até ao perceptron por épocas, claro que isso ocorre por se tratar de um problema simples, mas ainda é muito bom."
   ]
  },
  {
   "cell_type": "code",
   "execution_count": 243,
   "metadata": {},
   "outputs": [],
   "source": [
    "dict_classes = get_dicionario_classes(classe)\n",
    "classe_codificada = codificar_classe()\n",
    "\n",
    "classe_nova = []\n",
    "\n",
    "for i in classe:\n",
    "    classe_nova.append(classe_codificada[i])\n",
    "    \n",
    "classe_nova = np.array(classe_nova).reshape(len(classe), 2)"
   ]
  },
  {
   "cell_type": "code",
   "execution_count": 245,
   "metadata": {},
   "outputs": [
    {
     "data": {
      "image/png": "[encoded data removed]",
      "text/plain": [
       "<Figure size 720x576 with 2 Axes>"
      ]
     },
     "metadata": {
      "needs_background": "light"
     },
     "output_type": "display_data"
    },
    {
     "name": "stdout",
     "output_type": "stream",
     "text": [
      "Melhor precisão de treinamento 0.6988847583643123\n",
      "Melhor precisão de teste 0.6956521739130435\n",
      "Melhor precisão de validação 0.7217391304347827\n",
      "Média precisão de treinamento 0.5153655514250309\n",
      "Média precisão de teste 0.5249275362318842\n",
      "Média precisão de validação 0.5104347826086957\n",
      "Desvio Padrão precisão de treinamento 0.09681491432770285\n",
      "Desvio Padrão precisão de teste 0.09299289789559853\n",
      "Desvio Padrão precisão de validação 0.11861732298939097\n",
      "Tempo de execução: 45.40508317947388 Segundos\n"
     ]
    },
    {
     "data": {
      "text/plain": [
       "(0.6988847583643123, 0.6956521739130435, 0.7217391304347827)"
      ]
     },
     "execution_count": 245,
     "metadata": {},
     "output_type": "execute_result"
    }
   ],
   "source": [
    "executar_perceptron_epoca(funcao_ativacao_sigmoid_epoca, funcao_custo_mse_epoca, 400, [-0.005, 0.005])"
   ]
  },
  {
   "cell_type": "code",
   "execution_count": null,
   "metadata": {},
   "outputs": [],
   "source": [
    "lista_parametros_epoca = { 'custo' : [funcao_custo_mse_epoca],\n",
    "                      'tx_aprendizado': [0.1, 0.01, 0.0001],\n",
    "                      'pesos': [0.5, 0.05, 0.005, 0.0005]\n",
    "}\n",
    "\n",
    "teste_parametrico = buscar_parametros(lista_parametros_epoca, executar_perceptron_epoca)\n",
    "print('Melhores parâmetros', teste_parametrico[0])\n",
    "print('Melhor precisão teste', teste_parametrico[1])\n",
    "print('Melhor precisão treinamento', teste_parametrico[2])\n",
    "print('Melhor precisão validação', teste_parametrico[3])"
   ]
  },
  {
   "cell_type": "markdown",
   "metadata": {},
   "source": [
    "Mesmo após uma busca exaustiva de parâmetros, é possível observar a superioridade da rede perceptron multicamadas."
   ]
  },
  {
   "cell_type": "markdown",
   "metadata": {},
   "source": [
    "# Próximos passos\n",
    "O algoritmo de perceptron multicamadas construído, apesar de eficiente, foi bem simples e algumas medidas poderiam ser feitas a fim de deixar ainda mais robusto:\n",
    "* Aumentar o número de camadas e neurônios\n",
    "* Descida do gradiente estocástica\n",
    "* Dropout\n",
    "* Parada no platô e redução dinâmica de taxa de aprendizado"
   ]
  },
  {
   "cell_type": "markdown",
   "metadata": {},
   "source": [
    "# Conclusões"
   ]
  }
 ],
 "metadata": {
  "kernelspec": {
   "display_name": "Python 3",
   "language": "python",
   "name": "python3"
  },
  "language_info": {
   "codemirror_mode": {
    "name": "ipython",
    "version": 3
   },
   "file_extension": ".py",
   "mimetype": "text/x-python",
   "name": "python",
   "nbconvert_exporter": "python",
   "pygments_lexer": "ipython3",
   "version": "3.6.9"
  }
 },
 "nbformat": 4,
 "nbformat_minor": 4
}
