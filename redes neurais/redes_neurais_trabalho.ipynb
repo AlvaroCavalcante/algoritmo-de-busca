{
 "cells": [
  {
   "cell_type": "markdown",
   "metadata": {},
   "source": [
    "Relatório do trabalho\n",
    "==============\n",
    "**Nome:** Álvaro Leandro Cavalcante Carneiro\n",
    "**Linguagem utilizada:** Python 3.6\n",
    "\n",
    "Os códigos e o relatório foram desenvolvidos em um Jupyter notebook e sua versão online pode ser encontrada aqui: https://colab.research.google.com/drive/1HQIBTnHCrcSrfAUOsx7836wZzDnQ9Fhd?usp=sharing. Nessa versão é possível executar novamente os algoritmos."
   ]
  },
  {
   "cell_type": "markdown",
   "metadata": {},
   "source": [
    "# Qual o problema ? \n",
    "Utilizar uma rede neural no modelo perceptron para identificar 3 classes de flores baseados em suas características de tamanho de pétalada e sépala."
   ]
  },
  {
   "cell_type": "markdown",
   "metadata": {},
   "source": [
    "## Importação das bibliotecas\n",
    "Ferramentas usadas no processo de desenvolvimento"
   ]
  },
  {
   "cell_type": "code",
   "execution_count": 33,
   "metadata": {},
   "outputs": [],
   "source": [
    "import random\n",
    "import numpy as np\n",
    "import pandas as pd\n",
    "import math\n",
    "import matplotlib.pyplot as plt\n",
    "import time\n",
    "import itertools"
   ]
  },
  {
   "cell_type": "markdown",
   "metadata": {},
   "source": [
    "# Análise Exploratória dos Dados (AED)\n",
    "A ideia a princípio é entender um pouco mais do *dataset* e deixar os dados em um formato que seja favorável para o aprendizado da rede neural perceptron.\n",
    "\n",
    "O primeiro passo foi ler o arquivo baixado aqui: http://archive.ics.uci.edu/ml/datasets/Iris.\n",
    "O arquivo em questão não possuia colunas, portanto eu modifiquei o mesmo para adicionar o nome das colunas na primeira linha e deixá-lo no formato .CSV ao invés do .DATA.\n",
    "\n",
    "O *dataset* está sendo lido com o método *read_csv* do pandas, que transforma o conjunto de dados em um *dataframe*, que por sua vez possui diversos métodos nativos para manipular os dados. Um desse métodos é o *head*, onde é possível visualizar as primeiras linhas do *dataframe*."
   ]
  },
  {
   "cell_type": "code",
   "execution_count": 34,
   "metadata": {
    "scrolled": true
   },
   "outputs": [
    {
     "data": {
      "text/html": [
       "<div>\n",
       "<style scoped>\n",
       "    .dataframe tbody tr th:only-of-type {\n",
       "        vertical-align: middle;\n",
       "    }\n",
       "\n",
       "    .dataframe tbody tr th {\n",
       "        vertical-align: top;\n",
       "    }\n",
       "\n",
       "    .dataframe thead th {\n",
       "        text-align: right;\n",
       "    }\n",
       "</style>\n",
       "<table border=\"1\" class=\"dataframe\">\n",
       "  <thead>\n",
       "    <tr style=\"text-align: right;\">\n",
       "      <th></th>\n",
       "      <th>sepal-length</th>\n",
       "      <th>sepal-width</th>\n",
       "      <th>petal-length</th>\n",
       "      <th>petal-width</th>\n",
       "      <th>class</th>\n",
       "    </tr>\n",
       "  </thead>\n",
       "  <tbody>\n",
       "    <tr>\n",
       "      <th>0</th>\n",
       "      <td>5.1</td>\n",
       "      <td>3.5</td>\n",
       "      <td>1.4</td>\n",
       "      <td>0.2</td>\n",
       "      <td>Iris-setosa</td>\n",
       "    </tr>\n",
       "    <tr>\n",
       "      <th>1</th>\n",
       "      <td>4.9</td>\n",
       "      <td>3.0</td>\n",
       "      <td>1.4</td>\n",
       "      <td>0.2</td>\n",
       "      <td>Iris-setosa</td>\n",
       "    </tr>\n",
       "    <tr>\n",
       "      <th>2</th>\n",
       "      <td>4.7</td>\n",
       "      <td>3.2</td>\n",
       "      <td>1.3</td>\n",
       "      <td>0.2</td>\n",
       "      <td>Iris-setosa</td>\n",
       "    </tr>\n",
       "    <tr>\n",
       "      <th>3</th>\n",
       "      <td>4.6</td>\n",
       "      <td>3.1</td>\n",
       "      <td>1.5</td>\n",
       "      <td>0.2</td>\n",
       "      <td>Iris-setosa</td>\n",
       "    </tr>\n",
       "    <tr>\n",
       "      <th>4</th>\n",
       "      <td>5.0</td>\n",
       "      <td>3.6</td>\n",
       "      <td>1.4</td>\n",
       "      <td>0.2</td>\n",
       "      <td>Iris-setosa</td>\n",
       "    </tr>\n",
       "  </tbody>\n",
       "</table>\n",
       "</div>"
      ],
      "text/plain": [
       "   sepal-length  sepal-width  petal-length  petal-width        class\n",
       "0           5.1          3.5           1.4          0.2  Iris-setosa\n",
       "1           4.9          3.0           1.4          0.2  Iris-setosa\n",
       "2           4.7          3.2           1.3          0.2  Iris-setosa\n",
       "3           4.6          3.1           1.5          0.2  Iris-setosa\n",
       "4           5.0          3.6           1.4          0.2  Iris-setosa"
      ]
     },
     "execution_count": 34,
     "metadata": {},
     "output_type": "execute_result"
    }
   ],
   "source": [
    "dataframe = pd.read_csv('/home/alvaro/Documentos/mestrado/computação bio/redes neurais/datasets/iris2.csv', header = 0)\n",
    "\n",
    "dataframe.head()"
   ]
  },
  {
   "cell_type": "markdown",
   "metadata": {},
   "source": [
    "Um pré-requisito na mineração dos dados é verificar se o *dataframe* possui inconsistências quanto aos valores, podendo ser algum outlier, ruído, valor vazio, etc...\n",
    "\n",
    "Para isso, é utilizado o método *isna* para contabilizar os registros vazios por coluna e também o método *describe* que gera um sumário por coluna dos valores ali contidos."
   ]
  },
  {
   "cell_type": "code",
   "execution_count": 35,
   "metadata": {
    "scrolled": true
   },
   "outputs": [
    {
     "name": "stdout",
     "output_type": "stream",
     "text": [
      "Valores nulos:\n",
      "sepal-length    0\n",
      "sepal-width     0\n",
      "petal-length    0\n",
      "petal-width     0\n",
      "class           0\n",
      "dtype: int64\n"
     ]
    },
    {
     "data": {
      "text/html": [
       "<div>\n",
       "<style scoped>\n",
       "    .dataframe tbody tr th:only-of-type {\n",
       "        vertical-align: middle;\n",
       "    }\n",
       "\n",
       "    .dataframe tbody tr th {\n",
       "        vertical-align: top;\n",
       "    }\n",
       "\n",
       "    .dataframe thead th {\n",
       "        text-align: right;\n",
       "    }\n",
       "</style>\n",
       "<table border=\"1\" class=\"dataframe\">\n",
       "  <thead>\n",
       "    <tr style=\"text-align: right;\">\n",
       "      <th></th>\n",
       "      <th>sepal-length</th>\n",
       "      <th>sepal-width</th>\n",
       "      <th>petal-length</th>\n",
       "      <th>petal-width</th>\n",
       "    </tr>\n",
       "  </thead>\n",
       "  <tbody>\n",
       "    <tr>\n",
       "      <th>count</th>\n",
       "      <td>150.000000</td>\n",
       "      <td>150.000000</td>\n",
       "      <td>150.000000</td>\n",
       "      <td>150.000000</td>\n",
       "    </tr>\n",
       "    <tr>\n",
       "      <th>mean</th>\n",
       "      <td>5.843333</td>\n",
       "      <td>3.054000</td>\n",
       "      <td>3.758667</td>\n",
       "      <td>1.198667</td>\n",
       "    </tr>\n",
       "    <tr>\n",
       "      <th>std</th>\n",
       "      <td>0.828066</td>\n",
       "      <td>0.433594</td>\n",
       "      <td>1.764420</td>\n",
       "      <td>0.763161</td>\n",
       "    </tr>\n",
       "    <tr>\n",
       "      <th>min</th>\n",
       "      <td>4.300000</td>\n",
       "      <td>2.000000</td>\n",
       "      <td>1.000000</td>\n",
       "      <td>0.100000</td>\n",
       "    </tr>\n",
       "    <tr>\n",
       "      <th>25%</th>\n",
       "      <td>5.100000</td>\n",
       "      <td>2.800000</td>\n",
       "      <td>1.600000</td>\n",
       "      <td>0.300000</td>\n",
       "    </tr>\n",
       "    <tr>\n",
       "      <th>50%</th>\n",
       "      <td>5.800000</td>\n",
       "      <td>3.000000</td>\n",
       "      <td>4.350000</td>\n",
       "      <td>1.300000</td>\n",
       "    </tr>\n",
       "    <tr>\n",
       "      <th>75%</th>\n",
       "      <td>6.400000</td>\n",
       "      <td>3.300000</td>\n",
       "      <td>5.100000</td>\n",
       "      <td>1.800000</td>\n",
       "    </tr>\n",
       "    <tr>\n",
       "      <th>max</th>\n",
       "      <td>7.900000</td>\n",
       "      <td>4.400000</td>\n",
       "      <td>6.900000</td>\n",
       "      <td>2.500000</td>\n",
       "    </tr>\n",
       "  </tbody>\n",
       "</table>\n",
       "</div>"
      ],
      "text/plain": [
       "       sepal-length  sepal-width  petal-length  petal-width\n",
       "count    150.000000   150.000000    150.000000   150.000000\n",
       "mean       5.843333     3.054000      3.758667     1.198667\n",
       "std        0.828066     0.433594      1.764420     0.763161\n",
       "min        4.300000     2.000000      1.000000     0.100000\n",
       "25%        5.100000     2.800000      1.600000     0.300000\n",
       "50%        5.800000     3.000000      4.350000     1.300000\n",
       "75%        6.400000     3.300000      5.100000     1.800000\n",
       "max        7.900000     4.400000      6.900000     2.500000"
      ]
     },
     "execution_count": 35,
     "metadata": {},
     "output_type": "execute_result"
    }
   ],
   "source": [
    "print('Valores nulos:')\n",
    "print(dataframe.isna().sum())\n",
    "dataframe.describe()"
   ]
  },
  {
   "cell_type": "markdown",
   "metadata": {},
   "source": [
    "## Mostrando a dispersão dos dados\n",
    "É interessante também plotar um gráfico para mostrar o comportamento da dispersão das classes do conjunto, sendo possível inclusive ver se o problema é linearmente separável.\n",
    "\n",
    "Antes disso, é necessário dividir o *dataframe* em uma variável chamada **previsores** e outra chamada **classe**. Como o nome sugere, os previsores são as colunas com as características das flores (atributos previsores) que serão utilizados para tentar ajustar os pesos da rede de maneira à generalizar uma solução que encontre as classes corretamente."
   ]
  },
  {
   "cell_type": "code",
   "execution_count": 36,
   "metadata": {},
   "outputs": [],
   "source": [
    "previsores = dataframe.iloc[:, 0:4] \n",
    "classe = dataframe['class']"
   ]
  },
  {
   "cell_type": "code",
   "execution_count": 37,
   "metadata": {
    "scrolled": true
   },
   "outputs": [
    {
     "data": {
      "text/plain": [
       "<Figure size 432x288 with 0 Axes>"
      ]
     },
     "metadata": {},
     "output_type": "display_data"
    },
    {
     "data": {
      "image/png": "[encoded data removed]",
      "text/plain": [
       "<Figure size 1512x720 with 2 Axes>"
      ]
     },
     "metadata": {
      "needs_background": "light"
     },
     "output_type": "display_data"
    }
   ],
   "source": [
    "# iniciando a figura\n",
    "plt.figure()\n",
    "fig,ax=plt.subplots(1,2,figsize=(21, 10))\n",
    "\n",
    "# separando o dataset por classe\n",
    "setosa = dataframe[dataframe['class']=='Iris-setosa']\n",
    "versicolor = dataframe[dataframe['class']=='Iris-versicolor']\n",
    "virginica = dataframe[dataframe['class']=='Iris-virginica']\n",
    "\n",
    "# plotando os conjuntos no gráfico de dispersão\n",
    "setosa.plot(x=\"sepal-length\", y=\"sepal-width\", kind=\"scatter\",ax=ax[0],label='setosa',color='r')\n",
    "virginica.plot(x=\"sepal-length\",y=\"sepal-width\",kind=\"scatter\",ax=ax[0],label='versicolor',color='b')\n",
    "versicolor.plot(x=\"sepal-length\", y=\"sepal-width\", kind=\"scatter\", ax=ax[0], label='virginica', color='g')\n",
    "\n",
    "setosa.plot(x=\"petal-length\", y=\"petal-width\", kind=\"scatter\",ax=ax[1],label='setosa',color='r')\n",
    "versicolor.plot(x=\"petal-length\",y=\"petal-width\",kind=\"scatter\",ax=ax[1],label='versicolor',color='b')\n",
    "virginica.plot(x=\"petal-length\", y=\"petal-width\", kind=\"scatter\", ax=ax[1], label='virginica', color='g')\n",
    "# Adicionado legendas\n",
    "ax[0].set(title='Comparação de sépalas ', ylabel='sepal-width')\n",
    "ax[1].set(title='Comparação de pétalas',  ylabel='petal-width')\n",
    "ax[0].legend()\n",
    "ax[1].legend()\n",
    "plt.show()"
   ]
  },
  {
   "cell_type": "markdown",
   "metadata": {},
   "source": [
    "Podemos ver que as classes virgínica e versicolor são as mais complicadas de serem separadas, principalmente quando olhamos para o tamanho das pétalas."
   ]
  },
  {
   "cell_type": "markdown",
   "metadata": {},
   "source": [
    "## Normalização dos atributos previsores\n",
    "O método *isnul()* mostrou que não há nenhum registro vazio no nosso *dataset* e é possível observar que os valores também parecem estar todos coerentes, sem a presença de outliers, como podemos notar pelo desvio padrão, mínimo e máximo de cada coluna e também no gráfico de dispersão.\n",
    "\n",
    "Todavia, existe uma variação relativamente grande dentro do nosso domínio de atributos previsores. O atributo *petal-width* por exemplo, tem uma média de valor de 1.1, enquanto o *sepal-length* possui uma média de 5.8. Dito isso, se faz necessário a padronização desses valores, para que nosso ajuste dos pesos não seja muito influenciado por essa diferença no tamanho da entrada. \n",
    "\n",
    "O tipo de normalização escolhido foi o **Z-score**, de forma arbitrária, por ser bastante comum em problemas como esse. Sua fórmula é bastante simples e foi representada no método *normalizacao_z_score*."
   ]
  },
  {
   "cell_type": "code",
   "execution_count": 38,
   "metadata": {},
   "outputs": [],
   "source": [
    "def normalizacao_z_score(valor):\n",
    "    media = previsores[valor.name].mean()\n",
    "    desvio_padrao = previsores[valor.name].std()\n",
    "\n",
    "    return (valor - media) / desvio_padrao"
   ]
  },
  {
   "cell_type": "markdown",
   "metadata": {},
   "source": [
    "O método *apply()* do pandas juntamente com a **lambda** aplicam o processo matemático do método de normalização em cada um dos registros do *dataframe*. Os novos registros normalizados podem ser vistos abaixo."
   ]
  },
  {
   "cell_type": "code",
   "execution_count": 39,
   "metadata": {
    "scrolled": true
   },
   "outputs": [
    {
     "data": {
      "text/html": [
       "<div>\n",
       "<style scoped>\n",
       "    .dataframe tbody tr th:only-of-type {\n",
       "        vertical-align: middle;\n",
       "    }\n",
       "\n",
       "    .dataframe tbody tr th {\n",
       "        vertical-align: top;\n",
       "    }\n",
       "\n",
       "    .dataframe thead th {\n",
       "        text-align: right;\n",
       "    }\n",
       "</style>\n",
       "<table border=\"1\" class=\"dataframe\">\n",
       "  <thead>\n",
       "    <tr style=\"text-align: right;\">\n",
       "      <th></th>\n",
       "      <th>sepal-length</th>\n",
       "      <th>sepal-width</th>\n",
       "      <th>petal-length</th>\n",
       "      <th>petal-width</th>\n",
       "    </tr>\n",
       "  </thead>\n",
       "  <tbody>\n",
       "    <tr>\n",
       "      <th>0</th>\n",
       "      <td>-0.897674</td>\n",
       "      <td>1.028611</td>\n",
       "      <td>-1.336794</td>\n",
       "      <td>-1.308593</td>\n",
       "    </tr>\n",
       "    <tr>\n",
       "      <th>1</th>\n",
       "      <td>-1.139200</td>\n",
       "      <td>-0.124540</td>\n",
       "      <td>-1.336794</td>\n",
       "      <td>-1.308593</td>\n",
       "    </tr>\n",
       "    <tr>\n",
       "      <th>2</th>\n",
       "      <td>-1.380727</td>\n",
       "      <td>0.336720</td>\n",
       "      <td>-1.393470</td>\n",
       "      <td>-1.308593</td>\n",
       "    </tr>\n",
       "    <tr>\n",
       "      <th>3</th>\n",
       "      <td>-1.501490</td>\n",
       "      <td>0.106090</td>\n",
       "      <td>-1.280118</td>\n",
       "      <td>-1.308593</td>\n",
       "    </tr>\n",
       "    <tr>\n",
       "      <th>4</th>\n",
       "      <td>-1.018437</td>\n",
       "      <td>1.259242</td>\n",
       "      <td>-1.336794</td>\n",
       "      <td>-1.308593</td>\n",
       "    </tr>\n",
       "  </tbody>\n",
       "</table>\n",
       "</div>"
      ],
      "text/plain": [
       "   sepal-length  sepal-width  petal-length  petal-width\n",
       "0     -0.897674     1.028611     -1.336794    -1.308593\n",
       "1     -1.139200    -0.124540     -1.336794    -1.308593\n",
       "2     -1.380727     0.336720     -1.393470    -1.308593\n",
       "3     -1.501490     0.106090     -1.280118    -1.308593\n",
       "4     -1.018437     1.259242     -1.336794    -1.308593"
      ]
     },
     "execution_count": 39,
     "metadata": {},
     "output_type": "execute_result"
    }
   ],
   "source": [
    "previsores = previsores.apply(lambda row: normalizacao_z_score(row))\n",
    "previsores.head()"
   ]
  },
  {
   "cell_type": "markdown",
   "metadata": {},
   "source": [
    "## Tratando valores categóricos\n",
    "O próximo passo será transformar o valor da classe de categórico para discreto, para que seja possível aplicar os cálculos, como o erro da saída por exemplo.\n",
    "\n",
    "Para isso foi criado o método *get_dicionario_classes* que gera uma estrutura de dicionário dinâmica, baseado na quantidade de classes do problema que está sendo tratado. O processo é muito simples, basta percorrer a classe existente e atribuir um valor inteiro para cada classe."
   ]
  },
  {
   "cell_type": "code",
   "execution_count": 40,
   "metadata": {},
   "outputs": [],
   "source": [
    "def get_dicionario_classes(classe):\n",
    "    dict_classes = {}\n",
    "    count = 0\n",
    "    \n",
    "    for i in classe.unique():\n",
    "        dict_classes[i] = count\n",
    "        count += 1\n",
    "        \n",
    "    return dict_classes"
   ]
  },
  {
   "cell_type": "code",
   "execution_count": 41,
   "metadata": {},
   "outputs": [
    {
     "name": "stdout",
     "output_type": "stream",
     "text": [
      "{'Iris-setosa': 0, 'Iris-versicolor': 1, 'Iris-virginica': 2}\n"
     ]
    }
   ],
   "source": [
    "dict_classes = get_dicionario_classes(classe)\n",
    "print(dict_classes)"
   ]
  },
  {
   "cell_type": "markdown",
   "metadata": {},
   "source": [
    "Podemos ver acima os valores que nosso método atribuiu para cada uma das classes.\n",
    "\n",
    "Basta agora repetir o processos anterior de usar o método *apply()*, porém agora passando no *lambda* o método que vai atribuir a classe a seu determinado valor no dicionário que criamos anteriormente."
   ]
  },
  {
   "cell_type": "code",
   "execution_count": 42,
   "metadata": {
    "scrolled": false
   },
   "outputs": [
    {
     "name": "stdout",
     "output_type": "stream",
     "text": [
      "2    50\n",
      "1    50\n",
      "0    50\n",
      "Name: class, dtype: int64\n"
     ]
    }
   ],
   "source": [
    "def transformar_categorico_em_numerico(valor, dict_classes):\n",
    "    return dict_classes[valor]\n",
    "    \n",
    "classe = classe.apply(lambda row: transformar_categorico_em_numerico(row, dict_classes))\n",
    "print(classe.value_counts())"
   ]
  },
  {
   "cell_type": "markdown",
   "metadata": {},
   "source": [
    "## Lidando com problemas multi-classe\n",
    "O problema em questão é multi-classe, ou seja, possuímos mais de duas classes como resposta na camada de saída, podendo ser, íris-setosa, versicolor ou virginica.\n",
    "Para problemas binários utilizar um único neurônio com a saída de 0 e 1 nos basta, todavia aqui, vamos precisar criar um novo neurônio para cada classe, totalizando 3 na nossa camada de saída.\n",
    "\n",
    "Além de modificar a estrutura da rede neural, também vamos precisar codificar nossos valores, uma vez que, ao invés de um valor escalar vamos trabalhar com um array na saída da rede, sendo ele representado por: [1,0,0], [0,1,0] e [0,0,1]."
   ]
  },
  {
   "cell_type": "code",
   "execution_count": 43,
   "metadata": {},
   "outputs": [],
   "source": [
    "def codificar_classe():\n",
    "    classe_codificada = {}\n",
    "    array_classe = [1] + [0] * (len(classe.unique()) - 1) #cria um array dinâmico baseado na \n",
    "    #quantidade de classes, é [1,0,0] para esse problema mas poderia ser [1,0,0,0....,0].\n",
    "    count = 1    \n",
    "    classe_codificada[0] = array_classe.copy()\n",
    "    \n",
    "    for i in range(len(classe.unique()) - 1): # percorre todas as classes -1, pois já temos a primeira posição do dicionário por padrão\n",
    "        array_classe[count - 1] = 0 # o valor 1 atual vira 0\n",
    "        array_classe[count] = 1  # a próxima casa do array vira 1   \n",
    "        classe_codificada[count] = array_classe.copy()\n",
    "        count += 1\n",
    "    \n",
    "    return classe_codificada      \n",
    "\n",
    "classe_codificada = codificar_classe()"
   ]
  },
  {
   "cell_type": "code",
   "execution_count": 44,
   "metadata": {},
   "outputs": [
    {
     "data": {
      "text/plain": [
       "{0: [1, 0, 0], 1: [0, 1, 0], 2: [0, 0, 1]}"
      ]
     },
     "execution_count": 44,
     "metadata": {},
     "output_type": "execute_result"
    }
   ],
   "source": [
    "classe_codificada"
   ]
  },
  {
   "cell_type": "markdown",
   "metadata": {},
   "source": [
    "A ideia do método *codificar_classe* é criar mais um dicionário, como é possível ver acima, onde cada posição representa uma classe codificada em um array de binários. O tamanho desse array é dinâmico dependendo do número de classes e a ideia é ir movimentando o valor do 1 conforme as iterações.\n",
    "\n",
    "Feito isso, basta repetir o processo para substituir o valor da classe."
   ]
  },
  {
   "cell_type": "code",
   "execution_count": 45,
   "metadata": {},
   "outputs": [
    {
     "name": "stdout",
     "output_type": "stream",
     "text": [
      "0    [1, 0, 0]\n",
      "1    [1, 0, 0]\n",
      "2    [1, 0, 0]\n",
      "3    [1, 0, 0]\n",
      "4    [1, 0, 0]\n",
      "Name: class, dtype: object\n"
     ]
    }
   ],
   "source": [
    "def substituir_classe_codificada(valor, classe_codificada):\n",
    "    return classe_codificada[valor]\n",
    "\n",
    "classe = classe.apply(lambda row: substituir_classe_codificada(row, classe_codificada))\n",
    "print(classe.head())"
   ]
  },
  {
   "cell_type": "markdown",
   "metadata": {},
   "source": [
    "Com isso, a classe agora está em uma estrutura que vai suportar o problema multi-classe."
   ]
  },
  {
   "cell_type": "markdown",
   "metadata": {},
   "source": [
    "## Divisão do dataframe\n",
    "Agora que os dados do *dataframe* já estão no formato necessário, basta dividir as bases em treinamento, validação e teste, usando a proporção de 70%, 15% e 15%.\n",
    "\n",
    "Para isso foi criado o método *dividir_dataframe* onde iremos utilizar o método *sample* do pandas para pegar amostras aleatórias sem reposição do nosso dataframe, e a partir dessa amostra iremos criar os outros conjuntos.\n",
    "\n",
    "O *x_treinamento* vai ser a fatia responsável por treinar a rede e ajustar os pesos. O teste do treinamento será feito ao final de cada época na base chamada *x_teste*, nos dando uma avaliação não enviesada dos resultados da rede em dados não vistos no treino.\n",
    "\n",
    "Após a rede estar completamente treinada, iremos usar a base de *x_validacao* para gerar novas previsões baseado em atributos previsores nunca antes vistos pela rede, nos dando uma validação final da eficácia do treinamento.\n",
    "\n",
    "Os parâmetros com sulfixo *p* indicam o porcentagem que será atribuida para cada base de dados e o último parâmetro de época vai mudar o retorno da função dependendo se o perceptron é do tipo que atualiza os pesos por registro ou por época."
   ]
  },
  {
   "cell_type": "code",
   "execution_count": 46,
   "metadata": {},
   "outputs": [],
   "source": [
    "def dividir_dataframe(previsores, classe, p_treinamento, p_teste, p_validacao, epoca = False):\n",
    "    x_treinamento = previsores.sample(frac = p_treinamento)\n",
    "    y_treinamento = classe[x_treinamento.index]\n",
    "    \n",
    "    x_teste_sem_previsores = previsores.drop(x_treinamento.index)\n",
    "    nova_p_teste = p_teste / (1 - p_treinamento)\n",
    "    \n",
    "    x_teste = x_teste_sem_previsores.sample(frac = nova_p_teste)\n",
    "    y_teste = classe[x_teste.index]\n",
    "    \n",
    "    x_validacao = x_teste_sem_previsores.drop(x_teste.index)\n",
    "    y_validacao = classe[x_validacao.index]\n",
    "    \n",
    "    if epoca == False:\n",
    "        return x_treinamento.reset_index(drop=True), y_treinamento.reset_index(drop=True), \\\n",
    "        x_teste.reset_index(drop=True), y_teste.reset_index(drop=True), x_validacao.reset_index(drop=True), y_validacao.reset_index(drop=True)\n",
    "    else:\n",
    "        # não tem reset index na classe\n",
    "        return x_treinamento.reset_index(drop=True), y_treinamento, \\\n",
    "        x_teste.reset_index(drop=True), y_teste, x_validacao.reset_index(drop=True), y_validacao"
   ]
  },
  {
   "cell_type": "markdown",
   "metadata": {},
   "source": [
    "A nomenclatura de \"x\" representa os atributos previsores e \"y\" a classe.\n",
    "\n",
    "Depois de criar a fração de treinamento, eu removo dos meus previsores todos os dados que estão na porção de treinamento, pois uma regra importante a ser seguida na divisão dos dados é o particionamento, ou seja, nenhum dos registros de treinamento deve estar no conjunto de teste e vice versa. \n",
    "\n",
    "Depois disso, meu conjunto total se torna o resto que não está no conjunto de treinamento, portanto as porcentagens também são redimensionadas, por exemplo, se antes tinhamos 15% do nosso conjunto para treinamento e 15% para validação, agora cada um desses 15% representa 50%, pois o novo 100% está sem os registros de treinamento.\n",
    "\n",
    "Feito isso, basta dividir novamente a base em teste e validação e retornar os valores."
   ]
  },
  {
   "cell_type": "markdown",
   "metadata": {},
   "source": [
    "## Inicialização dos pesos\n",
    "Os pesos serão inicializados de forma aleatória para então serem gradativamente ajustados conforme a rede neural converge.\n",
    "Para isso, foi criado o método *inicializar_pesos*, que percorre cada um dos neurônios e gera um vetor da quantidade de pesos que ele possui baseado nas suas conexões sinapticas com os neurônios da próxima camada.\n",
    "\n",
    "Além disso, o método também recebe um parâmetro chamado dominio, que é o intervalo de valores que os pesos serão gerados, os testes a princípio foram realizados em um domínio de [0,1]."
   ]
  },
  {
   "cell_type": "code",
   "execution_count": 154,
   "metadata": {},
   "outputs": [],
   "source": [
    "def inicializar_pesos(dominio):\n",
    "    pesos_final = []\n",
    "    \n",
    "    for i in range(len(previsores.columns)):\n",
    "        pesos = [] \n",
    "        for j in range(len(dict_classes)):\n",
    "            pesos.append(random.uniform(dominio[0], dominio[1]))\n",
    "        pesos_final.append(pesos)\n",
    "    return pesos_final"
   ]
  },
  {
   "cell_type": "code",
   "execution_count": 48,
   "metadata": {
    "scrolled": true
   },
   "outputs": [
    {
     "name": "stdout",
     "output_type": "stream",
     "text": [
      "Pesos: [[0.10777930049416296, 0.04571515026480977, 0.46878887848548767], [0.44439409136160934, 0.2019125585058804, 0.8787410563192845], [0.8496704921733031, 0.7191477430916621, 0.703914637010614], [0.49464954201400324, 0.03453776058779867, 0.29566446014598513]]\n"
     ]
    }
   ],
   "source": [
    "pesos = inicializar_pesos([0, 1])\n",
    "print('Pesos:', pesos)"
   ]
  },
  {
   "cell_type": "markdown",
   "metadata": {},
   "source": [
    "Como podemos ver acima, o array de pesos para esse problema possui 4 posições com 3 pesos em cada uma das posições, isso acontece por que possuímos 4 neurônios (nosso atributos de entrada/previsores sem considerar o bias nesse caso) conectados à 3 neurônios (um neurônio para cada saída possível), portanto cada um dos 4 neurônios possui 3 pesos (conexões) cada um. \n",
    "\n",
    "Para obter o número de conexões por camada basta multiplicar o número de neurônios da camada atual pelos número de neurônios na próxima camada, dessa forma temos: 4 * 3 = 12."
   ]
  },
  {
   "cell_type": "markdown",
   "metadata": {},
   "source": [
    "## Implementação da função de soma\n",
    "A função de soma acontece em todos os neurônios, somando o valor do produto da multiplicação entre os neurônios adjacentes anteriores com os pesos das sinapses artificiais.\n",
    "Esse valor de soma é o valor final do neurônio após receber todas as sinapses e será usado na função de ativação para indicar se o neurônio em questão foi excitado ou inibido.\n",
    "\n",
    "\n",
    "A soma do produto pode ser feita de forma simples usando o método *dot* do numpy, retornando um produto escalar."
   ]
  },
  {
   "cell_type": "code",
   "execution_count": 130,
   "metadata": {},
   "outputs": [],
   "source": [
    "def somatoria(entradas, pesos):\n",
    "    return np.dot(entradas, pesos) "
   ]
  },
  {
   "cell_type": "markdown",
   "metadata": {},
   "source": [
    "## Função de ativação\n",
    "A função de ativação por *default* no perceptron é a chamada \"*step function* (função degrau)\", onde o neurônio artificial é excitado ou não baseado em um *threshold* (limiar) pré definido.\n",
    "Nesse caso, se o valor do neurônio for maior que 0 ele retorna o 1, excitando a célula, caso contrário, retorna 0.\n",
    "\n",
    "Por ser um problema multiclasse, foi criado um laço *for* para percorrer o array da classe e excitar todas as posições em que o valor é maior que 0. \n",
    "\n",
    "Claro que isso acaba gerando um problema onde mais de um neurônio por vez na camada de saída pode ser excitado. "
   ]
  },
  {
   "cell_type": "code",
   "execution_count": 50,
   "metadata": {},
   "outputs": [],
   "source": [
    "def funcao_ativacao_step(soma):\n",
    "    ativacao = []\n",
    "    for i in soma:\n",
    "        if i > 0:\n",
    "            ativacao.append(1)\n",
    "        else:\n",
    "            ativacao.append(0)\n",
    "\n",
    "    return ativacao, ativacao"
   ]
  },
  {
   "cell_type": "markdown",
   "metadata": {},
   "source": [
    "## Função de custo\n",
    "A função de custo é a responsável por calcular o erro da rede neural ao comparar o valor correto com o valor que foi previsto.\n",
    "\n",
    "A variável de *erro* indica se a rede neural errou a previsão ou acertou (uma vez que os pesos aqui não serão atualizados em caso de acerto), já a variável *valor_erro*, nos indica o valor exato em cada neurônio de saída que a rede classificou incorretamente, para ter uma precisão maior na atualização dos pesos.\n",
    "\n",
    "Por exemplo, se o valor previsto foi: [0.8,0.37,0.16] e o valor real é: [0,1,0], a variável *valor_erro* vai trazer o erro do algoritmo por posição: [0.8, 0.63, 0.16], totalizando uma soma de 1.59. "
   ]
  },
  {
   "cell_type": "code",
   "execution_count": 51,
   "metadata": {},
   "outputs": [],
   "source": [
    "def funcao_custo(valor_correto, valor_previsto, valor_ativacao):\n",
    "    erro = valor_correto != valor_previsto\n",
    "    valor_erro = list(abs(np.array(valor_correto) - np.array(valor_ativacao)))\n",
    "    return erro, sum(valor_erro) # valor escalar"
   ]
  },
  {
   "cell_type": "markdown",
   "metadata": {},
   "source": [
    "## Função de atualização de peso\n",
    "A formula da atualização de pesos no perceptron foi representada no método de *atualizar_peso*\n",
    "\n",
    "Com ela, conseguimos ajustar os pesos seguindo uma taxa de aprendizado (basicamente o tamanho do \"passo\") além de levar em consideração a grandeza da entrada e o quanto a previsão estava incorreta.\n",
    "\n",
    "Algo importante de se considerar é que o perceptron faz a atualização dos pesos POR REGISTRO, ou seja, a cada registro apresentado a rede neural que é classificado de forma incorreta é gerado uma atualização nos pesos, podendo dificultar a convergência devido à sensibilidade aos dados contidos no *dataframe* e também aumentando o tempo de execução do algoritmo."
   ]
  },
  {
   "cell_type": "code",
   "execution_count": 52,
   "metadata": {},
   "outputs": [],
   "source": [
    "def atualizar_peso(entrada, peso, erro, tx_aprendizado):\n",
    "    novo_peso = peso + (tx_aprendizado * entrada * erro)\n",
    "    return novo_peso"
   ]
  },
  {
   "cell_type": "markdown",
   "metadata": {},
   "source": [
    "## Bias\n",
    "O Bias é a constante que iremos adicionar como sendo uma das colunas do *dataframe*. Essa coluna, assim como as demais, irá se transformar em um neurônio da rede, que vai ajudar nos cálculos dos pesos.\n",
    "\n",
    "O Bias tem uma atualização diferenciada, pois não leva em consideração a entrada, portanto foi criado um método para atualizar o bias."
   ]
  },
  {
   "cell_type": "code",
   "execution_count": 53,
   "metadata": {},
   "outputs": [],
   "source": [
    "def atualizar_bias(entrada, peso, erro, tx_aprendizado):\n",
    "    novo_peso = peso + np.float64(tx_aprendizado * erro)\n",
    "    return novo_peso"
   ]
  },
  {
   "cell_type": "code",
   "execution_count": 54,
   "metadata": {},
   "outputs": [],
   "source": [
    "previsores['bias'] = 1 # adicionando o bias na coluna"
   ]
  },
  {
   "cell_type": "markdown",
   "metadata": {},
   "source": [
    "## Implementação do perceptron\n",
    "O método *treinar* é que a que vai implementar de fato todas as etapas que foram mostradas até agora, recebendo o número de épocas que iremos executar o perceptron, onde cada época representa a passagem de todo o *dataframe* na pela rede, a função de ativação que será utilizada, a função de custo e os conjuntos de treinamento e teste, além da taxa de aprendizado. "
   ]
  },
  {
   "cell_type": "code",
   "execution_count": 55,
   "metadata": {},
   "outputs": [],
   "source": [
    "def treinar(epocas, f_ativacao, f_custo, pesos, x_treinamento, y_treinamento, x_teste, y_teste,\n",
    "           tx_aprendizado):\n",
    "\n",
    "    execucoes = 0\n",
    "    precisoes_treinamento = [] #convergência da base de treinamento ao longo das épocas\n",
    "    precisoes_teste = [] # convergência da base de teste ao longo das épocas\n",
    "    melhores_pesos = [] # registra o melhor conjunto de pesos para a validação posterior\n",
    "\n",
    "    while execucoes < epocas: # parada ao executar todas as épocas.\n",
    "        precisao = 0\n",
    "        iteracao = 0\n",
    "        # x_treinamento = x_treinamento.sample(frac=1).reset_index(drop=True) # embaralhar os valores dos previsores, por que sem isso, podemos ter sempre uma ordem fixa de ajuste de pesos, prejudicando a rede\n",
    "\n",
    "        for i in x_treinamento.values: # percorre cada registro individualmente\n",
    "            entradas = i   \n",
    "            soma = somatoria(entradas, pesos)\n",
    "        \n",
    "            # a ativacao retorna qual dos 3 neurônios de saíde foram excitados e também o \n",
    "            # valor real da ativação, para calculo do erro.\n",
    "            neuronio_excitado, valor_ativacao = f_ativacao(soma) \n",
    "        \n",
    "            erro, valor_erro = f_custo(y_treinamento[iteracao], neuronio_excitado, \n",
    "                                       valor_ativacao)\n",
    "            # atualiza os pesos em caso de erro\n",
    "            if erro == True:\n",
    "                count = 0\n",
    "                # percorre cada coluna para atualizar o peso e o bias\n",
    "                for i in entradas:\n",
    "                    if count == len(entradas) - 1:\n",
    "                        novo_peso = atualizar_bias(i, pesos[count], valor_erro, tx_aprendizado)\n",
    "                    else:\n",
    "                        novo_peso = atualizar_peso(i, pesos[count], valor_erro, tx_aprendizado)\n",
    "                    \n",
    "                    pesos[count] = novo_peso\n",
    "                    count += 1\n",
    "            else:\n",
    "                precisao += 100 / len(x_treinamento)\n",
    "\n",
    "            iteracao += 1\n",
    "        \n",
    "        precisoes_treinamento.append(precisao)\n",
    "        melhores_pesos = pesos.copy() if precisoes_treinamento[execucoes] >= max(precisoes_treinamento) else melhores_pesos\n",
    "\n",
    "        precisoes_teste.append(testar(pesos, x_teste, y_teste, f_ativacao, f_custo))\n",
    "        execucoes += 1\n",
    "    return precisoes_treinamento, precisoes_teste, melhores_pesos"
   ]
  },
  {
   "cell_type": "markdown",
   "metadata": {},
   "source": [
    "## Método de teste\n",
    "Ao final de cada época a rede teve seu desempenho avaliado na base de teste, isso foi feito no método *testar* onde usamos os pesos ajustados no treinamento apenas para pegar os acertos e erros no conjunto de teste."
   ]
  },
  {
   "cell_type": "code",
   "execution_count": 56,
   "metadata": {},
   "outputs": [],
   "source": [
    "def testar(pesos, x_previsores, y_classe, f_ativacao, f_custo):\n",
    "    precisao = 0\n",
    "    iteracao = 0\n",
    "    for i in x_previsores.values:\n",
    "        entradas = i   \n",
    "        soma = somatoria(entradas, pesos)\n",
    "        \n",
    "        neuronio_excitado, valor_ativacao = f_ativacao(soma)\n",
    "        \n",
    "        erro, valor_erro = f_custo(y_classe[iteracao], neuronio_excitado, valor_ativacao)\n",
    "        \n",
    "        # faz a contagem da precisão, incrementando por acerto baseado no total de registros\n",
    "        if erro == 0: \n",
    "            precisao += 100 / len(x_previsores)\n",
    "        \n",
    "        iteracao += 1\n",
    "    \n",
    "    return precisao"
   ]
  },
  {
   "cell_type": "markdown",
   "metadata": {},
   "source": [
    "### Exibindo os resultados\n",
    "Os resultados de precisão, média, desvio padrão e os gráficos de convergência são exibidos nos método abaixo de *exibir_resultados* e *plotar_convergencia*."
   ]
  },
  {
   "cell_type": "code",
   "execution_count": 57,
   "metadata": {},
   "outputs": [],
   "source": [
    "def exibir_resultados(precisao_treinamento, precisao_teste, resultado_final):\n",
    "    print('Melhor precisão de treinamento', max(precisao_treinamento))\n",
    "    print('Melhor precisão de teste', max(precisao_teste))\n",
    "    print('Melhor precisão de validação', max(resultado_final))\n",
    "    print('Média precisão de treinamento', np.mean(precisao_treinamento))\n",
    "    print('Média precisão de teste', np.mean(precisao_teste))\n",
    "    print('Média precisão de validação', np.mean(resultado_final))\n",
    "    print('Desvio Padrão precisão de treinamento', np.std(precisao_treinamento))\n",
    "    print('Desvio Padrão precisão de teste', np.std(precisao_teste))\n",
    "    print('Desvio Padrão precisão de validação', np.std(resultado_final))"
   ]
  },
  {
   "cell_type": "code",
   "execution_count": 58,
   "metadata": {},
   "outputs": [],
   "source": [
    "def plotar_convergencia(precisao_treinamento, precisao_teste):\n",
    "    fig, axes = plt.subplots(nrows=1, ncols=2, figsize=(10, 8)) # iniciar a figura\n",
    "    # plotar a figura de treinamento\n",
    "    axes[0].plot(precisao_treinamento, color = 'blue')\n",
    "    axes[0].legend(['Treinamento'])\n",
    "    # plotar a figura de teste\n",
    "    axes[1].plot(precisao_teste, color = 'orange')\n",
    "    axes[1].legend(['Teste'])\n",
    "\n",
    "    plt.xlabel('Épocas')\n",
    "    plt.ylabel('Precisão')\n",
    "    plt.show()"
   ]
  },
  {
   "cell_type": "markdown",
   "metadata": {},
   "source": [
    "## Testes no perceptron\n",
    "Uma vez que a rede perceptron foi criada basta testar seus resultados com diferentes parâmetros. Para isso, foi criado a função genérica chamada *executar_perceptron*, que recebe os parâmetros desejados e treina a rede. \n",
    "\n",
    "Cada vez que o método *executar_perceptron* é chamado, o algoritmo é inicializado 30 vezes, sem nenhuma mudança nos parâmetros, apenas gerando um conjunto inicial de pesos diferente para cada inicialização e também uma partição nova dos dados, pois ambos são aleatórios.\n",
    "\n",
    "Isso é feito porque as redes neurais são algoritmos extremamente estocásticos, o que faz com que sejam inclusive evitados em algumas áreas, portanto é interessante tentar treinar a rede várias vezes para capturar seus melhores resultados. \n",
    "\n",
    "O método *executar_perceptron* também registra o desempenho e convergência da rede durante as iterações, além de retornar os valores máximos ao final, para que possamos usar posteriormente na otimização de parâmetros."
   ]
  },
  {
   "cell_type": "code",
   "execution_count": 59,
   "metadata": {},
   "outputs": [],
   "source": [
    "def executar_perceptron(funcao_ativacao, funcao_custo, epocas, dominio_pesos = [0, 1], \n",
    "                       tx_aprendizado = 0.001, mostrar_resultados = True):\n",
    "    # os arrays servem para registrar os valores de cada inicialização da rede\n",
    "    convergencia_treinamento = [0]\n",
    "    convergencia_teste = [0]\n",
    "    precisao_treinamento = []\n",
    "    precisao_teste = []\n",
    "    resultado_final = []\n",
    "    start_time = time.time() # tempo de execução\n",
    "    \n",
    "    for i in range(30): # 30 execuções\n",
    "        x_treinamento, y_treinamento, x_teste, y_teste, \\\n",
    "        x_validacao, y_validacao = dividir_dataframe(previsores, classe, 0.7, 0.15, 0.15)\n",
    "        \n",
    "        pesos = inicializar_pesos(dominio_pesos) \n",
    "        \n",
    "        treinamento = treinar(epocas, funcao_ativacao, funcao_custo, pesos, x_treinamento,\n",
    "                                     y_treinamento, x_teste, y_teste, tx_aprendizado)\n",
    "        \n",
    "        # É salvo apenas o melhor resultado da convergência, para plotar um único gráfico\n",
    "        convergencia_treinamento = treinamento[0] if max(treinamento[0]) >= \\\n",
    "                                max(convergencia_treinamento) else convergencia_treinamento\n",
    "        \n",
    "        convergencia_teste = treinamento[1] if max(treinamento[1]) >= max(convergencia_teste) \\\n",
    "                                        else convergencia_teste\n",
    "        \n",
    "        precisao_treinamento.append(max(treinamento[0]))\n",
    "        precisao_teste.append(max(treinamento[1]))\n",
    "        # avaliação do algoritmo ao final do treinamento na base de validação\n",
    "        resultado_final.append(testar(treinamento[2], x_validacao, y_validacao, \n",
    "                                      funcao_ativacao, funcao_custo))\n",
    "    \n",
    "    if mostrar_resultados == True: # condição para caso não tenha interesse em plotar gráficos\n",
    "        plotar_convergencia(convergencia_treinamento, convergencia_teste)   \n",
    "        exibir_resultados(precisao_treinamento, precisao_teste, resultado_final)\n",
    "        print(\"Tempo de execução: %s Segundos\" % (time.time() - start_time))\n",
    "        \n",
    "    return max(precisao_treinamento), max(precisao_teste), max(resultado_final)"
   ]
  },
  {
   "cell_type": "code",
   "execution_count": 60,
   "metadata": {
    "scrolled": false
   },
   "outputs": [
    {
     "data": {
      "image/png": "[encoded data removed]",
      "text/plain": [
       "<Figure size 720x576 with 2 Axes>"
      ]
     },
     "metadata": {
      "needs_background": "light"
     },
     "output_type": "display_data"
    },
    {
     "name": "stdout",
     "output_type": "stream",
     "text": [
      "Melhor precisão de treinamento 21.904761904761905\n",
      "Melhor precisão de teste 18.181818181818183\n",
      "Melhor precisão de validação 21.73913043478261\n",
      "Média precisão de treinamento 5.174603174603175\n",
      "Média precisão de teste 5.454545454545454\n",
      "Média precisão de validação 2.1739130434782608\n",
      "Desvio Padrão precisão de treinamento 5.643387334724188\n",
      "Desvio Padrão precisão de teste 5.9149155442251935\n",
      "Desvio Padrão precisão de validação 4.861017342390847\n",
      "Tempo de execução: 70.72279143333435 Segundos\n"
     ]
    },
    {
     "data": {
      "text/plain": [
       "(21.904761904761905, 18.181818181818183, 21.73913043478261)"
      ]
     },
     "execution_count": 60,
     "metadata": {},
     "output_type": "execute_result"
    }
   ],
   "source": [
    "executar_perceptron(funcao_ativacao_step, funcao_custo, 300)"
   ]
  },
  {
   "cell_type": "markdown",
   "metadata": {},
   "source": [
    "### Resultados iniciais e ZeroR\n",
    "Os testes inicias mostram uma precisão extremamente baixa, algo está definitivamente se comportando mal no algoritmo. Podemos ter certeza que o culpado é nosso algoritmo e não a base de dados devido a análise exploratória nos dados que foi feita anteriormente, uma vez que as características separáveis dos dados deveriam nos dar uma precisão maior que a encontrada até agora.\n",
    "\n",
    "Para saber a precisão mínima que o algoritmo deve ter para ser considerado melhor do que não usar algoritmo algum foi utilizado o \"zeroR\" como critério. A precisão do zeroR, considerado nosso limiar mínimo, é dado pela proporção de registros da classe majoritária no *dataframe*.\n",
    "\n",
    "\n",
    "Nesse *dataframe* as classes estão **normalmente distribuídas** em 3 partes iguais, fazendo com que a precisão majoritária sem algoritmos seja de **33%**, portanto, qualquer precisão inferior a isso torna o uso do algoritmo injustificável.\n",
    "\n",
    "\n",
    "Todavia, ainda que nosso algoritmo seja considerado útil com 34% de acerto, ainda está longe de algo desejável."
   ]
  },
  {
   "cell_type": "markdown",
   "metadata": {},
   "source": [
    "# Melhorando os resultados\n",
    "Os passos que seguem foram usados como meio de melhorar a precisão da rede perceptron."
   ]
  },
  {
   "cell_type": "markdown",
   "metadata": {},
   "source": [
    "### Função de ativação sigmoid.\n",
    "Como foi dito anteriormente, utilizar a função degrau para ativação pode ocasionar o aumento dos erros, devido a possibilidade de excitar vários neurônios ao passar pelo limiar especificado. Portanto foi criado uma nova função de ativação sigmoid.\n",
    "\n",
    "Com isso, os valores ficam em um intervalo de 0 e 1 e o neurônio escolhido para ser excitado é aquele com o maior valor. Dessa forma, já não temos mais o problema de excitar vários neurônios. "
   ]
  },
  {
   "cell_type": "code",
   "execution_count": 61,
   "metadata": {},
   "outputs": [],
   "source": [
    "def funcao_ativacao_sigmoid(soma):\n",
    "    valor_ativacao = list(1 / (1 + math.e ** -soma))\n",
    "    index_excitacao = valor_ativacao.index(max(valor_ativacao))# pegar neurônio com maior valor  \n",
    "    neuronio_excitado = [0] * len(soma) # zerar os valores dos neurônios de saída\n",
    "    neuronio_excitado[index_excitacao] = 1 # definir o valor 1 para o neurônio com maior valor\n",
    "    \n",
    "    return neuronio_excitado, valor_ativacao"
   ]
  },
  {
   "cell_type": "code",
   "execution_count": 62,
   "metadata": {},
   "outputs": [
    {
     "data": {
      "image/png": "[encoded data removed]",
      "text/plain": [
       "<Figure size 720x576 with 2 Axes>"
      ]
     },
     "metadata": {
      "needs_background": "light"
     },
     "output_type": "display_data"
    },
    {
     "name": "stdout",
     "output_type": "stream",
     "text": [
      "Melhor precisão de treinamento 85.71428571428552\n",
      "Melhor precisão de teste 90.90909090909092\n",
      "Melhor precisão de validação 95.65217391304346\n",
      "Média precisão de treinamento 56.76190476190469\n",
      "Média precisão de teste 55.303030303030305\n",
      "Média precisão de validação 54.927536231884076\n",
      "Desvio Padrão precisão de treinamento 16.016997773836177\n",
      "Desvio Padrão precisão de teste 15.170442723106657\n",
      "Desvio Padrão precisão de validação 18.967797913779094\n",
      "Tempo de execução: 72.08857583999634 Segundos\n"
     ]
    },
    {
     "data": {
      "text/plain": [
       "(85.71428571428552, 90.90909090909092, 95.65217391304346)"
      ]
     },
     "execution_count": 62,
     "metadata": {},
     "output_type": "execute_result"
    }
   ],
   "source": [
    "executar_perceptron(funcao_ativacao_sigmoid, funcao_custo, 300)"
   ]
  },
  {
   "cell_type": "markdown",
   "metadata": {},
   "source": [
    "A aplicação da função sigmoid gerou melhorias consideráveis nos resultados.\n",
    "\n",
    "Um outro parâmetro que pode ser otimizado é o domínio dos pesos, podemos alterar o mesmo para tentar buscar um nível de precisão maior, que é refletido por sua vez nas oscilações no gráfico de precisão e treinamento e de teste."
   ]
  },
  {
   "cell_type": "code",
   "execution_count": 63,
   "metadata": {},
   "outputs": [
    {
     "data": {
      "image/png": "[encoded data removed]",
      "text/plain": [
       "<Figure size 720x576 with 2 Axes>"
      ]
     },
     "metadata": {
      "needs_background": "light"
     },
     "output_type": "display_data"
    },
    {
     "name": "stdout",
     "output_type": "stream",
     "text": [
      "Melhor precisão de treinamento 76.19047619047603\n",
      "Melhor precisão de teste 81.81818181818183\n",
      "Melhor precisão de validação 73.91304347826087\n",
      "Média precisão de treinamento 40.920634920634875\n",
      "Média precisão de teste 40.60606060606061\n",
      "Média precisão de validação 36.956521739130444\n",
      "Desvio Padrão precisão de treinamento 17.33138543622016\n",
      "Desvio Padrão precisão de teste 20.69499524722894\n",
      "Desvio Padrão precisão de validação 20.874093711578794\n",
      "Tempo de execução: 81.89371943473816 Segundos\n"
     ]
    },
    {
     "data": {
      "text/plain": [
       "(76.19047619047603, 81.81818181818183, 73.91304347826087)"
      ]
     },
     "execution_count": 63,
     "metadata": {},
     "output_type": "execute_result"
    }
   ],
   "source": [
    "executar_perceptron(funcao_ativacao_sigmoid, funcao_custo, 300, [-0.005, 0.005])"
   ]
  },
  {
   "cell_type": "markdown",
   "metadata": {},
   "source": [
    "Como esperado, utilizar o domínio entre -0.005 e 0.005 acrescentou um ganho de precisão, chegando em torno dos 80%.\n",
    "\n",
    "Foi observado ao longo dos testes, que o nosso ótimo global se encontra em valores pequenos de pesos, portanto tiramos vantagem de começar com um domínio próximo a zero e ir evoluindo gradativamente em busca do ótimo global."
   ]
  },
  {
   "cell_type": "markdown",
   "metadata": {},
   "source": [
    "## Mean Squared Error e Root Mean Squared error\n",
    "A função de custo que está sendo utilizada atualmente é a mais simples possível, onde comparamos a diferença entre a previsão atual com o valor esperado. Existem outras fórmulas um pouco mais completas que possuem um nível de precisão maior em estimar os custos.\n",
    "\n",
    "A primeira delas é a função Mean Squared Error, representada no método *funcao_custo_mse*, que além de calcular o valor correto subtraído do valor previsto também eleva o resultado da subtração ao quadrado e os soma, gerando um valor escalar que pune mais erros maiores, deixando eles mais expressivos.\n",
    "\n",
    "\n",
    "A Root Mean Squared Error, representada pelo método *funcao_custo_rmse* segue a mesma formula, porém submetendo os resultados finais a uma raiz quadrada."
   ]
  },
  {
   "cell_type": "code",
   "execution_count": 172,
   "metadata": {},
   "outputs": [],
   "source": [
    "def funcao_custo_mse(valor_correto, valor_previsto, valor_ativacao):\n",
    "    erro = valor_correto != valor_previsto\n",
    "\n",
    "    valor_erro = list(abs(np.array(valor_correto) - np.array(valor_ativacao)))\n",
    "    erro_quadratico = list(map(lambda x: math.pow(x, 2), valor_erro))\n",
    "    soma_erro_quadratico = sum(erro_quadratico)\n",
    "\n",
    "    return erro, soma_erro_quadratico"
   ]
  },
  {
   "cell_type": "code",
   "execution_count": 173,
   "metadata": {},
   "outputs": [],
   "source": [
    "def funcao_custo_rmse(valor_correto, valor_previsto, valor_ativacao):\n",
    "    erro, valor_erro = funcao_custo_mse(valor_correto, valor_previsto, valor_ativacao)\n",
    "\n",
    "    return erro, math.sqrt(valor_erro)"
   ]
  },
  {
   "cell_type": "code",
   "execution_count": 66,
   "metadata": {
    "scrolled": true
   },
   "outputs": [
    {
     "ename": "KeyboardInterrupt",
     "evalue": "",
     "output_type": "error",
     "traceback": [
      "\u001b[0;31m---------------------------------------------------------------------------\u001b[0m",
      "\u001b[0;31mKeyboardInterrupt\u001b[0m                         Traceback (most recent call last)",
      "\u001b[0;32m<ipython-input-66-93052db66d35>\u001b[0m in \u001b[0;36m<module>\u001b[0;34m\u001b[0m\n\u001b[0;32m----> 1\u001b[0;31m \u001b[0mexecutar_perceptron\u001b[0m\u001b[0;34m(\u001b[0m\u001b[0mfuncao_ativacao_sigmoid\u001b[0m\u001b[0;34m,\u001b[0m \u001b[0mfuncao_custo_mse\u001b[0m\u001b[0;34m,\u001b[0m \u001b[0;36m300\u001b[0m\u001b[0;34m,\u001b[0m \u001b[0;34m[\u001b[0m\u001b[0;34m-\u001b[0m\u001b[0;36m0.005\u001b[0m\u001b[0;34m,\u001b[0m \u001b[0;36m0.005\u001b[0m\u001b[0;34m]\u001b[0m\u001b[0;34m)\u001b[0m\u001b[0;34m\u001b[0m\u001b[0;34m\u001b[0m\u001b[0m\n\u001b[0m\u001b[1;32m      2\u001b[0m \u001b[0mexecutar_perceptron\u001b[0m\u001b[0;34m(\u001b[0m\u001b[0mfuncao_ativacao_sigmoid\u001b[0m\u001b[0;34m,\u001b[0m \u001b[0mfuncao_custo_rmse\u001b[0m\u001b[0;34m,\u001b[0m \u001b[0;36m300\u001b[0m\u001b[0;34m,\u001b[0m \u001b[0;34m[\u001b[0m\u001b[0;34m-\u001b[0m\u001b[0;36m0.005\u001b[0m\u001b[0;34m,\u001b[0m \u001b[0;36m0.005\u001b[0m\u001b[0;34m]\u001b[0m\u001b[0;34m)\u001b[0m\u001b[0;34m\u001b[0m\u001b[0;34m\u001b[0m\u001b[0m\n",
      "\u001b[0;32m<ipython-input-59-384389b4b750>\u001b[0m in \u001b[0;36mexecutar_perceptron\u001b[0;34m(funcao_ativacao, funcao_custo, epocas, dominio_pesos, tx_aprendizado, mostrar_resultados)\u001b[0m\n\u001b[1;32m     16\u001b[0m \u001b[0;34m\u001b[0m\u001b[0m\n\u001b[1;32m     17\u001b[0m         treinamento = treinar(epocas, funcao_ativacao, funcao_custo, pesos, x_treinamento,\n\u001b[0;32m---> 18\u001b[0;31m                                      y_treinamento, x_teste, y_teste, tx_aprendizado)\n\u001b[0m\u001b[1;32m     19\u001b[0m \u001b[0;34m\u001b[0m\u001b[0m\n\u001b[1;32m     20\u001b[0m         \u001b[0;31m# É salvo apenas o melhor resultado da convergência, para plotar um único gráfico\u001b[0m\u001b[0;34m\u001b[0m\u001b[0;34m\u001b[0m\u001b[0;34m\u001b[0m\u001b[0m\n",
      "\u001b[0;32m<ipython-input-55-58c7ac7ef653>\u001b[0m in \u001b[0;36mtreinar\u001b[0;34m(epocas, f_ativacao, f_custo, pesos, x_treinamento, y_treinamento, x_teste, y_teste, tx_aprendizado)\u001b[0m\n\u001b[1;32m     12\u001b[0m         \u001b[0;31m# x_treinamento = x_treinamento.sample(frac=1).reset_index(drop=True) # embaralhar os valores dos previsores, por que sem isso, podemos ter sempre uma ordem fixa de ajuste de pesos, prejudicando a rede\u001b[0m\u001b[0;34m\u001b[0m\u001b[0;34m\u001b[0m\u001b[0;34m\u001b[0m\u001b[0m\n\u001b[1;32m     13\u001b[0m \u001b[0;34m\u001b[0m\u001b[0m\n\u001b[0;32m---> 14\u001b[0;31m         \u001b[0;32mfor\u001b[0m \u001b[0mi\u001b[0m \u001b[0;32min\u001b[0m \u001b[0mx_treinamento\u001b[0m\u001b[0;34m.\u001b[0m\u001b[0mvalues\u001b[0m\u001b[0;34m:\u001b[0m \u001b[0;31m# percorre cada registro individualmente\u001b[0m\u001b[0;34m\u001b[0m\u001b[0;34m\u001b[0m\u001b[0m\n\u001b[0m\u001b[1;32m     15\u001b[0m             \u001b[0mentradas\u001b[0m \u001b[0;34m=\u001b[0m \u001b[0mi\u001b[0m\u001b[0;34m\u001b[0m\u001b[0;34m\u001b[0m\u001b[0m\n\u001b[1;32m     16\u001b[0m             \u001b[0msoma\u001b[0m \u001b[0;34m=\u001b[0m \u001b[0msomatoria\u001b[0m\u001b[0;34m(\u001b[0m\u001b[0mentradas\u001b[0m\u001b[0;34m,\u001b[0m \u001b[0mpesos\u001b[0m\u001b[0;34m)\u001b[0m\u001b[0;34m\u001b[0m\u001b[0;34m\u001b[0m\u001b[0m\n",
      "\u001b[0;31mKeyboardInterrupt\u001b[0m: "
     ]
    }
   ],
   "source": [
    "executar_perceptron(funcao_ativacao_sigmoid, funcao_custo_mse, 300, [-0.005, 0.005])\n",
    "executar_perceptron(funcao_ativacao_sigmoid, funcao_custo_rmse, 300, [-0.005, 0.005])"
   ]
  },
  {
   "cell_type": "markdown",
   "metadata": {},
   "source": [
    "As duas funções de custo se saíram bem na busca dos resultados, posteriormente será testado qual consegue um desempenho médio melhor."
   ]
  },
  {
   "cell_type": "markdown",
   "metadata": {},
   "source": [
    "## Problema do gradiente explodindo ou desaparecendo\n",
    "Um problema enfrentado foi o dos pesos explodindo ou sumindo. No primeiro caso, o valor dos pesos aumentava de forma exponencial, chegando a valores próximos dos 2000 mil por conexão sináptica. Isso gerou uma deteorização na precisão, fazendo com que os valores iniciais da rede sejam sempre os mais altos.\n",
    "\n",
    "Já no gradiente sumindo, o problema foi uma taxa de aprendizado e um conjunto de pesos muito pequeno, fazendo com que a rede se mantenha uma linha reta, incapaz de aprender nada.\n",
    "\n",
    "Para resolver esse problema foram feitos vários testes de diferentes pesos e taxas de aprendizado a fim de conseguir chegar a um meio termo, pois esses dois parâmetros são os principais responsáveis por fazer que isso ocorra."
   ]
  },
  {
   "cell_type": "markdown",
   "metadata": {},
   "source": [
    "# Atualização dos pesos por época\n",
    "As redes neurais multicamadas geralmente atualizam os pesos da rede após passar todos os registros pela rede, ou pelo menos uma parte dos registros (batch). A atualização por época possui como vantagem um tempo de processamento menor, pois executa todo o processo na rede de uma vez só, sem precisar passar registro por registro, menos sensibilidade à dados ruidosos, pois generaliza os resultados de toda a rede e também um código de implementação mais simples (com menos linhas).\n",
    "Todavia também possui algumas desvantagens, como maior uso de memória, pois precisa carregar todos os registros, o que pode ser impossível quando se trabalha com uma massa maior de dados além de que essa generalização dos resultados do *dataset* pode acabar levando à convergência a um ótimo local.\n",
    "\n",
    "Pensando nisso, foi implementado uma versão que trabalha por épocas da rede perceptron para testar seu comportamento nos problemas aqui trabalhados. Foram necessárias algumas mudanças nos métodos já apresentados anteriormente.\n",
    "\n",
    "Primeiro, os valores de classe e previsores foram reiniciados."
   ]
  },
  {
   "cell_type": "code",
   "execution_count": null,
   "metadata": {},
   "outputs": [],
   "source": [
    "previsores = dataframe.iloc[:, 0:4] \n",
    "previsores = previsores.apply(lambda row: normalizacao_z_score(row))\n",
    "previsores['bias'] = 1\n",
    "classe = dataframe['class']\n",
    "classe = classe.apply(lambda row: transformar_categorico_em_numerico(row, dict_classes))"
   ]
  },
  {
   "cell_type": "markdown",
   "metadata": {},
   "source": [
    "Isso é necessário pois a classe foi codificada em um novo formato de matriz ao invés de array, para trabalhar com as operações matemáticas de uma vez só em todos os registros. Para isso, foram feitas alterações no método de *codificar_classe*. "
   ]
  },
  {
   "cell_type": "code",
   "execution_count": null,
   "metadata": {},
   "outputs": [],
   "source": [
    "def codificar_classe_epoca():\n",
    "    classe_codificada = {}\n",
    "    \n",
    "    array_classe = np.array([[1]  + ([0] * (len(classe.unique()) - 1)) ]) # estrutura de matriz\n",
    "        \n",
    "    count = 1\n",
    "    classe_codificada[0] = array_classe.copy()\n",
    "\n",
    "    for i in range(len(classe.unique()) - 1):\n",
    "        array_classe[0][count - 1] = 0\n",
    "        array_classe[0][count] = 1  \n",
    "        classe_codificada[count] = array_classe.copy()\n",
    "        count += 1\n",
    "    \n",
    "    return classe_codificada"
   ]
  },
  {
   "cell_type": "markdown",
   "metadata": {},
   "source": [
    "Uma vez criado a estrutura de classe por matriz, criamos a variável *classe_nova* que vai transformar todas as classes do problema no formato de matriz."
   ]
  },
  {
   "cell_type": "code",
   "execution_count": null,
   "metadata": {},
   "outputs": [],
   "source": [
    "classe_codificada = codificar_classe_epoca()\n",
    "classe_nova = []\n",
    "\n",
    "for i in classe: # percorre as classes do dataframe\n",
    "    classe_nova.append(classe_codificada[i])\n",
    "    \n",
    "classe_nova = np.array(classe_nova).reshape(len(classe), 3) # redimensiona para criar a matriz\n",
    "print(classe_nova.shape)"
   ]
  },
  {
   "cell_type": "markdown",
   "metadata": {},
   "source": [
    "A classe agora, ao invés de um array [0,1,0] é uma matriz com três colunas, uma para cada posição do array, como podemos ver no *print* do método *shape*, nos indicando as 150 linhas (registros) e três colunas (quantidade de classes).\n",
    "\n",
    "Foi feito uma pequena modificação no método *dividir_dataframe*, porém não foi criado um novo método, apenas utilizamos um parâmetro adicional nesse caso.\n",
    "\n",
    "A função sigmoid também recebe algumas modificações de sintax, pois ao invés de pegar o valor máximo de apenas um array e excitá-lo, o processo é feito de uma vez só no conjunto inteiro. "
   ]
  },
  {
   "cell_type": "code",
   "execution_count": 156,
   "metadata": {},
   "outputs": [],
   "source": [
    "def funcao_ativacao_sigmoid_epoca(soma):\n",
    "    valor_ativacao = 1 / (1 + math.e ** -soma)\n",
    "    index_excitacao = np.argmax(valor_ativacao, 1) \n",
    "    \n",
    "    count = 0\n",
    "    neuronios_excitado = valor_ativacao.copy()\n",
    "\n",
    "    for i in index_excitacao:\n",
    "        neuronios_excitado[count] = 0\n",
    "        neuronios_excitado[count][i] = 1\n",
    "        count += 1\n",
    "        \n",
    "    return neuronios_excitado, valor_ativacao"
   ]
  },
  {
   "cell_type": "markdown",
   "metadata": {},
   "source": [
    "A função de custo utilizada foi a de Mean Squared Error, pois mostrou um bom desempenho nos testes. Foram feitas algumas pequenas adaptações para trabalhar com a operação matemática em todos os registros, mas a principal diferença é que na atualização por época, ao invés de contabilizar a precisão incrementalmente, ela é calculada de uma vez só, baseado no número de acertos em todos os registros."
   ]
  },
  {
   "cell_type": "code",
   "execution_count": 157,
   "metadata": {},
   "outputs": [],
   "source": [
    "def funcao_custo_mse_epoca(valor_correto, valor_previsto, valor_ativacao):\n",
    "    erro = list(abs(np.array(valor_correto) - np.array(valor_previsto)))\n",
    "    valor_erro = list(abs(np.array(valor_correto) - np.array(valor_ativacao)))\n",
    "\n",
    "    acerto = 0\n",
    "    for i in erro:\n",
    "        if sum(i) == 0: # verifica se o registro está correto, ou seja, soma de erro é igual a 0.\n",
    "            acerto += 1 # incrementa um no acerto\n",
    "\n",
    "    erro_quadratico = list(map(lambda x: x**2, valor_erro))\n",
    "    erro_quadratico_medio = sum(erro_quadratico) / len(valor_correto)\n",
    "\n",
    "    return sum(erro), acerto, sum(erro_quadratico_medio)"
   ]
  },
  {
   "cell_type": "markdown",
   "metadata": {},
   "source": [
    "A atualização dos pesos é a soma do valor atual do peso com o produto da multiplicação entre taxa de aprendizado, entrada e erro. Nesse caso, como trabalhamos com todas as entradas de uma vez só, é feito a média desse produto.\n",
    "\n",
    "Essa média é a responsável por fazer a generalização de todas as entradas em um valor que será adicionado ao novo peso, sendo uma vantagem e ao mesmo tempo desvantagem dessa abordagem, como já foi discutido"
   ]
  },
  {
   "cell_type": "code",
   "execution_count": 158,
   "metadata": {},
   "outputs": [],
   "source": [
    "def atualizar_peso_epoca(entrada, peso, erro, tx_aprendizado):\n",
    "    novo_peso = peso + np.mean((tx_aprendizado * entrada * erro))\n",
    "    return novo_peso"
   ]
  },
  {
   "cell_type": "markdown",
   "metadata": {},
   "source": [
    "O método de testar fica mais simplificado, pois não precisa de loops em cada registro, além de já obter os acertos na própria função de ativação"
   ]
  },
  {
   "cell_type": "code",
   "execution_count": 159,
   "metadata": {},
   "outputs": [],
   "source": [
    "def testar_epoca(pesos, x_previsores, y_classe, f_ativacao, f_custo):\n",
    "    entradas = x_previsores.values  \n",
    "    soma = somatoria(entradas, pesos)\n",
    "    \n",
    "    neuronio_excitado, valor_ativacao = f_ativacao(soma)\n",
    "    \n",
    "    erro, acertos, valor_erro = f_custo(y_classe, neuronio_excitado, valor_ativacao)\n",
    "       \n",
    "    return acertos / len(x_previsores)"
   ]
  },
  {
   "cell_type": "markdown",
   "metadata": {},
   "source": [
    "Assim como o teste, o treinamento acaba ficando mais simples, lidando com todos os dados de uma vez só"
   ]
  },
  {
   "cell_type": "code",
   "execution_count": 160,
   "metadata": {},
   "outputs": [],
   "source": [
    "def treinar_epoca(epocas, f_ativacao, f_custo, pesos, x_treinamento, y_treinamento,\n",
    "                                     x_teste, y_teste, tx_aprendizado):\n",
    "    execucoes = 0\n",
    "    precisoes_treinamento = []\n",
    "    precisoes_teste = []\n",
    "    melhores_pesos = []\n",
    "    \n",
    "    while execucoes < epocas:\n",
    "\n",
    "        entradas = x_treinamento.values   \n",
    "        soma = somatoria(entradas, pesos)\n",
    "    \n",
    "        neuronio_excitado, valor_ativacao = f_ativacao(soma)\n",
    "    \n",
    "        erro, acertos, valor_erro = f_custo(y_treinamento, neuronio_excitado, valor_ativacao)\n",
    "    \n",
    "        count = 0\n",
    "        precisoes_treinamento.append(acertos / len(x_treinamento))    \n",
    "        melhores_pesos = pesos.copy() if precisoes_treinamento[execucoes] >= max(precisoes_treinamento) else melhores_pesos\n",
    "\n",
    "        for i in range(entradas.shape[1]): # o for tem que atualizar cada peso da camada\n",
    "            if i == 4:\n",
    "                novo_peso = atualizar_bias(entradas[:, i], pesos[i], valor_erro, tx_aprendizado)\n",
    "            else:\n",
    "                novo_peso = atualizar_peso_epoca(entradas[:, i], pesos[i], valor_erro, tx_aprendizado)\n",
    "            pesos[count] = novo_peso\n",
    "            count += 1\n",
    "        \n",
    "        precisoes_teste.append(testar_epoca(pesos, x_teste, y_teste, f_ativacao, f_custo))\n",
    "        execucoes += 1\n",
    "    \n",
    "    return precisoes_treinamento, precisoes_teste, melhores_pesos"
   ]
  },
  {
   "cell_type": "markdown",
   "metadata": {},
   "source": [
    "O novo método de executar perceptron vai ser muito parecido com o anterior, porém irá chamar todos os novos métodos que foram criados e executar a rede por épocas."
   ]
  },
  {
   "cell_type": "code",
   "execution_count": 177,
   "metadata": {},
   "outputs": [],
   "source": [
    "def executar_perceptron_epoca(funcao_ativacao, funcao_custo, epocas, dominio_pesos = [0, 1], \n",
    "                        tx_aprendizado = 0.1, mostrar_resultados = True):\n",
    "\n",
    "    convergencia_treinamento = [0]\n",
    "    convergencia_teste = [0]\n",
    "    precisao_treinamento = []\n",
    "    precisao_teste = []\n",
    "    resultado_final = []\n",
    "    start_time = time.time()\n",
    "\n",
    "    for i in range(30):\n",
    "        pesos = inicializar_pesos(dominio_pesos) # Alterando os pesos em cada inicialização\n",
    "        x_treinamento, y_treinamento, x_teste, y_teste, x_validacao, y_validacao = dividir_dataframe(previsores, classe_nova, 0.7, 0.15, 0.15, True)\n",
    "\n",
    "        treinamento = treinar_epoca(epocas, funcao_ativacao, funcao_custo, pesos, x_treinamento, y_treinamento, x_teste, y_teste, tx_aprendizado)\n",
    "                                     \n",
    "        convergencia_treinamento = treinamento[0] if max(treinamento[0]) >= \\\n",
    "                                max(convergencia_treinamento) else convergencia_treinamento\n",
    "        convergencia_teste = treinamento[1] if max(treinamento[1]) >= max(convergencia_teste) \\\n",
    "                                        else convergencia_teste\n",
    "        \n",
    "        precisao_treinamento.append(max(treinamento[0]))\n",
    "        precisao_teste.append(max(treinamento[1]))\n",
    "        resultado_final.append(testar_epoca(treinamento[2], x_validacao, y_validacao, \n",
    "                                      funcao_ativacao, funcao_custo))\n",
    "\n",
    "    if mostrar_resultados == True:\n",
    "        plotar_convergencia(convergencia_treinamento, convergencia_teste)   \n",
    "        exibir_resultados(precisao_treinamento, precisao_teste, resultado_final)\n",
    "        print(\"Tempo de execução: %s Segundos\" % (time.time() - start_time))\n",
    "        \n",
    "    return max(precisao_treinamento), max(precisao_teste), max(resultado_final)"
   ]
  },
  {
   "cell_type": "code",
   "execution_count": null,
   "metadata": {
    "scrolled": true
   },
   "outputs": [],
   "source": [
    "executar_perceptron_epoca(funcao_ativacao_sigmoid_epoca, funcao_custo_mse_epoca, 400, [-0.0005, 0.0005])"
   ]
  },
  {
   "cell_type": "markdown",
   "metadata": {},
   "source": [
    "## Resultados do treinamento por época\n",
    "Os resultados de precisão foram bons, chegando em torno dos 90% no teste da rede neural. \n",
    "Nesse caso, os resultados não foram tão diferentes do que executar o perceptron e atualizar os pesos por registro individual, mas aqui valem dois pontos de atenção. O primeiro é que a base de dados da iris não é de um problema muito complexo, além de ter uma quantidade pequena e separável de atributos, portanto atualizar olhando para atributos individualmente ou para todos os atributos de uma vez não fez tanta diferença. O segundo é que, como esperado, a execução do algoritmo por épocas conseguiu se sair até 6 vezes mais rápido do que o anterior, levando menos de 20 segundos para finalizar todas as execuções. Essa velocidade de processamento no possibilita testar uma combinação maior de hiperparâmetros, favorecendo a otimização da rede neural."
   ]
  },
  {
   "cell_type": "markdown",
   "metadata": {},
   "source": [
    "# Encontrando os melhores parâmetros\n",
    "Existem algumas formas de encontrar os melhores resultados que um determinado algoritmo pode proporcionar. Uma delas é pelo teste exaustivo de parâmetros, onde são testados todas as combinações de parâmetros a fim de encontrar os melhores resultados.\n",
    "\n",
    "Algoritmos como as redes neurais que possuem um quantidade maior de parâmetros se beneficiam desse tipo de abordagem, todavia o tempo de execução para esses testes muitas das vezes acaba sendo alto.\n",
    "\n",
    "Para isso, foi criado o método *buscar_parametros*, que recebe um dicionário com uma lista de parâmetros, e cria uma lista com todos os parâmetros combinados.\n",
    "\n",
    "Após isso, cada elemento da lista é executado, representando uma diferente possibilidade de combinação de parâmetros. Essa combinação é executada por 30 vezes no método *executar_perceptron*.\n",
    "\n",
    "Ao final de todas as iterações, vamos ter os resultados finais obtidos bem como os melhores parâmetros para o algoritmo."
   ]
  },
  {
   "cell_type": "code",
   "execution_count": 181,
   "metadata": {},
   "outputs": [],
   "source": [
    "def buscar_parametros(lista_parametros, executar):\n",
    "    # cria uma única lista com todos os parâmetros\n",
    "    parametros = [lista_parametros['custo'],\n",
    "    lista_parametros['tx_aprendizado'], lista_parametros['pesos']]\n",
    "    \n",
    "    # Combinação de cada um desses parâmetros\n",
    "    combinacao_parametros = list(itertools.product(*parametros))\n",
    "\n",
    "    melhores_parametros = []\n",
    "    melhor_precisao_teste = 0\n",
    "    melhor_precisao_treinamento = 0\n",
    "    melhor_precisao_validacao = 0\n",
    "    # nesse for os parâmetros são testados\n",
    "    for i in combinacao_parametros:\n",
    "        precisao_treinamento, precisao_teste, resultado_final = executar(funcao_ativacao_sigmoid_epoca, i[0], 400, [-i[2], i[2]], i[1], False)\n",
    "        # pegando os melhores resultados\n",
    "        if resultado_final >= melhor_precisao_validacao:\n",
    "            melhor_precisao_teste = precisao_teste\n",
    "            melhor_precisao_treinamento = precisao_treinamento\n",
    "            melhor_precisao_validacao = resultado_final\n",
    "            melhores_parametros = i\n",
    "\n",
    "    return melhores_parametros, melhor_precisao_teste, melhor_precisao_treinamento, melhor_precisao_validacao"
   ]
  },
  {
   "cell_type": "code",
   "execution_count": null,
   "metadata": {},
   "outputs": [],
   "source": [
    "lista_parametros_epoca = { 'custo' : [funcao_custo, funcao_custo_mse],\n",
    "                      'tx_aprendizado': [0.1, 0.01, 0.0001],\n",
    "                      'pesos': [0.5, 0.05, 0.005, 0.0005]\n",
    "}\n",
    "\n",
    "teste_parametrico = buscar_parametros(lista_parametros_epoca, executar_perceptron_epoca)\n",
    "print('Melhores parâmetros', teste_parametrico[0])\n",
    "print('Melhor precisão teste', teste_parametrico[1])\n",
    "print('Melhor precisão treinamento', teste_parametrico[2])\n",
    "print('Melhor precisão validação', teste_parametrico[3])"
   ]
  },
  {
   "cell_type": "markdown",
   "metadata": {},
   "source": [
    "É possível observar que o método de busca de parâmetros consegue automatizar o processo de encontrar os melhores parâmetros ao custo de um tempo de processamento maior. A busca foi feita apenas no algoritmo de atualização por época, por que na versão anterior de atualização de pesos por registros, levou mais de duas horas e ainda assim a busca não havia terminado, portanto foi interrompida. Na prática, a busca por melhores parâmetros pode levar dezenas de horas, porém é sempre interessante fazer testes manuais para reduzir a quantidade de combinações de parâmetros, para reduzir esse tempo. "
   ]
  },
  {
   "cell_type": "markdown",
   "metadata": {},
   "source": [
    "# Qual o problema?\n",
    "Utilizar a base de dados de vinhos contidos aqui: http://archive.ics.uci.edu/ml/datasets/Wine para prever qual o tipo de vinho (1, 2 ou 3) baseado nas suas características.\n",
    "\n",
    "O arquivo em questão não possuia colunas, assim como no conjunto da iris, portanto eu modifiquei o mesmo para adicionar o nome das colunas na primeira linha e deixá-lo no formato .CSV ao invés do .DATA."
   ]
  },
  {
   "cell_type": "markdown",
   "metadata": {},
   "source": [
    "## Anásile exploratória dos dados\n",
    "Conhecendo um pouco mais dos dados da base de dados."
   ]
  },
  {
   "cell_type": "code",
   "execution_count": null,
   "metadata": {
    "scrolled": true
   },
   "outputs": [],
   "source": [
    "dataframe = pd.read_csv('/home/alvaro/Documentos/mestrado/computação bio/redes neurais/datasets/wine.csv', header = 0)\n",
    "dataframe.head()"
   ]
  },
  {
   "cell_type": "code",
   "execution_count": null,
   "metadata": {
    "scrolled": false
   },
   "outputs": [],
   "source": [
    "print('Valores nulos:')\n",
    "print(dataframe.isna().sum())\n",
    "dataframe.describe()"
   ]
  },
  {
   "cell_type": "markdown",
   "metadata": {},
   "source": [
    "Nesse *dataset* todos os atributos são contínuos, inclusive a classe. Podemos notar que não existe nenhum valor vazio bem como aparentemente nenhum outlier/ruído."
   ]
  },
  {
   "cell_type": "markdown",
   "metadata": {},
   "source": [
    "## Normalização dos dados \n",
    "Assim como no problema da iris, esse dataset também precisa ser normalizando, ainda mais por conter uma quantidade maior de atributos previsores contínuos."
   ]
  },
  {
   "cell_type": "code",
   "execution_count": null,
   "metadata": {},
   "outputs": [],
   "source": [
    "previsores = dataframe.iloc[:, 1:14] \n",
    "classe = dataframe['Wine']"
   ]
  },
  {
   "cell_type": "code",
   "execution_count": null,
   "metadata": {
    "scrolled": true
   },
   "outputs": [],
   "source": [
    "previsores = previsores.apply(lambda row: normalizacao_z_score(row))\n",
    "previsores.head()"
   ]
  },
  {
   "cell_type": "markdown",
   "metadata": {},
   "source": [
    "A classe do tipo de vinho é distribuída em 1, 2 e 3, todavia para que meu método de codificar funcione ele precisa começar em 0, por isso, a classe de vinho foi submetida ao método de *transformar_categorico_em_numerico*, que vai transformá-la na sequência de 0, 1 e 2."
   ]
  },
  {
   "cell_type": "code",
   "execution_count": null,
   "metadata": {},
   "outputs": [],
   "source": [
    "dict_classes = get_dicionario_classes(classe)\n",
    "classe = classe.apply(lambda row: transformar_categorico_em_numerico(row, dict_classes))\n",
    "classe.value_counts()"
   ]
  },
  {
   "cell_type": "markdown",
   "metadata": {},
   "source": [
    "Agora a classe vai ser codificada em uma array assim como aconteceu com a iris, pois temos novamente um problema do tipo multi-classe."
   ]
  },
  {
   "cell_type": "code",
   "execution_count": null,
   "metadata": {
    "scrolled": true
   },
   "outputs": [],
   "source": [
    "classe_codificada = codificar_classe()\n",
    "classe = classe.apply(lambda row: substituir_classe_codificada(row, classe_codificada))\n",
    "classe.head()"
   ]
  },
  {
   "cell_type": "markdown",
   "metadata": {},
   "source": [
    "Agora basta adicionar o neurônio na camada de entrada para ser o bias e executar o perceptron novamente para conferir os resultados da rede."
   ]
  },
  {
   "cell_type": "code",
   "execution_count": null,
   "metadata": {},
   "outputs": [],
   "source": [
    "previsores['bias'] = 1"
   ]
  },
  {
   "cell_type": "code",
   "execution_count": null,
   "metadata": {
    "scrolled": false
   },
   "outputs": [],
   "source": [
    "executar_perceptron(funcao_ativacao_sigmoid, funcao_custo_mse, 350, [-0.005, 0.005])"
   ]
  },
  {
   "cell_type": "markdown",
   "metadata": {},
   "source": [
    "Agora o processo de leitura dos dados e pré-processamento deve ser repetido, porém agora de maneira um pouco diferente, para adequar os dados à rede perceptron por épocas, assim como foi feito anteriormente no problema das iris"
   ]
  },
  {
   "cell_type": "code",
   "execution_count": null,
   "metadata": {},
   "outputs": [],
   "source": [
    "previsores = dataframe.iloc[:, 1:14] \n",
    "classe = dataframe['Wine']\n",
    "previsores = previsores.apply(lambda row: normalizacao_z_score(row))\n",
    "\n",
    "dict_classes = get_dicionario_classes(classe)\n",
    "classe = classe.apply(lambda row: transformar_categorico_em_numerico(row, dict_classes))\n",
    "classe_codificada = codificar_classe_epoca()\n",
    "\n",
    "classe_nova = []\n",
    "\n",
    "for i in classe:\n",
    "    classe_nova.append(classe_codificada[i])\n",
    "    \n",
    "classe_nova = np.array(classe_nova).reshape(len(classe), 3)\n",
    "\n",
    "previsores['bias'] = 1"
   ]
  },
  {
   "cell_type": "code",
   "execution_count": null,
   "metadata": {
    "scrolled": false
   },
   "outputs": [],
   "source": [
    "executar_perceptron_epoca(funcao_ativacao_sigmoid_epoca, funcao_custo_mse_epoca, 400, [-0.005, 0.005])"
   ]
  },
  {
   "cell_type": "code",
   "execution_count": null,
   "metadata": {},
   "outputs": [],
   "source": [
    "lista_parametros_epoca = { 'custo' : [funcao_custo, funcao_custo_mse],\n",
    "                      'tx_aprendizado': [0.1, 0.01, 0.0001],\n",
    "                      'pesos': [0.5, 0.05, 0.005, 0.0005]\n",
    "}\n",
    "\n",
    "teste_parametrico = buscar_parametros(lista_parametros_epoca, executar_perceptron_epoca)\n",
    "print('Melhores parâmetros', teste_parametrico[0])\n",
    "print('Melhor precisão teste', teste_parametrico[1])\n",
    "print('Melhor precisão treinamento', teste_parametrico[2])\n",
    "print('Melhor precisão validação', teste_parametrico[3])"
   ]
  },
  {
   "cell_type": "markdown",
   "metadata": {},
   "source": [
    "A rede perceptron, ainda que bastante simples, conseguiu resultados interessantes nesse problema considerado mais complexo, devido ao maior número de atributos previsores."
   ]
  },
  {
   "cell_type": "markdown",
   "metadata": {},
   "source": [
    "# Qual o problema?\n",
    "O desafio escolhido no terceiro exercício foi construir uma rede neural multicamadas sem auxilio de bibliotecas prontas.\n",
    "\n",
    "\n",
    "O conjundo de dados usados nesse teste foi o de câncer de mama de Wisconsin, podendo ser encontrado aqui:\n",
    "kaggle.com/uciml/breast-cancer-wisconsin-datadataframe.columns.rename('diagnosis': 'class')"
   ]
  },
  {
   "cell_type": "markdown",
   "metadata": {},
   "source": [
    "# Análise exploratória dos dados\n",
    "Explorando o *dataset* e deixando em um formato correto para ser trabalhado."
   ]
  },
  {
   "cell_type": "code",
   "execution_count": 163,
   "metadata": {
    "scrolled": true
   },
   "outputs": [
    {
     "data": {
      "text/html": [
       "<div>\n",
       "<style scoped>\n",
       "    .dataframe tbody tr th:only-of-type {\n",
       "        vertical-align: middle;\n",
       "    }\n",
       "\n",
       "    .dataframe tbody tr th {\n",
       "        vertical-align: top;\n",
       "    }\n",
       "\n",
       "    .dataframe thead th {\n",
       "        text-align: right;\n",
       "    }\n",
       "</style>\n",
       "<table border=\"1\" class=\"dataframe\">\n",
       "  <thead>\n",
       "    <tr style=\"text-align: right;\">\n",
       "      <th></th>\n",
       "      <th>id</th>\n",
       "      <th>diagnosis</th>\n",
       "      <th>radius_mean</th>\n",
       "      <th>texture_mean</th>\n",
       "      <th>perimeter_mean</th>\n",
       "      <th>area_mean</th>\n",
       "      <th>smoothness_mean</th>\n",
       "      <th>compactness_mean</th>\n",
       "      <th>concavity_mean</th>\n",
       "      <th>concave points_mean</th>\n",
       "      <th>...</th>\n",
       "      <th>texture_worst</th>\n",
       "      <th>perimeter_worst</th>\n",
       "      <th>area_worst</th>\n",
       "      <th>smoothness_worst</th>\n",
       "      <th>compactness_worst</th>\n",
       "      <th>concavity_worst</th>\n",
       "      <th>concave points_worst</th>\n",
       "      <th>symmetry_worst</th>\n",
       "      <th>fractal_dimension_worst</th>\n",
       "      <th>Unnamed: 32</th>\n",
       "    </tr>\n",
       "  </thead>\n",
       "  <tbody>\n",
       "    <tr>\n",
       "      <th>0</th>\n",
       "      <td>842302</td>\n",
       "      <td>M</td>\n",
       "      <td>17.99</td>\n",
       "      <td>10.38</td>\n",
       "      <td>122.80</td>\n",
       "      <td>1001.0</td>\n",
       "      <td>0.11840</td>\n",
       "      <td>0.27760</td>\n",
       "      <td>0.3001</td>\n",
       "      <td>0.14710</td>\n",
       "      <td>...</td>\n",
       "      <td>17.33</td>\n",
       "      <td>184.60</td>\n",
       "      <td>2019.0</td>\n",
       "      <td>0.1622</td>\n",
       "      <td>0.6656</td>\n",
       "      <td>0.7119</td>\n",
       "      <td>0.2654</td>\n",
       "      <td>0.4601</td>\n",
       "      <td>0.11890</td>\n",
       "      <td>NaN</td>\n",
       "    </tr>\n",
       "    <tr>\n",
       "      <th>1</th>\n",
       "      <td>842517</td>\n",
       "      <td>M</td>\n",
       "      <td>20.57</td>\n",
       "      <td>17.77</td>\n",
       "      <td>132.90</td>\n",
       "      <td>1326.0</td>\n",
       "      <td>0.08474</td>\n",
       "      <td>0.07864</td>\n",
       "      <td>0.0869</td>\n",
       "      <td>0.07017</td>\n",
       "      <td>...</td>\n",
       "      <td>23.41</td>\n",
       "      <td>158.80</td>\n",
       "      <td>1956.0</td>\n",
       "      <td>0.1238</td>\n",
       "      <td>0.1866</td>\n",
       "      <td>0.2416</td>\n",
       "      <td>0.1860</td>\n",
       "      <td>0.2750</td>\n",
       "      <td>0.08902</td>\n",
       "      <td>NaN</td>\n",
       "    </tr>\n",
       "    <tr>\n",
       "      <th>2</th>\n",
       "      <td>84300903</td>\n",
       "      <td>M</td>\n",
       "      <td>19.69</td>\n",
       "      <td>21.25</td>\n",
       "      <td>130.00</td>\n",
       "      <td>1203.0</td>\n",
       "      <td>0.10960</td>\n",
       "      <td>0.15990</td>\n",
       "      <td>0.1974</td>\n",
       "      <td>0.12790</td>\n",
       "      <td>...</td>\n",
       "      <td>25.53</td>\n",
       "      <td>152.50</td>\n",
       "      <td>1709.0</td>\n",
       "      <td>0.1444</td>\n",
       "      <td>0.4245</td>\n",
       "      <td>0.4504</td>\n",
       "      <td>0.2430</td>\n",
       "      <td>0.3613</td>\n",
       "      <td>0.08758</td>\n",
       "      <td>NaN</td>\n",
       "    </tr>\n",
       "    <tr>\n",
       "      <th>3</th>\n",
       "      <td>84348301</td>\n",
       "      <td>M</td>\n",
       "      <td>11.42</td>\n",
       "      <td>20.38</td>\n",
       "      <td>77.58</td>\n",
       "      <td>386.1</td>\n",
       "      <td>0.14250</td>\n",
       "      <td>0.28390</td>\n",
       "      <td>0.2414</td>\n",
       "      <td>0.10520</td>\n",
       "      <td>...</td>\n",
       "      <td>26.50</td>\n",
       "      <td>98.87</td>\n",
       "      <td>567.7</td>\n",
       "      <td>0.2098</td>\n",
       "      <td>0.8663</td>\n",
       "      <td>0.6869</td>\n",
       "      <td>0.2575</td>\n",
       "      <td>0.6638</td>\n",
       "      <td>0.17300</td>\n",
       "      <td>NaN</td>\n",
       "    </tr>\n",
       "    <tr>\n",
       "      <th>4</th>\n",
       "      <td>84358402</td>\n",
       "      <td>M</td>\n",
       "      <td>20.29</td>\n",
       "      <td>14.34</td>\n",
       "      <td>135.10</td>\n",
       "      <td>1297.0</td>\n",
       "      <td>0.10030</td>\n",
       "      <td>0.13280</td>\n",
       "      <td>0.1980</td>\n",
       "      <td>0.10430</td>\n",
       "      <td>...</td>\n",
       "      <td>16.67</td>\n",
       "      <td>152.20</td>\n",
       "      <td>1575.0</td>\n",
       "      <td>0.1374</td>\n",
       "      <td>0.2050</td>\n",
       "      <td>0.4000</td>\n",
       "      <td>0.1625</td>\n",
       "      <td>0.2364</td>\n",
       "      <td>0.07678</td>\n",
       "      <td>NaN</td>\n",
       "    </tr>\n",
       "  </tbody>\n",
       "</table>\n",
       "<p>5 rows × 33 columns</p>\n",
       "</div>"
      ],
      "text/plain": [
       "         id diagnosis  radius_mean  texture_mean  perimeter_mean  area_mean  \\\n",
       "0    842302         M        17.99         10.38          122.80     1001.0   \n",
       "1    842517         M        20.57         17.77          132.90     1326.0   \n",
       "2  84300903         M        19.69         21.25          130.00     1203.0   \n",
       "3  84348301         M        11.42         20.38           77.58      386.1   \n",
       "4  84358402         M        20.29         14.34          135.10     1297.0   \n",
       "\n",
       "   smoothness_mean  compactness_mean  concavity_mean  concave points_mean  \\\n",
       "0          0.11840           0.27760          0.3001              0.14710   \n",
       "1          0.08474           0.07864          0.0869              0.07017   \n",
       "2          0.10960           0.15990          0.1974              0.12790   \n",
       "3          0.14250           0.28390          0.2414              0.10520   \n",
       "4          0.10030           0.13280          0.1980              0.10430   \n",
       "\n",
       "      ...       texture_worst  perimeter_worst  area_worst  smoothness_worst  \\\n",
       "0     ...               17.33           184.60      2019.0            0.1622   \n",
       "1     ...               23.41           158.80      1956.0            0.1238   \n",
       "2     ...               25.53           152.50      1709.0            0.1444   \n",
       "3     ...               26.50            98.87       567.7            0.2098   \n",
       "4     ...               16.67           152.20      1575.0            0.1374   \n",
       "\n",
       "   compactness_worst  concavity_worst  concave points_worst  symmetry_worst  \\\n",
       "0             0.6656           0.7119                0.2654          0.4601   \n",
       "1             0.1866           0.2416                0.1860          0.2750   \n",
       "2             0.4245           0.4504                0.2430          0.3613   \n",
       "3             0.8663           0.6869                0.2575          0.6638   \n",
       "4             0.2050           0.4000                0.1625          0.2364   \n",
       "\n",
       "   fractal_dimension_worst  Unnamed: 32  \n",
       "0                  0.11890          NaN  \n",
       "1                  0.08902          NaN  \n",
       "2                  0.08758          NaN  \n",
       "3                  0.17300          NaN  \n",
       "4                  0.07678          NaN  \n",
       "\n",
       "[5 rows x 33 columns]"
      ]
     },
     "execution_count": 163,
     "metadata": {},
     "output_type": "execute_result"
    }
   ],
   "source": [
    "dataframe = pd.read_csv('/home/alvaro/Documentos/mestrado/computação bio/redes neurais/datasets/breast_cancer.csv', header = 0)\n",
    "dataframe.head()"
   ]
  },
  {
   "cell_type": "markdown",
   "metadata": {},
   "source": [
    "O dataframe é composto basicamente de variáveis contínuas, com exceção da classe que é composta das iniciais M e B, para câncer de mama malígno e benigno respectivamente.\n",
    "\n",
    "Diferente de outros trabalhos parecidos onde a ideia é utilizar imagens, aqui são utilizados informações do tumor que foi extraído para tentar determinar seu tipo.\n",
    "\n",
    "Os pré-processamentos iniciais envolvem remover a última coluna que se encontra vazia, bem como a coluna de \"id\", que não agrega em nada para nosso problema. Além disso, também foi feita a divisão nas variáveis de previsores e de classe."
   ]
  },
  {
   "cell_type": "code",
   "execution_count": 164,
   "metadata": {},
   "outputs": [],
   "source": [
    "dataframe = dataframe.drop(columns = 'id')\n",
    "dataframe = dataframe.iloc[:, 0:31] \n",
    "\n",
    "previsores = dataframe.iloc[:, 1:31] \n",
    "classe = dataframe['diagnosis']"
   ]
  },
  {
   "cell_type": "code",
   "execution_count": 101,
   "metadata": {},
   "outputs": [
    {
     "name": "stdout",
     "output_type": "stream",
     "text": [
      "diagnosis                  0\n",
      "radius_mean                0\n",
      "texture_mean               0\n",
      "perimeter_mean             0\n",
      "area_mean                  0\n",
      "smoothness_mean            0\n",
      "compactness_mean           0\n",
      "concavity_mean             0\n",
      "concave points_mean        0\n",
      "symmetry_mean              0\n",
      "fractal_dimension_mean     0\n",
      "radius_se                  0\n",
      "texture_se                 0\n",
      "perimeter_se               0\n",
      "area_se                    0\n",
      "smoothness_se              0\n",
      "compactness_se             0\n",
      "concavity_se               0\n",
      "concave points_se          0\n",
      "symmetry_se                0\n",
      "fractal_dimension_se       0\n",
      "radius_worst               0\n",
      "texture_worst              0\n",
      "perimeter_worst            0\n",
      "area_worst                 0\n",
      "smoothness_worst           0\n",
      "compactness_worst          0\n",
      "concavity_worst            0\n",
      "concave points_worst       0\n",
      "symmetry_worst             0\n",
      "fractal_dimension_worst    0\n",
      "dtype: int64\n"
     ]
    }
   ],
   "source": [
    "print(dataframe.isna().sum())"
   ]
  },
  {
   "cell_type": "code",
   "execution_count": 9,
   "metadata": {},
   "outputs": [
    {
     "data": {
      "text/html": [
       "<div>\n",
       "<style scoped>\n",
       "    .dataframe tbody tr th:only-of-type {\n",
       "        vertical-align: middle;\n",
       "    }\n",
       "\n",
       "    .dataframe tbody tr th {\n",
       "        vertical-align: top;\n",
       "    }\n",
       "\n",
       "    .dataframe thead th {\n",
       "        text-align: right;\n",
       "    }\n",
       "</style>\n",
       "<table border=\"1\" class=\"dataframe\">\n",
       "  <thead>\n",
       "    <tr style=\"text-align: right;\">\n",
       "      <th></th>\n",
       "      <th>radius_mean</th>\n",
       "      <th>texture_mean</th>\n",
       "      <th>perimeter_mean</th>\n",
       "      <th>area_mean</th>\n",
       "      <th>smoothness_mean</th>\n",
       "      <th>compactness_mean</th>\n",
       "      <th>concavity_mean</th>\n",
       "      <th>concave points_mean</th>\n",
       "      <th>symmetry_mean</th>\n",
       "      <th>fractal_dimension_mean</th>\n",
       "      <th>...</th>\n",
       "      <th>radius_worst</th>\n",
       "      <th>texture_worst</th>\n",
       "      <th>perimeter_worst</th>\n",
       "      <th>area_worst</th>\n",
       "      <th>smoothness_worst</th>\n",
       "      <th>compactness_worst</th>\n",
       "      <th>concavity_worst</th>\n",
       "      <th>concave points_worst</th>\n",
       "      <th>symmetry_worst</th>\n",
       "      <th>fractal_dimension_worst</th>\n",
       "    </tr>\n",
       "  </thead>\n",
       "  <tbody>\n",
       "    <tr>\n",
       "      <th>count</th>\n",
       "      <td>569.000000</td>\n",
       "      <td>569.000000</td>\n",
       "      <td>569.000000</td>\n",
       "      <td>569.000000</td>\n",
       "      <td>569.000000</td>\n",
       "      <td>569.000000</td>\n",
       "      <td>569.000000</td>\n",
       "      <td>569.000000</td>\n",
       "      <td>569.000000</td>\n",
       "      <td>569.000000</td>\n",
       "      <td>...</td>\n",
       "      <td>569.000000</td>\n",
       "      <td>569.000000</td>\n",
       "      <td>569.000000</td>\n",
       "      <td>569.000000</td>\n",
       "      <td>569.000000</td>\n",
       "      <td>569.000000</td>\n",
       "      <td>569.000000</td>\n",
       "      <td>569.000000</td>\n",
       "      <td>569.000000</td>\n",
       "      <td>569.000000</td>\n",
       "    </tr>\n",
       "    <tr>\n",
       "      <th>mean</th>\n",
       "      <td>14.127292</td>\n",
       "      <td>19.289649</td>\n",
       "      <td>91.969033</td>\n",
       "      <td>654.889104</td>\n",
       "      <td>0.096360</td>\n",
       "      <td>0.104341</td>\n",
       "      <td>0.088799</td>\n",
       "      <td>0.048919</td>\n",
       "      <td>0.181162</td>\n",
       "      <td>0.062798</td>\n",
       "      <td>...</td>\n",
       "      <td>16.269190</td>\n",
       "      <td>25.677223</td>\n",
       "      <td>107.261213</td>\n",
       "      <td>880.583128</td>\n",
       "      <td>0.132369</td>\n",
       "      <td>0.254265</td>\n",
       "      <td>0.272188</td>\n",
       "      <td>0.114606</td>\n",
       "      <td>0.290076</td>\n",
       "      <td>0.083946</td>\n",
       "    </tr>\n",
       "    <tr>\n",
       "      <th>std</th>\n",
       "      <td>3.524049</td>\n",
       "      <td>4.301036</td>\n",
       "      <td>24.298981</td>\n",
       "      <td>351.914129</td>\n",
       "      <td>0.014064</td>\n",
       "      <td>0.052813</td>\n",
       "      <td>0.079720</td>\n",
       "      <td>0.038803</td>\n",
       "      <td>0.027414</td>\n",
       "      <td>0.007060</td>\n",
       "      <td>...</td>\n",
       "      <td>4.833242</td>\n",
       "      <td>6.146258</td>\n",
       "      <td>33.602542</td>\n",
       "      <td>569.356993</td>\n",
       "      <td>0.022832</td>\n",
       "      <td>0.157336</td>\n",
       "      <td>0.208624</td>\n",
       "      <td>0.065732</td>\n",
       "      <td>0.061867</td>\n",
       "      <td>0.018061</td>\n",
       "    </tr>\n",
       "    <tr>\n",
       "      <th>min</th>\n",
       "      <td>6.981000</td>\n",
       "      <td>9.710000</td>\n",
       "      <td>43.790000</td>\n",
       "      <td>143.500000</td>\n",
       "      <td>0.052630</td>\n",
       "      <td>0.019380</td>\n",
       "      <td>0.000000</td>\n",
       "      <td>0.000000</td>\n",
       "      <td>0.106000</td>\n",
       "      <td>0.049960</td>\n",
       "      <td>...</td>\n",
       "      <td>7.930000</td>\n",
       "      <td>12.020000</td>\n",
       "      <td>50.410000</td>\n",
       "      <td>185.200000</td>\n",
       "      <td>0.071170</td>\n",
       "      <td>0.027290</td>\n",
       "      <td>0.000000</td>\n",
       "      <td>0.000000</td>\n",
       "      <td>0.156500</td>\n",
       "      <td>0.055040</td>\n",
       "    </tr>\n",
       "    <tr>\n",
       "      <th>25%</th>\n",
       "      <td>11.700000</td>\n",
       "      <td>16.170000</td>\n",
       "      <td>75.170000</td>\n",
       "      <td>420.300000</td>\n",
       "      <td>0.086370</td>\n",
       "      <td>0.064920</td>\n",
       "      <td>0.029560</td>\n",
       "      <td>0.020310</td>\n",
       "      <td>0.161900</td>\n",
       "      <td>0.057700</td>\n",
       "      <td>...</td>\n",
       "      <td>13.010000</td>\n",
       "      <td>21.080000</td>\n",
       "      <td>84.110000</td>\n",
       "      <td>515.300000</td>\n",
       "      <td>0.116600</td>\n",
       "      <td>0.147200</td>\n",
       "      <td>0.114500</td>\n",
       "      <td>0.064930</td>\n",
       "      <td>0.250400</td>\n",
       "      <td>0.071460</td>\n",
       "    </tr>\n",
       "    <tr>\n",
       "      <th>50%</th>\n",
       "      <td>13.370000</td>\n",
       "      <td>18.840000</td>\n",
       "      <td>86.240000</td>\n",
       "      <td>551.100000</td>\n",
       "      <td>0.095870</td>\n",
       "      <td>0.092630</td>\n",
       "      <td>0.061540</td>\n",
       "      <td>0.033500</td>\n",
       "      <td>0.179200</td>\n",
       "      <td>0.061540</td>\n",
       "      <td>...</td>\n",
       "      <td>14.970000</td>\n",
       "      <td>25.410000</td>\n",
       "      <td>97.660000</td>\n",
       "      <td>686.500000</td>\n",
       "      <td>0.131300</td>\n",
       "      <td>0.211900</td>\n",
       "      <td>0.226700</td>\n",
       "      <td>0.099930</td>\n",
       "      <td>0.282200</td>\n",
       "      <td>0.080040</td>\n",
       "    </tr>\n",
       "    <tr>\n",
       "      <th>75%</th>\n",
       "      <td>15.780000</td>\n",
       "      <td>21.800000</td>\n",
       "      <td>104.100000</td>\n",
       "      <td>782.700000</td>\n",
       "      <td>0.105300</td>\n",
       "      <td>0.130400</td>\n",
       "      <td>0.130700</td>\n",
       "      <td>0.074000</td>\n",
       "      <td>0.195700</td>\n",
       "      <td>0.066120</td>\n",
       "      <td>...</td>\n",
       "      <td>18.790000</td>\n",
       "      <td>29.720000</td>\n",
       "      <td>125.400000</td>\n",
       "      <td>1084.000000</td>\n",
       "      <td>0.146000</td>\n",
       "      <td>0.339100</td>\n",
       "      <td>0.382900</td>\n",
       "      <td>0.161400</td>\n",
       "      <td>0.317900</td>\n",
       "      <td>0.092080</td>\n",
       "    </tr>\n",
       "    <tr>\n",
       "      <th>max</th>\n",
       "      <td>28.110000</td>\n",
       "      <td>39.280000</td>\n",
       "      <td>188.500000</td>\n",
       "      <td>2501.000000</td>\n",
       "      <td>0.163400</td>\n",
       "      <td>0.345400</td>\n",
       "      <td>0.426800</td>\n",
       "      <td>0.201200</td>\n",
       "      <td>0.304000</td>\n",
       "      <td>0.097440</td>\n",
       "      <td>...</td>\n",
       "      <td>36.040000</td>\n",
       "      <td>49.540000</td>\n",
       "      <td>251.200000</td>\n",
       "      <td>4254.000000</td>\n",
       "      <td>0.222600</td>\n",
       "      <td>1.058000</td>\n",
       "      <td>1.252000</td>\n",
       "      <td>0.291000</td>\n",
       "      <td>0.663800</td>\n",
       "      <td>0.207500</td>\n",
       "    </tr>\n",
       "  </tbody>\n",
       "</table>\n",
       "<p>8 rows × 30 columns</p>\n",
       "</div>"
      ],
      "text/plain": [
       "       radius_mean  texture_mean  perimeter_mean    area_mean  \\\n",
       "count   569.000000    569.000000      569.000000   569.000000   \n",
       "mean     14.127292     19.289649       91.969033   654.889104   \n",
       "std       3.524049      4.301036       24.298981   351.914129   \n",
       "min       6.981000      9.710000       43.790000   143.500000   \n",
       "25%      11.700000     16.170000       75.170000   420.300000   \n",
       "50%      13.370000     18.840000       86.240000   551.100000   \n",
       "75%      15.780000     21.800000      104.100000   782.700000   \n",
       "max      28.110000     39.280000      188.500000  2501.000000   \n",
       "\n",
       "       smoothness_mean  compactness_mean  concavity_mean  concave points_mean  \\\n",
       "count       569.000000        569.000000      569.000000           569.000000   \n",
       "mean          0.096360          0.104341        0.088799             0.048919   \n",
       "std           0.014064          0.052813        0.079720             0.038803   \n",
       "min           0.052630          0.019380        0.000000             0.000000   \n",
       "25%           0.086370          0.064920        0.029560             0.020310   \n",
       "50%           0.095870          0.092630        0.061540             0.033500   \n",
       "75%           0.105300          0.130400        0.130700             0.074000   \n",
       "max           0.163400          0.345400        0.426800             0.201200   \n",
       "\n",
       "       symmetry_mean  fractal_dimension_mean           ...             \\\n",
       "count     569.000000              569.000000           ...              \n",
       "mean        0.181162                0.062798           ...              \n",
       "std         0.027414                0.007060           ...              \n",
       "min         0.106000                0.049960           ...              \n",
       "25%         0.161900                0.057700           ...              \n",
       "50%         0.179200                0.061540           ...              \n",
       "75%         0.195700                0.066120           ...              \n",
       "max         0.304000                0.097440           ...              \n",
       "\n",
       "       radius_worst  texture_worst  perimeter_worst   area_worst  \\\n",
       "count    569.000000     569.000000       569.000000   569.000000   \n",
       "mean      16.269190      25.677223       107.261213   880.583128   \n",
       "std        4.833242       6.146258        33.602542   569.356993   \n",
       "min        7.930000      12.020000        50.410000   185.200000   \n",
       "25%       13.010000      21.080000        84.110000   515.300000   \n",
       "50%       14.970000      25.410000        97.660000   686.500000   \n",
       "75%       18.790000      29.720000       125.400000  1084.000000   \n",
       "max       36.040000      49.540000       251.200000  4254.000000   \n",
       "\n",
       "       smoothness_worst  compactness_worst  concavity_worst  \\\n",
       "count        569.000000         569.000000       569.000000   \n",
       "mean           0.132369           0.254265         0.272188   \n",
       "std            0.022832           0.157336         0.208624   \n",
       "min            0.071170           0.027290         0.000000   \n",
       "25%            0.116600           0.147200         0.114500   \n",
       "50%            0.131300           0.211900         0.226700   \n",
       "75%            0.146000           0.339100         0.382900   \n",
       "max            0.222600           1.058000         1.252000   \n",
       "\n",
       "       concave points_worst  symmetry_worst  fractal_dimension_worst  \n",
       "count            569.000000      569.000000               569.000000  \n",
       "mean               0.114606        0.290076                 0.083946  \n",
       "std                0.065732        0.061867                 0.018061  \n",
       "min                0.000000        0.156500                 0.055040  \n",
       "25%                0.064930        0.250400                 0.071460  \n",
       "50%                0.099930        0.282200                 0.080040  \n",
       "75%                0.161400        0.317900                 0.092080  \n",
       "max                0.291000        0.663800                 0.207500  \n",
       "\n",
       "[8 rows x 30 columns]"
      ]
     },
     "execution_count": 9,
     "metadata": {},
     "output_type": "execute_result"
    }
   ],
   "source": [
    "previsores.describe()"
   ]
  },
  {
   "cell_type": "markdown",
   "metadata": {},
   "source": [
    "Aparentemente essa base de dados também está em um formato já pronto para ser submetido à um algoritmo de aprendizado de máquina, porém é necessário antes normalizar os valores, pois muita das medidas usadas estão em unidades de medida diferentes, portanto será usado a z-score, igual no conjunto anterior.\n",
    "\n",
    "Além disso, será utilizado o método de codificar a classe para transformar os valores em discretos ao invés dos categóricos originais da classe."
   ]
  },
  {
   "cell_type": "code",
   "execution_count": 165,
   "metadata": {},
   "outputs": [
    {
     "data": {
      "text/html": [
       "<div>\n",
       "<style scoped>\n",
       "    .dataframe tbody tr th:only-of-type {\n",
       "        vertical-align: middle;\n",
       "    }\n",
       "\n",
       "    .dataframe tbody tr th {\n",
       "        vertical-align: top;\n",
       "    }\n",
       "\n",
       "    .dataframe thead th {\n",
       "        text-align: right;\n",
       "    }\n",
       "</style>\n",
       "<table border=\"1\" class=\"dataframe\">\n",
       "  <thead>\n",
       "    <tr style=\"text-align: right;\">\n",
       "      <th></th>\n",
       "      <th>radius_mean</th>\n",
       "      <th>texture_mean</th>\n",
       "      <th>perimeter_mean</th>\n",
       "      <th>area_mean</th>\n",
       "      <th>smoothness_mean</th>\n",
       "      <th>compactness_mean</th>\n",
       "      <th>concavity_mean</th>\n",
       "      <th>concave points_mean</th>\n",
       "      <th>symmetry_mean</th>\n",
       "      <th>fractal_dimension_mean</th>\n",
       "      <th>...</th>\n",
       "      <th>radius_worst</th>\n",
       "      <th>texture_worst</th>\n",
       "      <th>perimeter_worst</th>\n",
       "      <th>area_worst</th>\n",
       "      <th>smoothness_worst</th>\n",
       "      <th>compactness_worst</th>\n",
       "      <th>concavity_worst</th>\n",
       "      <th>concave points_worst</th>\n",
       "      <th>symmetry_worst</th>\n",
       "      <th>fractal_dimension_worst</th>\n",
       "    </tr>\n",
       "  </thead>\n",
       "  <tbody>\n",
       "    <tr>\n",
       "      <th>0</th>\n",
       "      <td>1.096100</td>\n",
       "      <td>-2.071512</td>\n",
       "      <td>1.268817</td>\n",
       "      <td>0.983510</td>\n",
       "      <td>1.567087</td>\n",
       "      <td>3.280628</td>\n",
       "      <td>2.650542</td>\n",
       "      <td>2.530249</td>\n",
       "      <td>2.215566</td>\n",
       "      <td>2.253764</td>\n",
       "      <td>...</td>\n",
       "      <td>1.885031</td>\n",
       "      <td>-1.358098</td>\n",
       "      <td>2.301575</td>\n",
       "      <td>1.999478</td>\n",
       "      <td>1.306537</td>\n",
       "      <td>2.614365</td>\n",
       "      <td>2.107672</td>\n",
       "      <td>2.294058</td>\n",
       "      <td>2.748204</td>\n",
       "      <td>1.935312</td>\n",
       "    </tr>\n",
       "    <tr>\n",
       "      <th>1</th>\n",
       "      <td>1.828212</td>\n",
       "      <td>-0.353322</td>\n",
       "      <td>1.684473</td>\n",
       "      <td>1.907030</td>\n",
       "      <td>-0.826235</td>\n",
       "      <td>-0.486643</td>\n",
       "      <td>-0.023825</td>\n",
       "      <td>0.547662</td>\n",
       "      <td>0.001391</td>\n",
       "      <td>-0.867889</td>\n",
       "      <td>...</td>\n",
       "      <td>1.804340</td>\n",
       "      <td>-0.368879</td>\n",
       "      <td>1.533776</td>\n",
       "      <td>1.888827</td>\n",
       "      <td>-0.375282</td>\n",
       "      <td>-0.430066</td>\n",
       "      <td>-0.146620</td>\n",
       "      <td>1.086129</td>\n",
       "      <td>-0.243675</td>\n",
       "      <td>0.280943</td>\n",
       "    </tr>\n",
       "    <tr>\n",
       "      <th>2</th>\n",
       "      <td>1.578499</td>\n",
       "      <td>0.455786</td>\n",
       "      <td>1.565126</td>\n",
       "      <td>1.557513</td>\n",
       "      <td>0.941382</td>\n",
       "      <td>1.052000</td>\n",
       "      <td>1.362280</td>\n",
       "      <td>2.035440</td>\n",
       "      <td>0.938859</td>\n",
       "      <td>-0.397658</td>\n",
       "      <td>...</td>\n",
       "      <td>1.510541</td>\n",
       "      <td>-0.023953</td>\n",
       "      <td>1.346291</td>\n",
       "      <td>1.455004</td>\n",
       "      <td>0.526944</td>\n",
       "      <td>1.081980</td>\n",
       "      <td>0.854222</td>\n",
       "      <td>1.953282</td>\n",
       "      <td>1.151242</td>\n",
       "      <td>0.201214</td>\n",
       "    </tr>\n",
       "    <tr>\n",
       "      <th>3</th>\n",
       "      <td>-0.768233</td>\n",
       "      <td>0.253509</td>\n",
       "      <td>-0.592166</td>\n",
       "      <td>-0.763792</td>\n",
       "      <td>3.280667</td>\n",
       "      <td>3.399917</td>\n",
       "      <td>1.914213</td>\n",
       "      <td>1.450431</td>\n",
       "      <td>2.864862</td>\n",
       "      <td>4.906602</td>\n",
       "      <td>...</td>\n",
       "      <td>-0.281217</td>\n",
       "      <td>0.133866</td>\n",
       "      <td>-0.249720</td>\n",
       "      <td>-0.549538</td>\n",
       "      <td>3.391291</td>\n",
       "      <td>3.889975</td>\n",
       "      <td>1.987839</td>\n",
       "      <td>2.173873</td>\n",
       "      <td>6.040726</td>\n",
       "      <td>4.930672</td>\n",
       "    </tr>\n",
       "    <tr>\n",
       "      <th>4</th>\n",
       "      <td>1.748758</td>\n",
       "      <td>-1.150804</td>\n",
       "      <td>1.775011</td>\n",
       "      <td>1.824624</td>\n",
       "      <td>0.280125</td>\n",
       "      <td>0.538866</td>\n",
       "      <td>1.369806</td>\n",
       "      <td>1.427237</td>\n",
       "      <td>-0.009552</td>\n",
       "      <td>-0.561956</td>\n",
       "      <td>...</td>\n",
       "      <td>1.297434</td>\n",
       "      <td>-1.465481</td>\n",
       "      <td>1.337363</td>\n",
       "      <td>1.219651</td>\n",
       "      <td>0.220362</td>\n",
       "      <td>-0.313119</td>\n",
       "      <td>0.612640</td>\n",
       "      <td>0.728618</td>\n",
       "      <td>-0.867590</td>\n",
       "      <td>-0.396751</td>\n",
       "    </tr>\n",
       "  </tbody>\n",
       "</table>\n",
       "<p>5 rows × 30 columns</p>\n",
       "</div>"
      ],
      "text/plain": [
       "   radius_mean  texture_mean  perimeter_mean  area_mean  smoothness_mean  \\\n",
       "0     1.096100     -2.071512        1.268817   0.983510         1.567087   \n",
       "1     1.828212     -0.353322        1.684473   1.907030        -0.826235   \n",
       "2     1.578499      0.455786        1.565126   1.557513         0.941382   \n",
       "3    -0.768233      0.253509       -0.592166  -0.763792         3.280667   \n",
       "4     1.748758     -1.150804        1.775011   1.824624         0.280125   \n",
       "\n",
       "   compactness_mean  concavity_mean  concave points_mean  symmetry_mean  \\\n",
       "0          3.280628        2.650542             2.530249       2.215566   \n",
       "1         -0.486643       -0.023825             0.547662       0.001391   \n",
       "2          1.052000        1.362280             2.035440       0.938859   \n",
       "3          3.399917        1.914213             1.450431       2.864862   \n",
       "4          0.538866        1.369806             1.427237      -0.009552   \n",
       "\n",
       "   fractal_dimension_mean           ...             radius_worst  \\\n",
       "0                2.253764           ...                 1.885031   \n",
       "1               -0.867889           ...                 1.804340   \n",
       "2               -0.397658           ...                 1.510541   \n",
       "3                4.906602           ...                -0.281217   \n",
       "4               -0.561956           ...                 1.297434   \n",
       "\n",
       "   texture_worst  perimeter_worst  area_worst  smoothness_worst  \\\n",
       "0      -1.358098         2.301575    1.999478          1.306537   \n",
       "1      -0.368879         1.533776    1.888827         -0.375282   \n",
       "2      -0.023953         1.346291    1.455004          0.526944   \n",
       "3       0.133866        -0.249720   -0.549538          3.391291   \n",
       "4      -1.465481         1.337363    1.219651          0.220362   \n",
       "\n",
       "   compactness_worst  concavity_worst  concave points_worst  symmetry_worst  \\\n",
       "0           2.614365         2.107672              2.294058        2.748204   \n",
       "1          -0.430066        -0.146620              1.086129       -0.243675   \n",
       "2           1.081980         0.854222              1.953282        1.151242   \n",
       "3           3.889975         1.987839              2.173873        6.040726   \n",
       "4          -0.313119         0.612640              0.728618       -0.867590   \n",
       "\n",
       "   fractal_dimension_worst  \n",
       "0                 1.935312  \n",
       "1                 0.280943  \n",
       "2                 0.201214  \n",
       "3                 4.930672  \n",
       "4                -0.396751  \n",
       "\n",
       "[5 rows x 30 columns]"
      ]
     },
     "execution_count": 165,
     "metadata": {},
     "output_type": "execute_result"
    }
   ],
   "source": [
    "previsores = previsores.apply(lambda row: normalizacao_z_score(row))\n",
    "previsores.head()"
   ]
  },
  {
   "cell_type": "code",
   "execution_count": 166,
   "metadata": {},
   "outputs": [
    {
     "name": "stdout",
     "output_type": "stream",
     "text": [
      "{'M': 0, 'B': 1}\n",
      "1    357\n",
      "0    212\n",
      "Name: diagnosis, dtype: int64\n"
     ]
    }
   ],
   "source": [
    "dict_classes = get_dicionario_classes(classe)\n",
    "print(dict_classes)\n",
    "def transformar_categorico_em_numerico(valor, dict_classes):\n",
    "    return dict_classes[valor]\n",
    "    \n",
    "classe = classe.apply(lambda row: transformar_categorico_em_numerico(row, dict_classes))\n",
    "print(classe.value_counts())"
   ]
  },
  {
   "cell_type": "markdown",
   "metadata": {},
   "source": [
    "Não será necessário transformar a classe em uma array ou uma matriz, pois se trata de um problema binário. Também é possível abservar que as classes estão bem balanceadas, geralmente doenças raras são tratadas como uma detecção de anomalia, por representar uma pequena fração de predominância no conjunto de dados, porém não foi o que aconteceu nesse caso."
   ]
  },
  {
   "cell_type": "markdown",
   "metadata": {},
   "source": [
    "# Implementação do multilayer perceptron\n",
    "A ideia da rede neural perceptron multicamadas é parecido com a anterior, porém alguns conceitos matemáticos são adicionados, portanto os métodos tiveram que ser reconstruídos, com exceção apenas da função de soma que se mantém igual."
   ]
  },
  {
   "cell_type": "markdown",
   "metadata": {},
   "source": [
    "O método de *inicializar_pesos* por exemplo, acabou recebendo uma pequena modificação para conseguir distribuir dinamicamente os pesos baseado na quantidade de neurônios em cada camada e também na próxima camada adjacente."
   ]
  },
  {
   "cell_type": "code",
   "execution_count": 151,
   "metadata": {},
   "outputs": [],
   "source": [
    "def inicializar_pesos_mlp(neuronios_camada, dominio = [-1, 1]):\n",
    "    pesos_final = []\n",
    "\n",
    "    for i in range(len(neuronios_camada) - 1):\n",
    "        pesos = []\n",
    "        for j in range(neuronios_camada[i]):\n",
    "            pesos.append([random.uniform(dominio[0], dominio[1]) for i in range(neuronios_camada[i + 1])])\n",
    "        pesos_final.append(pesos)\n",
    "    return pesos_final"
   ]
  },
  {
   "cell_type": "markdown",
   "metadata": {},
   "source": [
    "A função de custo e a sigmoid estão bem simples, da mesma forma que a implementação original."
   ]
  },
  {
   "cell_type": "code",
   "execution_count": 105,
   "metadata": {},
   "outputs": [],
   "source": [
    "def funcao_ativacao_sigmoid(valor):\n",
    "    resultado = 1 / (1 + np.exp(-valor))\n",
    "    return resultado"
   ]
  },
  {
   "cell_type": "code",
   "execution_count": 106,
   "metadata": {},
   "outputs": [],
   "source": [
    "def funcao_custo_mlp(valor_correto, valor_previsto):\n",
    "    valor_erro = valor_correto - valor_previsto\n",
    "    return valor_erro"
   ]
  },
  {
   "cell_type": "markdown",
   "metadata": {},
   "source": [
    "## Feedfoward\n",
    "O feedfoward é o nome dado ao processo de cálculo do resultado da função de ativação. O processo é simples igual no perceptron, todavia ele deve ser repetido para todas as camadas até chegar na camada de saída, diferentemente da versão anterior onde esse processo de somatória e aplicação da função de ativação era realizado apenas uma vez."
   ]
  },
  {
   "cell_type": "code",
   "execution_count": 107,
   "metadata": {},
   "outputs": [],
   "source": [
    "def feed_foward(pesos, x_treinamento, f_ativacao):\n",
    "    ativacao = []\n",
    "    for i in range(len(pesos)): # percorre todas as camadas\n",
    "        if i == 0: # na camada de entrada os valores são os próprios atributos previsores\n",
    "            soma_sinapse = np.dot(x_treinamento, pesos[i])\n",
    "            ativacao.append(f_ativacao(soma_sinapse))\n",
    "        else: # nas próximas camadas, o resultado anteriores dos neurônios são considerados.\n",
    "            soma_sinapse = np.dot(ativacao[i - 1], pesos[i])\n",
    "            ativacao.append(f_ativacao(soma_sinapse))\n",
    "\n",
    "    return ativacao"
   ]
  },
  {
   "cell_type": "markdown",
   "metadata": {},
   "source": [
    "## Calculando a derivada e o delta da camada de saída\n",
    "A derivada e o delta da camada de saída são valores importantes para o ajuste dos pesos, usados no processo de retropropagação do erro. Portanto, foram criados funções que vão calcular os respectivos valores."
   ]
  },
  {
   "cell_type": "code",
   "execution_count": 108,
   "metadata": {},
   "outputs": [],
   "source": [
    "def calcular_derivada_parcial(valor):\n",
    "    return valor * (1 - valor)"
   ]
  },
  {
   "cell_type": "code",
   "execution_count": 109,
   "metadata": {},
   "outputs": [],
   "source": [
    "def calcular_delta(erro, derivada):\n",
    "    return erro * derivada"
   ]
  },
  {
   "cell_type": "markdown",
   "metadata": {},
   "source": [
    "O processo de cálculo de derivada e delta para as camadas ocultas é um pouco diferente, portanto foi criado uma função para servir a esse propósito específico"
   ]
  },
  {
   "cell_type": "code",
   "execution_count": 110,
   "metadata": {},
   "outputs": [],
   "source": [
    "def calcular_delta_oculto(pesos, delta_saida, derivada):\n",
    "    matriz_pesos = np.transpose(np.asmatrix(pesos)) # conceito de matriz transposta \n",
    "\n",
    "    pesos_delta_saida = delta_saida.dot(matriz_pesos)\n",
    "\n",
    "    return derivada * np.array(pesos_delta_saida) # as matrizes precisam estar em uma dimensão diferente uma da outra"
   ]
  },
  {
   "cell_type": "code",
   "execution_count": 111,
   "metadata": {},
   "outputs": [],
   "source": [
    "def get_delta_oculto(pesos, delta_saida, ativacao):\n",
    "    deltas_camadas_ocultas = [] \n",
    "\n",
    "    for i in range(len(pesos) -1): # Percorre apenas as camadas ocultas, por isso o -1\n",
    "        derivada = calcular_derivada_parcial(ativacao[len(ativacao) - (i + 2)]) # pegar de trás para frente a derivada de cada neurônio\n",
    "        deltas_camadas_ocultas.append(calcular_delta_oculto(pesos[len(pesos) - (i + 1)], delta_saida, derivada))\n",
    "\n",
    "    return deltas_camadas_ocultas"
   ]
  },
  {
   "cell_type": "markdown",
   "metadata": {},
   "source": [
    "## Backpropagation\n",
    "Agora com todos os neurônios com os respectivos valores de delta e as derivadas, basta aplicar o algoritmo de retropropagação, começando da camada de saída até a camada de entrada.\n",
    "\n",
    "O método recebe todos os valores que foram calculados até então, além da taxa de aprendizado e o momentum."
   ]
  },
  {
   "cell_type": "code",
   "execution_count": 128,
   "metadata": {},
   "outputs": [],
   "source": [
    "def backpropagation(pesos, ativacao, delta_saida, delta_oculto, x_treinamento, tx_aprendizado = 0.3, momento = 1):\n",
    "    for i in range(len(pesos)):\n",
    "        if i == 0:\n",
    "            camada_transposta = np.transpose(ativacao[i])\n",
    "            delta_x_entrada = camada_transposta.dot(delta_saida)\n",
    "            \n",
    "            pesos[len(pesos) - (1 + i)] = (pesos[len(pesos) - (1 + i)] * momento) + (tx_aprendizado * delta_x_entrada)\n",
    "        else:\n",
    "            camada_transposta = np.transpose(x_treinamento)\n",
    "            pesos[len(pesos) - (1 + i)] = (pesos[len(pesos) - (1 + i)] * momento) + (tx_aprendizado * camada_transposta.dot(delta_oculto[0])).values\n",
    "            \n",
    "    return pesos"
   ]
  },
  {
   "cell_type": "markdown",
   "metadata": {},
   "source": [
    "Uma dificuldade encontrada foi ajustar as dimensões das matrizes para que as fórmulas sejam corretamente aplicadas, portanto por enquanto o perceptron só aceita uma única camada oculta."
   ]
  },
  {
   "cell_type": "markdown",
   "metadata": {},
   "source": [
    "## Precisão\n",
    "O método *get_precisao* foi utilizado para calcular a diferença absoluta nas previsões da última camada do modelo com o valor real da classe, nos dando a precisão do algoritmo."
   ]
  },
  {
   "cell_type": "code",
   "execution_count": 114,
   "metadata": {},
   "outputs": [],
   "source": [
    "def get_precisao(valor_correto, valor_previsto):\n",
    "    previsao = valor_previsto.copy()\n",
    "\n",
    "    previsao[previsao >= 0.5] = 1\n",
    "    previsao[previsao < 0.5] = 0\n",
    "\n",
    "    precisao = (valor_correto == previsao).sum() / len(valor_correto)\n",
    "    return precisao"
   ]
  },
  {
   "cell_type": "markdown",
   "metadata": {},
   "source": [
    "## Treinamento do algoritmo\n",
    "O método *treinar_mlp* é o responsável por aplicar todas as contas que foram criadas anteriormente, atualizado os pesos em cada uma das épocas."
   ]
  },
  {
   "cell_type": "code",
   "execution_count": 115,
   "metadata": {},
   "outputs": [],
   "source": [
    "def treinar_mlp(epocas, neuronios_camada, f_ativacao, f_custo, pesos, x_treinamento,\n",
    "                                     y_treinamento, x_teste, y_teste, tx_aprendizado):\n",
    "    execucoes = 0\n",
    "    precisoes_treinamento = []\n",
    "    precisoes_teste = []\n",
    "    melhores_pesos = []\n",
    "\n",
    "    while execucoes < epocas:               \n",
    "        ativacao = feed_foward(pesos, x_treinamento, f_ativacao)\n",
    "\n",
    "        resultado_camada_saida = ativacao[len(ativacao) - 1]\n",
    "        classe_reshaped = y_treinamento.values.reshape(-1,1)\n",
    "\n",
    "        erro = f_custo(classe_reshaped, resultado_camada_saida)\n",
    "\n",
    "        precisoes_treinamento.append(get_precisao(classe_reshaped, resultado_camada_saida))\n",
    "\n",
    "        derivada_saida = calcular_derivada_parcial(resultado_camada_saida)\n",
    "        delta_saida = calcular_delta(erro, derivada_saida)\n",
    "\n",
    "        delta_camada_oculta = get_delta_oculto(pesos, delta_saida, ativacao)\n",
    "\n",
    "        melhores_pesos = pesos.copy() if precisoes_treinamento[execucoes] >= max(precisoes_treinamento) else melhores_pesos\n",
    "\n",
    "        pesos = backpropagation(pesos, ativacao, delta_saida, delta_camada_oculta, x_treinamento) \n",
    "        \n",
    "        precisoes_teste.append(testar_mlp(pesos, x_teste, y_teste, f_ativacao, f_custo))\n",
    "        execucoes += 1\n",
    "        \n",
    "    return precisoes_treinamento, precisoes_teste, melhores_pesos"
   ]
  },
  {
   "cell_type": "markdown",
   "metadata": {},
   "source": [
    "Para testar o desempenho ao final de cada época o método testar também passou por adaptações"
   ]
  },
  {
   "cell_type": "code",
   "execution_count": 116,
   "metadata": {},
   "outputs": [],
   "source": [
    "def testar_mlp(pesos, x_previsores, y_classe, f_ativacao, f_custo):\n",
    "    precisao = 0\n",
    "\n",
    "    ativacao = feed_foward(pesos, x_previsores, f_ativacao)\n",
    "\n",
    "    resultado_camada_saida = ativacao[len(ativacao) - 1]\n",
    "    classe_reshaped = y_classe.values.reshape(-1,1)\n",
    "\n",
    "    precisao = get_precisao(classe_reshaped, resultado_camada_saida)\n",
    "\n",
    "    return precisao"
   ]
  },
  {
   "cell_type": "markdown",
   "metadata": {},
   "source": [
    "## Adicionando camadas\n",
    "A lógica foi construída para inicializar a estrutura de pesos baseado em uma Array que vai indicar o número de camadas e de neurônios em cada camada, portanto o processo de expandir a rede se torna simples."
   ]
  },
  {
   "cell_type": "code",
   "execution_count": 120,
   "metadata": {},
   "outputs": [],
   "source": [
    "neuronios_camada = [len(previsores.columns)] # adicionado neurônios da camada de entrada\n",
    "neuronios_camada.append(3) # camada oculta\n",
    "neuronios_camada.append(1) # camada de saída."
   ]
  },
  {
   "cell_type": "markdown",
   "metadata": {},
   "source": [
    "Foi criado por fim um método, chamado *executar_mlp*, com o mesmo objetivo dos métodos anteriores de executar, fazendo os tester na rede com 30 inicializações;"
   ]
  },
  {
   "cell_type": "code",
   "execution_count": 152,
   "metadata": {},
   "outputs": [],
   "source": [
    "def executar_mlp(funcao_ativacao, funcao_custo, epocas, dominio_pesos = [0, 1], \n",
    "                       tx_aprendizado = 0.001):\n",
    "\n",
    "    convergencia_treinamento = [0]\n",
    "    convergencia_teste = [0]\n",
    "    precisao_treinamento = []\n",
    "    precisao_teste = []\n",
    "    resultado_final = []\n",
    "    start_time = time.time() # tempo de execução\n",
    "\n",
    "    for i in range(30):\n",
    "        x_treinamento, y_treinamento, x_teste, y_teste, \\\n",
    "        x_validacao, y_validacao = dividir_dataframe(previsores, classe, 0.7, 0.15, 0.15)\n",
    "\n",
    "        pesos = inicializar_pesos_mlp(neuronios_camada)\n",
    "\n",
    "        treinamento = treinar_mlp(epocas, neuronios_camada, funcao_ativacao, funcao_custo, pesos, x_treinamento, y_treinamento, x_teste, y_teste, tx_aprendizado)\n",
    "\n",
    "        convergencia_treinamento = treinamento[0] if max(treinamento[0]) >= \\\n",
    "                                    max(convergencia_treinamento) else convergencia_treinamento\n",
    "\n",
    "        convergencia_teste = treinamento[1] if max(treinamento[1]) >= max(convergencia_teste) \\\n",
    "                                        else convergencia_teste\n",
    "\n",
    "        precisao_treinamento.append(max(treinamento[0]))\n",
    "        precisao_teste.append(max(treinamento[1]))\n",
    "        resultado_final.append(testar_mlp(treinamento[2], x_validacao, y_validacao, \n",
    "                                      funcao_ativacao, funcao_custo))\n",
    "\n",
    "    plotar_convergencia(convergencia_treinamento, convergencia_teste)   \n",
    "    exibir_resultados(precisao_treinamento, precisao_teste, resultado_final)\n",
    "    print(\"Tempo de execução: %s Segundos\" % (time.time() - start_time))"
   ]
  },
  {
   "cell_type": "code",
   "execution_count": 138,
   "metadata": {
    "scrolled": true
   },
   "outputs": [
    {
     "data": {
      "image/png": "[encoded data removed]",
      "text/plain": [
       "<Figure size 720x576 with 2 Axes>"
      ]
     },
     "metadata": {
      "needs_background": "light"
     },
     "output_type": "display_data"
    },
    {
     "name": "stdout",
     "output_type": "stream",
     "text": [
      "Melhor precisão de treinamento 1.0\n",
      "Melhor precisão de teste 1.0\n",
      "Melhor precisão de validação 1.0\n",
      "Média precisão de treinamento 0.9953098827470687\n",
      "Média precisão de teste 0.9847058823529412\n",
      "Média precisão de validação 0.9651162790697675\n",
      "Desvio Padrão precisão de treinamento 0.0037116448586533347\n",
      "Desvio Padrão precisão de teste 0.013635559726049979\n",
      "Desvio Padrão precisão de validação 0.02266696359257898\n",
      "Tempo de execução: 7.851834774017334 Segundos\n"
     ]
    }
   ],
   "source": [
    "executar_mlp(funcao_ativacao_sigmoid, funcao_custo_mlp, 300)"
   ]
  },
  {
   "cell_type": "markdown",
   "metadata": {},
   "source": [
    "# Resultados da rede perceptron multicamadas\n",
    "O algoritmo, ainda que sem muitos ajustes no parâmetros, conseguiu uma precisão de 100% em todas os conjuntos de dados, também sendo possível ver a consistência do mesmo, com uma média próxima aos 100% em todas as 30 execuções.\n",
    "O que mais impressiona é o tempo de execução, sendo superiror até ao perceptron por épocas, claro que isso ocorre por se tratar de um problema simples, mas ainda é muito bom."
   ]
  },
  {
   "cell_type": "code",
   "execution_count": 167,
   "metadata": {},
   "outputs": [
    {
     "data": {
      "text/plain": [
       "array([[1, 0],\n",
       "       [1, 0],\n",
       "       [1, 0],\n",
       "       ...,\n",
       "       [1, 0],\n",
       "       [1, 0],\n",
       "       [0, 1]])"
      ]
     },
     "execution_count": 167,
     "metadata": {},
     "output_type": "execute_result"
    }
   ],
   "source": [
    "classe_codificada = codificar_classe()\n",
    "\n",
    "classe_nova = []\n",
    "\n",
    "for i in classe:\n",
    "    classe_nova.append(classe_codificada[i])\n",
    "    \n",
    "classe_nova = np.array(classe_nova).reshape(len(classe), 2)"
   ]
  },
  {
   "cell_type": "code",
   "execution_count": 178,
   "metadata": {},
   "outputs": [
    {
     "data": {
      "image/png": "[encoded data removed]",
      "text/plain": [
       "<Figure size 720x576 with 2 Axes>"
      ]
     },
     "metadata": {
      "needs_background": "light"
     },
     "output_type": "display_data"
    },
    {
     "name": "stdout",
     "output_type": "stream",
     "text": [
      "Melhor precisão de treinamento 0.8090452261306532\n",
      "Melhor precisão de teste 0.8470588235294118\n",
      "Melhor precisão de validação 0.813953488372093\n",
      "Média precisão de treinamento 0.5109715242881072\n",
      "Média precisão de teste 0.5133333333333333\n",
      "Média precisão de validação 0.5007751937984496\n",
      "Desvio Padrão precisão de treinamento 0.18974699961462682\n",
      "Desvio Padrão precisão de teste 0.18856547838509713\n",
      "Desvio Padrão precisão de validação 0.19075753771429327\n",
      "Tempo de execução: 34.07833909988403 Segundos\n"
     ]
    },
    {
     "data": {
      "text/plain": [
       "(0.8090452261306532, 0.8470588235294118, 0.813953488372093)"
      ]
     },
     "execution_count": 178,
     "metadata": {},
     "output_type": "execute_result"
    }
   ],
   "source": [
    "executar_perceptron_epoca(funcao_ativacao_sigmoid_epoca, funcao_custo_mse_epoca, 400, [-0.005, 0.005])"
   ]
  },
  {
   "cell_type": "code",
   "execution_count": null,
   "metadata": {},
   "outputs": [],
   "source": [
    "lista_parametros_epoca = { 'custo' : [funcao_custo_mse_epoca],\n",
    "                      'tx_aprendizado': [0.1, 0.01, 0.0001],\n",
    "                      'pesos': [0.5, 0.05, 0.005, 0.0005]\n",
    "}\n",
    "\n",
    "teste_parametrico = buscar_parametros(lista_parametros_epoca, executar_perceptron_epoca)\n",
    "print('Melhores parâmetros', teste_parametrico[0])\n",
    "print('Melhor precisão teste', teste_parametrico[1])\n",
    "print('Melhor precisão treinamento', teste_parametrico[2])\n",
    "print('Melhor precisão validação', teste_parametrico[3])"
   ]
  },
  {
   "cell_type": "markdown",
   "metadata": {},
   "source": [
    "Mesmo após uma busca exaustiva de parâmetros, é possível observar a superioridade da rede perceptron multicamadas."
   ]
  },
  {
   "cell_type": "markdown",
   "metadata": {},
   "source": [
    "# Próximos passos\n",
    "O algoritmo de perceptron multicamadas construído, apesar de eficiente, foi bem simples e algumas medidas poderiam ser feitas a fim de deixar ainda mais robusto:\n",
    "* Aumentar o número de camadas e neurônios\n",
    "* Descida do gradiente estocástica\n",
    "* Dropout\n",
    "* Parada no platô e redução dinâmica de taxa de aprendizado"
   ]
  },
  {
   "cell_type": "markdown",
   "metadata": {},
   "source": [
    "# Conclusões"
   ]
  }
 ],
 "metadata": {
  "kernelspec": {
   "display_name": "Python 3",
   "language": "python",
   "name": "python3"
  },
  "language_info": {
   "codemirror_mode": {
    "name": "ipython",
    "version": 3
   },
   "file_extension": ".py",
   "mimetype": "text/x-python",
   "name": "python",
   "nbconvert_exporter": "python",
   "pygments_lexer": "ipython3",
   "version": "3.6.9"
  }
 },
 "nbformat": 4,
 "nbformat_minor": 4
}
