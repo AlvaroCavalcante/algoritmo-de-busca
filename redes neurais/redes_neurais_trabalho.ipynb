{
 "cells": [
  {
   "cell_type": "markdown",
   "metadata": {},
   "source": [
    "Relatório do trabalho\n",
    "==============\n",
    "**Nome:** Álvaro Leandro Cavalcante Carneiro\n",
    "**Linguagem utilizada:** Python 3.6\n",
    "\n",
    "Os códigos e o relatório foram desenvolvidos em um Jupyter notebook, a explicação de cada bloco de código se encontra acima do mesmo e em algumas partes também existem linhas comentadas."
   ]
  },
  {
   "cell_type": "markdown",
   "metadata": {},
   "source": [
    "# Qual o problema ? \n",
    "O primeiro problema foi Utilizar uma rede neural no modelo perceptron para identificar três classes de iris diferentes baseados em suas características de tamanho de pétalada e sépala."
   ]
  },
  {
   "cell_type": "markdown",
   "metadata": {},
   "source": [
    "## Importação das bibliotecas\n",
    "Ferramentas usadas em todo o processo de desenvolvimento"
   ]
  },
  {
   "cell_type": "code",
   "execution_count": 5,
   "metadata": {},
   "outputs": [],
   "source": [
    "import random\n",
    "import numpy as np\n",
    "import pandas as pd\n",
    "import math\n",
    "import matplotlib.pyplot as plt\n",
    "import time\n",
    "import itertools\n",
    "from sklearn.metrics import confusion_matrix"
   ]
  },
  {
   "cell_type": "markdown",
   "metadata": {},
   "source": [
    "## Análise Exploratória dos Dados (AED)\n",
    "A ideia a princípio é entender um pouco mais do *dataset* e deixar os dados em um formato que seja favorável para o aprendizado da rede neural perceptron.\n",
    "\n",
    "O primeiro passo foi ler o arquivo encontrado aqui: http://archive.ics.uci.edu/ml/datasets/Iris.\n",
    "O arquivo em questão não possuia colunas, portanto eu modifiquei o mesmo para adicionar o nome das colunas na primeira linha e deixá-lo no formato .CSV ao invés do .DATA.\n",
    "\n",
    "O conjunto de dados está sendo lido com o método *read_csv* do pandas, que transforma o *dataset* em um *dataframe*, que por sua vez possui diversos métodos nativos para manipular os dados. Um desse métodos é o *head*, onde é possível visualizar as primeiras linhas do *dataframe*."
   ]
  },
  {
   "cell_type": "code",
   "execution_count": 6,
   "metadata": {
    "scrolled": true
   },
   "outputs": [
    {
     "data": {
      "text/html": [
       "<div>\n",
       "<style scoped>\n",
       "    .dataframe tbody tr th:only-of-type {\n",
       "        vertical-align: middle;\n",
       "    }\n",
       "\n",
       "    .dataframe tbody tr th {\n",
       "        vertical-align: top;\n",
       "    }\n",
       "\n",
       "    .dataframe thead th {\n",
       "        text-align: right;\n",
       "    }\n",
       "</style>\n",
       "<table border=\"1\" class=\"dataframe\">\n",
       "  <thead>\n",
       "    <tr style=\"text-align: right;\">\n",
       "      <th></th>\n",
       "      <th>sepal-length</th>\n",
       "      <th>sepal-width</th>\n",
       "      <th>petal-length</th>\n",
       "      <th>petal-width</th>\n",
       "      <th>class</th>\n",
       "    </tr>\n",
       "  </thead>\n",
       "  <tbody>\n",
       "    <tr>\n",
       "      <th>0</th>\n",
       "      <td>5.1</td>\n",
       "      <td>3.5</td>\n",
       "      <td>1.4</td>\n",
       "      <td>0.2</td>\n",
       "      <td>Iris-setosa</td>\n",
       "    </tr>\n",
       "    <tr>\n",
       "      <th>1</th>\n",
       "      <td>4.9</td>\n",
       "      <td>3.0</td>\n",
       "      <td>1.4</td>\n",
       "      <td>0.2</td>\n",
       "      <td>Iris-setosa</td>\n",
       "    </tr>\n",
       "    <tr>\n",
       "      <th>2</th>\n",
       "      <td>4.7</td>\n",
       "      <td>3.2</td>\n",
       "      <td>1.3</td>\n",
       "      <td>0.2</td>\n",
       "      <td>Iris-setosa</td>\n",
       "    </tr>\n",
       "    <tr>\n",
       "      <th>3</th>\n",
       "      <td>4.6</td>\n",
       "      <td>3.1</td>\n",
       "      <td>1.5</td>\n",
       "      <td>0.2</td>\n",
       "      <td>Iris-setosa</td>\n",
       "    </tr>\n",
       "    <tr>\n",
       "      <th>4</th>\n",
       "      <td>5.0</td>\n",
       "      <td>3.6</td>\n",
       "      <td>1.4</td>\n",
       "      <td>0.2</td>\n",
       "      <td>Iris-setosa</td>\n",
       "    </tr>\n",
       "  </tbody>\n",
       "</table>\n",
       "</div>"
      ],
      "text/plain": [
       "   sepal-length  sepal-width  petal-length  petal-width        class\n",
       "0           5.1          3.5           1.4          0.2  Iris-setosa\n",
       "1           4.9          3.0           1.4          0.2  Iris-setosa\n",
       "2           4.7          3.2           1.3          0.2  Iris-setosa\n",
       "3           4.6          3.1           1.5          0.2  Iris-setosa\n",
       "4           5.0          3.6           1.4          0.2  Iris-setosa"
      ]
     },
     "execution_count": 6,
     "metadata": {},
     "output_type": "execute_result"
    }
   ],
   "source": [
    "dataframe = pd.read_csv('/home/alvaro/Documentos/mestrado/computação bio/redes neurais/datasets/iris2.csv', header = 0)\n",
    "\n",
    "dataframe.head()"
   ]
  },
  {
   "cell_type": "markdown",
   "metadata": {},
   "source": [
    "Um pré-requisito na mineração dos dados é verificar se o *dataframe* possui inconsistências quanto aos valores, podendo ser algum outlier, ruído, valor vazio, etc...\n",
    "\n",
    "Para isso, é utilizado o método *isna* para contabilizar os registros vazios por coluna e também o método *describe* que gera um sumário de estatísticas por coluna dos valores ali contidos."
   ]
  },
  {
   "cell_type": "code",
   "execution_count": 7,
   "metadata": {
    "scrolled": true
   },
   "outputs": [
    {
     "name": "stdout",
     "output_type": "stream",
     "text": [
      "Valores nulos:\n",
      "sepal-length    0\n",
      "sepal-width     0\n",
      "petal-length    0\n",
      "petal-width     0\n",
      "class           0\n",
      "dtype: int64\n"
     ]
    },
    {
     "data": {
      "text/html": [
       "<div>\n",
       "<style scoped>\n",
       "    .dataframe tbody tr th:only-of-type {\n",
       "        vertical-align: middle;\n",
       "    }\n",
       "\n",
       "    .dataframe tbody tr th {\n",
       "        vertical-align: top;\n",
       "    }\n",
       "\n",
       "    .dataframe thead th {\n",
       "        text-align: right;\n",
       "    }\n",
       "</style>\n",
       "<table border=\"1\" class=\"dataframe\">\n",
       "  <thead>\n",
       "    <tr style=\"text-align: right;\">\n",
       "      <th></th>\n",
       "      <th>sepal-length</th>\n",
       "      <th>sepal-width</th>\n",
       "      <th>petal-length</th>\n",
       "      <th>petal-width</th>\n",
       "    </tr>\n",
       "  </thead>\n",
       "  <tbody>\n",
       "    <tr>\n",
       "      <th>count</th>\n",
       "      <td>150.000000</td>\n",
       "      <td>150.000000</td>\n",
       "      <td>150.000000</td>\n",
       "      <td>150.000000</td>\n",
       "    </tr>\n",
       "    <tr>\n",
       "      <th>mean</th>\n",
       "      <td>5.843333</td>\n",
       "      <td>3.054000</td>\n",
       "      <td>3.758667</td>\n",
       "      <td>1.198667</td>\n",
       "    </tr>\n",
       "    <tr>\n",
       "      <th>std</th>\n",
       "      <td>0.828066</td>\n",
       "      <td>0.433594</td>\n",
       "      <td>1.764420</td>\n",
       "      <td>0.763161</td>\n",
       "    </tr>\n",
       "    <tr>\n",
       "      <th>min</th>\n",
       "      <td>4.300000</td>\n",
       "      <td>2.000000</td>\n",
       "      <td>1.000000</td>\n",
       "      <td>0.100000</td>\n",
       "    </tr>\n",
       "    <tr>\n",
       "      <th>25%</th>\n",
       "      <td>5.100000</td>\n",
       "      <td>2.800000</td>\n",
       "      <td>1.600000</td>\n",
       "      <td>0.300000</td>\n",
       "    </tr>\n",
       "    <tr>\n",
       "      <th>50%</th>\n",
       "      <td>5.800000</td>\n",
       "      <td>3.000000</td>\n",
       "      <td>4.350000</td>\n",
       "      <td>1.300000</td>\n",
       "    </tr>\n",
       "    <tr>\n",
       "      <th>75%</th>\n",
       "      <td>6.400000</td>\n",
       "      <td>3.300000</td>\n",
       "      <td>5.100000</td>\n",
       "      <td>1.800000</td>\n",
       "    </tr>\n",
       "    <tr>\n",
       "      <th>max</th>\n",
       "      <td>7.900000</td>\n",
       "      <td>4.400000</td>\n",
       "      <td>6.900000</td>\n",
       "      <td>2.500000</td>\n",
       "    </tr>\n",
       "  </tbody>\n",
       "</table>\n",
       "</div>"
      ],
      "text/plain": [
       "       sepal-length  sepal-width  petal-length  petal-width\n",
       "count    150.000000   150.000000    150.000000   150.000000\n",
       "mean       5.843333     3.054000      3.758667     1.198667\n",
       "std        0.828066     0.433594      1.764420     0.763161\n",
       "min        4.300000     2.000000      1.000000     0.100000\n",
       "25%        5.100000     2.800000      1.600000     0.300000\n",
       "50%        5.800000     3.000000      4.350000     1.300000\n",
       "75%        6.400000     3.300000      5.100000     1.800000\n",
       "max        7.900000     4.400000      6.900000     2.500000"
      ]
     },
     "execution_count": 7,
     "metadata": {},
     "output_type": "execute_result"
    }
   ],
   "source": [
    "print('Valores nulos:')\n",
    "print(dataframe.isna().sum())\n",
    "dataframe.describe()"
   ]
  },
  {
   "cell_type": "markdown",
   "metadata": {},
   "source": [
    "### Mostrando a dispersão dos dados\n",
    "É interessante também plotar um gráfico para mostrar o comportamento da dispersão das classes do conjunto, sendo possível inclusive ver se o problema é linearmente separável.\n",
    "\n",
    "Antes disso, é necessário dividir o *dataframe* em uma variável chamada **previsores** e outra chamada **classe**. Como o nome sugere, os previsores são as colunas com as características das flores (atributos previsores) que serão utilizados para tentar ajustar os pesos da rede de maneira à generalizar uma solução que encontre as classes corretamente."
   ]
  },
  {
   "cell_type": "code",
   "execution_count": 8,
   "metadata": {},
   "outputs": [],
   "source": [
    "previsores = dataframe.iloc[:, 0:4] \n",
    "classe = dataframe['class']"
   ]
  },
  {
   "cell_type": "code",
   "execution_count": 9,
   "metadata": {
    "scrolled": true
   },
   "outputs": [
    {
     "data": {
      "text/plain": [
       "<Figure size 432x288 with 0 Axes>"
      ]
     },
     "metadata": {},
     "output_type": "display_data"
    },
    {
     "data": {
      "image/png": "[encoded data removed]",
      "text/plain": [
       "<Figure size 1512x720 with 2 Axes>"
      ]
     },
     "metadata": {
      "needs_background": "light"
     },
     "output_type": "display_data"
    }
   ],
   "source": [
    "# iniciando a figura\n",
    "plt.figure()\n",
    "fig,ax=plt.subplots(1,2,figsize=(21, 10))\n",
    "\n",
    "# separando o dataset por classe\n",
    "setosa = dataframe[dataframe['class']=='Iris-setosa']\n",
    "versicolor = dataframe[dataframe['class']=='Iris-versicolor']\n",
    "virginica = dataframe[dataframe['class']=='Iris-virginica']\n",
    "\n",
    "# plotando os conjuntos no gráfico de dispersão\n",
    "setosa.plot(x=\"sepal-length\", y=\"sepal-width\", kind=\"scatter\",ax=ax[0],label='setosa',color='r')\n",
    "virginica.plot(x=\"sepal-length\",y=\"sepal-width\",kind=\"scatter\",ax=ax[0],label='versicolor',color='b')\n",
    "versicolor.plot(x=\"sepal-length\", y=\"sepal-width\", kind=\"scatter\", ax=ax[0], label='virginica', color='g')\n",
    "\n",
    "setosa.plot(x=\"petal-length\", y=\"petal-width\", kind=\"scatter\",ax=ax[1],label='setosa',color='r')\n",
    "versicolor.plot(x=\"petal-length\",y=\"petal-width\",kind=\"scatter\",ax=ax[1],label='versicolor',color='b')\n",
    "virginica.plot(x=\"petal-length\", y=\"petal-width\", kind=\"scatter\", ax=ax[1], label='virginica', color='g')\n",
    "# Adicionado legendas\n",
    "ax[0].set(title='Comparação de sépalas ', ylabel='sepal-width')\n",
    "ax[1].set(title='Comparação de pétalas',  ylabel='petal-width')\n",
    "ax[0].legend()\n",
    "ax[1].legend()\n",
    "plt.show()"
   ]
  },
  {
   "cell_type": "markdown",
   "metadata": {},
   "source": [
    "Conclui-se que as classes virgínica e versicolor são as mais complicadas de serem separadas, principalmente em relação ao tamanho das pétalas."
   ]
  },
  {
   "cell_type": "markdown",
   "metadata": {},
   "source": [
    "## Preparando os dados para o treinamento\n",
    "Agora que a análise e entendimento do conjunto foi feito, a ideia é fazer as transformações necessárias nos dados para deixar em uma formato adequado para o treinamento da rede neural"
   ]
  },
  {
   "cell_type": "markdown",
   "metadata": {},
   "source": [
    "### Normalização dos atributos previsores\n",
    "O método *isnul()* mostrou que não há nenhum registro vazio no *dataset* e é possível observar que os valores também parecem estar todos coerentes, sem a presença de outliers, como podemos notar pelo desvio padrão, mínimo e máximo de cada coluna e também no gráfico de dispersão.\n",
    "\n",
    "Todavia, existe uma variação relativamente grande dentro do nosso domínio de atributos previsores. O atributo *petal-width* por exemplo, tem uma média de valor de 1.1, enquanto o *sepal-length* possui uma média de 5.8. Dito isso, se faz necessário a padronização desses valores, para que nosso ajuste dos pesos não seja muito influenciado por essa diferença no tamanho da entrada. \n",
    "\n",
    "O tipo de normalização escolhido foi o **Z-score**, de forma arbitrária, por ser bastante comum em problemas como esse. Sua fórmula é bastante simples e foi representada no método *normalizacao_z_score*."
   ]
  },
  {
   "cell_type": "code",
   "execution_count": 10,
   "metadata": {},
   "outputs": [],
   "source": [
    "def normalizacao_z_score(valor):\n",
    "    media = previsores[valor.name].mean()\n",
    "    desvio_padrao = previsores[valor.name].std()\n",
    "\n",
    "    return (valor - media) / desvio_padrao"
   ]
  },
  {
   "cell_type": "markdown",
   "metadata": {},
   "source": [
    "O método *apply()* do pandas juntamente com a **lambda** aplicam o processo matemático do método de normalização em cada um dos registros do *dataframe*. Os novos registros normalizados podem ser vistos abaixo."
   ]
  },
  {
   "cell_type": "code",
   "execution_count": 11,
   "metadata": {
    "scrolled": true
   },
   "outputs": [
    {
     "data": {
      "text/html": [
       "<div>\n",
       "<style scoped>\n",
       "    .dataframe tbody tr th:only-of-type {\n",
       "        vertical-align: middle;\n",
       "    }\n",
       "\n",
       "    .dataframe tbody tr th {\n",
       "        vertical-align: top;\n",
       "    }\n",
       "\n",
       "    .dataframe thead th {\n",
       "        text-align: right;\n",
       "    }\n",
       "</style>\n",
       "<table border=\"1\" class=\"dataframe\">\n",
       "  <thead>\n",
       "    <tr style=\"text-align: right;\">\n",
       "      <th></th>\n",
       "      <th>sepal-length</th>\n",
       "      <th>sepal-width</th>\n",
       "      <th>petal-length</th>\n",
       "      <th>petal-width</th>\n",
       "    </tr>\n",
       "  </thead>\n",
       "  <tbody>\n",
       "    <tr>\n",
       "      <th>0</th>\n",
       "      <td>-0.897674</td>\n",
       "      <td>1.028611</td>\n",
       "      <td>-1.336794</td>\n",
       "      <td>-1.308593</td>\n",
       "    </tr>\n",
       "    <tr>\n",
       "      <th>1</th>\n",
       "      <td>-1.139200</td>\n",
       "      <td>-0.124540</td>\n",
       "      <td>-1.336794</td>\n",
       "      <td>-1.308593</td>\n",
       "    </tr>\n",
       "    <tr>\n",
       "      <th>2</th>\n",
       "      <td>-1.380727</td>\n",
       "      <td>0.336720</td>\n",
       "      <td>-1.393470</td>\n",
       "      <td>-1.308593</td>\n",
       "    </tr>\n",
       "    <tr>\n",
       "      <th>3</th>\n",
       "      <td>-1.501490</td>\n",
       "      <td>0.106090</td>\n",
       "      <td>-1.280118</td>\n",
       "      <td>-1.308593</td>\n",
       "    </tr>\n",
       "    <tr>\n",
       "      <th>4</th>\n",
       "      <td>-1.018437</td>\n",
       "      <td>1.259242</td>\n",
       "      <td>-1.336794</td>\n",
       "      <td>-1.308593</td>\n",
       "    </tr>\n",
       "  </tbody>\n",
       "</table>\n",
       "</div>"
      ],
      "text/plain": [
       "   sepal-length  sepal-width  petal-length  petal-width\n",
       "0     -0.897674     1.028611     -1.336794    -1.308593\n",
       "1     -1.139200    -0.124540     -1.336794    -1.308593\n",
       "2     -1.380727     0.336720     -1.393470    -1.308593\n",
       "3     -1.501490     0.106090     -1.280118    -1.308593\n",
       "4     -1.018437     1.259242     -1.336794    -1.308593"
      ]
     },
     "execution_count": 11,
     "metadata": {},
     "output_type": "execute_result"
    }
   ],
   "source": [
    "previsores = previsores.apply(lambda row: normalizacao_z_score(row))\n",
    "previsores.head()"
   ]
  },
  {
   "cell_type": "markdown",
   "metadata": {},
   "source": [
    "### Tratando valores categóricos\n",
    "O próximo passo será transformar o valor da classe de categórico para discreto, para que seja possível aplicar os cálculos, como o erro da saída por exemplo.\n",
    "\n",
    "Para isso foi criado o método *get_dicionario_classes* que gera uma estrutura de dicionário dinâmica, baseado na quantidade de classes do problema que está sendo tratado. O processo é muito simples, basta percorrer as classes existentes e atribuir um valor inteiro para cada classe."
   ]
  },
  {
   "cell_type": "code",
   "execution_count": 12,
   "metadata": {},
   "outputs": [],
   "source": [
    "def get_dicionario_classes(classe):\n",
    "    dict_classes = {}\n",
    "    count = 0\n",
    "    \n",
    "    for i in classe.unique():\n",
    "        dict_classes[i] = count\n",
    "        count += 1\n",
    "        \n",
    "    return dict_classes"
   ]
  },
  {
   "cell_type": "code",
   "execution_count": 13,
   "metadata": {},
   "outputs": [
    {
     "name": "stdout",
     "output_type": "stream",
     "text": [
      "{'Iris-setosa': 0, 'Iris-versicolor': 1, 'Iris-virginica': 2}\n"
     ]
    }
   ],
   "source": [
    "dict_classes = get_dicionario_classes(classe)\n",
    "print(dict_classes)"
   ]
  },
  {
   "cell_type": "markdown",
   "metadata": {},
   "source": [
    "Podemos ver acima os valores que o método atribuiu para cada uma das classes desse problema.\n",
    "\n",
    "Basta agora repetir o processos anterior de usar o método *apply()*, porém agora passando no *lambda* o método que vai atribuir a classe a seu determinado valor no dicionário que foi criado anteriormente."
   ]
  },
  {
   "cell_type": "code",
   "execution_count": 14,
   "metadata": {
    "scrolled": false
   },
   "outputs": [
    {
     "name": "stdout",
     "output_type": "stream",
     "text": [
      "2    50\n",
      "1    50\n",
      "0    50\n",
      "Name: class, dtype: int64\n"
     ]
    }
   ],
   "source": [
    "def transformar_categorico_em_numerico(valor, dict_classes):\n",
    "    return dict_classes[valor]\n",
    "    \n",
    "classe = classe.apply(lambda row: transformar_categorico_em_numerico(row, dict_classes))\n",
    "print(classe.value_counts())"
   ]
  },
  {
   "cell_type": "markdown",
   "metadata": {},
   "source": [
    "### Lidando com problemas multi-classe\n",
    "O problema em questão é multi-classe, ou seja, possuímos mais de duas classes como resposta na camada de saída, podendo ser, íris-setosa, versicolor ou virginica.\n",
    "Para problemas binários utilizar um único neurônio com a saída de 0 e 1 nos basta, todavia aqui, vamos precisar criar um novo neurônio para cada classe, totalizando 3 na nossa camada de saída.\n",
    "\n",
    "Além de modificar a estrutura da rede neural, também será preciso codificar os valores, uma vez que, ao invés de um valor escalar será trabalhado com um array na saída da rede, sendo este representado por: [1,0,0], [0,1,0] e [0,0,1]."
   ]
  },
  {
   "cell_type": "code",
   "execution_count": 15,
   "metadata": {},
   "outputs": [],
   "source": [
    "def codificar_classe():\n",
    "    classe_codificada = {}\n",
    "    array_classe = [1] + [0] * (len(classe.unique()) - 1) #cria um array dinâmico baseado na \n",
    "    #quantidade de classes, é [1,0,0] para esse problema mas poderia ser [1,0,0,0....,0].\n",
    "    count = 1    \n",
    "    classe_codificada[0] = array_classe.copy()\n",
    "    \n",
    "    for i in range(len(classe.unique()) - 1): # percorre todas as classes -1, pois já temos a primeira posição do dicionário por padrão\n",
    "        array_classe[count - 1] = 0 # o valor 1 atual vira 0\n",
    "        array_classe[count] = 1  # a próxima casa do array vira 1   \n",
    "        classe_codificada[count] = array_classe.copy()\n",
    "        count += 1\n",
    "    \n",
    "    return classe_codificada      \n",
    "\n",
    "classe_codificada = codificar_classe()"
   ]
  },
  {
   "cell_type": "code",
   "execution_count": 16,
   "metadata": {},
   "outputs": [
    {
     "data": {
      "text/plain": [
       "{0: [1, 0, 0], 1: [0, 1, 0], 2: [0, 0, 1]}"
      ]
     },
     "execution_count": 16,
     "metadata": {},
     "output_type": "execute_result"
    }
   ],
   "source": [
    "classe_codificada"
   ]
  },
  {
   "cell_type": "markdown",
   "metadata": {},
   "source": [
    "A ideia do método *codificar_classe* é criar mais um dicionário, como é possível ver acima, onde cada posição representa uma classe codificada em um array de binários. O tamanho desse array é dinâmico dependendo do número de classes e a ideia é ir movimentando o valor do 1 conforme as iterações.\n",
    "\n",
    "Feito isso, basta repetir o processo para substituir o valor da classe."
   ]
  },
  {
   "cell_type": "code",
   "execution_count": 17,
   "metadata": {},
   "outputs": [
    {
     "name": "stdout",
     "output_type": "stream",
     "text": [
      "0    [1, 0, 0]\n",
      "1    [1, 0, 0]\n",
      "2    [1, 0, 0]\n",
      "3    [1, 0, 0]\n",
      "4    [1, 0, 0]\n",
      "Name: class, dtype: object\n"
     ]
    }
   ],
   "source": [
    "def substituir_classe_codificada(valor, classe_codificada):\n",
    "    return classe_codificada[valor]\n",
    "\n",
    "classe = classe.apply(lambda row: substituir_classe_codificada(row, classe_codificada))\n",
    "print(classe.head())"
   ]
  },
  {
   "cell_type": "markdown",
   "metadata": {},
   "source": [
    "Com isso, a classe agora está em uma estrutura que vai suportar o problema multi-classe."
   ]
  },
  {
   "cell_type": "markdown",
   "metadata": {},
   "source": [
    "### Divisão do dataframe\n",
    "Agora que os dados do *dataframe* já estão no formato necessário, basta dividir as bases em treinamento, validação e teste, usando a proporção de 70%, 15% e 15%.\n",
    "\n",
    "Para isso foi criado o método *dividir_dataframe* onde será utilizado o método *sample* do pandas para pegar amostras aleatórias sem reposição do dataframe, e a partir dessa amostra criar os demais conjuntos.\n",
    "\n",
    "O *x_treinamento* vai ser a fatia responsável por treinar a rede e ajustar os pesos. O teste do treinamento será feito ao final de cada época na base chamada *x_teste*, proporcionando uma avaliação não enviesada dos resultados da rede em dados não vistos no treino.\n",
    "\n",
    "Após a rede estar completamente treinada, iremos usar a base de *x_validacao* para gerar novas previsões baseado em atributos previsores nunca antes vistos pela rede, dando uma validação final da eficácia do treinamento.\n",
    "\n",
    "Os parâmetros com sulfixo *p* indicam o porcentagem que será atribuida para cada base de dados e o último parâmetro de época vai mudar o retorno da função dependendo se o perceptron é do tipo que atualiza os pesos por registro ou por época (trabalhado posteriormente)."
   ]
  },
  {
   "cell_type": "code",
   "execution_count": 18,
   "metadata": {},
   "outputs": [],
   "source": [
    "def dividir_dataframe(previsores, classe, p_treinamento, p_teste, p_validacao, epoca = False):\n",
    "    x_treinamento = previsores.sample(frac = p_treinamento)\n",
    "    y_treinamento = classe[x_treinamento.index]\n",
    "    \n",
    "    x_teste_sem_previsores = previsores.drop(x_treinamento.index)\n",
    "    nova_p_teste = p_teste / (1 - p_treinamento)\n",
    "    \n",
    "    x_teste = x_teste_sem_previsores.sample(frac = nova_p_teste)\n",
    "    y_teste = classe[x_teste.index]\n",
    "    \n",
    "    x_validacao = x_teste_sem_previsores.drop(x_teste.index)\n",
    "    y_validacao = classe[x_validacao.index]\n",
    "    \n",
    "    if epoca == False:\n",
    "        return x_treinamento.reset_index(drop=True), y_treinamento.reset_index(drop=True), \\\n",
    "        x_teste.reset_index(drop=True), y_teste.reset_index(drop=True), x_validacao.reset_index(drop=True), y_validacao.reset_index(drop=True)\n",
    "    else:\n",
    "        # não tem reset index na classe\n",
    "        return x_treinamento.reset_index(drop=True), y_treinamento, \\\n",
    "        x_teste.reset_index(drop=True), y_teste, x_validacao.reset_index(drop=True), y_validacao"
   ]
  },
  {
   "cell_type": "markdown",
   "metadata": {},
   "source": [
    "A nomenclatura de \"x\" representa os atributos previsores e \"y\" a classe.\n",
    "\n",
    "Depois de criar a fração de treinamento, é removido dos previsores todos os dados que estão na porção de treinamento, pois uma regra importante a ser seguida na divisão dos dados é o particionamento, ou seja, nenhum dos registros de treinamento deve estar no conjunto de teste e vice versa. \n",
    "\n",
    "Depois disso, o conjunto total se torna o resto que não está no conjunto de treinamento, portanto as porcentagens também são redimensionadas, por exemplo, se antes a proporção era de 15% do conjunto para teste e 15% para validação, agora cada um desses 15% representa 50%, pois o novo 100% está sem os registros de treinamento.\n",
    "\n",
    "Feito isso, basta dividir novamente a base em teste e validação e retornar os conjuntos divididos."
   ]
  },
  {
   "cell_type": "markdown",
   "metadata": {},
   "source": [
    "## Implementação e treinamento da rede perceptron\n",
    "Os próximos passos são relativos à implementação dos métodos usados na rede perceptron para realizar o treinamento e também exibição dos resultados."
   ]
  },
  {
   "cell_type": "markdown",
   "metadata": {},
   "source": [
    "### Inicialização dos pesos\n",
    "Os pesos serão inicializados de forma aleatória para então serem gradativamente ajustados conforme a rede neural converge.\n",
    "Para isso, foi criado o método *inicializar_pesos*, que percorre cada um dos neurônios e gera um vetor da quantidade de pesos que ele possui baseado nas suas conexões sinapticas com os neurônios da próxima camada.\n",
    "\n",
    "Além disso, o método também recebe um parâmetro chamado dominio, que é o intervalo de valores que os pesos serão gerados, os testes a princípio foram realizados em um domínio de [0,1]."
   ]
  },
  {
   "cell_type": "code",
   "execution_count": 19,
   "metadata": {},
   "outputs": [],
   "source": [
    "def inicializar_pesos(dominio):\n",
    "    pesos_final = []\n",
    "    \n",
    "    for i in range(len(previsores.columns)):\n",
    "        pesos = [] \n",
    "        for j in range(len(dict_classes)):\n",
    "            pesos.append(random.uniform(dominio[0], dominio[1]))\n",
    "        pesos_final.append(pesos)\n",
    "    return pesos_final"
   ]
  },
  {
   "cell_type": "code",
   "execution_count": 20,
   "metadata": {
    "scrolled": true
   },
   "outputs": [
    {
     "name": "stdout",
     "output_type": "stream",
     "text": [
      "Pesos: [[0.2740393042626391, 0.2228978286257881, 0.06861619662639196], [0.4868327436802431, 0.9608882348571134, 0.5763831964001409], [0.381963373414577, 0.4516643860595101, 0.34240889252139173], [0.04482145529716541, 0.1594385826935225, 0.45349888773766656]]\n"
     ]
    }
   ],
   "source": [
    "pesos = inicializar_pesos([0, 1])\n",
    "print('Pesos:', pesos)"
   ]
  },
  {
   "cell_type": "markdown",
   "metadata": {},
   "source": [
    "Como é possível observar, o array de pesos para esse problema possui 4 posições com 3 pesos em cada uma das posições. Isso acontece porque possuímos 4 neurônios (os atributos de entrada/previsores sem considerar o bias até então) conectados à 3 neurônios (um neurônio para cada saída possível), portanto cada um dos 4 neurônios possui 3 pesos (conexões) cada um. \n",
    "\n",
    "Para obter o número de conexões por camada basta multiplicar o número de neurônios da camada atual pelos número de neurônios na próxima camada, dessa forma temos: 4 * 3 = 12 conexões com pesos para serem atualizados."
   ]
  },
  {
   "cell_type": "markdown",
   "metadata": {},
   "source": [
    "### Função de soma\n",
    "A função de soma acontece em todos os neurônios, somando o valor do produto da multiplicação entre os neurônios adjacentes anteriores com os pesos das sinapses artificiais.\n",
    "Esse valor de soma é o valor final do neurônio após receber todas as sinapses e será usado na função de ativação para indicar se o neurônio em questão foi excitado ou inibido.\n",
    "\n",
    "\n",
    "A soma do produto pode ser feita de forma simples usando o método *dot* do numpy, retornando um produto escalar."
   ]
  },
  {
   "cell_type": "code",
   "execution_count": 21,
   "metadata": {},
   "outputs": [],
   "source": [
    "def somatoria(entradas, pesos):\n",
    "    return np.dot(entradas, pesos) "
   ]
  },
  {
   "cell_type": "markdown",
   "metadata": {},
   "source": [
    "### Função de ativação\n",
    "A função de ativação por *default* no perceptron é a chamada \"*step function* (função degrau)\", onde o neurônio artificial é excitado ou não baseado em um *threshold* (limiar) pré definido.\n",
    "Nesse caso, se o valor do neurônio for maior que 0 ele retorna o 1, excitando a célula, caso contrário, retorna 0.\n",
    "\n",
    "Por ser um problema multiclasse, foi criado um laço *for* para percorrer o array da classe e excitar todas as posições em que o valor é maior que 0. \n",
    "\n",
    "Claro que isso acaba gerando um problema onde mais de um neurônio por vez na camada de saída pode ser excitado. "
   ]
  },
  {
   "cell_type": "code",
   "execution_count": 22,
   "metadata": {},
   "outputs": [],
   "source": [
    "def funcao_ativacao_step(soma):\n",
    "    ativacao = []\n",
    "    for i in soma:\n",
    "        if i > 0:\n",
    "            ativacao.append(1)\n",
    "        else:\n",
    "            ativacao.append(0)\n",
    "\n",
    "    return ativacao, ativacao"
   ]
  },
  {
   "cell_type": "markdown",
   "metadata": {},
   "source": [
    "### Função de custo\n",
    "A função de custo é a responsável por calcular o erro da rede neural ao comparar o valor correto com o valor que foi previsto.\n",
    "\n",
    "A variável de *erro* indica se a rede neural errou a previsão ou acertou (uma vez que os pesos aqui não serão atualizados em caso de acerto), já a variável *valor_erro*, indica o valor exato em cada neurônio de saída que a rede classificou incorretamente, para alcançar uma precisão maior na atualização dos pesos.\n",
    "\n",
    "Por exemplo, se o valor previsto foi: [0.8,0.37,0.16] e o valor real é: [0,1,0], a variável *valor_erro* vai trazer o erro do algoritmo por posição: [0.8, 0.63, 0.16], totalizando uma soma de 1.59. "
   ]
  },
  {
   "cell_type": "code",
   "execution_count": 23,
   "metadata": {},
   "outputs": [],
   "source": [
    "def funcao_custo(valor_correto, valor_previsto, valor_ativacao):\n",
    "    erro = valor_correto != valor_previsto\n",
    "    valor_erro = list(abs(np.array(valor_correto) - np.array(valor_ativacao)))\n",
    "    return erro, sum(valor_erro) # valor escalar"
   ]
  },
  {
   "cell_type": "markdown",
   "metadata": {},
   "source": [
    "### Função de atualização de peso\n",
    "A formula da atualização de pesos no perceptron foi representada no método de *atualizar_peso*\n",
    "\n",
    "Com ela, conseguimos ajustar os pesos seguindo uma taxa de aprendizado (basicamente o tamanho do \"passo\") além de levar em consideração a grandeza da entrada e o quanto a previsão estava incorreta.\n",
    "\n",
    "Algo importante de se considerar é que o perceptron faz a atualização dos pesos POR REGISTRO, ou seja, a cada registro apresentado a rede neural que é classificado de forma incorreta é gerado uma atualização nos pesos, podendo dificultar a convergência devido à sensibilidade aos dados contidos no *dataframe* e também aumentando o tempo de execução do algoritmo."
   ]
  },
  {
   "cell_type": "code",
   "execution_count": 24,
   "metadata": {},
   "outputs": [],
   "source": [
    "def atualizar_peso(entrada, peso, erro, tx_aprendizado):\n",
    "    novo_peso = peso + (tx_aprendizado * entrada * erro)\n",
    "    return novo_peso"
   ]
  },
  {
   "cell_type": "markdown",
   "metadata": {},
   "source": [
    "### Bias\n",
    "O Bias é a constante que será adicionada como sendo uma das colunas do *dataframe*. Essa coluna, assim como as demais, irá se transformar em um neurônio da rede, que vai ajudar nos cálculos dos pesos.\n",
    "\n",
    "O Bias tem uma atualização diferenciada, pois não leva em consideração a entrada, portanto foi criado um método para atualizar o bias."
   ]
  },
  {
   "cell_type": "code",
   "execution_count": 25,
   "metadata": {},
   "outputs": [],
   "source": [
    "def atualizar_bias(entrada, peso, erro, tx_aprendizado):\n",
    "    novo_peso = peso + np.float64(tx_aprendizado * erro)\n",
    "    return novo_peso"
   ]
  },
  {
   "cell_type": "code",
   "execution_count": 26,
   "metadata": {},
   "outputs": [],
   "source": [
    "previsores['bias'] = 1 # adicionando o bias na coluna"
   ]
  },
  {
   "cell_type": "markdown",
   "metadata": {},
   "source": [
    "### Matriz de confusão\n",
    "Foi utilizado a biblioteca do *sklearn* para a implementação da matriz de confusão, sendo necessário apenas adaptar o formato dos dados para um array de valores escalares. Esse processo de adaptação foi feito no método *get_matriz_confusao*. \n",
    "\n",
    "Também foi necessário adicionar um *try/except* para retornar um array vazio em caso de erros na sua geração. Isso se deu pelo fato de que ao utilizar a função de ativação \"degrau\" mais de um neorônio poderia ser ativado ao mesmo tempo, gerando problemas de incompatibilidade na geração da matriz."
   ]
  },
  {
   "cell_type": "code",
   "execution_count": 27,
   "metadata": {},
   "outputs": [],
   "source": [
    "def get_matriz_confusao(valor_correto, valor_previsto):\n",
    "    try:\n",
    "        previsao = np.array(valor_previsto.copy()) # deep copy da variável\n",
    "        previsao = np.where(previsao == 1)[1] # transformando em um array de valores escalares\n",
    "\n",
    "        correto = np.array(list(valor_correto.values))\n",
    "        correto = np.where(correto == 1)[1]\n",
    "\n",
    "        matriz_confusao = confusion_matrix(correto, previsao)\n",
    "\n",
    "        return matriz_confusao\n",
    "    except:\n",
    "        return []"
   ]
  },
  {
   "cell_type": "markdown",
   "metadata": {},
   "source": [
    "### Implementação do perceptron\n",
    "O método *treinar* é que a que vai implementar de fato todas as etapas que foram mostradas até agora, recebendo o número de épocas que iremos executar o perceptron, onde cada época representa a passagem de todo o *dataframe* na pela rede, a função de ativação que será utilizada, a função de custo e os conjuntos de treinamento e teste, além da taxa de aprendizado. "
   ]
  },
  {
   "cell_type": "code",
   "execution_count": 28,
   "metadata": {},
   "outputs": [],
   "source": [
    "def treinar(epocas, f_ativacao, f_custo, pesos, x_treinamento, y_treinamento, x_teste, y_teste,\n",
    "           tx_aprendizado):\n",
    "\n",
    "    execucoes = 0\n",
    "    precisoes_treinamento = [] # convergência da base de treinamento ao longo das épocas\n",
    "    precisoes_teste = [] # convergência da base de teste ao longo das épocas\n",
    "    melhores_pesos = [] # registra o melhor conjunto de pesos para a validação posterior\n",
    "    melhor_matriz_treinamento = [] # matriz confusão de treinamento \n",
    "    melhor_matriz_teste = [] #  matriz confusão de teste\n",
    "\n",
    "    while execucoes < epocas: # parada ao executar todas as épocas.\n",
    "        precisao = 0\n",
    "        iteracao = 0\n",
    "        valores_previstos = []\n",
    "        # x_treinamento = x_treinamento.sample(frac=1).reset_index(drop=True) # embaralhar os valores dos previsores, por que sem isso, podemos ter sempre uma ordem fixa de ajuste de pesos, prejudicando a rede\n",
    "\n",
    "        for i in x_treinamento.values: # percorre cada registro individualmente\n",
    "            entradas = i   \n",
    "            soma = somatoria(entradas, pesos)\n",
    "        \n",
    "            # a ativacao retorna qual dos 3 neurônios de saíde foram excitados e também o \n",
    "            # valor real da ativação, para calculo do erro.\n",
    "            neuronio_excitado, valor_ativacao = f_ativacao(soma) \n",
    "            valores_previstos.append(neuronio_excitado)\n",
    "\n",
    "            erro, valor_erro = f_custo(y_treinamento[iteracao], neuronio_excitado, \n",
    "                                       valor_ativacao)\n",
    "            # atualiza os pesos em caso de erro\n",
    "            if erro == True:\n",
    "                count = 0\n",
    "                # percorre cada coluna para atualizar o peso e o bias\n",
    "                for i in entradas:\n",
    "                    if count == len(entradas) - 1:\n",
    "                        novo_peso = atualizar_bias(i, pesos[count], valor_erro, tx_aprendizado)\n",
    "                    else:\n",
    "                        novo_peso = atualizar_peso(i, pesos[count], valor_erro, tx_aprendizado)\n",
    "                    \n",
    "                    pesos[count] = novo_peso\n",
    "                    count += 1\n",
    "            else:\n",
    "                precisao += 100 / len(x_treinamento) # aumenta precisão gradativamente\n",
    "\n",
    "            iteracao += 1\n",
    "        \n",
    "        precisoes_treinamento.append(precisao) # registra precisão ao fim da época\n",
    "        melhor_matriz_treinamento = get_matriz_confusao(y_treinamento, valores_previstos) if precisoes_treinamento[execucoes] >= max(precisoes_treinamento) else melhor_matriz_treinamento\n",
    "        melhores_pesos = pesos.copy() if precisoes_treinamento[execucoes] >= max(precisoes_treinamento) else melhores_pesos\n",
    "\n",
    "        teste_rede = testar(pesos, x_teste, y_teste, f_ativacao, f_custo)\n",
    "        precisoes_teste.append(teste_rede[0])\n",
    "        melhor_matriz_teste = teste_rede[1] if precisoes_teste[execucoes] >= max(precisoes_teste) else melhor_matriz_teste\n",
    "        execucoes += 1\n",
    "        \n",
    "    return precisoes_treinamento, precisoes_teste, melhores_pesos, melhor_matriz_treinamento, melhor_matriz_teste"
   ]
  },
  {
   "cell_type": "markdown",
   "metadata": {},
   "source": [
    "## Método de teste\n",
    "Ao final de cada época a rede teve seu desempenho avaliado na base de teste, isso foi feito no método *testar* onde usamos os pesos ajustados no treinamento apenas para pegar os acertos e erros no conjunto de teste."
   ]
  },
  {
   "cell_type": "code",
   "execution_count": 29,
   "metadata": {},
   "outputs": [],
   "source": [
    "def testar(pesos, x_previsores, y_classe, f_ativacao, f_custo):\n",
    "    precisao = 0\n",
    "    iteracao = 0\n",
    "    valores_previstos = [] # armazena os valores previstos para cada registro\n",
    "    \n",
    "    for i in x_previsores.values:\n",
    "        entradas = i   \n",
    "        soma = somatoria(entradas, pesos)\n",
    "        \n",
    "        neuronio_excitado, valor_ativacao = f_ativacao(soma)\n",
    "        valores_previstos.append(neuronio_excitado)\n",
    "\n",
    "        erro, valor_erro = f_custo(y_classe[iteracao], neuronio_excitado, valor_ativacao)\n",
    "        \n",
    "        # faz a contagem da precisão, incrementando por acerto baseado no total de registros\n",
    "        if erro == 0: \n",
    "            precisao += 100 / len(x_previsores)\n",
    "        \n",
    "        iteracao += 1\n",
    "        \n",
    "    matriz_confusao = get_matriz_confusao(y_classe, valores_previstos)\n",
    "\n",
    "    return precisao, matriz_confusao"
   ]
  },
  {
   "cell_type": "markdown",
   "metadata": {},
   "source": [
    "### Exibindo os resultados\n",
    "Os resultados de precisão, média, desvio padrão e os gráficos de convergência são exibidos nos método abaixo de *exibir_resultados* e *plotar_convergencia*."
   ]
  },
  {
   "cell_type": "code",
   "execution_count": 30,
   "metadata": {},
   "outputs": [],
   "source": [
    "def exibir_resultados(precisao_treinamento, precisao_teste, resultado_final):\n",
    "    print('Melhor precisão de treinamento', max(precisao_treinamento))\n",
    "    print('Melhor precisão de teste', max(precisao_teste))\n",
    "    print('Melhor precisão de validação', max(resultado_final))\n",
    "    print('Média precisão de treinamento', np.mean(precisao_treinamento))\n",
    "    print('Média precisão de teste', np.mean(precisao_teste))\n",
    "    print('Média precisão de validação', np.mean(resultado_final))\n",
    "    print('Desvio Padrão precisão de treinamento', np.std(precisao_treinamento))\n",
    "    print('Desvio Padrão precisão de teste', np.std(precisao_teste))\n",
    "    print('Desvio Padrão precisão de validação', np.std(resultado_final))"
   ]
  },
  {
   "cell_type": "code",
   "execution_count": 31,
   "metadata": {},
   "outputs": [],
   "source": [
    "def plotar_convergencia(precisao_treinamento, precisao_teste):\n",
    "    fig, axes = plt.subplots(nrows=1, ncols=2, figsize=(10, 8)) # iniciar a figura\n",
    "    # plotar a figura de treinamento\n",
    "    axes[0].plot(precisao_treinamento, color = 'blue')\n",
    "    axes[0].legend(['Treinamento'])\n",
    "    # plotar a figura de teste\n",
    "    axes[1].plot(precisao_teste, color = 'orange')\n",
    "    axes[1].legend(['Teste'])\n",
    "\n",
    "    plt.xlabel('Épocas')\n",
    "    plt.ylabel('Precisão')\n",
    "    plt.show()"
   ]
  },
  {
   "cell_type": "markdown",
   "metadata": {},
   "source": [
    "## Testes no perceptron\n",
    "Uma vez que a rede perceptron foi criada basta testar seus resultados com diferentes parâmetros. Para isso, foi criado a função genérica chamada *executar_perceptron*, que recebe os parâmetros desejados e treina a rede. \n",
    "\n",
    "Cada vez que o método *executar_perceptron* é chamado, o algoritmo é inicializado 30 vezes, sem nenhuma mudança nos parâmetros, apenas gerando um conjunto inicial de pesos diferente para cada inicialização e também uma partição nova dos dados, pois ambos são aleatórios.\n",
    "\n",
    "Isso é feito porque as redes neurais são algoritmos extremamente estocásticos, o que faz com que sejam inclusive evitados em algumas áreas, portanto é interessante tentar treinar a rede várias vezes para capturar seus melhores resultados. \n",
    "\n",
    "O método *executar_perceptron* também registra o desempenho e convergência da rede durante as iterações, além de retornar os valores máximos ao final, para que possamos usar posteriormente na otimização de parâmetros."
   ]
  },
  {
   "cell_type": "code",
   "execution_count": 32,
   "metadata": {},
   "outputs": [],
   "source": [
    "def executar_perceptron(funcao_ativacao, funcao_custo, epocas, dominio_pesos = [0, 1], \n",
    "                       tx_aprendizado = 0.001):\n",
    "    # os arrays servem para registrar os valores de cada inicialização da rede\n",
    "    convergencia_treinamento = [0]\n",
    "    convergencia_teste = [0]\n",
    "    precisao_treinamento = []\n",
    "    precisao_teste = []\n",
    "    resultado_final = []\n",
    "    matriz_confusao_treinamento = []\n",
    "    matriz_confusao_teste = []\n",
    "    matriz_confusao_validacao = []\n",
    "    start_time = time.time() # tempo de execução\n",
    "    \n",
    "    for i in range(30): # 30 execuções\n",
    "        x_treinamento, y_treinamento, x_teste, y_teste, \\\n",
    "        x_validacao, y_validacao = dividir_dataframe(previsores, classe, 0.7, 0.15, 0.15)\n",
    "        \n",
    "        pesos = inicializar_pesos(dominio_pesos) \n",
    "        \n",
    "        treinamento = treinar(epocas, funcao_ativacao, funcao_custo, pesos, x_treinamento,\n",
    "                                     y_treinamento, x_teste, y_teste, tx_aprendizado)\n",
    "        \n",
    "        # É salvo apenas o melhor resultado da convergência, para plotar um único gráfico\n",
    "        convergencia_treinamento = treinamento[0] if max(treinamento[0]) >= \\\n",
    "                                max(convergencia_treinamento) else convergencia_treinamento\n",
    "        \n",
    "        convergencia_teste = treinamento[1] if max(treinamento[1]) >= max(convergencia_teste) \\\n",
    "                                        else convergencia_teste\n",
    "        \n",
    "        precisao_treinamento.append(max(treinamento[0]))\n",
    "        precisao_teste.append(max(treinamento[1]))\n",
    "        # avaliação do algoritmo ao final do treinamento na base de validação\n",
    "        teste_final = testar(treinamento[2], x_validacao, y_validacao, \n",
    "                                      funcao_ativacao, funcao_custo)\n",
    "        resultado_final.append(teste_final[0])\n",
    "        \n",
    "        matriz_confusao_treinamento = treinamento[3] if max(treinamento[0]) >= max(precisao_treinamento) else matriz_confusao_treinamento\n",
    "        matriz_confusao_teste = treinamento[4] if max(treinamento[1]) >= max(precisao_teste) else matriz_confusao_teste\n",
    "        matriz_confusao_validacao = teste_final[1] if teste_final[0] >= max(resultado_final) else matriz_confusao_validacao\n",
    "\n",
    "    plotar_convergencia(convergencia_treinamento, convergencia_teste)   \n",
    "    exibir_resultados(precisao_treinamento, precisao_teste, resultado_final)\n",
    "    print('Matriz de confusão de treinamento:\\n', matriz_confusao_treinamento)\n",
    "    print('Matriz de confusão de teste:\\n', matriz_confusao_teste)\n",
    "    print('Matriz de confusão de validação:\\n', matriz_confusao_validacao)\n",
    "    print(\"Tempo de execução: %s Segundos\" % (time.time() - start_time))\n"
   ]
  },
  {
   "cell_type": "code",
   "execution_count": 49,
   "metadata": {
    "scrolled": false
   },
   "outputs": [
    {
     "data": {
      "image/png": "[encoded data removed]",
      "text/plain": [
       "<Figure size 720x576 with 2 Axes>"
      ]
     },
     "metadata": {
      "needs_background": "light"
     },
     "output_type": "display_data"
    },
    {
     "name": "stdout",
     "output_type": "stream",
     "text": [
      "Melhor precisão de treinamento 18.095238095238095\n",
      "Melhor precisão de teste 27.272727272727277\n",
      "Melhor precisão de validação 17.391304347826086\n",
      "Média precisão de treinamento 5.206349206349206\n",
      "Média precisão de teste 6.969696969696968\n",
      "Média precisão de validação 3.623188405797101\n",
      "Desvio Padrão precisão de treinamento 4.879397093800851\n",
      "Desvio Padrão precisão de teste 7.490428542005015\n",
      "Desvio Padrão precisão de validação 4.773817128116117\n",
      "Matriz de confusão de treinamento:\n",
      " []\n",
      "Matriz de confusão de teste:\n",
      " []\n",
      "Matriz de confusão de validação:\n",
      " []\n",
      "Tempo de execução: 54.61538052558899 Segundos\n"
     ]
    }
   ],
   "source": [
    "executar_perceptron(funcao_ativacao_step, funcao_custo, 300)"
   ]
  },
  {
   "cell_type": "markdown",
   "metadata": {},
   "source": [
    "### Resultados iniciais e ZeroR\n",
    "Os testes inicias mostram uma precisão extremamente baixa, algo está definitivamente se comportando mal no algoritmo. Podemos ter certeza que o culpado é a implementação do algoritmo e não a base de dados devido a análise exploratória que foi feita anteriormente, revelando as características linearmente separáveis que deveriam proporcionar uma precisão maior que a encontrada até agora.\n",
    "\n",
    "O \"Zero R\" pode ser utilizado para saber a precisão mínima que o algoritmo deve ter para ser considerado melhor do que não usar algoritmo algum. A precisão do zeroR, considerado o limiar mínimo, é dado pela proporção de registros da classe majoritária no *dataframe*.\n",
    "\n",
    "\n",
    "Nesse *dataframe* as classes estão **normalmente distribuídas** em 3 partes iguais, fazendo com que a precisão majoritária sem algoritmos seja de **33%**, portanto, qualquer precisão inferior a isso torna o uso do algoritmo injustificável.\n",
    "\n",
    "\n",
    "Todavia, ainda que nosso algoritmo seja considerado útil com 34% de acerto, ainda está longe de algo desejável."
   ]
  },
  {
   "cell_type": "markdown",
   "metadata": {},
   "source": [
    "# Melhorando os resultados\n",
    "Os passos a seguir foram usados como meio de melhorar a precisão da rede perceptron."
   ]
  },
  {
   "cell_type": "markdown",
   "metadata": {},
   "source": [
    "### Função de ativação sigmoid\n",
    "Como foi dito anteriormente, utilizar a função degrau para ativação pode ocasionar o aumento dos erros, devido a possibilidade de excitar vários neurônios ao passar pelo limiar especificado. Portanto foi criado uma nova função de ativação baseado na fórmula da sigmoid.\n",
    "\n",
    "Com isso, os valores ficam em um intervalo de 0 e 1 e o neurônio escolhido para ser excitado é aquele com o maior valor, dessa forma, apenas um neurônio é excitado por vez"
   ]
  },
  {
   "cell_type": "code",
   "execution_count": 58,
   "metadata": {},
   "outputs": [],
   "source": [
    "def funcao_ativacao_sigmoid(soma):\n",
    "    valor_ativacao = list(1 / (1 + math.e ** -soma))\n",
    "    index_excitacao = valor_ativacao.index(max(valor_ativacao))# pegar neurônio com maior valor  \n",
    "    neuronio_excitado = [0] * len(soma) # zerar os valores dos neurônios de saída\n",
    "    neuronio_excitado[index_excitacao] = 1 # definir o valor 1 para o neurônio com maior valor\n",
    "    \n",
    "    return neuronio_excitado, valor_ativacao"
   ]
  },
  {
   "cell_type": "code",
   "execution_count": 51,
   "metadata": {},
   "outputs": [
    {
     "data": {
      "image/png": "[encoded data removed]",
      "text/plain": [
       "<Figure size 720x576 with 2 Axes>"
      ]
     },
     "metadata": {
      "needs_background": "light"
     },
     "output_type": "display_data"
    },
    {
     "name": "stdout",
     "output_type": "stream",
     "text": [
      "Melhor precisão de treinamento 84.76190476190457\n",
      "Melhor precisão de teste 77.27272727272728\n",
      "Melhor precisão de validação 78.26086956521739\n",
      "Média precisão de treinamento 46.66666666666661\n",
      "Média precisão de teste 45.9090909090909\n",
      "Média precisão de validação 46.23188405797102\n",
      "Desvio Padrão precisão de treinamento 19.123657749350244\n",
      "Desvio Padrão precisão de teste 20.94035870250392\n",
      "Desvio Padrão precisão de validação 20.284160691614606\n",
      "Matriz de confusão de treinamento:\n",
      " [[33  2  0]\n",
      " [ 0 36  4]\n",
      " [ 0 10 20]]\n",
      "Matriz de confusão de teste:\n",
      " [[9 0 0]\n",
      " [0 3 0]\n",
      " [0 5 5]]\n",
      "Matriz de confusão de validação:\n",
      " [[5 1 0]\n",
      " [0 6 1]\n",
      " [0 3 7]]\n",
      "Tempo de execução: 74.09392404556274 Segundos\n"
     ]
    }
   ],
   "source": [
    "executar_perceptron(funcao_ativacao_sigmoid, funcao_custo, 300)"
   ]
  },
  {
   "cell_type": "markdown",
   "metadata": {},
   "source": [
    "A aplicação da função sigmoid gerou melhorias consideráveis nos resultados. Dessa vez, foi possível gerar as matrizes de confusão das classes 0, 1 e 2 respectivamente, onde a linha é o valor real e a coluna o valor que foi previsto.\n",
    "\n",
    "\n",
    "Como é possível observar, a maior parte das classificações incorretas está entre a classe de iris versicolor e virginica, representado pelos valores 1 e 2 segundo o dicionário de classe criado anteriormente. Esse comportamente já era esperado, uma vez que suas características se misturam mais no espaço, dificultando o trabalho da rede neural. \n",
    "\n",
    "\n",
    "Na matriz de teste por exemplo, é possível notar que 50% das íris virginicas foram classificadas como sendo versicolor, portanto ainda é preciso otimizar mais os parâmetros do algoritmo a fim de melhorar sua capacidade de divisão no espaço de características."
   ]
  },
  {
   "cell_type": "markdown",
   "metadata": {},
   "source": [
    "Um outro parâmetro que pode ser otimizado é o domínio dos pesos, aumentando a precisão da busca pelos melhores pesos, que é refletido por sua vez em um maior número de oscilações nos gráficos de precisão.\n",
    "\n",
    "Um domínio mais próximo a zero faz com que os valores comecem pequenos e aumentem gradativamente (baseado também no tamanho da taxa de aprendizado), fazendo uma busca mais aprofundada pelo ótimo global. "
   ]
  },
  {
   "cell_type": "code",
   "execution_count": 53,
   "metadata": {},
   "outputs": [
    {
     "data": {
      "image/png": "[encoded data removed]",
      "text/plain": [
       "<Figure size 720x576 with 2 Axes>"
      ]
     },
     "metadata": {
      "needs_background": "light"
     },
     "output_type": "display_data"
    },
    {
     "name": "stdout",
     "output_type": "stream",
     "text": [
      "Melhor precisão de treinamento 73.33333333333319\n",
      "Melhor precisão de teste 81.81818181818183\n",
      "Melhor precisão de validação 78.26086956521739\n",
      "Média precisão de treinamento 50.317460317460245\n",
      "Média precisão de teste 51.06060606060607\n",
      "Média precisão de validação 46.23188405797102\n",
      "Desvio Padrão precisão de treinamento 15.795525134053552\n",
      "Desvio Padrão precisão de teste 17.979301434523588\n",
      "Desvio Padrão precisão de validação 20.408040884544054\n",
      "Matriz de confusão de treinamento:\n",
      " [[30  3  0]\n",
      " [ 2 38  0]\n",
      " [ 1 22  9]]\n",
      "Matriz de confusão de teste:\n",
      " [[6 0 0]\n",
      " [2 3 2]\n",
      " [0 0 9]]\n",
      "Matriz de confusão de validação:\n",
      " [[12  0  1]\n",
      " [ 0  5  2]\n",
      " [ 0  2  1]]\n",
      "Tempo de execução: 69.85689520835876 Segundos\n"
     ]
    }
   ],
   "source": [
    "executar_perceptron(funcao_ativacao_sigmoid, funcao_custo, 300, [-0.005, 0.005])"
   ]
  },
  {
   "cell_type": "markdown",
   "metadata": {},
   "source": [
    "## Mean Squared Error e Root Mean Squared error\n",
    "A função de custo que está sendo utilizada atualmente é a mais simples possível, onde comparamos a diferença entre a previsão atual com o valor esperado. Existem outras fórmulas um pouco mais completas que possuem um nível de precisão maior em estimar os custos.\n",
    "\n",
    "A primeira delas é a função Mean Squared Error, representada no método *funcao_custo_mse*, que além de calcular o valor correto subtraído do valor previsto também eleva o resultado da subtração ao quadrado e os soma, gerando um valor escalar que pune mais erros maiores, deixando eles mais expressivos.\n",
    "\n",
    "\n",
    "A Root Mean Squared Error, representada pelo método *funcao_custo_rmse* segue a mesma formula, porém submetendo os resultados finais a uma raiz quadrada."
   ]
  },
  {
   "cell_type": "code",
   "execution_count": 60,
   "metadata": {},
   "outputs": [],
   "source": [
    "def funcao_custo_mse(valor_correto, valor_previsto, valor_ativacao):\n",
    "    erro = valor_correto != valor_previsto\n",
    "\n",
    "    valor_erro = list(abs(np.array(valor_correto) - np.array(valor_ativacao)))\n",
    "    erro_quadratico = list(map(lambda x: math.pow(x, 2), valor_erro))\n",
    "    soma_erro_quadratico = sum(erro_quadratico)\n",
    "\n",
    "    return erro, soma_erro_quadratico"
   ]
  },
  {
   "cell_type": "code",
   "execution_count": 61,
   "metadata": {},
   "outputs": [],
   "source": [
    "def funcao_custo_rmse(valor_correto, valor_previsto, valor_ativacao):\n",
    "    erro, valor_erro = funcao_custo_mse(valor_correto, valor_previsto, valor_ativacao)\n",
    "\n",
    "    return erro, math.sqrt(valor_erro)"
   ]
  },
  {
   "cell_type": "code",
   "execution_count": 56,
   "metadata": {
    "scrolled": true
   },
   "outputs": [
    {
     "data": {
      "image/png": "[encoded data removed]",
      "text/plain": [
       "<Figure size 720x576 with 2 Axes>"
      ]
     },
     "metadata": {
      "needs_background": "light"
     },
     "output_type": "display_data"
    },
    {
     "name": "stdout",
     "output_type": "stream",
     "text": [
      "Melhor precisão de treinamento 77.14285714285698\n",
      "Melhor precisão de teste 86.36363636363637\n",
      "Melhor precisão de validação 73.91304347826087\n",
      "Média precisão de treinamento 46.50793650793644\n",
      "Média precisão de teste 48.03030303030303\n",
      "Média precisão de validação 42.02898550724638\n",
      "Desvio Padrão precisão de treinamento 18.98893075072105\n",
      "Desvio Padrão precisão de teste 22.22732953247167\n",
      "Desvio Padrão precisão de validação 19.324879189313958\n",
      "Matriz de confusão de treinamento:\n",
      " [[38  0  0]\n",
      " [ 1 12 22]\n",
      " [ 0  1 31]]\n",
      "Matriz de confusão de teste:\n",
      " [[7 0 0]\n",
      " [0 3 1]\n",
      " [0 2 9]]\n",
      "Matriz de confusão de validação:\n",
      " [[9 0 0]\n",
      " [0 3 4]\n",
      " [0 2 5]]\n",
      "Tempo de execução: 82.01398658752441 Segundos\n"
     ]
    },
    {
     "data": {
      "image/png": "[encoded data removed]",
      "text/plain": [
       "<Figure size 720x576 with 2 Axes>"
      ]
     },
     "metadata": {
      "needs_background": "light"
     },
     "output_type": "display_data"
    },
    {
     "name": "stdout",
     "output_type": "stream",
     "text": [
      "Melhor precisão de treinamento 85.71428571428552\n",
      "Melhor precisão de teste 100.00000000000001\n",
      "Melhor precisão de validação 78.26086956521739\n",
      "Média precisão de treinamento 48.28571428571423\n",
      "Média precisão de teste 50.15151515151515\n",
      "Média precisão de validação 43.18840579710147\n",
      "Desvio Padrão precisão de treinamento 20.390963273468778\n",
      "Desvio Padrão precisão de teste 22.065621308039926\n",
      "Desvio Padrão precisão de validação 21.85284269561828\n",
      "Matriz de confusão de treinamento:\n",
      " [[28  2  0]\n",
      " [ 0 26 10]\n",
      " [ 0  3 36]]\n",
      "Matriz de confusão de teste:\n",
      " [[9 0 0]\n",
      " [0 6 0]\n",
      " [0 0 7]]\n",
      "Matriz de confusão de validação:\n",
      " [[10  1  0]\n",
      " [ 2  3  2]\n",
      " [ 0  0  5]]\n",
      "Tempo de execução: 100.3085150718689 Segundos\n"
     ]
    }
   ],
   "source": [
    "executar_perceptron(funcao_ativacao_sigmoid, funcao_custo_mse, 300, [-0.005, 0.005])\n",
    "executar_perceptron(funcao_ativacao_sigmoid, funcao_custo_rmse, 300, [-0.005, 0.005])"
   ]
  },
  {
   "cell_type": "markdown",
   "metadata": {},
   "source": [
    "As duas funções de custo se saíram bem na busca dos resultados, posteriormente será testado qual consegue um desempenho médio melhor."
   ]
  },
  {
   "cell_type": "markdown",
   "metadata": {},
   "source": [
    "## Problema do gradiente explodindo ou desaparecendo\n",
    "Um problema enfrentado foi o dos pesos explodindo ou sumindo. No primeiro caso, o valor dos pesos aumentava de forma exponencial, chegando a valores próximos dos 2000 mil por conexão sináptica. Isso gerou uma deteorização na precisão, fazendo com que os valores iniciais da rede sejam sempre os mais altos.\n",
    "\n",
    "Já no gradiente sumindo, o problema foi uma taxa de aprendizado e um conjunto de pesos muito pequeno, fazendo com que a rede se mantenha uma linha reta, incapaz de aprender nada.\n",
    "\n",
    "Para resolver esse problema foram feitos vários testes de diferentes pesos e taxas de aprendizado a fim de conseguir chegar a um meio termo, pois esses dois parâmetros são os principais responsáveis por fazer que isso ocorra."
   ]
  },
  {
   "cell_type": "markdown",
   "metadata": {},
   "source": [
    "# Atualização dos pesos por época\n",
    "As redes neurais multicamadas geralmente atualizam os pesos da rede após passar todos os registros pela rede, ou pelo menos uma parte dos registros (batch). A atualização por época possui como vantagem um tempo de processamento menor, pois executa todo o processo na rede de uma vez só, sem precisar passar registro por registro, menos sensibilidade à dados ruidosos, pois generaliza os resultados de toda a rede e também um código de implementação mais simples (com menos linhas).\n",
    "Todavia também possui algumas desvantagens, como maior uso de memória, pois precisa carregar todos os registros, o que pode ser impossível quando se trabalha com uma massa maior de dados além de que essa generalização dos resultados do *dataset* pode acabar levando à convergência a um ótimo local.\n",
    "\n",
    "Pensando nisso, foi implementado uma versão que trabalha por épocas da rede perceptron para testar seu comportamento nos problemas aqui trabalhados. Foram necessárias algumas mudanças nos métodos já apresentados anteriormente.\n",
    "\n",
    "Primeiro, os valores de classe e previsores foram reiniciados."
   ]
  },
  {
   "cell_type": "code",
   "execution_count": 37,
   "metadata": {},
   "outputs": [],
   "source": [
    "previsores = dataframe.iloc[:, 0:4] \n",
    "previsores = previsores.apply(lambda row: normalizacao_z_score(row))\n",
    "previsores['bias'] = 1\n",
    "classe = dataframe['class']\n",
    "classe = classe.apply(lambda row: transformar_categorico_em_numerico(row, dict_classes))"
   ]
  },
  {
   "cell_type": "markdown",
   "metadata": {},
   "source": [
    "Isso é necessário pois a classe foi codificada em um novo formato de matriz ao invés de array, para trabalhar com as operações matemáticas de uma vez só em todos os registros. Para isso, foram feitas alterações no método de *codificar_classe*. "
   ]
  },
  {
   "cell_type": "code",
   "execution_count": 38,
   "metadata": {},
   "outputs": [],
   "source": [
    "def codificar_classe_epoca():\n",
    "    classe_codificada = {}\n",
    "    \n",
    "    array_classe = np.array([[1]  + ([0] * (len(classe.unique()) - 1)) ]) # estrutura de matriz\n",
    "        \n",
    "    count = 1\n",
    "    classe_codificada[0] = array_classe.copy()\n",
    "\n",
    "    for i in range(len(classe.unique()) - 1):\n",
    "        array_classe[0][count - 1] = 0\n",
    "        array_classe[0][count] = 1  \n",
    "        classe_codificada[count] = array_classe.copy()\n",
    "        count += 1\n",
    "    \n",
    "    return classe_codificada"
   ]
  },
  {
   "cell_type": "markdown",
   "metadata": {},
   "source": [
    "Uma vez criado a estrutura de classe por matriz, criamos a variável *classe_nova* que vai transformar todas as classes do problema no formato de matriz."
   ]
  },
  {
   "cell_type": "code",
   "execution_count": 39,
   "metadata": {},
   "outputs": [
    {
     "name": "stdout",
     "output_type": "stream",
     "text": [
      "(150, 3)\n"
     ]
    }
   ],
   "source": [
    "classe_codificada = codificar_classe_epoca()\n",
    "classe_nova = []\n",
    "\n",
    "for i in classe: # percorre as classes do dataframe\n",
    "    classe_nova.append(classe_codificada[i])\n",
    "    \n",
    "classe_nova = np.array(classe_nova).reshape(len(classe), 3) # redimensiona para criar a matriz\n",
    "print(classe_nova.shape)"
   ]
  },
  {
   "cell_type": "markdown",
   "metadata": {},
   "source": [
    "A classe agora, ao invés de um array [0,1,0] é uma matriz com três colunas, uma para cada posição do array, como podemos ver no *print* do método *shape*, nos indicando as 150 linhas (registros) e três colunas (quantidade de classes).\n",
    "\n",
    "Foi feito uma pequena modificação no método *dividir_dataframe*, porém não foi criado um novo método, apenas utilizamos um parâmetro adicional nesse caso.\n",
    "\n",
    "A função sigmoid também recebe algumas modificações de sintax, pois ao invés de pegar o valor máximo de apenas um array e excitá-lo, o processo é feito de uma vez só no conjunto inteiro. "
   ]
  },
  {
   "cell_type": "code",
   "execution_count": 40,
   "metadata": {},
   "outputs": [],
   "source": [
    "def funcao_ativacao_sigmoid_epoca(soma):\n",
    "    valor_ativacao = 1 / (1 + math.e ** -soma)\n",
    "    index_excitacao = np.argmax(valor_ativacao, 1) \n",
    "    \n",
    "    count = 0\n",
    "    neuronios_excitado = valor_ativacao.copy()\n",
    "\n",
    "    for i in index_excitacao:\n",
    "        neuronios_excitado[count] = 0\n",
    "        neuronios_excitado[count][i] = 1\n",
    "        count += 1\n",
    "        \n",
    "    return neuronios_excitado, valor_ativacao"
   ]
  },
  {
   "cell_type": "markdown",
   "metadata": {},
   "source": [
    "A função de custo utilizada foi a de Mean Squared Error, pois mostrou um bom desempenho nos testes. Foram feitas algumas pequenas adaptações para trabalhar com a operação matemática em todos os registros, mas a principal diferença é que na atualização por época, ao invés de contabilizar a precisão incrementalmente, ela é calculada de uma vez só, baseado no número de acertos em todos os registros."
   ]
  },
  {
   "cell_type": "code",
   "execution_count": 41,
   "metadata": {},
   "outputs": [],
   "source": [
    "def funcao_custo_mse_epoca(valor_correto, valor_previsto, valor_ativacao):\n",
    "    erro = list(abs(np.array(valor_correto) - np.array(valor_previsto)))\n",
    "    valor_erro = list(abs(np.array(valor_correto) - np.array(valor_ativacao)))\n",
    "\n",
    "    acerto = 0\n",
    "    for i in erro:\n",
    "        if sum(i) == 0: # verifica se o registro está correto, ou seja, soma de erro é igual a 0.\n",
    "            acerto += 1 # incrementa um no acerto\n",
    "\n",
    "    erro_quadratico = list(map(lambda x: x**2, valor_erro))\n",
    "    erro_quadratico_medio = sum(erro_quadratico) / len(valor_correto)\n",
    "\n",
    "    return sum(erro), acerto, sum(erro_quadratico_medio)"
   ]
  },
  {
   "cell_type": "markdown",
   "metadata": {},
   "source": [
    "A atualização dos pesos é a soma do valor atual do peso com o produto da multiplicação entre taxa de aprendizado, entrada e erro. Nesse caso, como trabalhamos com todas as entradas de uma vez só, é feito a média desse produto.\n",
    "\n",
    "Essa média é a responsável por fazer a generalização de todas as entradas em um valor que será adicionado ao novo peso, sendo uma vantagem e ao mesmo tempo desvantagem dessa abordagem, como já foi discutido"
   ]
  },
  {
   "cell_type": "code",
   "execution_count": 42,
   "metadata": {},
   "outputs": [],
   "source": [
    "def atualizar_peso_epoca(entrada, peso, erro, tx_aprendizado):\n",
    "    novo_peso = peso + np.mean((tx_aprendizado * entrada * erro))\n",
    "    return novo_peso"
   ]
  },
  {
   "cell_type": "markdown",
   "metadata": {},
   "source": [
    "A matriz de confusão sofreu uma pequena modificação, pois os valores não precisam serem convertidos para um numpy array, uma vez que aqui está sendo trabalhado com a estrutura de matriz."
   ]
  },
  {
   "cell_type": "code",
   "execution_count": 43,
   "metadata": {},
   "outputs": [],
   "source": [
    "def get_matriz_confusao_epoca(valor_correto, valor_previsto):\n",
    "    previsao = valor_previsto.copy()\n",
    "    previsao = np.where(previsao == 1)[1]\n",
    "    \n",
    "    correto = valor_correto.copy()\n",
    "    correto = np.where(correto == 1)[1]\n",
    "\n",
    "    matriz_confusao = confusion_matrix(correto, previsao)\n",
    "\n",
    "    return matriz_confusao"
   ]
  },
  {
   "cell_type": "markdown",
   "metadata": {},
   "source": [
    "O método de testar fica mais simplificado, pois não precisa de loops em cada registro, além de já obter os acertos na própria função de ativação"
   ]
  },
  {
   "cell_type": "code",
   "execution_count": 44,
   "metadata": {},
   "outputs": [],
   "source": [
    "def testar_epoca(pesos, x_previsores, y_classe, f_ativacao, f_custo):\n",
    "    entradas = x_previsores.values  \n",
    "    soma = somatoria(entradas, pesos)\n",
    "    \n",
    "    neuronio_excitado, valor_ativacao = f_ativacao(soma)\n",
    "    matriz_confusao = get_matriz_confusao_epoca(y_classe, neuronio_excitado)\n",
    "\n",
    "    erro, acertos, valor_erro = f_custo(y_classe, neuronio_excitado, valor_ativacao)\n",
    "       \n",
    "    return acertos / len(x_previsores), matriz_confusao"
   ]
  },
  {
   "cell_type": "markdown",
   "metadata": {},
   "source": [
    "Assim como o teste, o treinamento acaba ficando mais simples, lidando com todos os dados de uma vez só"
   ]
  },
  {
   "cell_type": "code",
   "execution_count": 45,
   "metadata": {},
   "outputs": [],
   "source": [
    "def treinar_epoca(epocas, f_ativacao, f_custo, pesos, x_treinamento, y_treinamento,\n",
    "                                     x_teste, y_teste, tx_aprendizado):\n",
    "    execucoes = 0\n",
    "    precisoes_treinamento = []\n",
    "    precisoes_teste = []\n",
    "    melhores_pesos = []\n",
    "    melhor_matriz_treinamento = []\n",
    "    melhor_matriz_teste = []\n",
    "    \n",
    "    while execucoes < epocas:\n",
    "        entradas = x_treinamento.values   \n",
    "        soma = somatoria(entradas, pesos)\n",
    "    \n",
    "        neuronio_excitado, valor_ativacao = f_ativacao(soma)\n",
    "    \n",
    "        erro, acertos, valor_erro = f_custo(y_treinamento, neuronio_excitado, valor_ativacao)\n",
    "    \n",
    "        count = 0\n",
    "        precisoes_treinamento.append(acertos / len(x_treinamento))  \n",
    "        melhor_matriz_treinamento = get_matriz_confusao_epoca(y_treinamento, neuronio_excitado) if precisoes_treinamento[execucoes] >= max(precisoes_treinamento) else melhor_matriz_treinamento\n",
    "        melhores_pesos = pesos.copy() if precisoes_treinamento[execucoes] >= max(precisoes_treinamento) else melhores_pesos\n",
    "\n",
    "        for i in range(entradas.shape[1]): # o for tem que atualizar cada peso da camada\n",
    "            if i == 4:\n",
    "                novo_peso = atualizar_bias(entradas[:, i], pesos[i], valor_erro, tx_aprendizado)\n",
    "            else:\n",
    "                novo_peso = atualizar_peso_epoca(entradas[:, i], pesos[i], valor_erro, tx_aprendizado)\n",
    "            pesos[count] = novo_peso\n",
    "            count += 1\n",
    "\n",
    "        teste_rede = testar_epoca(pesos, x_teste, y_teste, f_ativacao, f_custo)\n",
    "        precisoes_teste.append(teste_rede[0])\n",
    "        melhor_matriz_teste = teste_rede[1] if precisoes_teste[execucoes] >= max(precisoes_teste) else melhor_matriz_teste\n",
    "        execucoes += 1\n",
    "    \n",
    "    return precisoes_treinamento, precisoes_teste, melhores_pesos, melhor_matriz_treinamento, melhor_matriz_teste"
   ]
  },
  {
   "cell_type": "markdown",
   "metadata": {},
   "source": [
    "O novo método de executar perceptron vai ser muito parecido com o anterior, porém irá chamar todos os novos métodos que foram criados e executar a rede por épocas."
   ]
  },
  {
   "cell_type": "code",
   "execution_count": 46,
   "metadata": {},
   "outputs": [],
   "source": [
    "def executar_perceptron_epoca(funcao_ativacao, funcao_custo, epocas, dominio_pesos = [0, 1], \n",
    "                        tx_aprendizado = 0.1, mostrar_resultados = True):\n",
    "\n",
    "    convergencia_treinamento = [0]\n",
    "    convergencia_teste = [0]\n",
    "    precisao_treinamento = []\n",
    "    precisao_teste = []\n",
    "    resultado_final = []\n",
    "    matriz_confusao_treinamento = []\n",
    "    matriz_confusao_teste = []\n",
    "    matriz_confusao_validacao = []\n",
    "    start_time = time.time()\n",
    "\n",
    "    for i in range(30):\n",
    "        pesos = inicializar_pesos(dominio_pesos) # Alterando os pesos em cada inicialização\n",
    "        x_treinamento, y_treinamento, x_teste, y_teste, x_validacao, y_validacao = dividir_dataframe(previsores, classe_nova, 0.7, 0.15, 0.15, True)\n",
    "\n",
    "        treinamento = treinar_epoca(epocas, funcao_ativacao, funcao_custo, pesos, x_treinamento, y_treinamento, x_teste, y_teste, tx_aprendizado)\n",
    "                                     \n",
    "        convergencia_treinamento = treinamento[0] if max(treinamento[0]) >= \\\n",
    "                                max(convergencia_treinamento) else convergencia_treinamento\n",
    "        convergencia_teste = treinamento[1] if max(treinamento[1]) >= max(convergencia_teste) \\\n",
    "                                        else convergencia_teste\n",
    "        \n",
    "        precisao_treinamento.append(max(treinamento[0]))\n",
    "        precisao_teste.append(max(treinamento[1]))\n",
    "        \n",
    "        teste_final = testar_epoca(treinamento[2], x_validacao, y_validacao, \n",
    "                                      funcao_ativacao, funcao_custo)\n",
    "        \n",
    "        resultado_final.append(teste_final[0])\n",
    "        \n",
    "        matriz_confusao_treinamento = treinamento[3] if max(treinamento[0]) >= max(precisao_treinamento) else matriz_confusao_treinamento\n",
    "        matriz_confusao_teste = treinamento[4] if max(treinamento[1]) >= max(precisao_teste) else matriz_confusao_teste\n",
    "        matriz_confusao_validacao = teste_final[1] if teste_final[0] >= max(resultado_final) else matriz_confusao_validacao\n",
    "\n",
    "    if mostrar_resultados == True: # condição para caso não tenha interesse em plotar gráficos\n",
    "        plotar_convergencia(convergencia_treinamento, convergencia_teste)   \n",
    "        exibir_resultados(precisao_treinamento, precisao_teste, resultado_final)\n",
    "        print(\"Tempo de execução: %s Segundos\" % (time.time() - start_time))\n",
    "        print('Matriz de confusão de treinamento:\\n', matriz_confusao_treinamento)\n",
    "        print('Matriz de confusão de teste:\\n', matriz_confusao_teste)\n",
    "        print('Matriz de confusão de validação:\\n', matriz_confusao_validacao)\n",
    "        \n",
    "    return max(precisao_treinamento), max(precisao_teste), max(resultado_final)"
   ]
  },
  {
   "cell_type": "code",
   "execution_count": 80,
   "metadata": {
    "scrolled": true
   },
   "outputs": [
    {
     "data": {
      "image/png": "[encoded data removed]",
      "text/plain": [
       "<Figure size 720x576 with 2 Axes>"
      ]
     },
     "metadata": {
      "needs_background": "light"
     },
     "output_type": "display_data"
    },
    {
     "name": "stdout",
     "output_type": "stream",
     "text": [
      "Melhor precisão de treinamento 0.8761904761904762\n",
      "Melhor precisão de teste 0.9090909090909091\n",
      "Melhor precisão de validação 0.8695652173913043\n",
      "Média precisão de treinamento 0.4930158730158731\n",
      "Média precisão de teste 0.49696969696969695\n",
      "Média precisão de validação 0.4942028985507247\n",
      "Desvio Padrão precisão de treinamento 0.1796895505951765\n",
      "Desvio Padrão precisão de teste 0.18141369147994868\n",
      "Desvio Padrão precisão de validação 0.18083449121091413\n",
      "Tempo de execução: 23.791481494903564 Segundos\n",
      "Matriz de confusão de treinamento:\n",
      " [[37  0  0]\n",
      " [ 3 22  8]\n",
      " [ 0  2 33]]\n",
      "Matriz de confusão de teste:\n",
      " [[13  0  0]\n",
      " [ 1  0  1]\n",
      " [ 0  0  7]]\n",
      "Matriz de confusão de validação:\n",
      " [[6 0 0]\n",
      " [0 5 3]\n",
      " [0 0 9]]\n"
     ]
    },
    {
     "data": {
      "text/plain": [
       "(0.8761904761904762, 0.9090909090909091, 0.8695652173913043)"
      ]
     },
     "execution_count": 80,
     "metadata": {},
     "output_type": "execute_result"
    }
   ],
   "source": [
    "executar_perceptron_epoca(funcao_ativacao_sigmoid_epoca, funcao_custo_mse_epoca, 400, [-0.0005, 0.0005])"
   ]
  },
  {
   "cell_type": "markdown",
   "metadata": {},
   "source": [
    "## Resultados do treinamento por época\n",
    "Os resultados de precisão foram bons, chegando em torno dos 90% no teste da rede neural. \n",
    "Nesse caso, os resultados não foram tão diferentes do que executar o perceptron e atualizar os pesos por registro individual, mas aqui valem dois pontos de atenção. O primeiro é que a base de dados da iris não é de um problema muito complexo, além de ter uma quantidade pequena e separável de atributos, portanto atualizar olhando para atributos individualmente ou para todos os atributos de uma vez não fez tanta diferença. O segundo é que, como esperado, a execução do algoritmo por épocas conseguiu se sair até 6 vezes mais rápido do que o anterior, levando menos de 20 segundos para finalizar todas as execuções. Essa velocidade de processamento no possibilita testar uma combinação maior de hiperparâmetros, favorecendo a otimização da rede neural."
   ]
  },
  {
   "cell_type": "markdown",
   "metadata": {},
   "source": [
    "# Encontrando os melhores parâmetros\n",
    "Existem algumas formas de encontrar os melhores resultados que um determinado algoritmo pode proporcionar. Uma delas é pelo teste exaustivo de parâmetros, onde são testados todas as combinações de parâmetros a fim de encontrar os melhores resultados.\n",
    "\n",
    "Algoritmos como as redes neurais que possuem um quantidade maior de parâmetros se beneficiam desse tipo de abordagem, todavia o tempo de execução para esses testes muitas das vezes acaba sendo alto.\n",
    "\n",
    "Para isso, foi criado o método *buscar_parametros*, que recebe um dicionário com uma lista de parâmetros, e cria uma lista com todos os parâmetros combinados.\n",
    "\n",
    "Após isso, cada elemento da lista é executado, representando uma diferente possibilidade de combinação de parâmetros. Essa combinação é executada por 30 vezes no método *executar_perceptron*.\n",
    "\n",
    "Ao final de todas as iterações, vamos ter os resultados finais obtidos bem como os melhores parâmetros para o algoritmo."
   ]
  },
  {
   "cell_type": "code",
   "execution_count": 47,
   "metadata": {},
   "outputs": [],
   "source": [
    "def buscar_parametros(lista_parametros, executar):\n",
    "    # cria uma única lista com todos os parâmetros\n",
    "    parametros = [lista_parametros['custo'],\n",
    "    lista_parametros['tx_aprendizado'], lista_parametros['pesos']]\n",
    "    \n",
    "    # Combinação de cada um desses parâmetros\n",
    "    combinacao_parametros = list(itertools.product(*parametros))\n",
    "\n",
    "    melhores_parametros = []\n",
    "    melhor_precisao_teste = 0\n",
    "    melhor_precisao_treinamento = 0\n",
    "    melhor_precisao_validacao = 0\n",
    "    # nesse for os parâmetros são testados\n",
    "    for i in combinacao_parametros:\n",
    "        precisao_treinamento, precisao_teste, resultado_final = executar(funcao_ativacao_sigmoid_epoca, i[0], 400, [-i[2], i[2]], i[1], False)\n",
    "        # pegando os melhores resultados\n",
    "        if resultado_final >= melhor_precisao_validacao:\n",
    "            melhor_precisao_teste = precisao_teste\n",
    "            melhor_precisao_treinamento = precisao_treinamento\n",
    "            melhor_precisao_validacao = resultado_final\n",
    "            melhores_parametros = i\n",
    "\n",
    "    return melhores_parametros, melhor_precisao_teste, melhor_precisao_treinamento, melhor_precisao_validacao"
   ]
  },
  {
   "cell_type": "code",
   "execution_count": 49,
   "metadata": {},
   "outputs": [
    {
     "name": "stdout",
     "output_type": "stream",
     "text": [
      "Melhores parâmetros (<function funcao_custo_mse_epoca at 0x7f50bb69af28>, 0.01, 0.0005)\n",
      "Melhor precisão teste 0.8181818181818182\n",
      "Melhor precisão treinamento 0.6190476190476191\n",
      "Melhor precisão validação 0.9130434782608695\n"
     ]
    }
   ],
   "source": [
    "lista_parametros_epoca = { 'custo' : [funcao_custo_mse_epoca],\n",
    "                      'tx_aprendizado': [0.1, 0.01, 0.0001],\n",
    "                      'pesos': [0.5, 0.05, 0.005, 0.0005]\n",
    "}\n",
    "\n",
    "teste_parametrico = buscar_parametros(lista_parametros_epoca, executar_perceptron_epoca)\n",
    "print('Melhores parâmetros', teste_parametrico[0])\n",
    "print('Melhor precisão teste', teste_parametrico[1])\n",
    "print('Melhor precisão treinamento', teste_parametrico[2])\n",
    "print('Melhor precisão validação', teste_parametrico[3])"
   ]
  },
  {
   "cell_type": "markdown",
   "metadata": {},
   "source": [
    "Os melhores parâmetros para esse problema na rede perceptron encontrado pelo algoritmo foi uma taxa de aprendizado de 0.01 e a inicialização dos pesos em 0.0005. Existem outros parâmetros que poderiam ser também otimizados, mas foram deixados de lado por conta do tempo de processamento. É importante notar também que a métrica usada para buscar os melhores parâmetros foi a de precisão na base de validação, chegando a 91%. Nesse caso em específico a precisão não ficou tão alta na base de treinamento, pelo fato do algoritmo buscar otimizar a precisão em apenas uma base, podendo ser uma melhoria futura considerar o cenário todo.\n",
    "Poderia também ser utilizado uma semente gerado fixa para tentar controlar a estocasticidade da rede, todavia como cada teste foi executado 30 vezes esse problema além de ser minimizado também garantiu uma cobertura maior do conjunto de dados, pois em cada execução o conjunto foi reamostrado.\n",
    "\n",
    "Por fim, podemos concluir que o método de busca de parâmetros consegue automatizar o processo de encontrar os melhores parâmetros ao custo de um tempo de processamento maior. A busca foi feita apenas no algoritmo de atualização por época, por que na versão anterior de atualização de pesos por registros, levou mais de duas horas e ainda assim a busca não havia terminado, portanto foi interrompida. \n",
    "\n",
    "Na prática, a busca por melhores parâmetros pode levar dezenas de horas, porém é sempre interessante fazer testes manuais para reduzir a quantidade de combinações de parâmetros e assim reduzir esse tempo. "
   ]
  },
  {
   "cell_type": "markdown",
   "metadata": {},
   "source": [
    "# Qual o problema?\n",
    "Utilizar a base de dados de vinhos contidos aqui: http://archive.ics.uci.edu/ml/datasets/Wine para prever qual o tipo de vinho (1, 2 ou 3) baseado nas suas características.\n",
    "\n",
    "O arquivo em questão não possuia colunas, assim como no conjunto da iris, portanto eu modifiquei o mesmo para adicionar o nome das colunas na primeira linha e deixá-lo no formato .CSV ao invés do .DATA."
   ]
  },
  {
   "cell_type": "markdown",
   "metadata": {},
   "source": [
    "## Anásile exploratória dos dados\n",
    "Conhecendo um pouco mais dos dados da base de dados."
   ]
  },
  {
   "cell_type": "code",
   "execution_count": 50,
   "metadata": {
    "scrolled": true
   },
   "outputs": [
    {
     "data": {
      "text/html": [
       "<div>\n",
       "<style scoped>\n",
       "    .dataframe tbody tr th:only-of-type {\n",
       "        vertical-align: middle;\n",
       "    }\n",
       "\n",
       "    .dataframe tbody tr th {\n",
       "        vertical-align: top;\n",
       "    }\n",
       "\n",
       "    .dataframe thead th {\n",
       "        text-align: right;\n",
       "    }\n",
       "</style>\n",
       "<table border=\"1\" class=\"dataframe\">\n",
       "  <thead>\n",
       "    <tr style=\"text-align: right;\">\n",
       "      <th></th>\n",
       "      <th>Wine</th>\n",
       "      <th>Alcohol</th>\n",
       "      <th>Malic acid</th>\n",
       "      <th>Ash</th>\n",
       "      <th>Alcalinity of ash</th>\n",
       "      <th>Magnesium</th>\n",
       "      <th>Total phenols</th>\n",
       "      <th>Flavanoids</th>\n",
       "      <th>Nonflavanoid phenols</th>\n",
       "      <th>Proanthocyanins</th>\n",
       "      <th>Color intensity</th>\n",
       "      <th>Hue</th>\n",
       "      <th>OD280</th>\n",
       "      <th>Proline</th>\n",
       "    </tr>\n",
       "  </thead>\n",
       "  <tbody>\n",
       "    <tr>\n",
       "      <th>0</th>\n",
       "      <td>1</td>\n",
       "      <td>14.23</td>\n",
       "      <td>1.71</td>\n",
       "      <td>2.43</td>\n",
       "      <td>15.6</td>\n",
       "      <td>127</td>\n",
       "      <td>2.80</td>\n",
       "      <td>3.06</td>\n",
       "      <td>0.28</td>\n",
       "      <td>2.29</td>\n",
       "      <td>5.64</td>\n",
       "      <td>1.04</td>\n",
       "      <td>3.92</td>\n",
       "      <td>1065</td>\n",
       "    </tr>\n",
       "    <tr>\n",
       "      <th>1</th>\n",
       "      <td>1</td>\n",
       "      <td>13.20</td>\n",
       "      <td>1.78</td>\n",
       "      <td>2.14</td>\n",
       "      <td>11.2</td>\n",
       "      <td>100</td>\n",
       "      <td>2.65</td>\n",
       "      <td>2.76</td>\n",
       "      <td>0.26</td>\n",
       "      <td>1.28</td>\n",
       "      <td>4.38</td>\n",
       "      <td>1.05</td>\n",
       "      <td>3.40</td>\n",
       "      <td>1050</td>\n",
       "    </tr>\n",
       "    <tr>\n",
       "      <th>2</th>\n",
       "      <td>1</td>\n",
       "      <td>13.16</td>\n",
       "      <td>2.36</td>\n",
       "      <td>2.67</td>\n",
       "      <td>18.6</td>\n",
       "      <td>101</td>\n",
       "      <td>2.80</td>\n",
       "      <td>3.24</td>\n",
       "      <td>0.30</td>\n",
       "      <td>2.81</td>\n",
       "      <td>5.68</td>\n",
       "      <td>1.03</td>\n",
       "      <td>3.17</td>\n",
       "      <td>1185</td>\n",
       "    </tr>\n",
       "    <tr>\n",
       "      <th>3</th>\n",
       "      <td>1</td>\n",
       "      <td>14.37</td>\n",
       "      <td>1.95</td>\n",
       "      <td>2.50</td>\n",
       "      <td>16.8</td>\n",
       "      <td>113</td>\n",
       "      <td>3.85</td>\n",
       "      <td>3.49</td>\n",
       "      <td>0.24</td>\n",
       "      <td>2.18</td>\n",
       "      <td>7.80</td>\n",
       "      <td>0.86</td>\n",
       "      <td>3.45</td>\n",
       "      <td>1480</td>\n",
       "    </tr>\n",
       "    <tr>\n",
       "      <th>4</th>\n",
       "      <td>1</td>\n",
       "      <td>13.24</td>\n",
       "      <td>2.59</td>\n",
       "      <td>2.87</td>\n",
       "      <td>21.0</td>\n",
       "      <td>118</td>\n",
       "      <td>2.80</td>\n",
       "      <td>2.69</td>\n",
       "      <td>0.39</td>\n",
       "      <td>1.82</td>\n",
       "      <td>4.32</td>\n",
       "      <td>1.04</td>\n",
       "      <td>2.93</td>\n",
       "      <td>735</td>\n",
       "    </tr>\n",
       "  </tbody>\n",
       "</table>\n",
       "</div>"
      ],
      "text/plain": [
       "   Wine  Alcohol  Malic acid   Ash  Alcalinity of ash  Magnesium  \\\n",
       "0     1    14.23        1.71  2.43               15.6        127   \n",
       "1     1    13.20        1.78  2.14               11.2        100   \n",
       "2     1    13.16        2.36  2.67               18.6        101   \n",
       "3     1    14.37        1.95  2.50               16.8        113   \n",
       "4     1    13.24        2.59  2.87               21.0        118   \n",
       "\n",
       "   Total phenols  Flavanoids  Nonflavanoid phenols  Proanthocyanins  \\\n",
       "0           2.80        3.06                  0.28             2.29   \n",
       "1           2.65        2.76                  0.26             1.28   \n",
       "2           2.80        3.24                  0.30             2.81   \n",
       "3           3.85        3.49                  0.24             2.18   \n",
       "4           2.80        2.69                  0.39             1.82   \n",
       "\n",
       "   Color intensity   Hue  OD280  Proline  \n",
       "0             5.64  1.04   3.92     1065  \n",
       "1             4.38  1.05   3.40     1050  \n",
       "2             5.68  1.03   3.17     1185  \n",
       "3             7.80  0.86   3.45     1480  \n",
       "4             4.32  1.04   2.93      735  "
      ]
     },
     "execution_count": 50,
     "metadata": {},
     "output_type": "execute_result"
    }
   ],
   "source": [
    "dataframe = pd.read_csv('/home/alvaro/Documentos/mestrado/computação bio/redes neurais/datasets/wine.csv', header = 0)\n",
    "dataframe.head()"
   ]
  },
  {
   "cell_type": "code",
   "execution_count": 51,
   "metadata": {
    "scrolled": false
   },
   "outputs": [
    {
     "name": "stdout",
     "output_type": "stream",
     "text": [
      "Valores nulos:\n",
      "Wine                    0\n",
      "Alcohol                 0\n",
      "Malic acid              0\n",
      "Ash                     0\n",
      "Alcalinity of ash       0\n",
      "Magnesium               0\n",
      "Total phenols           0\n",
      "Flavanoids              0\n",
      "Nonflavanoid phenols    0\n",
      "Proanthocyanins         0\n",
      "Color intensity         0\n",
      "Hue                     0\n",
      "OD280                   0\n",
      "Proline                 0\n",
      "dtype: int64\n"
     ]
    },
    {
     "data": {
      "text/html": [
       "<div>\n",
       "<style scoped>\n",
       "    .dataframe tbody tr th:only-of-type {\n",
       "        vertical-align: middle;\n",
       "    }\n",
       "\n",
       "    .dataframe tbody tr th {\n",
       "        vertical-align: top;\n",
       "    }\n",
       "\n",
       "    .dataframe thead th {\n",
       "        text-align: right;\n",
       "    }\n",
       "</style>\n",
       "<table border=\"1\" class=\"dataframe\">\n",
       "  <thead>\n",
       "    <tr style=\"text-align: right;\">\n",
       "      <th></th>\n",
       "      <th>Wine</th>\n",
       "      <th>Alcohol</th>\n",
       "      <th>Malic acid</th>\n",
       "      <th>Ash</th>\n",
       "      <th>Alcalinity of ash</th>\n",
       "      <th>Magnesium</th>\n",
       "      <th>Total phenols</th>\n",
       "      <th>Flavanoids</th>\n",
       "      <th>Nonflavanoid phenols</th>\n",
       "      <th>Proanthocyanins</th>\n",
       "      <th>Color intensity</th>\n",
       "      <th>Hue</th>\n",
       "      <th>OD280</th>\n",
       "      <th>Proline</th>\n",
       "    </tr>\n",
       "  </thead>\n",
       "  <tbody>\n",
       "    <tr>\n",
       "      <th>count</th>\n",
       "      <td>178.000000</td>\n",
       "      <td>178.000000</td>\n",
       "      <td>178.000000</td>\n",
       "      <td>178.000000</td>\n",
       "      <td>178.000000</td>\n",
       "      <td>178.000000</td>\n",
       "      <td>178.000000</td>\n",
       "      <td>178.000000</td>\n",
       "      <td>178.000000</td>\n",
       "      <td>178.000000</td>\n",
       "      <td>178.000000</td>\n",
       "      <td>178.000000</td>\n",
       "      <td>178.000000</td>\n",
       "      <td>178.000000</td>\n",
       "    </tr>\n",
       "    <tr>\n",
       "      <th>mean</th>\n",
       "      <td>1.938202</td>\n",
       "      <td>13.000618</td>\n",
       "      <td>2.336348</td>\n",
       "      <td>2.366517</td>\n",
       "      <td>19.494944</td>\n",
       "      <td>99.741573</td>\n",
       "      <td>2.295112</td>\n",
       "      <td>2.029270</td>\n",
       "      <td>0.361854</td>\n",
       "      <td>1.590899</td>\n",
       "      <td>5.058090</td>\n",
       "      <td>0.957449</td>\n",
       "      <td>2.611685</td>\n",
       "      <td>746.893258</td>\n",
       "    </tr>\n",
       "    <tr>\n",
       "      <th>std</th>\n",
       "      <td>0.775035</td>\n",
       "      <td>0.811827</td>\n",
       "      <td>1.117146</td>\n",
       "      <td>0.274344</td>\n",
       "      <td>3.339564</td>\n",
       "      <td>14.282484</td>\n",
       "      <td>0.625851</td>\n",
       "      <td>0.998859</td>\n",
       "      <td>0.124453</td>\n",
       "      <td>0.572359</td>\n",
       "      <td>2.318286</td>\n",
       "      <td>0.228572</td>\n",
       "      <td>0.709990</td>\n",
       "      <td>314.907474</td>\n",
       "    </tr>\n",
       "    <tr>\n",
       "      <th>min</th>\n",
       "      <td>1.000000</td>\n",
       "      <td>11.030000</td>\n",
       "      <td>0.740000</td>\n",
       "      <td>1.360000</td>\n",
       "      <td>10.600000</td>\n",
       "      <td>70.000000</td>\n",
       "      <td>0.980000</td>\n",
       "      <td>0.340000</td>\n",
       "      <td>0.130000</td>\n",
       "      <td>0.410000</td>\n",
       "      <td>1.280000</td>\n",
       "      <td>0.480000</td>\n",
       "      <td>1.270000</td>\n",
       "      <td>278.000000</td>\n",
       "    </tr>\n",
       "    <tr>\n",
       "      <th>25%</th>\n",
       "      <td>1.000000</td>\n",
       "      <td>12.362500</td>\n",
       "      <td>1.602500</td>\n",
       "      <td>2.210000</td>\n",
       "      <td>17.200000</td>\n",
       "      <td>88.000000</td>\n",
       "      <td>1.742500</td>\n",
       "      <td>1.205000</td>\n",
       "      <td>0.270000</td>\n",
       "      <td>1.250000</td>\n",
       "      <td>3.220000</td>\n",
       "      <td>0.782500</td>\n",
       "      <td>1.937500</td>\n",
       "      <td>500.500000</td>\n",
       "    </tr>\n",
       "    <tr>\n",
       "      <th>50%</th>\n",
       "      <td>2.000000</td>\n",
       "      <td>13.050000</td>\n",
       "      <td>1.865000</td>\n",
       "      <td>2.360000</td>\n",
       "      <td>19.500000</td>\n",
       "      <td>98.000000</td>\n",
       "      <td>2.355000</td>\n",
       "      <td>2.135000</td>\n",
       "      <td>0.340000</td>\n",
       "      <td>1.555000</td>\n",
       "      <td>4.690000</td>\n",
       "      <td>0.965000</td>\n",
       "      <td>2.780000</td>\n",
       "      <td>673.500000</td>\n",
       "    </tr>\n",
       "    <tr>\n",
       "      <th>75%</th>\n",
       "      <td>3.000000</td>\n",
       "      <td>13.677500</td>\n",
       "      <td>3.082500</td>\n",
       "      <td>2.557500</td>\n",
       "      <td>21.500000</td>\n",
       "      <td>107.000000</td>\n",
       "      <td>2.800000</td>\n",
       "      <td>2.875000</td>\n",
       "      <td>0.437500</td>\n",
       "      <td>1.950000</td>\n",
       "      <td>6.200000</td>\n",
       "      <td>1.120000</td>\n",
       "      <td>3.170000</td>\n",
       "      <td>985.000000</td>\n",
       "    </tr>\n",
       "    <tr>\n",
       "      <th>max</th>\n",
       "      <td>3.000000</td>\n",
       "      <td>14.830000</td>\n",
       "      <td>5.800000</td>\n",
       "      <td>3.230000</td>\n",
       "      <td>30.000000</td>\n",
       "      <td>162.000000</td>\n",
       "      <td>3.880000</td>\n",
       "      <td>5.080000</td>\n",
       "      <td>0.660000</td>\n",
       "      <td>3.580000</td>\n",
       "      <td>13.000000</td>\n",
       "      <td>1.710000</td>\n",
       "      <td>4.000000</td>\n",
       "      <td>1680.000000</td>\n",
       "    </tr>\n",
       "  </tbody>\n",
       "</table>\n",
       "</div>"
      ],
      "text/plain": [
       "             Wine     Alcohol  Malic acid         Ash  Alcalinity of ash  \\\n",
       "count  178.000000  178.000000  178.000000  178.000000         178.000000   \n",
       "mean     1.938202   13.000618    2.336348    2.366517          19.494944   \n",
       "std      0.775035    0.811827    1.117146    0.274344           3.339564   \n",
       "min      1.000000   11.030000    0.740000    1.360000          10.600000   \n",
       "25%      1.000000   12.362500    1.602500    2.210000          17.200000   \n",
       "50%      2.000000   13.050000    1.865000    2.360000          19.500000   \n",
       "75%      3.000000   13.677500    3.082500    2.557500          21.500000   \n",
       "max      3.000000   14.830000    5.800000    3.230000          30.000000   \n",
       "\n",
       "        Magnesium  Total phenols  Flavanoids  Nonflavanoid phenols  \\\n",
       "count  178.000000     178.000000  178.000000            178.000000   \n",
       "mean    99.741573       2.295112    2.029270              0.361854   \n",
       "std     14.282484       0.625851    0.998859              0.124453   \n",
       "min     70.000000       0.980000    0.340000              0.130000   \n",
       "25%     88.000000       1.742500    1.205000              0.270000   \n",
       "50%     98.000000       2.355000    2.135000              0.340000   \n",
       "75%    107.000000       2.800000    2.875000              0.437500   \n",
       "max    162.000000       3.880000    5.080000              0.660000   \n",
       "\n",
       "       Proanthocyanins  Color intensity         Hue       OD280      Proline  \n",
       "count       178.000000       178.000000  178.000000  178.000000   178.000000  \n",
       "mean          1.590899         5.058090    0.957449    2.611685   746.893258  \n",
       "std           0.572359         2.318286    0.228572    0.709990   314.907474  \n",
       "min           0.410000         1.280000    0.480000    1.270000   278.000000  \n",
       "25%           1.250000         3.220000    0.782500    1.937500   500.500000  \n",
       "50%           1.555000         4.690000    0.965000    2.780000   673.500000  \n",
       "75%           1.950000         6.200000    1.120000    3.170000   985.000000  \n",
       "max           3.580000        13.000000    1.710000    4.000000  1680.000000  "
      ]
     },
     "execution_count": 51,
     "metadata": {},
     "output_type": "execute_result"
    }
   ],
   "source": [
    "print('Valores nulos:')\n",
    "print(dataframe.isna().sum())\n",
    "dataframe.describe()"
   ]
  },
  {
   "cell_type": "markdown",
   "metadata": {},
   "source": [
    "Nesse *dataset* todos os atributos são contínuos, inclusive a classe. Podemos notar que não existe nenhum valor vazio bem como aparentemente nenhum outlier/ruído."
   ]
  },
  {
   "cell_type": "markdown",
   "metadata": {},
   "source": [
    "## Normalização dos dados \n",
    "Assim como no problema da iris, esse dataset também precisa ser normalizando, ainda mais por conter uma quantidade maior de atributos previsores contínuos."
   ]
  },
  {
   "cell_type": "code",
   "execution_count": 66,
   "metadata": {},
   "outputs": [],
   "source": [
    "previsores = dataframe.iloc[:, 1:14] \n",
    "classe = dataframe['Wine']"
   ]
  },
  {
   "cell_type": "code",
   "execution_count": 67,
   "metadata": {
    "scrolled": true
   },
   "outputs": [
    {
     "data": {
      "text/html": [
       "<div>\n",
       "<style scoped>\n",
       "    .dataframe tbody tr th:only-of-type {\n",
       "        vertical-align: middle;\n",
       "    }\n",
       "\n",
       "    .dataframe tbody tr th {\n",
       "        vertical-align: top;\n",
       "    }\n",
       "\n",
       "    .dataframe thead th {\n",
       "        text-align: right;\n",
       "    }\n",
       "</style>\n",
       "<table border=\"1\" class=\"dataframe\">\n",
       "  <thead>\n",
       "    <tr style=\"text-align: right;\">\n",
       "      <th></th>\n",
       "      <th>Alcohol</th>\n",
       "      <th>Malic acid</th>\n",
       "      <th>Ash</th>\n",
       "      <th>Alcalinity of ash</th>\n",
       "      <th>Magnesium</th>\n",
       "      <th>Total phenols</th>\n",
       "      <th>Flavanoids</th>\n",
       "      <th>Nonflavanoid phenols</th>\n",
       "      <th>Proanthocyanins</th>\n",
       "      <th>Color intensity</th>\n",
       "      <th>Hue</th>\n",
       "      <th>OD280</th>\n",
       "      <th>Proline</th>\n",
       "    </tr>\n",
       "  </thead>\n",
       "  <tbody>\n",
       "    <tr>\n",
       "      <th>0</th>\n",
       "      <td>1.514341</td>\n",
       "      <td>-0.560668</td>\n",
       "      <td>0.231400</td>\n",
       "      <td>-1.166303</td>\n",
       "      <td>1.908522</td>\n",
       "      <td>0.806722</td>\n",
       "      <td>1.031908</td>\n",
       "      <td>-0.657708</td>\n",
       "      <td>1.221438</td>\n",
       "      <td>0.251009</td>\n",
       "      <td>0.361158</td>\n",
       "      <td>1.842721</td>\n",
       "      <td>1.010159</td>\n",
       "    </tr>\n",
       "    <tr>\n",
       "      <th>1</th>\n",
       "      <td>0.245597</td>\n",
       "      <td>-0.498009</td>\n",
       "      <td>-0.825667</td>\n",
       "      <td>-2.483841</td>\n",
       "      <td>0.018094</td>\n",
       "      <td>0.567048</td>\n",
       "      <td>0.731565</td>\n",
       "      <td>-0.818411</td>\n",
       "      <td>-0.543189</td>\n",
       "      <td>-0.292496</td>\n",
       "      <td>0.404908</td>\n",
       "      <td>1.110317</td>\n",
       "      <td>0.962526</td>\n",
       "    </tr>\n",
       "    <tr>\n",
       "      <th>2</th>\n",
       "      <td>0.196325</td>\n",
       "      <td>0.021172</td>\n",
       "      <td>1.106214</td>\n",
       "      <td>-0.267982</td>\n",
       "      <td>0.088110</td>\n",
       "      <td>0.806722</td>\n",
       "      <td>1.212114</td>\n",
       "      <td>-0.497005</td>\n",
       "      <td>2.129959</td>\n",
       "      <td>0.268263</td>\n",
       "      <td>0.317409</td>\n",
       "      <td>0.786369</td>\n",
       "      <td>1.391224</td>\n",
       "    </tr>\n",
       "    <tr>\n",
       "      <th>3</th>\n",
       "      <td>1.686791</td>\n",
       "      <td>-0.345835</td>\n",
       "      <td>0.486554</td>\n",
       "      <td>-0.806975</td>\n",
       "      <td>0.928300</td>\n",
       "      <td>2.484437</td>\n",
       "      <td>1.462399</td>\n",
       "      <td>-0.979113</td>\n",
       "      <td>1.029251</td>\n",
       "      <td>1.182732</td>\n",
       "      <td>-0.426341</td>\n",
       "      <td>1.180741</td>\n",
       "      <td>2.328007</td>\n",
       "    </tr>\n",
       "    <tr>\n",
       "      <th>4</th>\n",
       "      <td>0.294868</td>\n",
       "      <td>0.227053</td>\n",
       "      <td>1.835226</td>\n",
       "      <td>0.450674</td>\n",
       "      <td>1.278379</td>\n",
       "      <td>0.806722</td>\n",
       "      <td>0.661485</td>\n",
       "      <td>0.226158</td>\n",
       "      <td>0.400275</td>\n",
       "      <td>-0.318377</td>\n",
       "      <td>0.361158</td>\n",
       "      <td>0.448336</td>\n",
       "      <td>-0.037767</td>\n",
       "    </tr>\n",
       "  </tbody>\n",
       "</table>\n",
       "</div>"
      ],
      "text/plain": [
       "    Alcohol  Malic acid       Ash  Alcalinity of ash  Magnesium  \\\n",
       "0  1.514341   -0.560668  0.231400          -1.166303   1.908522   \n",
       "1  0.245597   -0.498009 -0.825667          -2.483841   0.018094   \n",
       "2  0.196325    0.021172  1.106214          -0.267982   0.088110   \n",
       "3  1.686791   -0.345835  0.486554          -0.806975   0.928300   \n",
       "4  0.294868    0.227053  1.835226           0.450674   1.278379   \n",
       "\n",
       "   Total phenols  Flavanoids  Nonflavanoid phenols  Proanthocyanins  \\\n",
       "0       0.806722    1.031908             -0.657708         1.221438   \n",
       "1       0.567048    0.731565             -0.818411        -0.543189   \n",
       "2       0.806722    1.212114             -0.497005         2.129959   \n",
       "3       2.484437    1.462399             -0.979113         1.029251   \n",
       "4       0.806722    0.661485              0.226158         0.400275   \n",
       "\n",
       "   Color intensity       Hue     OD280   Proline  \n",
       "0         0.251009  0.361158  1.842721  1.010159  \n",
       "1        -0.292496  0.404908  1.110317  0.962526  \n",
       "2         0.268263  0.317409  0.786369  1.391224  \n",
       "3         1.182732 -0.426341  1.180741  2.328007  \n",
       "4        -0.318377  0.361158  0.448336 -0.037767  "
      ]
     },
     "execution_count": 67,
     "metadata": {},
     "output_type": "execute_result"
    }
   ],
   "source": [
    "previsores = previsores.apply(lambda row: normalizacao_z_score(row))\n",
    "previsores.head()"
   ]
  },
  {
   "cell_type": "markdown",
   "metadata": {},
   "source": [
    "A classe do tipo de vinho é distribuída em 1, 2 e 3, todavia para que meu método de codificar funcione ele precisa começar em 0, por isso, a classe de vinho foi submetida ao método de *transformar_categorico_em_numerico*, que vai transformá-la na sequência de 0, 1 e 2."
   ]
  },
  {
   "cell_type": "code",
   "execution_count": 68,
   "metadata": {},
   "outputs": [
    {
     "data": {
      "text/plain": [
       "1    71\n",
       "0    59\n",
       "2    48\n",
       "Name: Wine, dtype: int64"
      ]
     },
     "execution_count": 68,
     "metadata": {},
     "output_type": "execute_result"
    }
   ],
   "source": [
    "dict_classes = get_dicionario_classes(classe)\n",
    "classe = classe.apply(lambda row: transformar_categorico_em_numerico(row, dict_classes))\n",
    "classe.value_counts()"
   ]
  },
  {
   "cell_type": "markdown",
   "metadata": {},
   "source": [
    "Agora a classe vai ser codificada em uma array assim como aconteceu com a iris, pois temos novamente um problema do tipo multi-classe."
   ]
  },
  {
   "cell_type": "code",
   "execution_count": 69,
   "metadata": {
    "scrolled": true
   },
   "outputs": [
    {
     "data": {
      "text/plain": [
       "0    [1, 0, 0]\n",
       "1    [1, 0, 0]\n",
       "2    [1, 0, 0]\n",
       "3    [1, 0, 0]\n",
       "4    [1, 0, 0]\n",
       "Name: Wine, dtype: object"
      ]
     },
     "execution_count": 69,
     "metadata": {},
     "output_type": "execute_result"
    }
   ],
   "source": [
    "classe_codificada = codificar_classe()\n",
    "classe = classe.apply(lambda row: substituir_classe_codificada(row, classe_codificada))\n",
    "classe.head()"
   ]
  },
  {
   "cell_type": "markdown",
   "metadata": {},
   "source": [
    "Agora basta adicionar o neurônio na camada de entrada para ser o bias e executar o perceptron novamente para conferir os resultados da rede."
   ]
  },
  {
   "cell_type": "code",
   "execution_count": 70,
   "metadata": {},
   "outputs": [],
   "source": [
    "previsores['bias'] = 1"
   ]
  },
  {
   "cell_type": "code",
   "execution_count": 72,
   "metadata": {
    "scrolled": false
   },
   "outputs": [
    {
     "name": "stderr",
     "output_type": "stream",
     "text": [
      "/home/alvaro/.local/lib/python3.6/site-packages/ipykernel_launcher.py:2: RuntimeWarning: overflow encountered in power\n",
      "  \n"
     ]
    },
    {
     "data": {
      "image/png": "[encoded data removed]",
      "text/plain": [
       "<Figure size 720x576 with 2 Axes>"
      ]
     },
     "metadata": {
      "needs_background": "light"
     },
     "output_type": "display_data"
    },
    {
     "name": "stdout",
     "output_type": "stream",
     "text": [
      "Melhor precisão de treinamento 64.7999999999999\n",
      "Melhor precisão de teste 61.53846153846154\n",
      "Melhor precisão de validação 74.07407407407408\n",
      "Média precisão de treinamento 41.78666666666664\n",
      "Média precisão de teste 42.3076923076923\n",
      "Média precisão de validação 40.12345679012344\n",
      "Desvio Padrão precisão de treinamento 9.738300102630244\n",
      "Desvio Padrão precisão de teste 9.209376921060498\n",
      "Desvio Padrão precisão de validação 12.725634646968087\n",
      "Matriz de confusão de treinamento:\n",
      " [[40  1  3]\n",
      " [ 6 37  5]\n",
      " [12 17  4]]\n",
      "Matriz de confusão de teste:\n",
      " [[10  3  0]\n",
      " [ 7  0  0]\n",
      " [ 0  0  6]]\n",
      "Matriz de confusão de validação:\n",
      " [[ 6  0  0]\n",
      " [ 3 14  1]\n",
      " [ 3  0  0]]\n",
      "Tempo de execução: 123.64418005943298 Segundos\n"
     ]
    }
   ],
   "source": [
    "executar_perceptron(funcao_ativacao_sigmoid, funcao_custo_mse, 350, [-0.005, 0.005], 0.1)"
   ]
  },
  {
   "cell_type": "markdown",
   "metadata": {},
   "source": [
    "Os resultados iniciais mostram que a precisão ainda está longe do ideal, a rede acaba gerando uma maior confusão entre os tipos de vinho 2 e 3.\n",
    "\n",
    "\n",
    "Agora o processo de leitura dos dados e pré-processamento deve ser repetido, porém de maneira um pouco diferente, para adequar os dados à rede perceptron por épocas, assim como foi feito anteriormente no problema das iris, dando a possibilidade de executar a busca por melhores parâmetros e dessa forma melhorar os resultados obtidos."
   ]
  },
  {
   "cell_type": "code",
   "execution_count": 63,
   "metadata": {},
   "outputs": [],
   "source": [
    "previsores = dataframe.iloc[:, 1:14] \n",
    "classe = dataframe['Wine']\n",
    "previsores = previsores.apply(lambda row: normalizacao_z_score(row))\n",
    "\n",
    "dict_classes = get_dicionario_classes(classe)\n",
    "classe = classe.apply(lambda row: transformar_categorico_em_numerico(row, dict_classes))\n",
    "classe_codificada = codificar_classe_epoca()\n",
    "\n",
    "classe_nova = []\n",
    "\n",
    "for i in classe:\n",
    "    classe_nova.append(classe_codificada[i])\n",
    "    \n",
    "classe_nova = np.array(classe_nova).reshape(len(classe), 3)\n",
    "\n",
    "previsores['bias'] = 1"
   ]
  },
  {
   "cell_type": "code",
   "execution_count": 64,
   "metadata": {
    "scrolled": false
   },
   "outputs": [
    {
     "data": {
      "image/png": "[encoded data removed]",
      "text/plain": [
       "<Figure size 720x576 with 2 Axes>"
      ]
     },
     "metadata": {
      "needs_background": "light"
     },
     "output_type": "display_data"
    },
    {
     "name": "stdout",
     "output_type": "stream",
     "text": [
      "Melhor precisão de treinamento 0.752\n",
      "Melhor precisão de teste 0.7307692307692307\n",
      "Melhor precisão de validação 0.6666666666666666\n",
      "Média precisão de treinamento 0.4277333333333333\n",
      "Média precisão de teste 0.4589743589743589\n",
      "Média precisão de validação 0.42839506172839503\n",
      "Desvio Padrão precisão de treinamento 0.11294332895552335\n",
      "Desvio Padrão precisão de teste 0.11188422681677654\n",
      "Desvio Padrão precisão de validação 0.12854336164815103\n",
      "Tempo de execução: 26.6903395652771 Segundos\n",
      "Matriz de confusão de treinamento:\n",
      " [[39  0  1]\n",
      " [18 26  6]\n",
      " [ 4  2 29]]\n",
      "Matriz de confusão de teste:\n",
      " [[6 0 1]\n",
      " [5 7 1]\n",
      " [0 0 6]]\n",
      "Matriz de confusão de validação:\n",
      " [[5 1 0]\n",
      " [7 6 1]\n",
      " [0 0 7]]\n"
     ]
    },
    {
     "data": {
      "text/plain": [
       "(0.752, 0.7307692307692307, 0.6666666666666666)"
      ]
     },
     "execution_count": 64,
     "metadata": {},
     "output_type": "execute_result"
    }
   ],
   "source": [
    "executar_perceptron_epoca(funcao_ativacao_sigmoid_epoca, funcao_custo_mse_epoca, 400, [-0.005, 0.005])"
   ]
  },
  {
   "cell_type": "markdown",
   "metadata": {},
   "source": [
    "Os testes inicias do perceptron por épocas foram um pouco mais promissores em relação à versão anterior, todavia ainda será realizado a busca exaustiva de parâmetros."
   ]
  },
  {
   "cell_type": "code",
   "execution_count": 65,
   "metadata": {},
   "outputs": [
    {
     "name": "stdout",
     "output_type": "stream",
     "text": [
      "Melhores parâmetros (<function funcao_custo_mse_epoca at 0x7f50bb69af28>, 0.01, 0.005)\n",
      "Melhor precisão teste 0.5769230769230769\n",
      "Melhor precisão treinamento 0.704\n",
      "Melhor precisão validação 0.8888888888888888\n"
     ]
    }
   ],
   "source": [
    "lista_parametros_epoca = { 'custo' : [funcao_custo_mse_epoca],\n",
    "                      'tx_aprendizado': [0.1, 0.01, 0.0001],\n",
    "                      'pesos': [0.5, 0.05, 0.005, 0.0005]\n",
    "}\n",
    "\n",
    "teste_parametrico = buscar_parametros(lista_parametros_epoca, executar_perceptron_epoca)\n",
    "print('Melhores parâmetros', teste_parametrico[0])\n",
    "print('Melhor precisão teste', teste_parametrico[1])\n",
    "print('Melhor precisão treinamento', teste_parametrico[2])\n",
    "print('Melhor precisão validação', teste_parametrico[3])"
   ]
  },
  {
   "cell_type": "markdown",
   "metadata": {},
   "source": [
    "A busca de parâmetros nos resultou em uma taxa de aprendizado de 0.01 acompanhado de um domínio de pesos de 0.005, atingindo um resultado próximo aos 89% de precisão na base de validação.\n",
    "\n",
    "A rede perceptron, emborar bastante simples, conseguiu um desempenho considerado satisfatório nesse problema com características um pouco mais complexas."
   ]
  },
  {
   "cell_type": "markdown",
   "metadata": {},
   "source": [
    "# Qual o problema?\n",
    "O desafio escolhido no terceiro exercício foi construir uma rede neural multicamadas sem auxilio de bibliotecas prontas.\n",
    "\n",
    "\n",
    "O conjundo de dados usado nesse desafio foi o de câncer de mama de Winsconsin, podendo ser encontrado aqui:\n",
    "https://www.kaggle.com/uciml/breast-cancer-wisconsin-data"
   ]
  },
  {
   "cell_type": "markdown",
   "metadata": {},
   "source": [
    "## Análise exploratória dos dados\n",
    "Explorando o *dataset* e deixando em um formato correto para ser trabalhado."
   ]
  },
  {
   "cell_type": "code",
   "execution_count": 73,
   "metadata": {
    "scrolled": true
   },
   "outputs": [
    {
     "data": {
      "text/html": [
       "<div>\n",
       "<style scoped>\n",
       "    .dataframe tbody tr th:only-of-type {\n",
       "        vertical-align: middle;\n",
       "    }\n",
       "\n",
       "    .dataframe tbody tr th {\n",
       "        vertical-align: top;\n",
       "    }\n",
       "\n",
       "    .dataframe thead th {\n",
       "        text-align: right;\n",
       "    }\n",
       "</style>\n",
       "<table border=\"1\" class=\"dataframe\">\n",
       "  <thead>\n",
       "    <tr style=\"text-align: right;\">\n",
       "      <th></th>\n",
       "      <th>id</th>\n",
       "      <th>diagnosis</th>\n",
       "      <th>radius_mean</th>\n",
       "      <th>texture_mean</th>\n",
       "      <th>perimeter_mean</th>\n",
       "      <th>area_mean</th>\n",
       "      <th>smoothness_mean</th>\n",
       "      <th>compactness_mean</th>\n",
       "      <th>concavity_mean</th>\n",
       "      <th>concave points_mean</th>\n",
       "      <th>...</th>\n",
       "      <th>texture_worst</th>\n",
       "      <th>perimeter_worst</th>\n",
       "      <th>area_worst</th>\n",
       "      <th>smoothness_worst</th>\n",
       "      <th>compactness_worst</th>\n",
       "      <th>concavity_worst</th>\n",
       "      <th>concave points_worst</th>\n",
       "      <th>symmetry_worst</th>\n",
       "      <th>fractal_dimension_worst</th>\n",
       "      <th>Unnamed: 32</th>\n",
       "    </tr>\n",
       "  </thead>\n",
       "  <tbody>\n",
       "    <tr>\n",
       "      <th>0</th>\n",
       "      <td>842302</td>\n",
       "      <td>M</td>\n",
       "      <td>17.99</td>\n",
       "      <td>10.38</td>\n",
       "      <td>122.80</td>\n",
       "      <td>1001.0</td>\n",
       "      <td>0.11840</td>\n",
       "      <td>0.27760</td>\n",
       "      <td>0.3001</td>\n",
       "      <td>0.14710</td>\n",
       "      <td>...</td>\n",
       "      <td>17.33</td>\n",
       "      <td>184.60</td>\n",
       "      <td>2019.0</td>\n",
       "      <td>0.1622</td>\n",
       "      <td>0.6656</td>\n",
       "      <td>0.7119</td>\n",
       "      <td>0.2654</td>\n",
       "      <td>0.4601</td>\n",
       "      <td>0.11890</td>\n",
       "      <td>NaN</td>\n",
       "    </tr>\n",
       "    <tr>\n",
       "      <th>1</th>\n",
       "      <td>842517</td>\n",
       "      <td>M</td>\n",
       "      <td>20.57</td>\n",
       "      <td>17.77</td>\n",
       "      <td>132.90</td>\n",
       "      <td>1326.0</td>\n",
       "      <td>0.08474</td>\n",
       "      <td>0.07864</td>\n",
       "      <td>0.0869</td>\n",
       "      <td>0.07017</td>\n",
       "      <td>...</td>\n",
       "      <td>23.41</td>\n",
       "      <td>158.80</td>\n",
       "      <td>1956.0</td>\n",
       "      <td>0.1238</td>\n",
       "      <td>0.1866</td>\n",
       "      <td>0.2416</td>\n",
       "      <td>0.1860</td>\n",
       "      <td>0.2750</td>\n",
       "      <td>0.08902</td>\n",
       "      <td>NaN</td>\n",
       "    </tr>\n",
       "    <tr>\n",
       "      <th>2</th>\n",
       "      <td>84300903</td>\n",
       "      <td>M</td>\n",
       "      <td>19.69</td>\n",
       "      <td>21.25</td>\n",
       "      <td>130.00</td>\n",
       "      <td>1203.0</td>\n",
       "      <td>0.10960</td>\n",
       "      <td>0.15990</td>\n",
       "      <td>0.1974</td>\n",
       "      <td>0.12790</td>\n",
       "      <td>...</td>\n",
       "      <td>25.53</td>\n",
       "      <td>152.50</td>\n",
       "      <td>1709.0</td>\n",
       "      <td>0.1444</td>\n",
       "      <td>0.4245</td>\n",
       "      <td>0.4504</td>\n",
       "      <td>0.2430</td>\n",
       "      <td>0.3613</td>\n",
       "      <td>0.08758</td>\n",
       "      <td>NaN</td>\n",
       "    </tr>\n",
       "    <tr>\n",
       "      <th>3</th>\n",
       "      <td>84348301</td>\n",
       "      <td>M</td>\n",
       "      <td>11.42</td>\n",
       "      <td>20.38</td>\n",
       "      <td>77.58</td>\n",
       "      <td>386.1</td>\n",
       "      <td>0.14250</td>\n",
       "      <td>0.28390</td>\n",
       "      <td>0.2414</td>\n",
       "      <td>0.10520</td>\n",
       "      <td>...</td>\n",
       "      <td>26.50</td>\n",
       "      <td>98.87</td>\n",
       "      <td>567.7</td>\n",
       "      <td>0.2098</td>\n",
       "      <td>0.8663</td>\n",
       "      <td>0.6869</td>\n",
       "      <td>0.2575</td>\n",
       "      <td>0.6638</td>\n",
       "      <td>0.17300</td>\n",
       "      <td>NaN</td>\n",
       "    </tr>\n",
       "    <tr>\n",
       "      <th>4</th>\n",
       "      <td>84358402</td>\n",
       "      <td>M</td>\n",
       "      <td>20.29</td>\n",
       "      <td>14.34</td>\n",
       "      <td>135.10</td>\n",
       "      <td>1297.0</td>\n",
       "      <td>0.10030</td>\n",
       "      <td>0.13280</td>\n",
       "      <td>0.1980</td>\n",
       "      <td>0.10430</td>\n",
       "      <td>...</td>\n",
       "      <td>16.67</td>\n",
       "      <td>152.20</td>\n",
       "      <td>1575.0</td>\n",
       "      <td>0.1374</td>\n",
       "      <td>0.2050</td>\n",
       "      <td>0.4000</td>\n",
       "      <td>0.1625</td>\n",
       "      <td>0.2364</td>\n",
       "      <td>0.07678</td>\n",
       "      <td>NaN</td>\n",
       "    </tr>\n",
       "  </tbody>\n",
       "</table>\n",
       "<p>5 rows × 33 columns</p>\n",
       "</div>"
      ],
      "text/plain": [
       "         id diagnosis  radius_mean  texture_mean  perimeter_mean  area_mean  \\\n",
       "0    842302         M        17.99         10.38          122.80     1001.0   \n",
       "1    842517         M        20.57         17.77          132.90     1326.0   \n",
       "2  84300903         M        19.69         21.25          130.00     1203.0   \n",
       "3  84348301         M        11.42         20.38           77.58      386.1   \n",
       "4  84358402         M        20.29         14.34          135.10     1297.0   \n",
       "\n",
       "   smoothness_mean  compactness_mean  concavity_mean  concave points_mean  \\\n",
       "0          0.11840           0.27760          0.3001              0.14710   \n",
       "1          0.08474           0.07864          0.0869              0.07017   \n",
       "2          0.10960           0.15990          0.1974              0.12790   \n",
       "3          0.14250           0.28390          0.2414              0.10520   \n",
       "4          0.10030           0.13280          0.1980              0.10430   \n",
       "\n",
       "      ...       texture_worst  perimeter_worst  area_worst  smoothness_worst  \\\n",
       "0     ...               17.33           184.60      2019.0            0.1622   \n",
       "1     ...               23.41           158.80      1956.0            0.1238   \n",
       "2     ...               25.53           152.50      1709.0            0.1444   \n",
       "3     ...               26.50            98.87       567.7            0.2098   \n",
       "4     ...               16.67           152.20      1575.0            0.1374   \n",
       "\n",
       "   compactness_worst  concavity_worst  concave points_worst  symmetry_worst  \\\n",
       "0             0.6656           0.7119                0.2654          0.4601   \n",
       "1             0.1866           0.2416                0.1860          0.2750   \n",
       "2             0.4245           0.4504                0.2430          0.3613   \n",
       "3             0.8663           0.6869                0.2575          0.6638   \n",
       "4             0.2050           0.4000                0.1625          0.2364   \n",
       "\n",
       "   fractal_dimension_worst  Unnamed: 32  \n",
       "0                  0.11890          NaN  \n",
       "1                  0.08902          NaN  \n",
       "2                  0.08758          NaN  \n",
       "3                  0.17300          NaN  \n",
       "4                  0.07678          NaN  \n",
       "\n",
       "[5 rows x 33 columns]"
      ]
     },
     "execution_count": 73,
     "metadata": {},
     "output_type": "execute_result"
    }
   ],
   "source": [
    "dataframe = pd.read_csv('/home/alvaro/Documentos/mestrado/computação bio/redes neurais/datasets/breast cancer.csv', header = 0)\n",
    "dataframe.head()"
   ]
  },
  {
   "cell_type": "markdown",
   "metadata": {},
   "source": [
    "O *dataframe* é composto basicamente de variáveis contínuas, com excessão apenas da classe, que representa um valor binário de M e B, indicando se o tumor extraído é malígno ou benígno.\n",
    "\n",
    "Os atributos previsores são as características do tumor, como o formato, textura, área, entre outros.\n",
    "\n",
    "Antes de mais nada é necessário dividir o conjunto em treinamento e teste, além de apagar algumas colunas que vieram junto no arquivo mas não serão utilizadas."
   ]
  },
  {
   "cell_type": "code",
   "execution_count": 74,
   "metadata": {},
   "outputs": [],
   "source": [
    "dataframe = dataframe.drop(columns = ['id', 'Unnamed: 32']) # ruído nos dados\n",
    "\n",
    "previsores = dataframe.iloc[:, 1:32] # previsores\n",
    "classe = dataframe['diagnosis'] # nome da coluna que representa a classe"
   ]
  },
  {
   "cell_type": "code",
   "execution_count": 75,
   "metadata": {},
   "outputs": [
    {
     "name": "stdout",
     "output_type": "stream",
     "text": [
      "diagnosis                  0\n",
      "radius_mean                0\n",
      "texture_mean               0\n",
      "perimeter_mean             0\n",
      "area_mean                  0\n",
      "smoothness_mean            0\n",
      "compactness_mean           0\n",
      "concavity_mean             0\n",
      "concave points_mean        0\n",
      "symmetry_mean              0\n",
      "fractal_dimension_mean     0\n",
      "radius_se                  0\n",
      "texture_se                 0\n",
      "perimeter_se               0\n",
      "area_se                    0\n",
      "smoothness_se              0\n",
      "compactness_se             0\n",
      "concavity_se               0\n",
      "concave points_se          0\n",
      "symmetry_se                0\n",
      "fractal_dimension_se       0\n",
      "radius_worst               0\n",
      "texture_worst              0\n",
      "perimeter_worst            0\n",
      "area_worst                 0\n",
      "smoothness_worst           0\n",
      "compactness_worst          0\n",
      "concavity_worst            0\n",
      "concave points_worst       0\n",
      "symmetry_worst             0\n",
      "fractal_dimension_worst    0\n",
      "dtype: int64\n"
     ]
    }
   ],
   "source": [
    "print(dataframe.isna().sum())"
   ]
  },
  {
   "cell_type": "code",
   "execution_count": 76,
   "metadata": {},
   "outputs": [
    {
     "data": {
      "text/html": [
       "<div>\n",
       "<style scoped>\n",
       "    .dataframe tbody tr th:only-of-type {\n",
       "        vertical-align: middle;\n",
       "    }\n",
       "\n",
       "    .dataframe tbody tr th {\n",
       "        vertical-align: top;\n",
       "    }\n",
       "\n",
       "    .dataframe thead th {\n",
       "        text-align: right;\n",
       "    }\n",
       "</style>\n",
       "<table border=\"1\" class=\"dataframe\">\n",
       "  <thead>\n",
       "    <tr style=\"text-align: right;\">\n",
       "      <th></th>\n",
       "      <th>radius_mean</th>\n",
       "      <th>texture_mean</th>\n",
       "      <th>perimeter_mean</th>\n",
       "      <th>area_mean</th>\n",
       "      <th>smoothness_mean</th>\n",
       "      <th>compactness_mean</th>\n",
       "      <th>concavity_mean</th>\n",
       "      <th>concave points_mean</th>\n",
       "      <th>symmetry_mean</th>\n",
       "      <th>fractal_dimension_mean</th>\n",
       "      <th>...</th>\n",
       "      <th>radius_worst</th>\n",
       "      <th>texture_worst</th>\n",
       "      <th>perimeter_worst</th>\n",
       "      <th>area_worst</th>\n",
       "      <th>smoothness_worst</th>\n",
       "      <th>compactness_worst</th>\n",
       "      <th>concavity_worst</th>\n",
       "      <th>concave points_worst</th>\n",
       "      <th>symmetry_worst</th>\n",
       "      <th>fractal_dimension_worst</th>\n",
       "    </tr>\n",
       "  </thead>\n",
       "  <tbody>\n",
       "    <tr>\n",
       "      <th>count</th>\n",
       "      <td>569.000000</td>\n",
       "      <td>569.000000</td>\n",
       "      <td>569.000000</td>\n",
       "      <td>569.000000</td>\n",
       "      <td>569.000000</td>\n",
       "      <td>569.000000</td>\n",
       "      <td>569.000000</td>\n",
       "      <td>569.000000</td>\n",
       "      <td>569.000000</td>\n",
       "      <td>569.000000</td>\n",
       "      <td>...</td>\n",
       "      <td>569.000000</td>\n",
       "      <td>569.000000</td>\n",
       "      <td>569.000000</td>\n",
       "      <td>569.000000</td>\n",
       "      <td>569.000000</td>\n",
       "      <td>569.000000</td>\n",
       "      <td>569.000000</td>\n",
       "      <td>569.000000</td>\n",
       "      <td>569.000000</td>\n",
       "      <td>569.000000</td>\n",
       "    </tr>\n",
       "    <tr>\n",
       "      <th>mean</th>\n",
       "      <td>14.127292</td>\n",
       "      <td>19.289649</td>\n",
       "      <td>91.969033</td>\n",
       "      <td>654.889104</td>\n",
       "      <td>0.096360</td>\n",
       "      <td>0.104341</td>\n",
       "      <td>0.088799</td>\n",
       "      <td>0.048919</td>\n",
       "      <td>0.181162</td>\n",
       "      <td>0.062798</td>\n",
       "      <td>...</td>\n",
       "      <td>16.269190</td>\n",
       "      <td>25.677223</td>\n",
       "      <td>107.261213</td>\n",
       "      <td>880.583128</td>\n",
       "      <td>0.132369</td>\n",
       "      <td>0.254265</td>\n",
       "      <td>0.272188</td>\n",
       "      <td>0.114606</td>\n",
       "      <td>0.290076</td>\n",
       "      <td>0.083946</td>\n",
       "    </tr>\n",
       "    <tr>\n",
       "      <th>std</th>\n",
       "      <td>3.524049</td>\n",
       "      <td>4.301036</td>\n",
       "      <td>24.298981</td>\n",
       "      <td>351.914129</td>\n",
       "      <td>0.014064</td>\n",
       "      <td>0.052813</td>\n",
       "      <td>0.079720</td>\n",
       "      <td>0.038803</td>\n",
       "      <td>0.027414</td>\n",
       "      <td>0.007060</td>\n",
       "      <td>...</td>\n",
       "      <td>4.833242</td>\n",
       "      <td>6.146258</td>\n",
       "      <td>33.602542</td>\n",
       "      <td>569.356993</td>\n",
       "      <td>0.022832</td>\n",
       "      <td>0.157336</td>\n",
       "      <td>0.208624</td>\n",
       "      <td>0.065732</td>\n",
       "      <td>0.061867</td>\n",
       "      <td>0.018061</td>\n",
       "    </tr>\n",
       "    <tr>\n",
       "      <th>min</th>\n",
       "      <td>6.981000</td>\n",
       "      <td>9.710000</td>\n",
       "      <td>43.790000</td>\n",
       "      <td>143.500000</td>\n",
       "      <td>0.052630</td>\n",
       "      <td>0.019380</td>\n",
       "      <td>0.000000</td>\n",
       "      <td>0.000000</td>\n",
       "      <td>0.106000</td>\n",
       "      <td>0.049960</td>\n",
       "      <td>...</td>\n",
       "      <td>7.930000</td>\n",
       "      <td>12.020000</td>\n",
       "      <td>50.410000</td>\n",
       "      <td>185.200000</td>\n",
       "      <td>0.071170</td>\n",
       "      <td>0.027290</td>\n",
       "      <td>0.000000</td>\n",
       "      <td>0.000000</td>\n",
       "      <td>0.156500</td>\n",
       "      <td>0.055040</td>\n",
       "    </tr>\n",
       "    <tr>\n",
       "      <th>25%</th>\n",
       "      <td>11.700000</td>\n",
       "      <td>16.170000</td>\n",
       "      <td>75.170000</td>\n",
       "      <td>420.300000</td>\n",
       "      <td>0.086370</td>\n",
       "      <td>0.064920</td>\n",
       "      <td>0.029560</td>\n",
       "      <td>0.020310</td>\n",
       "      <td>0.161900</td>\n",
       "      <td>0.057700</td>\n",
       "      <td>...</td>\n",
       "      <td>13.010000</td>\n",
       "      <td>21.080000</td>\n",
       "      <td>84.110000</td>\n",
       "      <td>515.300000</td>\n",
       "      <td>0.116600</td>\n",
       "      <td>0.147200</td>\n",
       "      <td>0.114500</td>\n",
       "      <td>0.064930</td>\n",
       "      <td>0.250400</td>\n",
       "      <td>0.071460</td>\n",
       "    </tr>\n",
       "    <tr>\n",
       "      <th>50%</th>\n",
       "      <td>13.370000</td>\n",
       "      <td>18.840000</td>\n",
       "      <td>86.240000</td>\n",
       "      <td>551.100000</td>\n",
       "      <td>0.095870</td>\n",
       "      <td>0.092630</td>\n",
       "      <td>0.061540</td>\n",
       "      <td>0.033500</td>\n",
       "      <td>0.179200</td>\n",
       "      <td>0.061540</td>\n",
       "      <td>...</td>\n",
       "      <td>14.970000</td>\n",
       "      <td>25.410000</td>\n",
       "      <td>97.660000</td>\n",
       "      <td>686.500000</td>\n",
       "      <td>0.131300</td>\n",
       "      <td>0.211900</td>\n",
       "      <td>0.226700</td>\n",
       "      <td>0.099930</td>\n",
       "      <td>0.282200</td>\n",
       "      <td>0.080040</td>\n",
       "    </tr>\n",
       "    <tr>\n",
       "      <th>75%</th>\n",
       "      <td>15.780000</td>\n",
       "      <td>21.800000</td>\n",
       "      <td>104.100000</td>\n",
       "      <td>782.700000</td>\n",
       "      <td>0.105300</td>\n",
       "      <td>0.130400</td>\n",
       "      <td>0.130700</td>\n",
       "      <td>0.074000</td>\n",
       "      <td>0.195700</td>\n",
       "      <td>0.066120</td>\n",
       "      <td>...</td>\n",
       "      <td>18.790000</td>\n",
       "      <td>29.720000</td>\n",
       "      <td>125.400000</td>\n",
       "      <td>1084.000000</td>\n",
       "      <td>0.146000</td>\n",
       "      <td>0.339100</td>\n",
       "      <td>0.382900</td>\n",
       "      <td>0.161400</td>\n",
       "      <td>0.317900</td>\n",
       "      <td>0.092080</td>\n",
       "    </tr>\n",
       "    <tr>\n",
       "      <th>max</th>\n",
       "      <td>28.110000</td>\n",
       "      <td>39.280000</td>\n",
       "      <td>188.500000</td>\n",
       "      <td>2501.000000</td>\n",
       "      <td>0.163400</td>\n",
       "      <td>0.345400</td>\n",
       "      <td>0.426800</td>\n",
       "      <td>0.201200</td>\n",
       "      <td>0.304000</td>\n",
       "      <td>0.097440</td>\n",
       "      <td>...</td>\n",
       "      <td>36.040000</td>\n",
       "      <td>49.540000</td>\n",
       "      <td>251.200000</td>\n",
       "      <td>4254.000000</td>\n",
       "      <td>0.222600</td>\n",
       "      <td>1.058000</td>\n",
       "      <td>1.252000</td>\n",
       "      <td>0.291000</td>\n",
       "      <td>0.663800</td>\n",
       "      <td>0.207500</td>\n",
       "    </tr>\n",
       "  </tbody>\n",
       "</table>\n",
       "<p>8 rows × 30 columns</p>\n",
       "</div>"
      ],
      "text/plain": [
       "       radius_mean  texture_mean  perimeter_mean    area_mean  \\\n",
       "count   569.000000    569.000000      569.000000   569.000000   \n",
       "mean     14.127292     19.289649       91.969033   654.889104   \n",
       "std       3.524049      4.301036       24.298981   351.914129   \n",
       "min       6.981000      9.710000       43.790000   143.500000   \n",
       "25%      11.700000     16.170000       75.170000   420.300000   \n",
       "50%      13.370000     18.840000       86.240000   551.100000   \n",
       "75%      15.780000     21.800000      104.100000   782.700000   \n",
       "max      28.110000     39.280000      188.500000  2501.000000   \n",
       "\n",
       "       smoothness_mean  compactness_mean  concavity_mean  concave points_mean  \\\n",
       "count       569.000000        569.000000      569.000000           569.000000   \n",
       "mean          0.096360          0.104341        0.088799             0.048919   \n",
       "std           0.014064          0.052813        0.079720             0.038803   \n",
       "min           0.052630          0.019380        0.000000             0.000000   \n",
       "25%           0.086370          0.064920        0.029560             0.020310   \n",
       "50%           0.095870          0.092630        0.061540             0.033500   \n",
       "75%           0.105300          0.130400        0.130700             0.074000   \n",
       "max           0.163400          0.345400        0.426800             0.201200   \n",
       "\n",
       "       symmetry_mean  fractal_dimension_mean           ...             \\\n",
       "count     569.000000              569.000000           ...              \n",
       "mean        0.181162                0.062798           ...              \n",
       "std         0.027414                0.007060           ...              \n",
       "min         0.106000                0.049960           ...              \n",
       "25%         0.161900                0.057700           ...              \n",
       "50%         0.179200                0.061540           ...              \n",
       "75%         0.195700                0.066120           ...              \n",
       "max         0.304000                0.097440           ...              \n",
       "\n",
       "       radius_worst  texture_worst  perimeter_worst   area_worst  \\\n",
       "count    569.000000     569.000000       569.000000   569.000000   \n",
       "mean      16.269190      25.677223       107.261213   880.583128   \n",
       "std        4.833242       6.146258        33.602542   569.356993   \n",
       "min        7.930000      12.020000        50.410000   185.200000   \n",
       "25%       13.010000      21.080000        84.110000   515.300000   \n",
       "50%       14.970000      25.410000        97.660000   686.500000   \n",
       "75%       18.790000      29.720000       125.400000  1084.000000   \n",
       "max       36.040000      49.540000       251.200000  4254.000000   \n",
       "\n",
       "       smoothness_worst  compactness_worst  concavity_worst  \\\n",
       "count        569.000000         569.000000       569.000000   \n",
       "mean           0.132369           0.254265         0.272188   \n",
       "std            0.022832           0.157336         0.208624   \n",
       "min            0.071170           0.027290         0.000000   \n",
       "25%            0.116600           0.147200         0.114500   \n",
       "50%            0.131300           0.211900         0.226700   \n",
       "75%            0.146000           0.339100         0.382900   \n",
       "max            0.222600           1.058000         1.252000   \n",
       "\n",
       "       concave points_worst  symmetry_worst  fractal_dimension_worst  \n",
       "count            569.000000      569.000000               569.000000  \n",
       "mean               0.114606        0.290076                 0.083946  \n",
       "std                0.065732        0.061867                 0.018061  \n",
       "min                0.000000        0.156500                 0.055040  \n",
       "25%                0.064930        0.250400                 0.071460  \n",
       "50%                0.099930        0.282200                 0.080040  \n",
       "75%                0.161400        0.317900                 0.092080  \n",
       "max                0.291000        0.663800                 0.207500  \n",
       "\n",
       "[8 rows x 30 columns]"
      ]
     },
     "execution_count": 76,
     "metadata": {},
     "output_type": "execute_result"
    }
   ],
   "source": [
    "previsores.describe()"
   ]
  },
  {
   "cell_type": "markdown",
   "metadata": {},
   "source": [
    "Aparentemente essa base de dados também está em um formato já pronto para ser submetido à um algoritmo de aprendizado de máquina, não possuindo valores nulos ou outliers, porém é necessário antes normalizar os valores utilizando o z-score, da mesma forma que os conjuntos anteriores."
   ]
  },
  {
   "cell_type": "code",
   "execution_count": 77,
   "metadata": {
    "scrolled": true
   },
   "outputs": [
    {
     "data": {
      "text/html": [
       "<div>\n",
       "<style scoped>\n",
       "    .dataframe tbody tr th:only-of-type {\n",
       "        vertical-align: middle;\n",
       "    }\n",
       "\n",
       "    .dataframe tbody tr th {\n",
       "        vertical-align: top;\n",
       "    }\n",
       "\n",
       "    .dataframe thead th {\n",
       "        text-align: right;\n",
       "    }\n",
       "</style>\n",
       "<table border=\"1\" class=\"dataframe\">\n",
       "  <thead>\n",
       "    <tr style=\"text-align: right;\">\n",
       "      <th></th>\n",
       "      <th>radius_mean</th>\n",
       "      <th>texture_mean</th>\n",
       "      <th>perimeter_mean</th>\n",
       "      <th>area_mean</th>\n",
       "      <th>smoothness_mean</th>\n",
       "      <th>compactness_mean</th>\n",
       "      <th>concavity_mean</th>\n",
       "      <th>concave points_mean</th>\n",
       "      <th>symmetry_mean</th>\n",
       "      <th>fractal_dimension_mean</th>\n",
       "      <th>...</th>\n",
       "      <th>radius_worst</th>\n",
       "      <th>texture_worst</th>\n",
       "      <th>perimeter_worst</th>\n",
       "      <th>area_worst</th>\n",
       "      <th>smoothness_worst</th>\n",
       "      <th>compactness_worst</th>\n",
       "      <th>concavity_worst</th>\n",
       "      <th>concave points_worst</th>\n",
       "      <th>symmetry_worst</th>\n",
       "      <th>fractal_dimension_worst</th>\n",
       "    </tr>\n",
       "  </thead>\n",
       "  <tbody>\n",
       "    <tr>\n",
       "      <th>0</th>\n",
       "      <td>1.096100</td>\n",
       "      <td>-2.071512</td>\n",
       "      <td>1.268817</td>\n",
       "      <td>0.983510</td>\n",
       "      <td>1.567087</td>\n",
       "      <td>3.280628</td>\n",
       "      <td>2.650542</td>\n",
       "      <td>2.530249</td>\n",
       "      <td>2.215566</td>\n",
       "      <td>2.253764</td>\n",
       "      <td>...</td>\n",
       "      <td>1.885031</td>\n",
       "      <td>-1.358098</td>\n",
       "      <td>2.301575</td>\n",
       "      <td>1.999478</td>\n",
       "      <td>1.306537</td>\n",
       "      <td>2.614365</td>\n",
       "      <td>2.107672</td>\n",
       "      <td>2.294058</td>\n",
       "      <td>2.748204</td>\n",
       "      <td>1.935312</td>\n",
       "    </tr>\n",
       "    <tr>\n",
       "      <th>1</th>\n",
       "      <td>1.828212</td>\n",
       "      <td>-0.353322</td>\n",
       "      <td>1.684473</td>\n",
       "      <td>1.907030</td>\n",
       "      <td>-0.826235</td>\n",
       "      <td>-0.486643</td>\n",
       "      <td>-0.023825</td>\n",
       "      <td>0.547662</td>\n",
       "      <td>0.001391</td>\n",
       "      <td>-0.867889</td>\n",
       "      <td>...</td>\n",
       "      <td>1.804340</td>\n",
       "      <td>-0.368879</td>\n",
       "      <td>1.533776</td>\n",
       "      <td>1.888827</td>\n",
       "      <td>-0.375282</td>\n",
       "      <td>-0.430066</td>\n",
       "      <td>-0.146620</td>\n",
       "      <td>1.086129</td>\n",
       "      <td>-0.243675</td>\n",
       "      <td>0.280943</td>\n",
       "    </tr>\n",
       "    <tr>\n",
       "      <th>2</th>\n",
       "      <td>1.578499</td>\n",
       "      <td>0.455786</td>\n",
       "      <td>1.565126</td>\n",
       "      <td>1.557513</td>\n",
       "      <td>0.941382</td>\n",
       "      <td>1.052000</td>\n",
       "      <td>1.362280</td>\n",
       "      <td>2.035440</td>\n",
       "      <td>0.938859</td>\n",
       "      <td>-0.397658</td>\n",
       "      <td>...</td>\n",
       "      <td>1.510541</td>\n",
       "      <td>-0.023953</td>\n",
       "      <td>1.346291</td>\n",
       "      <td>1.455004</td>\n",
       "      <td>0.526944</td>\n",
       "      <td>1.081980</td>\n",
       "      <td>0.854222</td>\n",
       "      <td>1.953282</td>\n",
       "      <td>1.151242</td>\n",
       "      <td>0.201214</td>\n",
       "    </tr>\n",
       "    <tr>\n",
       "      <th>3</th>\n",
       "      <td>-0.768233</td>\n",
       "      <td>0.253509</td>\n",
       "      <td>-0.592166</td>\n",
       "      <td>-0.763792</td>\n",
       "      <td>3.280667</td>\n",
       "      <td>3.399917</td>\n",
       "      <td>1.914213</td>\n",
       "      <td>1.450431</td>\n",
       "      <td>2.864862</td>\n",
       "      <td>4.906602</td>\n",
       "      <td>...</td>\n",
       "      <td>-0.281217</td>\n",
       "      <td>0.133866</td>\n",
       "      <td>-0.249720</td>\n",
       "      <td>-0.549538</td>\n",
       "      <td>3.391291</td>\n",
       "      <td>3.889975</td>\n",
       "      <td>1.987839</td>\n",
       "      <td>2.173873</td>\n",
       "      <td>6.040726</td>\n",
       "      <td>4.930672</td>\n",
       "    </tr>\n",
       "    <tr>\n",
       "      <th>4</th>\n",
       "      <td>1.748758</td>\n",
       "      <td>-1.150804</td>\n",
       "      <td>1.775011</td>\n",
       "      <td>1.824624</td>\n",
       "      <td>0.280125</td>\n",
       "      <td>0.538866</td>\n",
       "      <td>1.369806</td>\n",
       "      <td>1.427237</td>\n",
       "      <td>-0.009552</td>\n",
       "      <td>-0.561956</td>\n",
       "      <td>...</td>\n",
       "      <td>1.297434</td>\n",
       "      <td>-1.465481</td>\n",
       "      <td>1.337363</td>\n",
       "      <td>1.219651</td>\n",
       "      <td>0.220362</td>\n",
       "      <td>-0.313119</td>\n",
       "      <td>0.612640</td>\n",
       "      <td>0.728618</td>\n",
       "      <td>-0.867590</td>\n",
       "      <td>-0.396751</td>\n",
       "    </tr>\n",
       "  </tbody>\n",
       "</table>\n",
       "<p>5 rows × 30 columns</p>\n",
       "</div>"
      ],
      "text/plain": [
       "   radius_mean  texture_mean  perimeter_mean  area_mean  smoothness_mean  \\\n",
       "0     1.096100     -2.071512        1.268817   0.983510         1.567087   \n",
       "1     1.828212     -0.353322        1.684473   1.907030        -0.826235   \n",
       "2     1.578499      0.455786        1.565126   1.557513         0.941382   \n",
       "3    -0.768233      0.253509       -0.592166  -0.763792         3.280667   \n",
       "4     1.748758     -1.150804        1.775011   1.824624         0.280125   \n",
       "\n",
       "   compactness_mean  concavity_mean  concave points_mean  symmetry_mean  \\\n",
       "0          3.280628        2.650542             2.530249       2.215566   \n",
       "1         -0.486643       -0.023825             0.547662       0.001391   \n",
       "2          1.052000        1.362280             2.035440       0.938859   \n",
       "3          3.399917        1.914213             1.450431       2.864862   \n",
       "4          0.538866        1.369806             1.427237      -0.009552   \n",
       "\n",
       "   fractal_dimension_mean           ...             radius_worst  \\\n",
       "0                2.253764           ...                 1.885031   \n",
       "1               -0.867889           ...                 1.804340   \n",
       "2               -0.397658           ...                 1.510541   \n",
       "3                4.906602           ...                -0.281217   \n",
       "4               -0.561956           ...                 1.297434   \n",
       "\n",
       "   texture_worst  perimeter_worst  area_worst  smoothness_worst  \\\n",
       "0      -1.358098         2.301575    1.999478          1.306537   \n",
       "1      -0.368879         1.533776    1.888827         -0.375282   \n",
       "2      -0.023953         1.346291    1.455004          0.526944   \n",
       "3       0.133866        -0.249720   -0.549538          3.391291   \n",
       "4      -1.465481         1.337363    1.219651          0.220362   \n",
       "\n",
       "   compactness_worst  concavity_worst  concave points_worst  symmetry_worst  \\\n",
       "0           2.614365         2.107672              2.294058        2.748204   \n",
       "1          -0.430066        -0.146620              1.086129       -0.243675   \n",
       "2           1.081980         0.854222              1.953282        1.151242   \n",
       "3           3.889975         1.987839              2.173873        6.040726   \n",
       "4          -0.313119         0.612640              0.728618       -0.867590   \n",
       "\n",
       "   fractal_dimension_worst  \n",
       "0                 1.935312  \n",
       "1                 0.280943  \n",
       "2                 0.201214  \n",
       "3                 4.930672  \n",
       "4                -0.396751  \n",
       "\n",
       "[5 rows x 30 columns]"
      ]
     },
     "execution_count": 77,
     "metadata": {},
     "output_type": "execute_result"
    }
   ],
   "source": [
    "previsores = previsores.apply(lambda row: normalizacao_z_score(row))\n",
    "previsores.head()"
   ]
  },
  {
   "cell_type": "code",
   "execution_count": 78,
   "metadata": {},
   "outputs": [
    {
     "data": {
      "text/plain": [
       "B    357\n",
       "M    212\n",
       "Name: diagnosis, dtype: int64"
      ]
     },
     "execution_count": 78,
     "metadata": {},
     "output_type": "execute_result"
    }
   ],
   "source": [
    "classe.value_counts()"
   ]
  },
  {
   "cell_type": "markdown",
   "metadata": {},
   "source": [
    "Não será necessário transformar a classe em uma array ou uma matriz, pois se trata de um problema binário. Também é possível abservar que as classes estão relativamente bem balanceadas, uma vez que problemas envolvendo patologias geralmente são tratados como uma detecção de anomalia, pelo fato do paciente com a doença representar uma pequena fração de predominância no conjunto de dados, porém não foi o que aconteceu nesse caso.\n",
    "\n",
    "Ainda assim, será necessário converter a classe de valores categóricos em discretos."
   ]
  },
  {
   "cell_type": "code",
   "execution_count": 79,
   "metadata": {},
   "outputs": [
    {
     "data": {
      "text/plain": [
       "{'M': 0, 'B': 1}"
      ]
     },
     "execution_count": 79,
     "metadata": {},
     "output_type": "execute_result"
    }
   ],
   "source": [
    "dict_classes = get_dicionario_classes(classe)\n",
    "classe = classe.apply(lambda row: transformar_categorico_em_numerico(row, dict_classes))\n",
    "dict_classes"
   ]
  },
  {
   "cell_type": "markdown",
   "metadata": {},
   "source": [
    "Com isso, o câncer maligno recebe o valor 0 e o benigno recebe o valor 1."
   ]
  },
  {
   "cell_type": "markdown",
   "metadata": {},
   "source": [
    "# Implementação do multilayer perceptron\n",
    "A ideia da rede neural perceptron multicamadas é parecido com a anterior, porém alguns conceitos matemáticos são adicionados, portanto os métodos tiveram que ser reconstruídos, com exceção apenas da função de soma que se mantém igual."
   ]
  },
  {
   "cell_type": "markdown",
   "metadata": {},
   "source": [
    "O método de *inicializar_pesos* por exemplo, acabou recebendo uma pequena modificação para conseguir distribuir dinamicamente os pesos baseado na quantidade de neurônios em cada camada e também na próxima camada adjacente."
   ]
  },
  {
   "cell_type": "code",
   "execution_count": 80,
   "metadata": {},
   "outputs": [],
   "source": [
    "def inicializar_pesos_mlp(neuronios_camada, dominio = [-1, 1]):\n",
    "    pesos_final = []\n",
    "\n",
    "    for i in range(len(neuronios_camada) - 1):\n",
    "        pesos = []\n",
    "        for j in range(neuronios_camada[i]):\n",
    "            pesos.append([random.uniform(dominio[0], dominio[1]) for i in range(neuronios_camada[i + 1])])\n",
    "        pesos_final.append(pesos)\n",
    "    return pesos_final"
   ]
  },
  {
   "cell_type": "markdown",
   "metadata": {},
   "source": [
    "A função de custo e a sigmoid estão bem simples, da mesma forma que a implementação original."
   ]
  },
  {
   "cell_type": "code",
   "execution_count": 87,
   "metadata": {},
   "outputs": [],
   "source": [
    "def funcao_ativacao_sigmoid_mlp(valor):\n",
    "    resultado = 1 / (1 + np.exp(-valor))\n",
    "    return resultado"
   ]
  },
  {
   "cell_type": "code",
   "execution_count": 88,
   "metadata": {},
   "outputs": [],
   "source": [
    "def funcao_custo_mlp(valor_correto, valor_previsto):\n",
    "    valor_erro = valor_correto - valor_previsto\n",
    "    return valor_erro"
   ]
  },
  {
   "cell_type": "markdown",
   "metadata": {},
   "source": [
    "## Feedfoward\n",
    "O feedfoward é o nome dado ao processo de cálculo do resultado da função de ativação. O processo é simples igual no perceptron, todavia ele deve ser repetido para todas as camadas até chegar na camada de saída, diferentemente da versão anterior onde esse processo de somatória e aplicação da função de ativação era realizado apenas uma vez."
   ]
  },
  {
   "cell_type": "code",
   "execution_count": 89,
   "metadata": {},
   "outputs": [],
   "source": [
    "def feed_foward(pesos, x_treinamento, f_ativacao):\n",
    "    ativacao = []\n",
    "    for i in range(len(pesos)): # percorre todas as camadas\n",
    "        if i == 0: # na camada de entrada os valores são os próprios atributos previsores\n",
    "            soma_sinapse = np.dot(x_treinamento, pesos[i])\n",
    "            ativacao.append(f_ativacao(soma_sinapse))\n",
    "        else: # nas próximas camadas, o resultado anteriores dos neurônios são considerados.\n",
    "            soma_sinapse = np.dot(ativacao[i - 1], pesos[i])\n",
    "            ativacao.append(f_ativacao(soma_sinapse))\n",
    "\n",
    "    return ativacao"
   ]
  },
  {
   "cell_type": "markdown",
   "metadata": {},
   "source": [
    "## Calculando a derivada e o delta da camada de saída\n",
    "A derivada e o delta da camada de saída são valores importantes para o ajuste dos pesos, usados no processo de retropropagação do erro. Portanto, foram criados funções que vão calcular os respectivos valores."
   ]
  },
  {
   "cell_type": "code",
   "execution_count": 90,
   "metadata": {},
   "outputs": [],
   "source": [
    "def calcular_derivada_parcial(valor):\n",
    "    return valor * (1 - valor)"
   ]
  },
  {
   "cell_type": "code",
   "execution_count": 91,
   "metadata": {},
   "outputs": [],
   "source": [
    "def calcular_delta(erro, derivada):\n",
    "    return erro * derivada"
   ]
  },
  {
   "cell_type": "markdown",
   "metadata": {},
   "source": [
    "O processo de cálculo de derivada e delta para as camadas ocultas é um pouco diferente, portanto foi criado uma função para servir a esse propósito específico"
   ]
  },
  {
   "cell_type": "code",
   "execution_count": 92,
   "metadata": {},
   "outputs": [],
   "source": [
    "def calcular_delta_oculto(pesos, delta_saida, derivada):\n",
    "    matriz_pesos = np.transpose(np.asmatrix(pesos)) # conceito de matriz transposta \n",
    "\n",
    "    pesos_delta_saida = delta_saida.dot(matriz_pesos)\n",
    "\n",
    "    return derivada * np.array(pesos_delta_saida) # as matrizes precisam estar em uma dimensão diferente uma da outra"
   ]
  },
  {
   "cell_type": "code",
   "execution_count": 93,
   "metadata": {},
   "outputs": [],
   "source": [
    "def get_delta_oculto(pesos, delta_saida, ativacao):\n",
    "    deltas_camadas_ocultas = []  # pegar a derivada da saída\n",
    "\n",
    "    for i in range(len(pesos) -1):\n",
    "        if i == 0:\n",
    "            derivada = calcular_derivada_parcial(ativacao[len(ativacao) - (i + 2)]) # pegar de trás para frente a derivada de cada neurônio\n",
    "            deltas_camadas_ocultas.append(calcular_delta_oculto(pesos[len(pesos) - (i + 1)], delta_saida, derivada))\n",
    "        else:\n",
    "            derivada = calcular_derivada_parcial(ativacao[len(ativacao) - (i + 2)]) # pegar de trás para frente a derivada de cada neurônio\n",
    "            deltas_camadas_ocultas.append(calcular_delta_oculto(pesos[len(pesos) - (i + 1)], deltas_camadas_ocultas[i - 1], derivada))\n",
    "\n",
    "    return deltas_camadas_ocultas"
   ]
  },
  {
   "cell_type": "markdown",
   "metadata": {},
   "source": [
    "## Backpropagation\n",
    "Agora com todos os neurônios com os respectivos valores de delta e as derivadas, basta aplicar o algoritmo de retropropagação, começando da camada de saída até a camada de entrada.\n",
    "\n",
    "O método recebe todos os valores que foram calculados até então, além da taxa de aprendizado e o momentum."
   ]
  },
  {
   "cell_type": "code",
   "execution_count": 94,
   "metadata": {},
   "outputs": [],
   "source": [
    "def backpropagation(pesos, ativacao, delta_saida, delta_oculto, x_treinamento, tx_aprendizado = 0.3, momento = 1):\n",
    "    for i in range(len(pesos)):\n",
    "        if i == len(pesos) - 1:\n",
    "            valor_neuronio_transposto = np.transpose(x_treinamento.values)\n",
    "            delta_x_entrada = valor_neuronio_transposto.dot(delta_oculto[0])\n",
    "            pesos[len(pesos) - (1 + i)] = (pesos[len(pesos) - (1 + i)] * momento) + (tx_aprendizado * delta_x_entrada)\n",
    "        elif i == 0:\n",
    "            valor_neuronio_transposto = np.transpose(ativacao[len(ativacao) - (i + 1)])\n",
    "            delta_x_entrada = valor_neuronio_transposto.dot(delta_saida)\n",
    "            pesos[len(pesos) - (1 + i)] = (pesos[len(pesos) - (1 + i)] * momento) + (tx_aprendizado * delta_x_entrada) \n",
    "        else:\n",
    "            valor_neuronio_transposto = np.transpose(ativacao[len(ativacao) - (i + 1)])\n",
    "            delta_x_entrada = valor_neuronio_transposto.dot(delta_oculto[len(delta_oculto) - i])\n",
    "            pesos[len(pesos) - (1 + i)] = (pesos[len(pesos) - (1 + i)] * momento) + (tx_aprendizado * delta_x_entrada)\n",
    "\n",
    "    return pesos"
   ]
  },
  {
   "cell_type": "markdown",
   "metadata": {},
   "source": [
    "Uma dificuldade encontrada foi ajustar as dimensões das matrizes para que as fórmulas sejam corretamente aplicadas, portanto por enquanto o perceptron só aceita uma única camada oculta."
   ]
  },
  {
   "cell_type": "markdown",
   "metadata": {},
   "source": [
    "## Precisão\n",
    "O método *get_precisao* foi utilizado para calcular a diferença absoluta nas previsões da última camada do modelo com o valor real da classe, nos dando a precisão do algoritmo."
   ]
  },
  {
   "cell_type": "code",
   "execution_count": 95,
   "metadata": {},
   "outputs": [],
   "source": [
    "def get_precisao(valor_correto, valor_previsto):\n",
    "    previsao = valor_previsto.copy()\n",
    "\n",
    "    previsao[previsao >= 0.5] = 1\n",
    "    previsao[previsao < 0.5] = 0\n",
    "\n",
    "    precisao = (valor_correto == previsao).sum() / len(valor_correto)\n",
    "    return precisao"
   ]
  },
  {
   "cell_type": "markdown",
   "metadata": {},
   "source": [
    "## Matriz de confusão\n",
    "A matriz de confusão é especialmente útil nesses casos, uma vez que estamos lidando com vidas de pacientes. Sabemos que em casos de patologias, é preferível um número maior de falsos positivos do que falsos negativos, pois é preferível diagnosticar o paciente com a doença e depois descartar através de mais exames do que descartar a possibilidade de doença e deixar que a condição de saúde seja agravada.\n",
    "\n",
    "O método de gerar a matriz de confusão foi adaptado aqui também, para trabalhar diretamente com matrizes."
   ]
  },
  {
   "cell_type": "code",
   "execution_count": 96,
   "metadata": {},
   "outputs": [],
   "source": [
    "def get_matriz_confusao(valor_correto, valor_previsto):\n",
    "    previsao = valor_previsto.copy()\n",
    "\n",
    "    previsao[previsao >= 0.5] = 1\n",
    "    previsao[previsao < 0.5] = 0\n",
    "\n",
    "    matriz_confusao = confusion_matrix(valor_correto, previsao)\n",
    "\n",
    "    return matriz_confusao"
   ]
  },
  {
   "cell_type": "markdown",
   "metadata": {},
   "source": [
    "## Treinamento do algoritmo\n",
    "O método *treinar_mlp* é o responsável por aplicar todas as contas que foram criadas anteriormente, atualizado os pesos em cada uma das épocas."
   ]
  },
  {
   "cell_type": "code",
   "execution_count": 111,
   "metadata": {},
   "outputs": [],
   "source": [
    "def treinar_mlp(epocas, neuronios_camada, f_ativacao, f_custo, pesos, x_treinamento,\n",
    "                                     y_treinamento, x_teste, y_teste, tx_aprendizado):\n",
    "    execucoes = 0\n",
    "    precisoes_treinamento = []\n",
    "    precisoes_teste = []\n",
    "    melhores_pesos = []\n",
    "    melhor_matriz_treinamento = []\n",
    "    melhor_matriz_teste = []\n",
    "\n",
    "    while execucoes < epocas:               \n",
    "        ativacao = feed_foward(pesos, x_treinamento, f_ativacao)\n",
    "\n",
    "        resultado_camada_saida = ativacao[len(ativacao) - 1]\n",
    "        classe_reshaped = y_treinamento.values.reshape(-1,1)\n",
    "\n",
    "        erro = f_custo(classe_reshaped, resultado_camada_saida)\n",
    "\n",
    "        precisoes_treinamento.append(get_precisao(classe_reshaped, resultado_camada_saida))\n",
    "\n",
    "        derivada_saida = calcular_derivada_parcial(resultado_camada_saida)\n",
    "        delta_saida = calcular_delta(erro, derivada_saida)\n",
    "\n",
    "        delta_camada_oculta = get_delta_oculto(pesos, delta_saida, ativacao)\n",
    "\n",
    "        melhores_pesos = pesos.copy() if precisoes_treinamento[execucoes] >= max(precisoes_treinamento) else melhores_pesos\n",
    "        melhor_matriz_treinamento = get_matriz_confusao(classe_reshaped, resultado_camada_saida) if precisoes_treinamento[execucoes] >= max(precisoes_treinamento) else melhor_matriz_treinamento\n",
    "\n",
    "        pesos = backpropagation(pesos, ativacao, delta_saida, delta_camada_oculta, x_treinamento) \n",
    "        \n",
    "        teste_rede = testar_mlp(pesos, x_teste, y_teste, f_ativacao, f_custo)\n",
    "        precisoes_teste.append(teste_rede[0])\n",
    "        melhor_matriz_teste = teste_rede[1] if precisoes_teste[execucoes] >= max(precisoes_teste) else melhor_matriz_teste\n",
    "        execucoes += 1\n",
    "        \n",
    "    return precisoes_treinamento, precisoes_teste, melhores_pesos, melhor_matriz_treinamento, melhor_matriz_teste "
   ]
  },
  {
   "cell_type": "markdown",
   "metadata": {},
   "source": [
    "Para testar o desempenho ao final de cada época o método testar também passou por adaptações"
   ]
  },
  {
   "cell_type": "code",
   "execution_count": 106,
   "metadata": {},
   "outputs": [],
   "source": [
    "def testar_mlp(pesos, x_previsores, y_classe, f_ativacao, f_custo):\n",
    "    precisao = 0\n",
    "\n",
    "    ativacao = feed_foward(pesos, x_previsores, f_ativacao)\n",
    "\n",
    "    resultado_camada_saida = ativacao[len(ativacao) - 1]\n",
    "    classe_reshaped = y_classe.values.reshape(-1,1)\n",
    "\n",
    "    matriz_confusao = get_matriz_confusao(classe_reshaped, resultado_camada_saida)\n",
    "    precisao = get_precisao(classe_reshaped, resultado_camada_saida)\n",
    "\n",
    "    return precisao, matriz_confusao"
   ]
  },
  {
   "cell_type": "markdown",
   "metadata": {},
   "source": [
    "## Adicionando camadas\n",
    "A lógica foi construída para inicializar a estrutura de pesos baseado em uma Array que vai indicar o número de camadas e de neurônios em cada camada, portanto o processo de expandir a rede se torna simples."
   ]
  },
  {
   "cell_type": "code",
   "execution_count": 99,
   "metadata": {},
   "outputs": [],
   "source": [
    "neuronios_camada = [len(previsores.columns)] # adicionado neurônios da camada de entrada\n",
    "neuronios_camada.append(10) # camada oculta\n",
    "neuronios_camada.append(1) # camada de saída."
   ]
  },
  {
   "cell_type": "markdown",
   "metadata": {},
   "source": [
    "Foi criado por fim um método, chamado *executar_mlp*, com o mesmo objetivo dos métodos anteriores de executar, fazendo os tester na rede com 30 inicializações;"
   ]
  },
  {
   "cell_type": "code",
   "execution_count": 113,
   "metadata": {},
   "outputs": [],
   "source": [
    "def executar_mlp(funcao_ativacao, funcao_custo, epocas, dominio_pesos = [-1, 1], \n",
    "                       tx_aprendizado = 0.001):\n",
    "\n",
    "    convergencia_treinamento = [0]\n",
    "    convergencia_teste = [0]\n",
    "    precisao_treinamento = []\n",
    "    precisao_teste = []\n",
    "    resultado_final = []\n",
    "    matriz_confusao_treinamento = []\n",
    "    matriz_confusao_teste = []\n",
    "    matriz_confusao_validacao = []\n",
    "    start_time = time.time() # tempo de execução\n",
    "\n",
    "    for i in range(30):\n",
    "        x_treinamento, y_treinamento, x_teste, y_teste, \\\n",
    "        x_validacao, y_validacao = dividir_dataframe(previsores, classe, 0.7, 0.15, 0.15)\n",
    "\n",
    "        pesos = inicializar_pesos_mlp(neuronios_camada, dominio_pesos)\n",
    "\n",
    "        treinamento = treinar_mlp(epocas, neuronios_camada, funcao_ativacao, funcao_custo, pesos, x_treinamento, y_treinamento, x_teste, y_teste, tx_aprendizado)\n",
    "\n",
    "        convergencia_treinamento = treinamento[0] if max(treinamento[0]) >= \\\n",
    "                                    max(convergencia_treinamento) else convergencia_treinamento\n",
    "\n",
    "        convergencia_teste = treinamento[1] if max(treinamento[1]) >= max(convergencia_teste) \\\n",
    "                                        else convergencia_teste\n",
    "        \n",
    "        precisao_treinamento.append(max(treinamento[0]))\n",
    "        precisao_teste.append(max(treinamento[1]))\n",
    "        teste_final = testar_mlp(treinamento[2], x_validacao, y_validacao, \n",
    "                                      funcao_ativacao, funcao_custo)\n",
    "        resultado_final.append(teste_final[0])\n",
    "        \n",
    "        matriz_confusao_treinamento = treinamento[3] if max(treinamento[0]) >= max(precisao_treinamento) else matriz_confusao_treinamento\n",
    "        matriz_confusao_teste = treinamento[4] if max(treinamento[1]) >= max(precisao_teste) else matriz_confusao_teste\n",
    "        matriz_confusao_validacao = teste_final[1] if teste_final[0] >= max(resultado_final) else matriz_confusao_validacao\n",
    "\n",
    "    plotar_convergencia(convergencia_treinamento, convergencia_teste)   \n",
    "    exibir_resultados(precisao_treinamento, precisao_teste, resultado_final)\n",
    "    print('Matriz de confusão de treinamento:\\n', matriz_confusao_treinamento)\n",
    "    print('Matriz de confusão de teste:\\n', matriz_confusao_teste)\n",
    "    print('Matriz de confusão de validação:\\n', matriz_confusao_validacao)\n",
    "    print(\"Tempo de execução: %s Segundos\" % (time.time() - start_time))"
   ]
  },
  {
   "cell_type": "code",
   "execution_count": 114,
   "metadata": {
    "scrolled": true
   },
   "outputs": [
    {
     "data": {
      "image/png": "[encoded data removed]",
      "text/plain": [
       "<Figure size 720x576 with 2 Axes>"
      ]
     },
     "metadata": {
      "needs_background": "light"
     },
     "output_type": "display_data"
    },
    {
     "name": "stdout",
     "output_type": "stream",
     "text": [
      "Melhor precisão de treinamento 0.9849246231155779\n",
      "Melhor precisão de teste 1.0\n",
      "Melhor precisão de validação 0.9883720930232558\n",
      "Média precisão de treinamento 0.8716080402010049\n",
      "Média precisão de teste 0.8631372549019609\n",
      "Média precisão de validação 0.8709302325581395\n",
      "Desvio Padrão precisão de treinamento 0.1357006464781066\n",
      "Desvio Padrão precisão de teste 0.1319355801470074\n",
      "Desvio Padrão precisão de validação 0.11889878409017271\n",
      "Matriz de confusão de treinamento:\n",
      " [[146   5]\n",
      " [  1 246]]\n",
      "Matriz de confusão de teste:\n",
      " [[33  0]\n",
      " [ 0 52]]\n",
      "Matriz de confusão de validação:\n",
      " [[29  1]\n",
      " [ 0 56]]\n",
      "Tempo de execução: 14.686784744262695 Segundos\n"
     ]
    }
   ],
   "source": [
    "executar_mlp(funcao_ativacao_sigmoid_mlp, funcao_custo_mlp, 350)"
   ]
  },
  {
   "cell_type": "markdown",
   "metadata": {},
   "source": [
    "# Resultados da rede perceptron multicamadas\n",
    "O algoritmo, ainda que sem muitos ajustes nos parâmetros, conseguiu uma precisão de quase 100% em todas os conjuntos de dados, também sendo possível ver a consistência do mesmo, com uma média próxima aos 90% em todas as 30 execuções.\n",
    "\n",
    "\n",
    "O que também impressiona é o tempo de processamento, sendo mais veloz até que o perceptron por épocas, claro que isso ocorre por se tratar de um problema simples, onde não foi necessário construir uma arquitetura mais larga ou profunda da rede neural, inclusive em alguns testes realizados o resultado foi melhor ao adicionar apenas uma camada oculta, com 10 ou 15 neurônios.\n",
    "\n",
    "Um resultado não tão positivo observado é que os erros da perceptron multicamadas, ainda que poucos, são justamente falsos negativos (primeira linha, segunda coluna), ou seja, um câncer que foi dito como sendo benigno mas na verdade era maligno. Um ajuste que pode ser interessante fazer nessa situação seria alterar a métrica de sucesso do algoritmo para buscar uma maior acurácia ao invés de precisão, dando maior ênfase na diminuição de falsos positivos. "
   ]
  },
  {
   "cell_type": "code",
   "execution_count": 115,
   "metadata": {},
   "outputs": [],
   "source": [
    "dict_classes = get_dicionario_classes(classe)\n",
    "classe_codificada = codificar_classe()\n",
    "\n",
    "classe_nova = []\n",
    "\n",
    "for i in classe:\n",
    "    classe_nova.append(classe_codificada[i])\n",
    "    \n",
    "classe_nova = np.array(classe_nova).reshape(len(classe), 2)"
   ]
  },
  {
   "cell_type": "code",
   "execution_count": 117,
   "metadata": {
    "scrolled": true
   },
   "outputs": [
    {
     "data": {
      "image/png": "[encoded data removed]",
      "text/plain": [
       "<Figure size 720x576 with 2 Axes>"
      ]
     },
     "metadata": {
      "needs_background": "light"
     },
     "output_type": "display_data"
    },
    {
     "name": "stdout",
     "output_type": "stream",
     "text": [
      "Melhor precisão de treinamento 0.9020100502512562\n",
      "Melhor precisão de teste 0.8823529411764706\n",
      "Melhor precisão de validação 0.8837209302325582\n",
      "Média precisão de treinamento 0.5242043551088776\n",
      "Média precisão de teste 0.5466666666666667\n",
      "Média precisão de validação 0.4992248062015504\n",
      "Desvio Padrão precisão de treinamento 0.20922320744955683\n",
      "Desvio Padrão precisão de teste 0.20324321560756622\n",
      "Desvio Padrão precisão de validação 0.2141752586172404\n",
      "Tempo de execução: 45.186291456222534 Segundos\n",
      "Matriz de confusão de treinamento:\n",
      " [[128   6]\n",
      " [ 33 231]]\n",
      "Matriz de confusão de teste:\n",
      " [[24  5]\n",
      " [ 5 51]]\n",
      "Matriz de confusão de validação:\n",
      " [[33  2]\n",
      " [ 8 43]]\n"
     ]
    },
    {
     "data": {
      "text/plain": [
       "(0.9020100502512562, 0.8823529411764706, 0.8837209302325582)"
      ]
     },
     "execution_count": 117,
     "metadata": {},
     "output_type": "execute_result"
    }
   ],
   "source": [
    "executar_perceptron_epoca(funcao_ativacao_sigmoid_epoca, funcao_custo_mse_epoca, 350, [-0.005, 0.005])"
   ]
  },
  {
   "cell_type": "markdown",
   "metadata": {},
   "source": [
    "A rede perceptron não se saiu mal, porém foi nitidamente inferior, tanto nos resultados de precisão como em um maior tempo de processamento, além da instabilidade das média e desvio padrão."
   ]
  },
  {
   "cell_type": "code",
   "execution_count": 118,
   "metadata": {},
   "outputs": [
    {
     "name": "stdout",
     "output_type": "stream",
     "text": [
      "Melhores parâmetros (<function funcao_custo_mse_epoca at 0x7f50bb69af28>, 0.0001, 0.0005)\n",
      "Melhor precisão teste 0.8941176470588236\n",
      "Melhor precisão treinamento 0.8844221105527639\n",
      "Melhor precisão validação 0.9534883720930233\n"
     ]
    }
   ],
   "source": [
    "lista_parametros_epoca = { 'custo' : [funcao_custo_mse_epoca],\n",
    "                      'tx_aprendizado': [0.1, 0.01, 0.0001],\n",
    "                      'pesos': [0.5, 0.05, 0.005, 0.0005]\n",
    "}\n",
    "\n",
    "teste_parametrico = buscar_parametros(lista_parametros_epoca, executar_perceptron_epoca)\n",
    "print('Melhores parâmetros', teste_parametrico[0])\n",
    "print('Melhor precisão teste', teste_parametrico[1])\n",
    "print('Melhor precisão treinamento', teste_parametrico[2])\n",
    "print('Melhor precisão validação', teste_parametrico[3])"
   ]
  },
  {
   "cell_type": "markdown",
   "metadata": {},
   "source": [
    "Os resultados da busca de parâmetros encontraram uma taxa de aprendizado de 0.0001 e um domínio de pesos de 0.0005 como melhor resultado no conjuntos de validação, todavia ainda é possível observar a superioridade da rede perceptron multicamadas."
   ]
  },
  {
   "cell_type": "markdown",
   "metadata": {},
   "source": [
    "## Próximos passos\n",
    "O algoritmo de perceptron multicamadas construído, apesar de eficiente, foi bem simples e algumas medidas poderiam ser feitas a fim de deixar ainda mais robusto:\n",
    "* Descida do gradiente estocástica\n",
    "* Dropout\n",
    "* Parada no platô e redução dinâmica de taxa de aprendizado\n",
    "* Otimização do *momentum*\n",
    "* Utilizar outras métricas de sucesso (*recall, acurácia, f1-score*)"
   ]
  },
  {
   "cell_type": "markdown",
   "metadata": {},
   "source": [
    "# Conclusões\n",
    "Os algoritmos de redes neurais são extremamente competentes para resolver problemas mais complexos. O Perceptron consegue ser eficiênte quando lidamos com características linearmente separáveis e as redes perceptron multicamadas são as ideias em problemas mais complexos de serem separados espacialmete. \n",
    "\n",
    "Podemos notar que os problemas aqui propostos puderam ser eficientemente resolvidos com o uso desses algoritmos, ainda que em uma forma mais simplificada devido à limitações da própria implementação.\n",
    "\n",
    "Um problema enfrentado está no aumento do tempo de processamento e poder computacional requerido para a utilização desses algoritmos, além do fato do aumento na quantidade de parâmetros que devem ser cuidadosamente ajustados, necessitando de um conhecimento mais especializado por trás do responsável por desenvolver a solução. Também não podemos esquecer da aleatoriedade desse tipo de algoritmo, alguns trabalhos de *explainable IA* estão sendo desenvolvidos para que redes densas e complexas sejam mais facilmente interpretadas e deixem de ser um *black box*.\n",
    "\n",
    "As desvantagens estão cada dia mais sendo ultrapassadas pelas soluções modernas e os algoritmos envolvendo redes neurais se consolidando para resolução de problemas complexos."
   ]
  }
 ],
 "metadata": {
  "kernelspec": {
   "display_name": "Python 3",
   "language": "python",
   "name": "python3"
  },
  "language_info": {
   "codemirror_mode": {
    "name": "ipython",
    "version": 3
   },
   "file_extension": ".py",
   "mimetype": "text/x-python",
   "name": "python",
   "nbconvert_exporter": "python",
   "pygments_lexer": "ipython3",
   "version": "3.6.9"
  }
 },
 "nbformat": 4,
 "nbformat_minor": 4
}
