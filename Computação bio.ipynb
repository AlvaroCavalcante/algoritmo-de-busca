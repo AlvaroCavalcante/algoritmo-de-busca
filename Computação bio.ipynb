{
 "cells": [
  {
   "cell_type": "markdown",
   "metadata": {},
   "source": [
    "### Qual o problema ? \n",
    "- Maximizar o resultado da seguinte equação matemática\n",
    "![title](image/equacao.png)\n",
    "- Qual valor de X, resulta em um resultado maior ? \n",
    "- Não temos a resposta exata, ou seja, na teoria não sabemos o quanto essa função pode ser maximizada, mas temos em mente que quanto maior melhor"
   ]
  },
  {
   "cell_type": "markdown",
   "metadata": {},
   "source": [
    "### Representação \n",
    "- O domínio do problema se dá em um intervalo de [0, 1]\n",
    "- X pode assumir qualquer valor dentro desse domínio"
   ]
  },
  {
   "cell_type": "markdown",
   "metadata": {},
   "source": [
    "### Objetivo\n",
    "- Maximizar o resultado da equação através do melhor valor possível de X.\n",
    "- O melhor valor será definido por aquele que tiver o maior resultado final dentre todas as soluções encontradas"
   ]
  },
  {
   "cell_type": "markdown",
   "metadata": {},
   "source": [
    "## Codificando\n",
    "- Vamos começar com a importação das bibliotecas"
   ]
  },
  {
   "cell_type": "code",
   "execution_count": 1,
   "metadata": {
    "scrolled": true
   },
   "outputs": [
    {
     "name": "stdout",
     "output_type": "stream",
     "text": [
      "Pixiedust database opened successfully\n"
     ]
    },
    {
     "data": {
      "text/html": [
       "\n",
       "        <div style=\"margin:10px\">\n",
       "            <a href=\"https://github.com/ibm-watson-data-lab/pixiedust\" target=\"_new\">\n",
       "                <img src=\"https://github.com/ibm-watson-data-lab/pixiedust/raw/master/docs/_static/pd_icon32.png\" style=\"float:left;margin-right:10px\"/>\n",
       "            </a>\n",
       "            <span>Pixiedust version 1.1.18</span>\n",
       "        </div>\n",
       "        "
      ],
      "text/plain": [
       "<IPython.core.display.HTML object>"
      ]
     },
     "metadata": {},
     "output_type": "display_data"
    }
   ],
   "source": [
    "import math\n",
    "import random\n",
    "import matplotlib.pyplot as plt\n",
    "import numpy as np\n",
    "import pixiedust\n",
    "%matplotlib inline"
   ]
  },
  {
   "cell_type": "markdown",
   "metadata": {},
   "source": [
    "### Criação da função de custo / avaliação\n",
    "- É basicamente o coração dos algoritmos de otimização\n",
    "- A função de custo é onde a avaliação do algoritmo vai acontecer de fato\n",
    "- Nesse caso a função de custo é dada simplesmente pelo resultado da equação que deve ser maximizado"
   ]
  },
  {
   "cell_type": "code",
   "execution_count": 127,
   "metadata": {},
   "outputs": [],
   "source": [
    "def funcao_custo(x):\n",
    "    custo = 2 ** -2 * (x - 0.1 / 0.9) ** 2 * (math.sin(5 * math.pi * x))** 6\n",
    "    return custo"
   ]
  },
  {
   "cell_type": "markdown",
   "metadata": {},
   "source": [
    "### Função de plotar o gráfico\n",
    "- Usado para plotar o gráfico com os resultados"
   ]
  },
  {
   "cell_type": "code",
   "execution_count": 3,
   "metadata": {},
   "outputs": [],
   "source": [
    "def plotar_busca(resultados):\n",
    "    t = np.arange(0.0, len(resultados), 1)\n",
    "    \n",
    "    plt.figure(figsize=(12,8))\n",
    "    plt.plot(t, resultados)\n",
    "    plt.show()"
   ]
  },
  {
   "cell_type": "markdown",
   "metadata": {},
   "source": [
    "### Função de get vizinhos\n",
    "- Essa função é usada para pegar os vizinhos de cada dimensão da minha variável, no nosso caso temos uma única dimensão, que é a variável X\n",
    "- Sendo assim vamos pegar os dois vizinhos possíveis do nosso X, considerando possíveis movimentos que ele pode fazer\n",
    "- O vizinho nada mais é que uma perturbação no valor inicial, pode se um valor constante ou alguma outra formula, como a guasiana"
   ]
  },
  {
   "cell_type": "code",
   "execution_count": 253,
   "metadata": {},
   "outputs": [],
   "source": [
    "def get_vizinhos(solucao):\n",
    "    vizinhos = []\n",
    "    constante = 0.005\n",
    "    vizinho_superior = solucao + constante if solucao + constante < 1 else solucao\n",
    "    vizinhos.append(vizinho_superior)\n",
    "    vizinhos.append(solucao - constante)\n",
    "    return vizinhos"
   ]
  },
  {
   "cell_type": "code",
   "execution_count": 230,
   "metadata": {
    "pixiedust": {
     "displayParams": {}
    },
    "scrolled": true
   },
   "outputs": [],
   "source": [
    "def hill_climbing(funcao_custo):\n",
    "    # random.seed(a=0)\n",
    "    solucao = random.random()\n",
    "    custos = []\n",
    "    count = 0\n",
    "    parar_no_plato = 0\n",
    "\n",
    "    while count <= 400:\n",
    "        vizinhos = get_vizinhos(solucao)\n",
    "        \n",
    "        atual = funcao_custo(solucao)\n",
    "        melhor = atual \n",
    "        solucao_atual = solucao\n",
    "        custos.append(atual)\n",
    "\n",
    "        for i in range(len(vizinhos)):\n",
    "            custo = funcao_custo(vizinhos[i])\n",
    "            if custo >= melhor:\n",
    "                parar_no_plato = parar_no_plato + 1 if custo == melhor else 0\n",
    "                melhor = custo\n",
    "                solucao = vizinhos[i]\n",
    "\n",
    "        count += 1\n",
    "        if melhor == atual and solucao_atual == solucao or parar_no_plato == 20:\n",
    "            print('plato' if parar_no_plato == 20 else 'sem melhoria')\n",
    "            break\n",
    "\n",
    "    return solucao, custos"
   ]
  },
  {
   "cell_type": "code",
   "execution_count": 259,
   "metadata": {
    "scrolled": true
   },
   "outputs": [
    {
     "name": "stdout",
     "output_type": "stream",
     "text": [
      "sem melhoria\n",
      "Valor X:  0.9031293398277989\n",
      "Maior Custo 0.15569009303522668\n"
     ]
    },
    {
     "data": {
      "image/png": "[encoded data removed]",
      "text/plain": [
       "<Figure size 864x576 with 1 Axes>"
      ]
     },
     "metadata": {
      "needs_background": "light"
     },
     "output_type": "display_data"
    }
   ],
   "source": [
    "solucao_subida_encosta = hill_climbing(funcao_custo)\n",
    "\n",
    "print('Valor X: ', solucao_subida_encosta[0])\n",
    "print('Maior Custo', solucao_subida_encosta[1][len(solucao_subida_encosta[1]) - 1])\n",
    "plotar_busca(solucao_subida_encosta[1])"
   ]
  }
 ],
 "metadata": {
  "kernelspec": {
   "display_name": "Python 3",
   "language": "python",
   "name": "python3"
  },
  "language_info": {
   "codemirror_mode": {
    "name": "ipython",
    "version": 3
   },
   "file_extension": ".py",
   "mimetype": "text/x-python",
   "name": "python",
   "nbconvert_exporter": "python",
   "pygments_lexer": "ipython3",
   "version": "3.6.9"
  }
 },
 "nbformat": 4,
 "nbformat_minor": 4
}
